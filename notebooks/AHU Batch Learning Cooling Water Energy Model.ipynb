{
 "cells": [
  {
   "cell_type": "markdown",
   "metadata": {},
   "source": [
    "## Select the parameters for the experiment and log in the experiment folder"
   ]
  },
  {
   "cell_type": "code",
   "execution_count": 1,
   "metadata": {
    "run_control": {
     "marked": true
    }
   },
   "outputs": [],
   "source": [
    "# %%writefile param_sets.json\n",
    "seed_value = 123  # seed for the experiment\n",
    "Trial = 0  # number of the experiment\n",
    "\n",
    "period = 6  # the period to sample the data at. 1 period= 5 minutes\n",
    "\n",
    "inputcols = ['orh', 'sat-oat', 'wbt', 'flow']  # input predictors\n",
    "x_loc = [0, 1, 2, 3]  # vars we want to plot in detailed plot\n",
    "outputcols = ['cwe']  # output targets\n",
    "input_timesteps = 1  # number of timesteps for the input sequence\n",
    "output_timesteps = 1  # number of timesteps for the output sequence\n",
    "\n",
    "# wheter doing adaptive for fixed learning\n",
    "adaptive_control = True  # whether we relearn or keep it fixed\n",
    "path = '../results/' + outputcols[0] + '_model_{}/'.format(\n",
    "    Trial) + 'adaptive/' * adaptive_control + 'fixed/' * (1 - adaptive_control)\n",
    "#!rm -rf ../results/lstm_hwe_trial8/adaptive\n",
    "\n",
    "# Smoothing\n",
    "smooth_data = True  # whether to smooth the data or not\n",
    "order = 5  # order of the filer\n",
    "T = 300  # sampling_period in seconds\n",
    "fs = 1 / 300  # sample rate, Hz\n",
    "cutoff = 0.0001  # desired cutoff frequency of the filter, Hz\n",
    "\n",
    "# adjust out of phase data\n",
    "adjust_lag = True  # whether to adjust the lag for certain columns\n",
    "lag_columns = outputcols  # choose columns to adjust lag\n",
    "data_lag = -1  # lag by how many periods: negative means shift column upwards\n",
    "\n",
    "# aggregate data based on period\n",
    "aggregate_data = True  # aggregate data or not\n",
    "rolling_sum_target = ['cwe', 'flow']  # create sum aggregate for these columns\n",
    "rolling_mean_target = [\n",
    "    'orh', 'sat-oat', 'wbt',\n",
    "]  # create mean aggregate for these columns\n",
    "\n",
    "# create temporal batches of data: df2dflist\n",
    "days, hours = 7, 0\n",
    "\n",
    "# Values below which we consider as 0 output in cwe units is kBTU in period*5 mins\n",
    "threshold = 0.5\n",
    "\n",
    "# Custom way to create Training Data\n",
    "startweek = 0  # start week; indicates how large training set is\n",
    "data_weeks = 39  # Create a large initial block startweek-data_weeks weeks of training and testing data\n",
    "end_week = -1\n",
    "create_lag = 0  # Create further lags in the output\n",
    "scaling = True  # Scale the input and output features\n",
    "feature_range = (0, 1)  # Scaling range\n",
    "reshaping = True  # reshape data according to (batch_size, time_steps, features)\n",
    "\n",
    "# model configuration\n",
    "modelconfig = {\n",
    "    'lstm_hidden_units': 8,\n",
    "    'lstm_no_layers': 2,\n",
    "    'dense_hidden_units': 16,\n",
    "    'dense_no_layers': 4,\n",
    "    'retrain_from_layers': 3,\n",
    "    'train_stateful': False,\n",
    "    'test_stateful':False,\n",
    "    'train_batchsize':32,\n",
    "    'test_batchsize':1, # we are doing online prediction\n",
    "    'train_epochs': 5000,\n",
    "}\n",
    "\n",
    "#model design considerations\n",
    "modeldesigndone = False  # whether model will be reinitialized\n",
    "initial_epoch = 0  # the start epoch number for the training\n",
    "\n",
    "# These are automatically superseded and ignored if adaptive_control is set to False\n",
    "retain_prev_model = True  # retain weights of model from previous training\n",
    "freeze_model = True  # freeze weights of certain layers\n",
    "reinitialize = True  # reinitialize the weights of certain layers\n",
    "\n",
    "model_saved = False  # whether model has been saved once\n",
    "test_model_created = False  # create an idectical model for online predicton\n",
    "\n",
    "# data used for learning the model\n",
    "datapath = '../data/processed/buildingdata.pkl'\n",
    "\n",
    "# additional info\n",
    "addl = {\n",
    "    'metainfo': 'create a diff of sat and oat for hot water energy prediction as it is useful. See 1.0.8',\n",
    "    'names_abreviation': {\n",
    "        'oat':'Outside Air Temperature',\n",
    "        'orh':'Outside Air Relative Humidity',\n",
    "        'sat-oat' : 'Difference of Supply Air and Outside Air Temps ',\n",
    "        'ghi': 'Global Solar Irradiance',\n",
    "        'hw_sf':'Hot Water System Flow Rate',\n",
    "        'hx_vlv1':'Hot Water Valve %',\n",
    "        'hw_st':'Hot Water Supply Temperature',\n",
    "        'hwe': 'Hot Water Energy Consumption',\n",
    "        'cwe':'Cooling Energy',\n",
    "        'wbt': 'Wet Builb Temperature',\n",
    "        'flow':'Chilled Water Flow rate'\n",
    "    }\n",
    "}\n",
    "x_lab = [addl['names_abreviation'][inputcols[i]] for i in x_loc]"
   ]
  },
  {
   "cell_type": "markdown",
   "metadata": {},
   "source": [
    "## Set Seed in numpy, Keras and TF for reproducability; Import modules; Set GPU configurations"
   ]
  },
  {
   "cell_type": "code",
   "execution_count": 2,
   "metadata": {
    "run_control": {
     "marked": true
    }
   },
   "outputs": [],
   "source": [
    "import shutil\n",
    "import glob\n",
    "import os\n",
    "# 1. Set the `PYTHONHASHSEED` environment variable at a fixed value\n",
    "os.environ['PYTHONHASHSEED']=str(seed_value)\n",
    "\n",
    "# 2. Set the `python` built-in pseudo-random generator at a fixed value\n",
    "import random\n",
    "random.seed(seed_value)\n",
    "\n",
    "# 3. Set the `numpy` pseudo-random generator at a fixed value\n",
    "import numpy as np\n",
    "np.random.seed(seed_value)\n",
    "\n",
    "# Enable '0' or disable '-1' GPU use\n",
    "os.environ['CUDA_VISIBLE_DEVICES'] = '-1'\n",
    "\n",
    "# including the project directory to the notebook level\n",
    "import sys\n",
    "module_path = os.path.abspath(os.path.join('..'))\n",
    "if module_path not in sys.path:\n",
    "    sys.path.append(module_path)\n",
    "\n",
    "import json\n",
    "from tqdm import tqdm\n",
    "import parse\n",
    "import warnings\n",
    "from matplotlib.dates import date2num"
   ]
  },
  {
   "cell_type": "code",
   "execution_count": 3,
   "metadata": {
    "run_control": {
     "marked": true
    }
   },
   "outputs": [
    {
     "name": "stderr",
     "output_type": "stream",
     "text": [
      "Using TensorFlow backend.\n"
     ]
    }
   ],
   "source": [
    "with warnings.catch_warnings():\n",
    "    warnings.filterwarnings(\"ignore\", category=FutureWarning)\n",
    "    \n",
    "    # 4. Set the `tensorflow` pseudo-random generator at a fixed value\n",
    "    import tensorflow as tf\n",
    "    #tf.random.set_seed(seed_value)\n",
    "    # for later versions: \n",
    "    tf.compat.v1.set_random_seed(seed_value)\n",
    "    config = tf.ConfigProto(log_device_placement=False)\n",
    "    config.gpu_options.allow_growth = True\n",
    "    session = tf.Session(config=config)\n",
    "    \n",
    "    from keras import backend as K\n",
    "    from nn_source import models as mp\n",
    "\n",
    "from dataprocess import dataprocessor as dp\n",
    "from dataprocess import plotutils as pu"
   ]
  },
  {
   "cell_type": "code",
   "execution_count": null,
   "metadata": {
    "run_control": {
     "marked": false
    }
   },
   "outputs": [],
   "source": [
    "# %load_ext tensorboard\n",
    "# %tensorboard --logdir '../results/lstm_hwe_trial1/loginfo/' --port 8200"
   ]
  },
  {
   "cell_type": "markdown",
   "metadata": {},
   "source": [
    "## Create Folder to save models and tensorboard logs"
   ]
  },
  {
   "cell_type": "code",
   "execution_count": 4,
   "metadata": {
    "run_control": {
     "marked": true
    }
   },
   "outputs": [],
   "source": [
    "# create the results directory\n",
    "try:\n",
    "    os.makedirs(path)\n",
    "except FileExistsError:\n",
    "    files = os.listdir(path)\n",
    "    for f in files:\n",
    "        try:\n",
    "            shutil.rmtree(path + f)\n",
    "        except NotADirectoryError:\n",
    "            os.remove(path + f)\n",
    "        \n",
    "os.mkdir(path + 'loginfo')\n",
    "os.mkdir(path + 'normalplots')\n",
    "os.mkdir(path + 'detailedplots')"
   ]
  },
  {
   "cell_type": "markdown",
   "metadata": {},
   "source": [
    "## Save the experiment parameters and configurations"
   ]
  },
  {
   "cell_type": "code",
   "execution_count": 5,
   "metadata": {
    "run_control": {
     "marked": true
    }
   },
   "outputs": [],
   "source": [
    "#save the values\n",
    "paramsdict = {\n",
    "    \n",
    "    'seed_value' : seed_value,\n",
    "    \n",
    "    'period':period,\n",
    "    \n",
    "    'inputcols':inputcols,\n",
    "    'x_loc': x_loc,\n",
    "    'outputcols':outputcols,\n",
    "    'input_timesteps':input_timesteps,\n",
    "    'output_timesteps':output_timesteps,\n",
    "    \n",
    "    'smooth_data': smooth_data,\n",
    "    'order' : 5,\n",
    "    'T' : T,\n",
    "    'fs' : fs,\n",
    "    'cutoff' : cutoff,\n",
    "    \n",
    "    'adjust_lag' : adjust_lag,\n",
    "    'lag_columns' : lag_columns,\n",
    "    'data_lag' : data_lag,\n",
    "    \n",
    "    'aggregate_data' : aggregate_data,\n",
    "    'rolling_sum_target' : rolling_sum_target,\n",
    "    'rolling_mean_target' : rolling_mean_target,\n",
    "    \n",
    "    'days':days,\n",
    "    'hours':hours,\n",
    "    \n",
    "    'threshold': threshold,\n",
    "    \n",
    "    'startweek': startweek,\n",
    "    'data_weeks' : data_weeks,\n",
    "    'end_week':end_week,\n",
    "    'create_lag' : create_lag,\n",
    "    'scaling' : scaling,\n",
    "    'feature_range' : feature_range,\n",
    "    'reshaping' : reshaping,\n",
    "    \n",
    "    'modelconfig' : modelconfig,\n",
    "    \n",
    "    'adaptive_control':adaptive_control,\n",
    "    'path':path,\n",
    "    \n",
    "    'modeldesigndone' : modeldesigndone,\n",
    "    'initial_epoch' : initial_epoch,\n",
    "    \n",
    "    'retain_prev_model' : retain_prev_model,\n",
    "    'freeze_model' : freeze_model,\n",
    "    'reinitialize' : reinitialize,\n",
    "    \n",
    "    'model_saved' : model_saved,\n",
    "    'test_model_created': test_model_created,\n",
    "    \n",
    "    'datapath' : datapath,\n",
    "    \n",
    "    'addl' : addl,\n",
    "}\n",
    "    \n",
    "# with open(path+'params.json', 'r') as fp:\n",
    "#     param2dict = json.load(fp)\n",
    "\n",
    "with open(path+'params.json', 'w') as fp:\n",
    "    json.dump(paramsdict, fp, indent=4)"
   ]
  },
  {
   "cell_type": "markdown",
   "metadata": {},
   "source": [
    "## Read the cleaned data"
   ]
  },
  {
   "cell_type": "code",
   "execution_count": 6,
   "metadata": {
    "run_control": {
     "marked": true
    }
   },
   "outputs": [],
   "source": [
    "# read the pickled file for ahu data\n",
    "df1data = dp.readfile(datapath)\n",
    "\n",
    "# return pickled df\n",
    "df1 = df1data.return_df(processmethods=['file2df'])"
   ]
  },
  {
   "cell_type": "code",
   "execution_count": 7,
   "metadata": {
    "run_control": {
     "marked": true
    }
   },
   "outputs": [],
   "source": [
    "# read the pickled file for wet bulb data\n",
    "df2data = dp.readfile('../data/processed/interpolated/wetbulbtemp.pkl')\n",
    "\n",
    "# return pickled df\n",
    "df2 = df2data.return_df(processmethods=['file2df'])"
   ]
  },
  {
   "cell_type": "code",
   "execution_count": 8,
   "metadata": {
    "run_control": {
     "marked": true
    }
   },
   "outputs": [],
   "source": [
    "df = dp.merge_df_columns([df1,df2])"
   ]
  },
  {
   "cell_type": "markdown",
   "metadata": {},
   "source": [
    "## Create additional Data columns as needed"
   ]
  },
  {
   "cell_type": "code",
   "execution_count": 9,
   "metadata": {
    "run_control": {
     "marked": true
    }
   },
   "outputs": [],
   "source": [
    "df['sat-oat']= df['sat']-df['oat']"
   ]
  },
  {
   "cell_type": "markdown",
   "metadata": {},
   "source": [
    "## Smooth the data"
   ]
  },
  {
   "cell_type": "code",
   "execution_count": 10,
   "metadata": {
    "run_control": {
     "marked": true
    }
   },
   "outputs": [],
   "source": [
    "if smooth_data:\n",
    "    df = dp.dfsmoothing(df=df,\n",
    "                        column_names=list(df.columns),\n",
    "                        order=order,\n",
    "                        Wn=cutoff,\n",
    "                        T=T)"
   ]
  },
  {
   "cell_type": "markdown",
   "metadata": {},
   "source": [
    "## Remove <0 values for output energy"
   ]
  },
  {
   "cell_type": "code",
   "execution_count": 11,
   "metadata": {
    "run_control": {
     "marked": true
    }
   },
   "outputs": [],
   "source": [
    "df[outputcols[0]][df[outputcols[0]]<=0]=0.001"
   ]
  },
  {
   "cell_type": "markdown",
   "metadata": {},
   "source": [
    "## Adjust lag for certain columns if needed"
   ]
  },
  {
   "cell_type": "code",
   "execution_count": 12,
   "metadata": {
    "run_control": {
     "marked": true
    }
   },
   "outputs": [],
   "source": [
    "if adjust_lag:\n",
    "    df = dp.createlag(df, lag_columns, lag=data_lag)"
   ]
  },
  {
   "cell_type": "markdown",
   "metadata": {},
   "source": [
    "## Create aggregate data: aggregate specified columns at specified intervals"
   ]
  },
  {
   "cell_type": "code",
   "execution_count": 13,
   "metadata": {
    "run_control": {
     "marked": true
    }
   },
   "outputs": [],
   "source": [
    "# return a new column which is the sum of previous window_size values\n",
    "def window_sum(df_, window_size: int, column_names: list):\n",
    "    return df_[column_names].rolling(window=window_size, min_periods=window_size).sum()\n",
    "\n",
    "# return a new column which is the average of previous window_size values\n",
    "def window_mean(df_, window_size: int, column_names: list):\n",
    "    return df_[column_names].rolling(window=window_size, min_periods=window_size).mean()\n",
    "\n",
    "# rolling_sum_output = ['{}min_{}_sum'.format(5*period,target) for target in rolling_sum_target]\n",
    "# rolling_mean_output = ['{}min_{}_mean'.format(5*period,target) for target in rolling_mean_target]\n",
    "\n",
    "if aggregate_data:\n",
    "    \n",
    "    # rolling sum\n",
    "    if rolling_sum_target:\n",
    "        df[rolling_sum_target] =  window_sum(df, window_size=period, column_names=rolling_sum_target)\n",
    "    \n",
    "    # rolling mean\n",
    "    if rolling_mean_target:\n",
    "        df[rolling_mean_target] =  window_mean(df, window_size=period, column_names=rolling_mean_target)\n",
    "    \n",
    "    df = dp.dropNaNrows(df)\n",
    "    \n",
    "    # Sample the data at period intervals\n",
    "    df = dp.sample_timeseries_df(df, period=period)"
   ]
  },
  {
   "cell_type": "code",
   "execution_count": 14,
   "metadata": {
    "run_control": {
     "marked": true
    }
   },
   "outputs": [
    {
     "data": {
      "text/html": [
       "<div>\n",
       "<style scoped>\n",
       "    .dataframe tbody tr th:only-of-type {\n",
       "        vertical-align: middle;\n",
       "    }\n",
       "\n",
       "    .dataframe tbody tr th {\n",
       "        vertical-align: top;\n",
       "    }\n",
       "\n",
       "    .dataframe thead th {\n",
       "        text-align: right;\n",
       "    }\n",
       "</style>\n",
       "<table border=\"1\" class=\"dataframe\">\n",
       "  <thead>\n",
       "    <tr style=\"text-align: right;\">\n",
       "      <th></th>\n",
       "      <th>oat</th>\n",
       "      <th>sat</th>\n",
       "      <th>sat_stpt</th>\n",
       "      <th>orh</th>\n",
       "      <th>hwe</th>\n",
       "      <th>cwe</th>\n",
       "      <th>ghi</th>\n",
       "      <th>avg_stpt</th>\n",
       "      <th>flow</th>\n",
       "      <th>hw_rt</th>\n",
       "      <th>hw_sf</th>\n",
       "      <th>hw_st</th>\n",
       "      <th>hw_s_stp</th>\n",
       "      <th>hx_vlv1</th>\n",
       "      <th>wbt</th>\n",
       "      <th>sat-oat</th>\n",
       "    </tr>\n",
       "  </thead>\n",
       "  <tbody>\n",
       "    <tr>\n",
       "      <th>count</th>\n",
       "      <td>21971.000000</td>\n",
       "      <td>21971.000000</td>\n",
       "      <td>21971.000000</td>\n",
       "      <td>21971.000000</td>\n",
       "      <td>21971.000000</td>\n",
       "      <td>2.197100e+04</td>\n",
       "      <td>21971.000000</td>\n",
       "      <td>21971.000000</td>\n",
       "      <td>21971.000000</td>\n",
       "      <td>21971.000000</td>\n",
       "      <td>21971.000000</td>\n",
       "      <td>21971.000000</td>\n",
       "      <td>21971.000000</td>\n",
       "      <td>21971.000000</td>\n",
       "      <td>21971.000000</td>\n",
       "      <td>21971.000000</td>\n",
       "    </tr>\n",
       "    <tr>\n",
       "      <th>mean</th>\n",
       "      <td>63.626268</td>\n",
       "      <td>70.279652</td>\n",
       "      <td>71.527172</td>\n",
       "      <td>60.052722</td>\n",
       "      <td>3.432717</td>\n",
       "      <td>1.379260e+02</td>\n",
       "      <td>172.949942</td>\n",
       "      <td>71.543912</td>\n",
       "      <td>224.198006</td>\n",
       "      <td>91.813681</td>\n",
       "      <td>8.736043</td>\n",
       "      <td>101.209883</td>\n",
       "      <td>101.228952</td>\n",
       "      <td>25.113443</td>\n",
       "      <td>55.037905</td>\n",
       "      <td>6.652519</td>\n",
       "    </tr>\n",
       "    <tr>\n",
       "      <th>std</th>\n",
       "      <td>17.451874</td>\n",
       "      <td>5.522785</td>\n",
       "      <td>2.912957</td>\n",
       "      <td>17.310180</td>\n",
       "      <td>4.176223</td>\n",
       "      <td>1.029794e+02</td>\n",
       "      <td>256.256255</td>\n",
       "      <td>1.049008</td>\n",
       "      <td>181.349203</td>\n",
       "      <td>13.201565</td>\n",
       "      <td>9.362448</td>\n",
       "      <td>14.165990</td>\n",
       "      <td>14.217190</td>\n",
       "      <td>19.756852</td>\n",
       "      <td>14.707197</td>\n",
       "      <td>17.865938</td>\n",
       "    </tr>\n",
       "    <tr>\n",
       "      <th>min</th>\n",
       "      <td>17.719488</td>\n",
       "      <td>51.414037</td>\n",
       "      <td>58.605072</td>\n",
       "      <td>17.309428</td>\n",
       "      <td>-1.593920</td>\n",
       "      <td>6.869853e-11</td>\n",
       "      <td>-52.457182</td>\n",
       "      <td>66.099812</td>\n",
       "      <td>-9.941482</td>\n",
       "      <td>64.903137</td>\n",
       "      <td>-2.463692</td>\n",
       "      <td>80.075723</td>\n",
       "      <td>87.778581</td>\n",
       "      <td>-6.725714</td>\n",
       "      <td>14.846887</td>\n",
       "      <td>-25.245728</td>\n",
       "    </tr>\n",
       "    <tr>\n",
       "      <th>25%</th>\n",
       "      <td>49.133815</td>\n",
       "      <td>67.350621</td>\n",
       "      <td>72.986150</td>\n",
       "      <td>46.642814</td>\n",
       "      <td>0.047487</td>\n",
       "      <td>4.085228e+01</td>\n",
       "      <td>-0.008301</td>\n",
       "      <td>70.895253</td>\n",
       "      <td>57.270068</td>\n",
       "      <td>82.487393</td>\n",
       "      <td>0.153497</td>\n",
       "      <td>90.170177</td>\n",
       "      <td>90.000000</td>\n",
       "      <td>8.603475</td>\n",
       "      <td>42.724135</td>\n",
       "      <td>-6.342551</td>\n",
       "    </tr>\n",
       "    <tr>\n",
       "      <th>50%</th>\n",
       "      <td>65.820118</td>\n",
       "      <td>71.940837</td>\n",
       "      <td>73.000000</td>\n",
       "      <td>59.389471</td>\n",
       "      <td>2.005893</td>\n",
       "      <td>1.280913e+02</td>\n",
       "      <td>14.551819</td>\n",
       "      <td>71.342909</td>\n",
       "      <td>195.659829</td>\n",
       "      <td>87.652988</td>\n",
       "      <td>5.768496</td>\n",
       "      <td>93.361023</td>\n",
       "      <td>91.824746</td>\n",
       "      <td>24.093105</td>\n",
       "      <td>57.820886</td>\n",
       "      <td>2.493411</td>\n",
       "    </tr>\n",
       "    <tr>\n",
       "      <th>75%</th>\n",
       "      <td>77.817693</td>\n",
       "      <td>73.671614</td>\n",
       "      <td>73.000000</td>\n",
       "      <td>74.189350</td>\n",
       "      <td>4.866380</td>\n",
       "      <td>2.305825e+02</td>\n",
       "      <td>284.159439</td>\n",
       "      <td>72.485714</td>\n",
       "      <td>381.397426</td>\n",
       "      <td>98.307198</td>\n",
       "      <td>13.121573</td>\n",
       "      <td>112.266250</td>\n",
       "      <td>112.209060</td>\n",
       "      <td>42.577149</td>\n",
       "      <td>68.115798</td>\n",
       "      <td>23.150384</td>\n",
       "    </tr>\n",
       "    <tr>\n",
       "      <th>max</th>\n",
       "      <td>97.158479</td>\n",
       "      <td>90.015817</td>\n",
       "      <td>74.044062</td>\n",
       "      <td>95.007589</td>\n",
       "      <td>26.854717</td>\n",
       "      <td>3.999292e+02</td>\n",
       "      <td>973.479051</td>\n",
       "      <td>73.557921</td>\n",
       "      <td>751.666065</td>\n",
       "      <td>135.552460</td>\n",
       "      <td>32.572670</td>\n",
       "      <td>147.479417</td>\n",
       "      <td>148.331329</td>\n",
       "      <td>73.261725</td>\n",
       "      <td>85.891934</td>\n",
       "      <td>55.312001</td>\n",
       "    </tr>\n",
       "  </tbody>\n",
       "</table>\n",
       "</div>"
      ],
      "text/plain": [
       "                oat           sat      sat_stpt           orh           hwe  \\\n",
       "count  21971.000000  21971.000000  21971.000000  21971.000000  21971.000000   \n",
       "mean      63.626268     70.279652     71.527172     60.052722      3.432717   \n",
       "std       17.451874      5.522785      2.912957     17.310180      4.176223   \n",
       "min       17.719488     51.414037     58.605072     17.309428     -1.593920   \n",
       "25%       49.133815     67.350621     72.986150     46.642814      0.047487   \n",
       "50%       65.820118     71.940837     73.000000     59.389471      2.005893   \n",
       "75%       77.817693     73.671614     73.000000     74.189350      4.866380   \n",
       "max       97.158479     90.015817     74.044062     95.007589     26.854717   \n",
       "\n",
       "                cwe           ghi      avg_stpt          flow         hw_rt  \\\n",
       "count  2.197100e+04  21971.000000  21971.000000  21971.000000  21971.000000   \n",
       "mean   1.379260e+02    172.949942     71.543912    224.198006     91.813681   \n",
       "std    1.029794e+02    256.256255      1.049008    181.349203     13.201565   \n",
       "min    6.869853e-11    -52.457182     66.099812     -9.941482     64.903137   \n",
       "25%    4.085228e+01     -0.008301     70.895253     57.270068     82.487393   \n",
       "50%    1.280913e+02     14.551819     71.342909    195.659829     87.652988   \n",
       "75%    2.305825e+02    284.159439     72.485714    381.397426     98.307198   \n",
       "max    3.999292e+02    973.479051     73.557921    751.666065    135.552460   \n",
       "\n",
       "              hw_sf         hw_st      hw_s_stp       hx_vlv1           wbt  \\\n",
       "count  21971.000000  21971.000000  21971.000000  21971.000000  21971.000000   \n",
       "mean       8.736043    101.209883    101.228952     25.113443     55.037905   \n",
       "std        9.362448     14.165990     14.217190     19.756852     14.707197   \n",
       "min       -2.463692     80.075723     87.778581     -6.725714     14.846887   \n",
       "25%        0.153497     90.170177     90.000000      8.603475     42.724135   \n",
       "50%        5.768496     93.361023     91.824746     24.093105     57.820886   \n",
       "75%       13.121573    112.266250    112.209060     42.577149     68.115798   \n",
       "max       32.572670    147.479417    148.331329     73.261725     85.891934   \n",
       "\n",
       "            sat-oat  \n",
       "count  21971.000000  \n",
       "mean       6.652519  \n",
       "std       17.865938  \n",
       "min      -25.245728  \n",
       "25%       -6.342551  \n",
       "50%        2.493411  \n",
       "75%       23.150384  \n",
       "max       55.312001  "
      ]
     },
     "execution_count": 14,
     "metadata": {},
     "output_type": "execute_result"
    }
   ],
   "source": [
    "# show data\n",
    "df.describe()"
   ]
  },
  {
   "cell_type": "markdown",
   "metadata": {},
   "source": [
    "## Get mean of the entire scaled data"
   ]
  },
  {
   "cell_type": "code",
   "execution_count": 15,
   "metadata": {
    "run_control": {
     "marked": true
    }
   },
   "outputs": [],
   "source": [
    "# get the mean of the outputs for the entire data\n",
    "dfscaled = ((df-df.min())/(df.max()-df.min()))\n",
    "threshold_scaled = ((threshold-df.min()[outputcols[0]])/(df.max()[outputcols[0]]-df.min()[outputcols[0]]))\n",
    "dfscaled = dfscaled[dfscaled[outputcols[0]]>=threshold_scaled]\n",
    "dfmean = dfscaled.mean() \n",
    "mean_output = list(dfmean[outputcols])\n",
    "mean_input = list(dfmean[inputcols])"
   ]
  },
  {
   "cell_type": "markdown",
   "metadata": {},
   "source": [
    "## Create temporal chunks of data"
   ]
  },
  {
   "cell_type": "code",
   "execution_count": 16,
   "metadata": {
    "run_control": {
     "marked": true
    }
   },
   "outputs": [
    {
     "name": "stdout",
     "output_type": "stream",
     "text": [
      "Length of dflist: 76\n"
     ]
    }
   ],
   "source": [
    "# Creating a list of \"days\" day dataframes for training\n",
    "dflist = dp.df2dflist_alt(df[inputcols+outputcols],\n",
    "                      subsequence=True,\n",
    "                      period=period,\n",
    "                      days=days,\n",
    "                      hours=hours)\n",
    "print('Length of dflist: {}'.format(len(dflist)))"
   ]
  },
  {
   "cell_type": "markdown",
   "metadata": {},
   "source": [
    "## Custom way to create Training Data"
   ]
  },
  {
   "cell_type": "code",
   "execution_count": 17,
   "metadata": {
    "run_control": {
     "marked": true
    }
   },
   "outputs": [],
   "source": [
    "assert (input_timesteps == 1) & (\n",
    "    output_timesteps == 1), \"Input and Output timesteps must be 1 for this notebook\""
   ]
  },
  {
   "cell_type": "code",
   "execution_count": 18,
   "metadata": {
    "run_control": {
     "marked": true
    }
   },
   "outputs": [],
   "source": [
    "from pandas import concat\n",
    "import swifter\n",
    "\n",
    "\n",
    "def quickmerge(listdf):\n",
    "    return concat(listdf)\n",
    "\n",
    "\n",
    "def df2operating_regions(df, column_names, thresholds):\n",
    "    \"\"\"\n",
    "    Select from data frame the operating regions based on threshold\n",
    "    \"\"\"\n",
    "    \n",
    "    org_shape = df.shape[0]\n",
    "    \n",
    "    # select cells to be retained\n",
    "    constraints = df.swifter.apply(\n",
    "        lambda row: all([(cell > thresholds) for cell in row[column_names]]),\n",
    "        axis=1)\n",
    "    # Drop values set to be rejected\n",
    "    df = df.drop(df.index[~constraints], axis = 0)\n",
    "    \n",
    "    print(\"Retaining {}% of the data\".format(100*df.shape[0]/org_shape))\n",
    "    \n",
    "    return df\n",
    "\n",
    "weeklist = []  # create list of training, testing arrays"
   ]
  },
  {
   "cell_type": "code",
   "execution_count": 19,
   "metadata": {
    "run_control": {
     "marked": true
    }
   },
   "outputs": [
    {
     "data": {
      "application/vnd.jupyter.widget-view+json": {
       "model_id": "4460ded226704e0cba500393debbabe2",
       "version_major": 2,
       "version_minor": 0
      },
      "text/plain": [
       "HBox(children=(FloatProgress(value=0.0, description='Dask Apply', max=40.0, style=ProgressStyle(description_wi…"
      ]
     },
     "metadata": {},
     "output_type": "display_data"
    },
    {
     "name": "stdout",
     "output_type": "stream",
     "text": [
      "\n",
      "Retaining 92.588298251873% of the data\n"
     ]
    },
    {
     "data": {
      "application/vnd.jupyter.widget-view+json": {
       "model_id": "eec7eca58d3e4cf786254892057cf817",
       "version_major": 2,
       "version_minor": 0
      },
      "text/plain": [
       "HBox(children=(FloatProgress(value=0.0, description='Pandas Apply', max=321.0, style=ProgressStyle(description…"
      ]
     },
     "metadata": {},
     "output_type": "display_data"
    },
    {
     "name": "stdout",
     "output_type": "stream",
     "text": [
      "\n",
      "Retaining 100.0% of the data\n"
     ]
    }
   ],
   "source": [
    "# select and merge data_weeks-1 worth of data\n",
    "datablock_train_pre = dflist[startweek:data_weeks-1]\n",
    "datablock_train = quickmerge(datablock_train_pre)\n",
    "#Select from data frame the operating regions\n",
    "datablock_train = df2operating_regions(datablock_train, outputcols, threshold)\n",
    "\"\"\"\n",
    "#divide into contiguous regions\n",
    "datablock_train = dp.subsequencing(datablock_train, period=period)\n",
    "#drop smaller blocks\n",
    "datablock_train = [item for item in datablock_train if item.shape[0] >= 0.05*modelconfig['train_batchsize']]\n",
    "#merge them together\n",
    "minibatch_train = quickmerge(datablock_train)\n",
    "\"\"\"\n",
    "minibatch_train = datablock_train\n",
    "\n",
    "# select weeks=1 worth of data\n",
    "datablock_test_pre = dflist[data_weeks-1]\n",
    "#Select from data frame the operating regions\n",
    "datablock_test = df2operating_regions(datablock_test_pre, outputcols, threshold)\n",
    "\"\"\"\n",
    "#divide into contiguous operating region\n",
    "datablock_test = dp.subsequencing(datablock_test_pre, period=period)\n",
    "#drop smaller blocks\n",
    "datablock_test = [item for item in datablock_test if item.shape[0] >= 0.05*modelconfig['test_batchsize']]\n",
    "#merge them together\n",
    "minibatch_test = quickmerge(datablock_test)\n",
    "\"\"\"\n",
    "minibatch_test = datablock_test\n",
    "\n",
    "\n",
    "# splitvalue\n",
    "splitvalue = minibatch_test.shape[0]\n",
    "#merge test and train together\n",
    "data_block = quickmerge([minibatch_train, minibatch_test])\n",
    "\n",
    "# create numpy arrays\n",
    "X_train, X_test, y_train, y_test, X_scaler, y_scaler = dp.df2arrays(\n",
    "        data_block,\n",
    "        predictorcols=inputcols,\n",
    "        outputcols=outputcols,\n",
    "        scaling=scaling,\n",
    "        feature_range=feature_range,\n",
    "        reshaping=reshaping,\n",
    "        lag=create_lag,\n",
    "        split=splitvalue,\n",
    "    input_timesteps=input_timesteps,\n",
    "    output_timesteps = output_timesteps\n",
    "    )\n",
    "\n",
    "# select test ids for later plots\n",
    "test_idx = minibatch_test.index\n",
    "\n",
    "# year and week\n",
    "yearno = minibatch_test.index[int(splitvalue/2)].year\n",
    "weekno = minibatch_test.index[int(splitvalue/2)].week\n",
    "\n",
    "# append them\n",
    "weeklist.append({\n",
    "        'Id':'Year-{}-Week-{}'.format(str(yearno), \n",
    "                                      str(weekno)),\n",
    "        'X_train':X_train,\n",
    "        'y_train': y_train,\n",
    "        'X_test': X_test,\n",
    "        'y_test': y_test,\n",
    "        'y_scaler':y_scaler,\n",
    "        'X_scaler':X_scaler,\n",
    "        'test_idx':test_idx,\n",
    "    })\n"
   ]
  },
  {
   "cell_type": "code",
   "execution_count": 20,
   "metadata": {
    "run_control": {
     "marked": true
    },
    "scrolled": true
   },
   "outputs": [
    {
     "data": {
      "application/vnd.jupyter.widget-view+json": {
       "model_id": "96092e231d8248fe914a65342339cffb",
       "version_major": 2,
       "version_minor": 0
      },
      "text/plain": [
       "HBox(children=(FloatProgress(value=0.0, description='Dask Apply', max=40.0, style=ProgressStyle(description_wi…"
      ]
     },
     "metadata": {},
     "output_type": "display_data"
    },
    {
     "name": "stdout",
     "output_type": "stream",
     "text": [
      "\n",
      "Retaining 92.5942429373496% of the data\n"
     ]
    },
    {
     "data": {
      "application/vnd.jupyter.widget-view+json": {
       "model_id": "aebf2482f65e4aafb2818ab1c10cb1ef",
       "version_major": 2,
       "version_minor": 0
      },
      "text/plain": [
       "HBox(children=(FloatProgress(value=0.0, description='Pandas Apply', max=316.0, style=ProgressStyle(description…"
      ]
     },
     "metadata": {},
     "output_type": "display_data"
    },
    {
     "name": "stdout",
     "output_type": "stream",
     "text": [
      "\n",
      "Retaining 100.0% of the data\n"
     ]
    },
    {
     "data": {
      "application/vnd.jupyter.widget-view+json": {
       "model_id": "7dc9deb5063e4f8f8a44bb34559fefc9",
       "version_major": 2,
       "version_minor": 0
      },
      "text/plain": [
       "HBox(children=(FloatProgress(value=0.0, description='Dask Apply', max=40.0, style=ProgressStyle(description_wi…"
      ]
     },
     "metadata": {},
     "output_type": "display_data"
    },
    {
     "name": "stdout",
     "output_type": "stream",
     "text": [
      "\n",
      "Retaining 92.58366800535475% of the data\n"
     ]
    },
    {
     "data": {
      "application/vnd.jupyter.widget-view+json": {
       "model_id": "d718715e43cb4be988b06661c2de63c9",
       "version_major": 2,
       "version_minor": 0
      },
      "text/plain": [
       "HBox(children=(FloatProgress(value=0.0, description='Pandas Apply', max=312.0, style=ProgressStyle(description…"
      ]
     },
     "metadata": {},
     "output_type": "display_data"
    },
    {
     "name": "stdout",
     "output_type": "stream",
     "text": [
      "\n",
      "Retaining 100.0% of the data\n"
     ]
    },
    {
     "data": {
      "application/vnd.jupyter.widget-view+json": {
       "model_id": "d7e7a85376b94bc5b5bb7052d397e1e5",
       "version_major": 2,
       "version_minor": 0
      },
      "text/plain": [
       "HBox(children=(FloatProgress(value=0.0, description='Dask Apply', max=40.0, style=ProgressStyle(description_wi…"
      ]
     },
     "metadata": {},
     "output_type": "display_data"
    },
    {
     "name": "stdout",
     "output_type": "stream",
     "text": [
      "\n",
      "Retaining 92.57239899892743% of the data\n"
     ]
    },
    {
     "data": {
      "application/vnd.jupyter.widget-view+json": {
       "model_id": "885cc6a9d67c45cc9a24c1a83d45344a",
       "version_major": 2,
       "version_minor": 0
      },
      "text/plain": [
       "HBox(children=(FloatProgress(value=0.0, description='Pandas Apply', max=314.0, style=ProgressStyle(description…"
      ]
     },
     "metadata": {},
     "output_type": "display_data"
    },
    {
     "name": "stdout",
     "output_type": "stream",
     "text": [
      "\n",
      "Retaining 100.0% of the data\n"
     ]
    },
    {
     "data": {
      "application/vnd.jupyter.widget-view+json": {
       "model_id": "b140c904d16645e9ab880b0efbd23656",
       "version_major": 2,
       "version_minor": 0
      },
      "text/plain": [
       "HBox(children=(FloatProgress(value=0.0, description='Dask Apply', max=40.0, style=ProgressStyle(description_wi…"
      ]
     },
     "metadata": {},
     "output_type": "display_data"
    },
    {
     "name": "stdout",
     "output_type": "stream",
     "text": [
      "\n",
      "Retaining 92.58499152315517% of the data\n"
     ]
    },
    {
     "data": {
      "application/vnd.jupyter.widget-view+json": {
       "model_id": "9ff4f7c5880a44ee86ebd983a7a1920d",
       "version_major": 2,
       "version_minor": 0
      },
      "text/plain": [
       "HBox(children=(FloatProgress(value=0.0, description='Pandas Apply', max=307.0, style=ProgressStyle(description…"
      ]
     },
     "metadata": {},
     "output_type": "display_data"
    },
    {
     "name": "stdout",
     "output_type": "stream",
     "text": [
      "\n",
      "Retaining 99.6742671009772% of the data\n"
     ]
    },
    {
     "data": {
      "application/vnd.jupyter.widget-view+json": {
       "model_id": "6865bfd1f3c7456b8d0326f6a6f74ad2",
       "version_major": 2,
       "version_minor": 0
      },
      "text/plain": [
       "HBox(children=(FloatProgress(value=0.0, description='Dask Apply', max=40.0, style=ProgressStyle(description_wi…"
      ]
     },
     "metadata": {},
     "output_type": "display_data"
    },
    {
     "name": "stdout",
     "output_type": "stream",
     "text": [
      "\n",
      "Retaining 92.72409269785746% of the data\n"
     ]
    },
    {
     "data": {
      "application/vnd.jupyter.widget-view+json": {
       "model_id": "1f89a992d31f43129c9a4203be9d3aec",
       "version_major": 2,
       "version_minor": 0
      },
      "text/plain": [
       "HBox(children=(FloatProgress(value=0.0, description='Pandas Apply', max=87.0, style=ProgressStyle(description_…"
      ]
     },
     "metadata": {},
     "output_type": "display_data"
    },
    {
     "name": "stdout",
     "output_type": "stream",
     "text": [
      "\n",
      "Retaining 100.0% of the data\n"
     ]
    },
    {
     "data": {
      "application/vnd.jupyter.widget-view+json": {
       "model_id": "5ee8fe11f5844da1b43f41b35dcd8f74",
       "version_major": 2,
       "version_minor": 0
      },
      "text/plain": [
       "HBox(children=(FloatProgress(value=0.0, description='Dask Apply', max=40.0, style=ProgressStyle(description_wi…"
      ]
     },
     "metadata": {},
     "output_type": "display_data"
    },
    {
     "name": "stdout",
     "output_type": "stream",
     "text": [
      "\n",
      "Retaining 92.56213123547292% of the data\n"
     ]
    },
    {
     "data": {
      "application/vnd.jupyter.widget-view+json": {
       "model_id": "3a623949620b40e980406b817b0aa912",
       "version_major": 2,
       "version_minor": 0
      },
      "text/plain": [
       "HBox(children=(FloatProgress(value=0.0, description='Pandas Apply', max=219.0, style=ProgressStyle(description…"
      ]
     },
     "metadata": {},
     "output_type": "display_data"
    },
    {
     "name": "stdout",
     "output_type": "stream",
     "text": [
      "\n",
      "Retaining 100.0% of the data\n"
     ]
    },
    {
     "data": {
      "application/vnd.jupyter.widget-view+json": {
       "model_id": "944d3aa60d40455eae48a57e4ac3628c",
       "version_major": 2,
       "version_minor": 0
      },
      "text/plain": [
       "HBox(children=(FloatProgress(value=0.0, description='Dask Apply', max=40.0, style=ProgressStyle(description_wi…"
      ]
     },
     "metadata": {},
     "output_type": "display_data"
    },
    {
     "name": "stdout",
     "output_type": "stream",
     "text": [
      "\n",
      "Retaining 92.48351251242208% of the data\n"
     ]
    },
    {
     "data": {
      "application/vnd.jupyter.widget-view+json": {
       "model_id": "bdc854b6c85d4c53b50ef9c82c5edb2e",
       "version_major": 2,
       "version_minor": 0
      },
      "text/plain": [
       "HBox(children=(FloatProgress(value=0.0, description='Pandas Apply', max=137.0, style=ProgressStyle(description…"
      ]
     },
     "metadata": {},
     "output_type": "display_data"
    },
    {
     "name": "stdout",
     "output_type": "stream",
     "text": [
      "\n",
      "Retaining 100.0% of the data\n"
     ]
    },
    {
     "data": {
      "application/vnd.jupyter.widget-view+json": {
       "model_id": "c403a003e058463a88e51729277c7662",
       "version_major": 2,
       "version_minor": 0
      },
      "text/plain": [
       "HBox(children=(FloatProgress(value=0.0, description='Dask Apply', max=40.0, style=ProgressStyle(description_wi…"
      ]
     },
     "metadata": {},
     "output_type": "display_data"
    },
    {
     "name": "stdout",
     "output_type": "stream",
     "text": [
      "\n",
      "Retaining 92.34590616375345% of the data\n"
     ]
    },
    {
     "data": {
      "application/vnd.jupyter.widget-view+json": {
       "model_id": "bdd6e95822f4442488fe82a25f712924",
       "version_major": 2,
       "version_minor": 0
      },
      "text/plain": [
       "HBox(children=(FloatProgress(value=0.0, description='Pandas Apply', max=326.0, style=ProgressStyle(description…"
      ]
     },
     "metadata": {},
     "output_type": "display_data"
    },
    {
     "name": "stdout",
     "output_type": "stream",
     "text": [
      "\n",
      "Retaining 100.0% of the data\n"
     ]
    },
    {
     "data": {
      "application/vnd.jupyter.widget-view+json": {
       "model_id": "7c8652bdab6b48739f3d4995b6e02863",
       "version_major": 2,
       "version_minor": 0
      },
      "text/plain": [
       "HBox(children=(FloatProgress(value=0.0, description='Dask Apply', max=40.0, style=ProgressStyle(description_wi…"
      ]
     },
     "metadata": {},
     "output_type": "display_data"
    },
    {
     "name": "stdout",
     "output_type": "stream",
     "text": [
      "\n",
      "Retaining 92.33885819521178% of the data\n"
     ]
    },
    {
     "data": {
      "application/vnd.jupyter.widget-view+json": {
       "model_id": "17c549f61d744bf1a1cf2daedb4d8a39",
       "version_major": 2,
       "version_minor": 0
      },
      "text/plain": [
       "HBox(children=(FloatProgress(value=0.0, description='Pandas Apply', max=318.0, style=ProgressStyle(description…"
      ]
     },
     "metadata": {},
     "output_type": "display_data"
    },
    {
     "name": "stdout",
     "output_type": "stream",
     "text": [
      "\n",
      "Retaining 100.0% of the data\n"
     ]
    },
    {
     "data": {
      "application/vnd.jupyter.widget-view+json": {
       "model_id": "f5497f87be484fbbbaa1f818c292c422",
       "version_major": 2,
       "version_minor": 0
      },
      "text/plain": [
       "HBox(children=(FloatProgress(value=0.0, description='Dask Apply', max=40.0, style=ProgressStyle(description_wi…"
      ]
     },
     "metadata": {},
     "output_type": "display_data"
    },
    {
     "name": "stdout",
     "output_type": "stream",
     "text": [
      "\n",
      "Retaining 92.32755440796754% of the data\n"
     ]
    },
    {
     "data": {
      "application/vnd.jupyter.widget-view+json": {
       "model_id": "008ec851fe9c482d880c6805e174ba66",
       "version_major": 2,
       "version_minor": 0
      },
      "text/plain": [
       "HBox(children=(FloatProgress(value=0.0, description='Pandas Apply', max=319.0, style=ProgressStyle(description…"
      ]
     },
     "metadata": {},
     "output_type": "display_data"
    },
    {
     "name": "stdout",
     "output_type": "stream",
     "text": [
      "\n",
      "Retaining 100.0% of the data\n"
     ]
    },
    {
     "data": {
      "application/vnd.jupyter.widget-view+json": {
       "model_id": "3daf631749a54cf8ab6f8ac7689738bc",
       "version_major": 2,
       "version_minor": 0
      },
      "text/plain": [
       "HBox(children=(FloatProgress(value=0.0, description='Dask Apply', max=40.0, style=ProgressStyle(description_wi…"
      ]
     },
     "metadata": {},
     "output_type": "display_data"
    },
    {
     "name": "stdout",
     "output_type": "stream",
     "text": [
      "\n",
      "Retaining 92.31621721462874% of the data\n"
     ]
    },
    {
     "data": {
      "application/vnd.jupyter.widget-view+json": {
       "model_id": "9ce187293bf9431fa243535a188c5f48",
       "version_major": 2,
       "version_minor": 0
      },
      "text/plain": [
       "HBox(children=(FloatProgress(value=0.0, description='Pandas Apply', max=327.0, style=ProgressStyle(description…"
      ]
     },
     "metadata": {},
     "output_type": "display_data"
    },
    {
     "name": "stdout",
     "output_type": "stream",
     "text": [
      "\n",
      "Retaining 100.0% of the data\n"
     ]
    },
    {
     "data": {
      "application/vnd.jupyter.widget-view+json": {
       "model_id": "d7a11916084c4d00a243b383df7d6d4a",
       "version_major": 2,
       "version_minor": 0
      },
      "text/plain": [
       "HBox(children=(FloatProgress(value=0.0, description='Dask Apply', max=40.0, style=ProgressStyle(description_wi…"
      ]
     },
     "metadata": {},
     "output_type": "display_data"
    },
    {
     "name": "stdout",
     "output_type": "stream",
     "text": [
      "\n",
      "Retaining 92.31337767923134% of the data\n"
     ]
    },
    {
     "data": {
      "application/vnd.jupyter.widget-view+json": {
       "model_id": "95aada9f756945eb8192aa7ea5356c63",
       "version_major": 2,
       "version_minor": 0
      },
      "text/plain": [
       "HBox(children=(FloatProgress(value=0.0, description='Pandas Apply', max=322.0, style=ProgressStyle(description…"
      ]
     },
     "metadata": {},
     "output_type": "display_data"
    },
    {
     "name": "stdout",
     "output_type": "stream",
     "text": [
      "\n",
      "Retaining 100.0% of the data\n"
     ]
    },
    {
     "data": {
      "application/vnd.jupyter.widget-view+json": {
       "model_id": "ea0f578271ce4c67b2dd46ff02dfa49c",
       "version_major": 2,
       "version_minor": 0
      },
      "text/plain": [
       "HBox(children=(FloatProgress(value=0.0, description='Dask Apply', max=40.0, style=ProgressStyle(description_wi…"
      ]
     },
     "metadata": {},
     "output_type": "display_data"
    },
    {
     "name": "stdout",
     "output_type": "stream",
     "text": [
      "\n",
      "Retaining 92.33391688933935% of the data\n"
     ]
    },
    {
     "data": {
      "application/vnd.jupyter.widget-view+json": {
       "model_id": "3d82ab2ea056449d9a57868b7bbd85ed",
       "version_major": 2,
       "version_minor": 0
      },
      "text/plain": [
       "HBox(children=(FloatProgress(value=0.0, description='Pandas Apply', max=335.0, style=ProgressStyle(description…"
      ]
     },
     "metadata": {},
     "output_type": "display_data"
    },
    {
     "name": "stdout",
     "output_type": "stream",
     "text": [
      "\n",
      "Retaining 100.0% of the data\n"
     ]
    },
    {
     "data": {
      "application/vnd.jupyter.widget-view+json": {
       "model_id": "a006fd43aa8e432b9c14a533bf0b02f4",
       "version_major": 2,
       "version_minor": 0
      },
      "text/plain": [
       "HBox(children=(FloatProgress(value=0.0, description='Dask Apply', max=40.0, style=ProgressStyle(description_wi…"
      ]
     },
     "metadata": {},
     "output_type": "display_data"
    },
    {
     "name": "stdout",
     "output_type": "stream",
     "text": [
      "\n",
      "Retaining 92.39080670268291% of the data\n"
     ]
    },
    {
     "data": {
      "application/vnd.jupyter.widget-view+json": {
       "model_id": "713d66c5005946d5823a81316e542400",
       "version_major": 2,
       "version_minor": 0
      },
      "text/plain": [
       "HBox(children=(FloatProgress(value=0.0, description='Pandas Apply', max=333.0, style=ProgressStyle(description…"
      ]
     },
     "metadata": {},
     "output_type": "display_data"
    },
    {
     "name": "stdout",
     "output_type": "stream",
     "text": [
      "\n",
      "Retaining 100.0% of the data\n"
     ]
    },
    {
     "data": {
      "application/vnd.jupyter.widget-view+json": {
       "model_id": "f049c9290a5244b4b566c8cb63f75926",
       "version_major": 2,
       "version_minor": 0
      },
      "text/plain": [
       "HBox(children=(FloatProgress(value=0.0, description='Dask Apply', max=40.0, style=ProgressStyle(description_wi…"
      ]
     },
     "metadata": {},
     "output_type": "display_data"
    },
    {
     "name": "stdout",
     "output_type": "stream",
     "text": [
      "\n",
      "Retaining 92.43643680263399% of the data\n"
     ]
    },
    {
     "data": {
      "application/vnd.jupyter.widget-view+json": {
       "model_id": "41e8d7c93a3f4d7a9708fc21ef6b1459",
       "version_major": 2,
       "version_minor": 0
      },
      "text/plain": [
       "HBox(children=(FloatProgress(value=0.0, description='Pandas Apply', max=332.0, style=ProgressStyle(description…"
      ]
     },
     "metadata": {},
     "output_type": "display_data"
    },
    {
     "name": "stdout",
     "output_type": "stream",
     "text": [
      "\n",
      "Retaining 100.0% of the data\n"
     ]
    },
    {
     "data": {
      "application/vnd.jupyter.widget-view+json": {
       "model_id": "5e68123e73d24eabb577d04a792b320a",
       "version_major": 2,
       "version_minor": 0
      },
      "text/plain": [
       "HBox(children=(FloatProgress(value=0.0, description='Dask Apply', max=40.0, style=ProgressStyle(description_wi…"
      ]
     },
     "metadata": {},
     "output_type": "display_data"
    },
    {
     "name": "stdout",
     "output_type": "stream",
     "text": [
      "\n",
      "Retaining 92.45713243341847% of the data\n"
     ]
    },
    {
     "data": {
      "application/vnd.jupyter.widget-view+json": {
       "model_id": "d9c50a1a1f8d4f8c920121889819e99e",
       "version_major": 2,
       "version_minor": 0
      },
      "text/plain": [
       "HBox(children=(FloatProgress(value=0.0, description='Pandas Apply', max=336.0, style=ProgressStyle(description…"
      ]
     },
     "metadata": {},
     "output_type": "display_data"
    },
    {
     "name": "stdout",
     "output_type": "stream",
     "text": [
      "\n",
      "Retaining 100.0% of the data\n"
     ]
    },
    {
     "data": {
      "application/vnd.jupyter.widget-view+json": {
       "model_id": "b6ee0c42e3ce49409cf0c59f598e1c82",
       "version_major": 2,
       "version_minor": 0
      },
      "text/plain": [
       "HBox(children=(FloatProgress(value=0.0, description='Dask Apply', max=40.0, style=ProgressStyle(description_wi…"
      ]
     },
     "metadata": {},
     "output_type": "display_data"
    },
    {
     "name": "stdout",
     "output_type": "stream",
     "text": [
      "\n",
      "Retaining 92.88107961235396% of the data\n"
     ]
    },
    {
     "data": {
      "application/vnd.jupyter.widget-view+json": {
       "model_id": "c81b2d8f354a48ff8bcc54bcf3a294aa",
       "version_major": 2,
       "version_minor": 0
      },
      "text/plain": [
       "HBox(children=(FloatProgress(value=0.0, description='Pandas Apply', max=150.0, style=ProgressStyle(description…"
      ]
     },
     "metadata": {},
     "output_type": "display_data"
    },
    {
     "name": "stdout",
     "output_type": "stream",
     "text": [
      "\n",
      "Retaining 100.0% of the data\n"
     ]
    },
    {
     "data": {
      "application/vnd.jupyter.widget-view+json": {
       "model_id": "1835886f89fc464dbdcaa99e45556081",
       "version_major": 2,
       "version_minor": 0
      },
      "text/plain": [
       "HBox(children=(FloatProgress(value=0.0, description='Dask Apply', max=40.0, style=ProgressStyle(description_wi…"
      ]
     },
     "metadata": {},
     "output_type": "display_data"
    },
    {
     "name": "stdout",
     "output_type": "stream",
     "text": [
      "\n",
      "Retaining 93.1951577402788% of the data\n"
     ]
    },
    {
     "data": {
      "application/vnd.jupyter.widget-view+json": {
       "model_id": "cc93533af6b2421d8a441e3b7f551d5a",
       "version_major": 2,
       "version_minor": 0
      },
      "text/plain": [
       "HBox(children=(FloatProgress(value=0.0, description='Pandas Apply', max=327.0, style=ProgressStyle(description…"
      ]
     },
     "metadata": {},
     "output_type": "display_data"
    },
    {
     "name": "stdout",
     "output_type": "stream",
     "text": [
      "\n",
      "Retaining 100.0% of the data\n"
     ]
    },
    {
     "data": {
      "application/vnd.jupyter.widget-view+json": {
       "model_id": "ddca338d6fe94abe9ed6ca5a0f25e8be",
       "version_major": 2,
       "version_minor": 0
      },
      "text/plain": [
       "HBox(children=(FloatProgress(value=0.0, description='Dask Apply', max=40.0, style=ProgressStyle(description_wi…"
      ]
     },
     "metadata": {},
     "output_type": "display_data"
    },
    {
     "name": "stdout",
     "output_type": "stream",
     "text": [
      "\n",
      "Retaining 93.71627183755602% of the data\n"
     ]
    },
    {
     "data": {
      "application/vnd.jupyter.widget-view+json": {
       "model_id": "f7337bda668a4baea67ca259fb98b270",
       "version_major": 2,
       "version_minor": 0
      },
      "text/plain": [
       "HBox(children=(FloatProgress(value=0.0, description='Pandas Apply', max=336.0, style=ProgressStyle(description…"
      ]
     },
     "metadata": {},
     "output_type": "display_data"
    },
    {
     "name": "stdout",
     "output_type": "stream",
     "text": [
      "\n",
      "Retaining 100.0% of the data\n"
     ]
    },
    {
     "data": {
      "application/vnd.jupyter.widget-view+json": {
       "model_id": "0c2e976b0be64af887c6e97aa5dcebb9",
       "version_major": 2,
       "version_minor": 0
      },
      "text/plain": [
       "HBox(children=(FloatProgress(value=0.0, description='Dask Apply', max=40.0, style=ProgressStyle(description_wi…"
      ]
     },
     "metadata": {},
     "output_type": "display_data"
    },
    {
     "name": "stdout",
     "output_type": "stream",
     "text": [
      "\n",
      "Retaining 93.90154968094804% of the data\n"
     ]
    },
    {
     "data": {
      "application/vnd.jupyter.widget-view+json": {
       "model_id": "0cedc7bd533a4d769bf55bbed5b5f657",
       "version_major": 2,
       "version_minor": 0
      },
      "text/plain": [
       "HBox(children=(FloatProgress(value=0.0, description='Pandas Apply', max=336.0, style=ProgressStyle(description…"
      ]
     },
     "metadata": {},
     "output_type": "display_data"
    },
    {
     "name": "stdout",
     "output_type": "stream",
     "text": [
      "\n",
      "Retaining 100.0% of the data\n"
     ]
    },
    {
     "data": {
      "application/vnd.jupyter.widget-view+json": {
       "model_id": "e65134d509a14403b8bf64414241651b",
       "version_major": 2,
       "version_minor": 0
      },
      "text/plain": [
       "HBox(children=(FloatProgress(value=0.0, description='Dask Apply', max=40.0, style=ProgressStyle(description_wi…"
      ]
     },
     "metadata": {},
     "output_type": "display_data"
    },
    {
     "name": "stdout",
     "output_type": "stream",
     "text": [
      "\n",
      "Retaining 94.6820076100743% of the data\n"
     ]
    },
    {
     "data": {
      "application/vnd.jupyter.widget-view+json": {
       "model_id": "399a9cc5b679426f927f7d17ede51a43",
       "version_major": 2,
       "version_minor": 0
      },
      "text/plain": [
       "HBox(children=(FloatProgress(value=0.0, description='Pandas Apply', max=336.0, style=ProgressStyle(description…"
      ]
     },
     "metadata": {},
     "output_type": "display_data"
    },
    {
     "name": "stdout",
     "output_type": "stream",
     "text": [
      "\n",
      "Retaining 100.0% of the data\n"
     ]
    },
    {
     "data": {
      "application/vnd.jupyter.widget-view+json": {
       "model_id": "df731c1dd23b434aabf3aa7c4c319f49",
       "version_major": 2,
       "version_minor": 0
      },
      "text/plain": [
       "HBox(children=(FloatProgress(value=0.0, description='Dask Apply', max=40.0, style=ProgressStyle(description_wi…"
      ]
     },
     "metadata": {},
     "output_type": "display_data"
    },
    {
     "name": "stdout",
     "output_type": "stream",
     "text": [
      "\n",
      "Retaining 94.83614697120159% of the data\n"
     ]
    },
    {
     "data": {
      "application/vnd.jupyter.widget-view+json": {
       "model_id": "b571eaae63df402b86ee6ce16dcfad25",
       "version_major": 2,
       "version_minor": 0
      },
      "text/plain": [
       "HBox(children=(FloatProgress(value=0.0, description='Pandas Apply', max=325.0, style=ProgressStyle(description…"
      ]
     },
     "metadata": {},
     "output_type": "display_data"
    },
    {
     "name": "stdout",
     "output_type": "stream",
     "text": [
      "\n",
      "Retaining 100.0% of the data\n"
     ]
    },
    {
     "data": {
      "application/vnd.jupyter.widget-view+json": {
       "model_id": "f809395f3bf145319a905e0b2c35d267",
       "version_major": 2,
       "version_minor": 0
      },
      "text/plain": [
       "HBox(children=(FloatProgress(value=0.0, description='Dask Apply', max=40.0, style=ProgressStyle(description_wi…"
      ]
     },
     "metadata": {},
     "output_type": "display_data"
    },
    {
     "name": "stdout",
     "output_type": "stream",
     "text": [
      "\n",
      "Retaining 95.38876404494383% of the data\n"
     ]
    },
    {
     "data": {
      "application/vnd.jupyter.widget-view+json": {
       "model_id": "11d4da25bac54ee6a328cb35ad2f82ed",
       "version_major": 2,
       "version_minor": 0
      },
      "text/plain": [
       "HBox(children=(FloatProgress(value=0.0, description='Pandas Apply', max=336.0, style=ProgressStyle(description…"
      ]
     },
     "metadata": {},
     "output_type": "display_data"
    },
    {
     "name": "stdout",
     "output_type": "stream",
     "text": [
      "\n",
      "Retaining 100.0% of the data\n"
     ]
    },
    {
     "data": {
      "application/vnd.jupyter.widget-view+json": {
       "model_id": "3db04cf02a4e41349de4e51cc6715640",
       "version_major": 2,
       "version_minor": 0
      },
      "text/plain": [
       "HBox(children=(FloatProgress(value=0.0, description='Dask Apply', max=40.0, style=ProgressStyle(description_wi…"
      ]
     },
     "metadata": {},
     "output_type": "display_data"
    },
    {
     "name": "stdout",
     "output_type": "stream",
     "text": [
      "\n",
      "Retaining 95.55575426987392% of the data\n"
     ]
    },
    {
     "data": {
      "application/vnd.jupyter.widget-view+json": {
       "model_id": "768c141a705547e1a81e7335be1a895c",
       "version_major": 2,
       "version_minor": 0
      },
      "text/plain": [
       "HBox(children=(FloatProgress(value=0.0, description='Pandas Apply', max=335.0, style=ProgressStyle(description…"
      ]
     },
     "metadata": {},
     "output_type": "display_data"
    },
    {
     "name": "stdout",
     "output_type": "stream",
     "text": [
      "\n",
      "Retaining 99.70149253731343% of the data\n"
     ]
    },
    {
     "data": {
      "application/vnd.jupyter.widget-view+json": {
       "model_id": "28ba0373cce1469c809183785c38b369",
       "version_major": 2,
       "version_minor": 0
      },
      "text/plain": [
       "HBox(children=(FloatProgress(value=0.0, description='Dask Apply', max=40.0, style=ProgressStyle(description_wi…"
      ]
     },
     "metadata": {},
     "output_type": "display_data"
    },
    {
     "name": "stdout",
     "output_type": "stream",
     "text": [
      "\n",
      "Retaining 95.72497328108301% of the data\n"
     ]
    },
    {
     "data": {
      "application/vnd.jupyter.widget-view+json": {
       "model_id": "41a7947863e341d595ddf455edf26f61",
       "version_major": 2,
       "version_minor": 0
      },
      "text/plain": [
       "HBox(children=(FloatProgress(value=0.0, description='Pandas Apply', max=336.0, style=ProgressStyle(description…"
      ]
     },
     "metadata": {},
     "output_type": "display_data"
    },
    {
     "name": "stdout",
     "output_type": "stream",
     "text": [
      "\n",
      "Retaining 100.0% of the data\n"
     ]
    },
    {
     "data": {
      "application/vnd.jupyter.widget-view+json": {
       "model_id": "dd09c1ed0e8545c0b4726630bd3acad4",
       "version_major": 2,
       "version_minor": 0
      },
      "text/plain": [
       "HBox(children=(FloatProgress(value=0.0, description='Dask Apply', max=40.0, style=ProgressStyle(description_wi…"
      ]
     },
     "metadata": {},
     "output_type": "display_data"
    },
    {
     "name": "stdout",
     "output_type": "stream",
     "text": [
      "\n",
      "Retaining 97.12965431440504% of the data\n"
     ]
    },
    {
     "data": {
      "application/vnd.jupyter.widget-view+json": {
       "model_id": "70738c4bd62e4393877dfe5f4176fea4",
       "version_major": 2,
       "version_minor": 0
      },
      "text/plain": [
       "HBox(children=(FloatProgress(value=0.0, description='Pandas Apply', max=316.0, style=ProgressStyle(description…"
      ]
     },
     "metadata": {},
     "output_type": "display_data"
    },
    {
     "name": "stdout",
     "output_type": "stream",
     "text": [
      "\n",
      "Retaining 100.0% of the data\n"
     ]
    },
    {
     "data": {
      "application/vnd.jupyter.widget-view+json": {
       "model_id": "e087d560351846419575f4bbe53a362b",
       "version_major": 2,
       "version_minor": 0
      },
      "text/plain": [
       "HBox(children=(FloatProgress(value=0.0, description='Dask Apply', max=40.0, style=ProgressStyle(description_wi…"
      ]
     },
     "metadata": {},
     "output_type": "display_data"
    },
    {
     "name": "stdout",
     "output_type": "stream",
     "text": [
      "\n",
      "Retaining 97.80666843548245% of the data\n"
     ]
    },
    {
     "data": {
      "application/vnd.jupyter.widget-view+json": {
       "model_id": "ea9f01e459524a12b0a78bb1a8f441e8",
       "version_major": 2,
       "version_minor": 0
      },
      "text/plain": [
       "HBox(children=(FloatProgress(value=0.0, description='Pandas Apply', max=297.0, style=ProgressStyle(description…"
      ]
     },
     "metadata": {},
     "output_type": "display_data"
    },
    {
     "name": "stdout",
     "output_type": "stream",
     "text": [
      "\n",
      "Retaining 100.0% of the data\n"
     ]
    },
    {
     "data": {
      "application/vnd.jupyter.widget-view+json": {
       "model_id": "dbdf5d7bb9bd4abfbbd98f4274171b9b",
       "version_major": 2,
       "version_minor": 0
      },
      "text/plain": [
       "HBox(children=(FloatProgress(value=0.0, description='Dask Apply', max=40.0, style=ProgressStyle(description_wi…"
      ]
     },
     "metadata": {},
     "output_type": "display_data"
    },
    {
     "name": "stdout",
     "output_type": "stream",
     "text": [
      "\n",
      "Retaining 98.31268125494331% of the data\n"
     ]
    },
    {
     "data": {
      "application/vnd.jupyter.widget-view+json": {
       "model_id": "ccab1e040f1f4000921e94f9981e5877",
       "version_major": 2,
       "version_minor": 0
      },
      "text/plain": [
       "HBox(children=(FloatProgress(value=0.0, description='Pandas Apply', max=137.0, style=ProgressStyle(description…"
      ]
     },
     "metadata": {},
     "output_type": "display_data"
    },
    {
     "name": "stdout",
     "output_type": "stream",
     "text": [
      "\n",
      "Retaining 63.503649635036496% of the data\n"
     ]
    },
    {
     "data": {
      "application/vnd.jupyter.widget-view+json": {
       "model_id": "7e4ef6578b384a2bb9fc3cf55e6b2dd0",
       "version_major": 2,
       "version_minor": 0
      },
      "text/plain": [
       "HBox(children=(FloatProgress(value=0.0, description='Dask Apply', max=40.0, style=ProgressStyle(description_wi…"
      ]
     },
     "metadata": {},
     "output_type": "display_data"
    },
    {
     "name": "stdout",
     "output_type": "stream",
     "text": [
      "\n",
      "Retaining 97.88913525498891% of the data\n"
     ]
    },
    {
     "data": {
      "application/vnd.jupyter.widget-view+json": {
       "model_id": "67e936772d4748a5a1957e2892680b3b",
       "version_major": 2,
       "version_minor": 0
      },
      "text/plain": [
       "HBox(children=(FloatProgress(value=0.0, description='Pandas Apply', max=92.0, style=ProgressStyle(description_…"
      ]
     },
     "metadata": {},
     "output_type": "display_data"
    },
    {
     "name": "stdout",
     "output_type": "stream",
     "text": [
      "\n",
      "Retaining 52.17391304347826% of the data\n"
     ]
    },
    {
     "data": {
      "application/vnd.jupyter.widget-view+json": {
       "model_id": "92636642c1b84bac90c87d991c58086d",
       "version_major": 2,
       "version_minor": 0
      },
      "text/plain": [
       "HBox(children=(FloatProgress(value=0.0, description='Dask Apply', max=40.0, style=ProgressStyle(description_wi…"
      ]
     },
     "metadata": {},
     "output_type": "display_data"
    },
    {
     "name": "stdout",
     "output_type": "stream",
     "text": [
      "\n",
      "Retaining 97.58337792045657% of the data\n"
     ]
    },
    {
     "data": {
      "application/vnd.jupyter.widget-view+json": {
       "model_id": "fc0b5db8170f4a6a8d3c3f94ad91f5db",
       "version_major": 2,
       "version_minor": 0
      },
      "text/plain": [
       "HBox(children=(FloatProgress(value=0.0, description='Pandas Apply', max=34.0, style=ProgressStyle(description_…"
      ]
     },
     "metadata": {},
     "output_type": "display_data"
    },
    {
     "name": "stdout",
     "output_type": "stream",
     "text": [
      "\n",
      "Retaining 73.52941176470588% of the data\n"
     ]
    },
    {
     "data": {
      "application/vnd.jupyter.widget-view+json": {
       "model_id": "913d36a5fea347c187ef28e8fa3cc0c6",
       "version_major": 2,
       "version_minor": 0
      },
      "text/plain": [
       "HBox(children=(FloatProgress(value=0.0, description='Dask Apply', max=40.0, style=ProgressStyle(description_wi…"
      ]
     },
     "metadata": {},
     "output_type": "display_data"
    },
    {
     "name": "stdout",
     "output_type": "stream",
     "text": [
      "\n",
      "Retaining 97.96814936847886% of the data\n"
     ]
    },
    {
     "data": {
      "application/vnd.jupyter.widget-view+json": {
       "model_id": "c00da4ba082a4e8b9908ef5f5cefcb82",
       "version_major": 2,
       "version_minor": 0
      },
      "text/plain": [
       "HBox(children=(FloatProgress(value=0.0, description='Pandas Apply', max=330.0, style=ProgressStyle(description…"
      ]
     },
     "metadata": {},
     "output_type": "display_data"
    },
    {
     "name": "stdout",
     "output_type": "stream",
     "text": [
      "\n",
      "Retaining 95.75757575757575% of the data\n"
     ]
    },
    {
     "data": {
      "application/vnd.jupyter.widget-view+json": {
       "model_id": "21634bb663d14bffb2942c8919530d01",
       "version_major": 2,
       "version_minor": 0
      },
      "text/plain": [
       "HBox(children=(FloatProgress(value=0.0, description='Dask Apply', max=40.0, style=ProgressStyle(description_wi…"
      ]
     },
     "metadata": {},
     "output_type": "display_data"
    },
    {
     "name": "stdout",
     "output_type": "stream",
     "text": [
      "\n",
      "Retaining 97.85988659228096% of the data\n"
     ]
    },
    {
     "data": {
      "application/vnd.jupyter.widget-view+json": {
       "model_id": "a9181f91ba8d405990e8500f44877e63",
       "version_major": 2,
       "version_minor": 0
      },
      "text/plain": [
       "HBox(children=(FloatProgress(value=0.0, description='Pandas Apply', max=320.0, style=ProgressStyle(description…"
      ]
     },
     "metadata": {},
     "output_type": "display_data"
    },
    {
     "name": "stdout",
     "output_type": "stream",
     "text": [
      "\n",
      "Retaining 100.0% of the data\n"
     ]
    },
    {
     "data": {
      "application/vnd.jupyter.widget-view+json": {
       "model_id": "985d398c27354c19b14e68152d202e71",
       "version_major": 2,
       "version_minor": 0
      },
      "text/plain": [
       "HBox(children=(FloatProgress(value=0.0, description='Dask Apply', max=40.0, style=ProgressStyle(description_wi…"
      ]
     },
     "metadata": {},
     "output_type": "display_data"
    },
    {
     "name": "stdout",
     "output_type": "stream",
     "text": [
      "\n",
      "Retaining 98.81997804610319% of the data\n"
     ]
    },
    {
     "data": {
      "application/vnd.jupyter.widget-view+json": {
       "model_id": "3a666c851a844d94ad2c8b545980fca8",
       "version_major": 2,
       "version_minor": 0
      },
      "text/plain": [
       "HBox(children=(FloatProgress(value=0.0, description='Pandas Apply', max=256.0, style=ProgressStyle(description…"
      ]
     },
     "metadata": {},
     "output_type": "display_data"
    },
    {
     "name": "stdout",
     "output_type": "stream",
     "text": [
      "\n",
      "Retaining 94.921875% of the data\n"
     ]
    },
    {
     "data": {
      "application/vnd.jupyter.widget-view+json": {
       "model_id": "b9ddc1a0229a46a6a6f99258895267ab",
       "version_major": 2,
       "version_minor": 0
      },
      "text/plain": [
       "HBox(children=(FloatProgress(value=0.0, description='Dask Apply', max=40.0, style=ProgressStyle(description_wi…"
      ]
     },
     "metadata": {},
     "output_type": "display_data"
    },
    {
     "name": "stdout",
     "output_type": "stream",
     "text": [
      "\n",
      "Retaining 98.77464529205822% of the data\n"
     ]
    },
    {
     "data": {
      "application/vnd.jupyter.widget-view+json": {
       "model_id": "0345c4d2c3794fc08b8f6e59f93295a4",
       "version_major": 2,
       "version_minor": 0
      },
      "text/plain": [
       "HBox(children=(FloatProgress(value=0.0, description='Pandas Apply', max=284.0, style=ProgressStyle(description…"
      ]
     },
     "metadata": {},
     "output_type": "display_data"
    },
    {
     "name": "stdout",
     "output_type": "stream",
     "text": [
      "\n",
      "Retaining 100.0% of the data\n"
     ]
    },
    {
     "data": {
      "application/vnd.jupyter.widget-view+json": {
       "model_id": "7333431f6bce44f49d843384b686abc4",
       "version_major": 2,
       "version_minor": 0
      },
      "text/plain": [
       "HBox(children=(FloatProgress(value=0.0, description='Dask Apply', max=40.0, style=ProgressStyle(description_wi…"
      ]
     },
     "metadata": {},
     "output_type": "display_data"
    },
    {
     "name": "stdout",
     "output_type": "stream",
     "text": [
      "\n",
      "Retaining 98.77811718966953% of the data\n"
     ]
    },
    {
     "data": {
      "application/vnd.jupyter.widget-view+json": {
       "model_id": "3dbf96d143424feabb354ba3961a69a3",
       "version_major": 2,
       "version_minor": 0
      },
      "text/plain": [
       "HBox(children=(FloatProgress(value=0.0, description='Pandas Apply', max=102.0, style=ProgressStyle(description…"
      ]
     },
     "metadata": {},
     "output_type": "display_data"
    },
    {
     "name": "stdout",
     "output_type": "stream",
     "text": [
      "\n",
      "Retaining 60.78431372549019% of the data\n"
     ]
    },
    {
     "data": {
      "application/vnd.jupyter.widget-view+json": {
       "model_id": "a1ad282430a74e5998dc2c35a038ce36",
       "version_major": 2,
       "version_minor": 0
      },
      "text/plain": [
       "HBox(children=(FloatProgress(value=0.0, description='Dask Apply', max=40.0, style=ProgressStyle(description_wi…"
      ]
     },
     "metadata": {},
     "output_type": "display_data"
    },
    {
     "name": "stdout",
     "output_type": "stream",
     "text": [
      "\n",
      "Retaining 98.37475196069167% of the data\n"
     ]
    },
    {
     "data": {
      "application/vnd.jupyter.widget-view+json": {
       "model_id": "010e2b5c3356499fa0f527449f65b64c",
       "version_major": 2,
       "version_minor": 0
      },
      "text/plain": [
       "HBox(children=(FloatProgress(value=0.0, description='Pandas Apply', max=304.0, style=ProgressStyle(description…"
      ]
     },
     "metadata": {},
     "output_type": "display_data"
    },
    {
     "name": "stdout",
     "output_type": "stream",
     "text": [
      "\n",
      "Retaining 98.02631578947368% of the data\n",
      "Length of weeklist: 37\n"
     ]
    }
   ],
   "source": [
    "for weekdata in dflist[data_weeks:end_week]:\n",
    "    \n",
    "    # select and merge data_weeks-1 worth of data\n",
    "    datablock_train_pre = datablock_train_pre[1:]+[datablock_test_pre]\n",
    "    datablock_train = quickmerge(datablock_train_pre)\n",
    "    #Select from data frame the operating regions\n",
    "    datablock_train = df2operating_regions(datablock_train, outputcols, threshold)\n",
    "    minibatch_train = datablock_train\n",
    "    \n",
    "    # select weeks=1 worth of data\n",
    "    datablock_test_pre = weekdata\n",
    "    #Select from data frame the operating regions\n",
    "    datablock_test = df2operating_regions(datablock_test_pre, outputcols, threshold)\n",
    "    minibatch_test = datablock_test\n",
    "    \n",
    "    # splitvalue\n",
    "    splitvalue = minibatch_test.shape[0]\n",
    "    #merge test and train together\n",
    "    data_block = quickmerge([minibatch_train, minibatch_test])\n",
    "\n",
    "    # and add new week data from weekdata\n",
    "    X_train, X_test, y_train, y_test, X_scaler, y_scaler = dp.df2arrays(\n",
    "        data_block,\n",
    "        predictorcols=inputcols,\n",
    "        outputcols=outputcols,\n",
    "        scaling=scaling,\n",
    "        feature_range=feature_range,\n",
    "        reshaping=reshaping,\n",
    "        lag=create_lag,\n",
    "        split=splitvalue,\n",
    "    input_timesteps=input_timesteps,\n",
    "    output_timesteps = output_timesteps\n",
    "    )\n",
    "\n",
    "    # select test ids for later plots\n",
    "    test_idx = minibatch_test.index\n",
    "    \n",
    "    # year and week no\n",
    "    weekno += 1\n",
    "    weekno = weekno if weekno%53 != 0 else 1\n",
    "    yearno = yearno if weekno!= 1 else yearno+1\n",
    "\n",
    "    weeklist.append({\n",
    "        'Id':'Year-{}-Week-{}'.format(str(yearno), \n",
    "                                      str(weekno)),\n",
    "        'X_train':X_train,\n",
    "        'y_train': y_train,\n",
    "        'X_test': X_test,\n",
    "        'y_test': y_test,\n",
    "        'y_scaler':y_scaler,\n",
    "        'X_scaler':X_scaler,\n",
    "        'test_idx':test_idx,\n",
    "    })\n",
    "\n",
    "print('Length of weeklist: {}'.format(len(weeklist)))"
   ]
  },
  {
   "cell_type": "markdown",
   "metadata": {},
   "source": [
    "## Print size and shape of data to feed to the model for sanity checks"
   ]
  },
  {
   "cell_type": "code",
   "execution_count": 21,
   "metadata": {
    "run_control": {
     "marked": true
    },
    "scrolled": true
   },
   "outputs": [
    {
     "name": "stdout",
     "output_type": "stream",
     "text": [
      "name: Id, shape: Year-2019-Week-16\n",
      "name: X_train, shape: (10381, 1, 4)\n",
      "name: y_train, shape: (10381, 1, 1)\n",
      "name: X_test, shape: (321, 1, 4)\n",
      "name: y_test, shape: (321, 1, 1)\n",
      "name: test_idx, shape: (321,)\n",
      "name: Id, shape: Year-2019-Week-17\n",
      "name: X_train, shape: (10390, 1, 4)\n",
      "name: y_train, shape: (10390, 1, 1)\n",
      "name: X_test, shape: (316, 1, 4)\n",
      "name: y_test, shape: (316, 1, 1)\n",
      "name: test_idx, shape: (316,)\n",
      "name: Id, shape: Year-2019-Week-18\n",
      "name: X_train, shape: (10374, 1, 4)\n",
      "name: y_train, shape: (10374, 1, 1)\n",
      "name: X_test, shape: (312, 1, 4)\n",
      "name: y_test, shape: (312, 1, 1)\n",
      "name: test_idx, shape: (312,)\n",
      "name: Id, shape: Year-2019-Week-19\n",
      "name: X_train, shape: (10357, 1, 4)\n",
      "name: y_train, shape: (10357, 1, 1)\n",
      "name: X_test, shape: (314, 1, 4)\n",
      "name: y_test, shape: (314, 1, 1)\n",
      "name: test_idx, shape: (314,)\n",
      "name: Id, shape: Year-2019-Week-20\n",
      "name: X_train, shape: (10376, 1, 4)\n",
      "name: y_train, shape: (10376, 1, 1)\n",
      "name: X_test, shape: (306, 1, 4)\n",
      "name: y_test, shape: (306, 1, 1)\n",
      "name: test_idx, shape: (306,)\n",
      "name: Id, shape: Year-2019-Week-21\n",
      "name: X_train, shape: (10603, 1, 4)\n",
      "name: y_train, shape: (10603, 1, 1)\n",
      "name: X_test, shape: (87, 1, 4)\n",
      "name: y_test, shape: (87, 1, 1)\n",
      "name: test_idx, shape: (87,)\n",
      "name: Id, shape: Year-2019-Week-22\n",
      "name: X_train, shape: (10354, 1, 4)\n",
      "name: y_train, shape: (10354, 1, 1)\n",
      "name: X_test, shape: (219, 1, 4)\n",
      "name: y_test, shape: (219, 1, 1)\n",
      "name: test_idx, shape: (219,)\n",
      "name: Id, shape: Year-2019-Week-23\n",
      "name: X_train, shape: (10237, 1, 4)\n",
      "name: y_train, shape: (10237, 1, 1)\n",
      "name: X_test, shape: (137, 1, 4)\n",
      "name: y_test, shape: (137, 1, 1)\n",
      "name: test_idx, shape: (137,)\n",
      "name: Id, shape: Year-2019-Week-24\n",
      "name: X_train, shape: (10038, 1, 4)\n",
      "name: y_train, shape: (10038, 1, 1)\n",
      "name: X_test, shape: (326, 1, 4)\n",
      "name: y_test, shape: (326, 1, 1)\n",
      "name: test_idx, shape: (326,)\n",
      "name: Id, shape: Year-2019-Week-25\n",
      "name: X_train, shape: (10028, 1, 4)\n",
      "name: y_train, shape: (10028, 1, 1)\n",
      "name: X_test, shape: (318, 1, 4)\n",
      "name: y_test, shape: (318, 1, 1)\n",
      "name: test_idx, shape: (318,)\n",
      "name: Id, shape: Year-2019-Week-26\n",
      "name: X_train, shape: (10012, 1, 4)\n",
      "name: y_train, shape: (10012, 1, 1)\n",
      "name: X_test, shape: (319, 1, 4)\n",
      "name: y_test, shape: (319, 1, 1)\n",
      "name: test_idx, shape: (319,)\n",
      "name: Id, shape: Year-2019-Week-27\n",
      "name: X_train, shape: (9996, 1, 4)\n",
      "name: y_train, shape: (9996, 1, 1)\n",
      "name: X_test, shape: (327, 1, 4)\n",
      "name: y_test, shape: (327, 1, 1)\n",
      "name: test_idx, shape: (327,)\n",
      "name: Id, shape: Year-2019-Week-28\n",
      "name: X_train, shape: (9992, 1, 4)\n",
      "name: y_train, shape: (9992, 1, 1)\n",
      "name: X_test, shape: (322, 1, 4)\n",
      "name: y_test, shape: (322, 1, 1)\n",
      "name: test_idx, shape: (322,)\n",
      "name: Id, shape: Year-2019-Week-29\n",
      "name: X_train, shape: (10021, 1, 4)\n",
      "name: y_train, shape: (10021, 1, 1)\n",
      "name: X_test, shape: (335, 1, 4)\n",
      "name: y_test, shape: (335, 1, 1)\n",
      "name: test_idx, shape: (335,)\n",
      "name: Id, shape: Year-2019-Week-30\n",
      "name: X_train, shape: (10090, 1, 4)\n",
      "name: y_train, shape: (10090, 1, 1)\n",
      "name: X_test, shape: (333, 1, 4)\n",
      "name: y_test, shape: (333, 1, 1)\n",
      "name: test_idx, shape: (333,)\n",
      "name: Id, shape: Year-2019-Week-31\n",
      "name: X_train, shape: (10107, 1, 4)\n",
      "name: y_train, shape: (10107, 1, 1)\n",
      "name: X_test, shape: (332, 1, 4)\n",
      "name: y_test, shape: (332, 1, 1)\n",
      "name: test_idx, shape: (332,)\n",
      "name: Id, shape: Year-2019-Week-32\n",
      "name: X_train, shape: (10137, 1, 4)\n",
      "name: y_train, shape: (10137, 1, 1)\n",
      "name: X_test, shape: (336, 1, 4)\n",
      "name: y_test, shape: (336, 1, 1)\n",
      "name: test_idx, shape: (336,)\n",
      "name: Id, shape: Year-2019-Week-33\n",
      "name: X_train, shape: (10255, 1, 4)\n",
      "name: y_train, shape: (10255, 1, 1)\n",
      "name: X_test, shape: (150, 1, 4)\n",
      "name: y_test, shape: (150, 1, 1)\n",
      "name: test_idx, shape: (150,)\n",
      "name: Id, shape: Year-2019-Week-34\n",
      "name: X_train, shape: (10162, 1, 4)\n",
      "name: y_train, shape: (10162, 1, 1)\n",
      "name: X_test, shape: (327, 1, 4)\n",
      "name: y_test, shape: (327, 1, 1)\n",
      "name: test_idx, shape: (327,)\n",
      "name: Id, shape: Year-2019-Week-35\n",
      "name: X_train, shape: (10246, 1, 4)\n",
      "name: y_train, shape: (10246, 1, 1)\n",
      "name: X_test, shape: (336, 1, 4)\n",
      "name: y_test, shape: (336, 1, 1)\n",
      "name: test_idx, shape: (336,)\n",
      "name: Id, shape: Year-2019-Week-36\n",
      "name: X_train, shape: (10301, 1, 4)\n",
      "name: y_train, shape: (10301, 1, 1)\n",
      "name: X_test, shape: (336, 1, 4)\n",
      "name: y_test, shape: (336, 1, 1)\n",
      "name: test_idx, shape: (336,)\n",
      "name: Id, shape: Year-2019-Week-37\n",
      "name: X_train, shape: (10451, 1, 4)\n",
      "name: y_train, shape: (10451, 1, 1)\n",
      "name: X_test, shape: (336, 1, 4)\n",
      "name: y_test, shape: (336, 1, 1)\n",
      "name: test_idx, shape: (336,)\n",
      "name: Id, shape: Year-2019-Week-38\n",
      "name: X_train, shape: (10505, 1, 4)\n",
      "name: y_train, shape: (10505, 1, 1)\n",
      "name: X_test, shape: (325, 1, 4)\n",
      "name: y_test, shape: (325, 1, 1)\n",
      "name: test_idx, shape: (325,)\n",
      "name: Id, shape: Year-2019-Week-39\n",
      "name: X_train, shape: (10612, 1, 4)\n",
      "name: y_train, shape: (10612, 1, 1)\n",
      "name: X_test, shape: (336, 1, 4)\n",
      "name: y_test, shape: (336, 1, 1)\n",
      "name: test_idx, shape: (336,)\n",
      "name: Id, shape: Year-2019-Week-40\n",
      "name: X_train, shape: (10686, 1, 4)\n",
      "name: y_train, shape: (10686, 1, 1)\n",
      "name: X_test, shape: (334, 1, 4)\n",
      "name: y_test, shape: (334, 1, 1)\n",
      "name: test_idx, shape: (334,)\n",
      "name: Id, shape: Year-2019-Week-41\n",
      "name: X_train, shape: (10748, 1, 4)\n",
      "name: y_train, shape: (10748, 1, 1)\n",
      "name: X_test, shape: (336, 1, 4)\n",
      "name: y_test, shape: (336, 1, 1)\n",
      "name: test_idx, shape: (336,)\n",
      "name: Id, shape: Year-2019-Week-42\n",
      "name: X_train, shape: (10930, 1, 4)\n",
      "name: y_train, shape: (10930, 1, 1)\n",
      "name: X_test, shape: (316, 1, 4)\n",
      "name: y_test, shape: (316, 1, 1)\n",
      "name: test_idx, shape: (316,)\n",
      "name: Id, shape: Year-2019-Week-43\n",
      "name: X_train, shape: (11059, 1, 4)\n",
      "name: y_train, shape: (11059, 1, 1)\n",
      "name: X_test, shape: (297, 1, 4)\n",
      "name: y_test, shape: (297, 1, 1)\n",
      "name: test_idx, shape: (297,)\n",
      "name: Id, shape: Year-2019-Week-44\n",
      "name: X_train, shape: (11187, 1, 4)\n",
      "name: y_train, shape: (11187, 1, 1)\n",
      "name: X_test, shape: (87, 1, 4)\n",
      "name: y_test, shape: (87, 1, 1)\n",
      "name: test_idx, shape: (87,)\n",
      "name: Id, shape: Year-2019-Week-45\n",
      "name: X_train, shape: (11037, 1, 4)\n",
      "name: y_train, shape: (11037, 1, 1)\n",
      "name: X_test, shape: (48, 1, 4)\n",
      "name: y_test, shape: (48, 1, 1)\n",
      "name: test_idx, shape: (48,)\n",
      "name: Id, shape: Year-2019-Week-46\n",
      "name: X_train, shape: (10943, 1, 4)\n",
      "name: y_train, shape: (10943, 1, 1)\n",
      "name: X_test, shape: (25, 1, 4)\n",
      "name: y_test, shape: (25, 1, 1)\n",
      "name: test_idx, shape: (25,)\n",
      "name: Id, shape: Year-2019-Week-47\n",
      "name: X_train, shape: (10704, 1, 4)\n",
      "name: y_train, shape: (10704, 1, 1)\n",
      "name: X_test, shape: (316, 1, 4)\n",
      "name: y_test, shape: (316, 1, 1)\n",
      "name: test_idx, shape: (316,)\n",
      "name: Id, shape: Year-2019-Week-48\n",
      "name: X_train, shape: (10700, 1, 4)\n",
      "name: y_train, shape: (10700, 1, 1)\n",
      "name: X_test, shape: (320, 1, 4)\n",
      "name: y_test, shape: (320, 1, 1)\n",
      "name: test_idx, shape: (320,)\n",
      "name: Id, shape: Year-2019-Week-49\n",
      "name: X_train, shape: (10803, 1, 4)\n",
      "name: y_train, shape: (10803, 1, 1)\n",
      "name: X_test, shape: (243, 1, 4)\n",
      "name: y_test, shape: (243, 1, 1)\n",
      "name: test_idx, shape: (243,)\n",
      "name: Id, shape: Year-2019-Week-50\n",
      "name: X_train, shape: (10721, 1, 4)\n",
      "name: y_train, shape: (10721, 1, 1)\n",
      "name: X_test, shape: (284, 1, 4)\n",
      "name: y_test, shape: (284, 1, 1)\n",
      "name: test_idx, shape: (284,)\n",
      "name: Id, shape: Year-2019-Week-51\n",
      "name: X_train, shape: (10671, 1, 4)\n",
      "name: y_train, shape: (10671, 1, 1)\n",
      "name: X_test, shape: (62, 1, 4)\n",
      "name: y_test, shape: (62, 1, 1)\n",
      "name: test_idx, shape: (62,)\n",
      "name: Id, shape: Year-2019-Week-52\n",
      "name: X_train, shape: (10411, 1, 4)\n",
      "name: y_train, shape: (10411, 1, 1)\n",
      "name: X_test, shape: (298, 1, 4)\n",
      "name: y_test, shape: (298, 1, 1)\n",
      "name: test_idx, shape: (298,)\n"
     ]
    }
   ],
   "source": [
    "for week in weeklist:\n",
    "    for key,value in week.items():\n",
    "        if (key != 'y_scaler') & (key != 'X_scaler') :\n",
    "            print(\"name: {}, shape: {}\".format(key, value.shape if not isinstance(value,str) else value))"
   ]
  },
  {
   "cell_type": "markdown",
   "metadata": {},
   "source": [
    "## Add weekly train test data to modelconfig dictionary for ease of training"
   ]
  },
  {
   "cell_type": "code",
   "execution_count": 22,
   "metadata": {
    "run_control": {
     "marked": true
    }
   },
   "outputs": [],
   "source": [
    "modelconfig['weeklist'] = weeklist"
   ]
  },
  {
   "cell_type": "markdown",
   "metadata": {},
   "source": [
    "##  Clear the Tensorflow graph from previous training"
   ]
  },
  {
   "cell_type": "code",
   "execution_count": 23,
   "metadata": {
    "run_control": {
     "marked": true
    }
   },
   "outputs": [
    {
     "name": "stdout",
     "output_type": "stream",
     "text": [
      "WARNING:tensorflow:From /data/nauga/SmartBuildings/venvs/sbvenv1/lib/python3.6/site-packages/keras/backend/tensorflow_backend.py:95: The name tf.reset_default_graph is deprecated. Please use tf.compat.v1.reset_default_graph instead.\n",
      "\n",
      "WARNING:tensorflow:From /data/nauga/SmartBuildings/venvs/sbvenv1/lib/python3.6/site-packages/keras/backend/tensorflow_backend.py:98: The name tf.placeholder_with_default is deprecated. Please use tf.compat.v1.placeholder_with_default instead.\n",
      "\n",
      "WARNING:tensorflow:From /data/nauga/SmartBuildings/venvs/sbvenv1/lib/python3.6/site-packages/keras/backend/tensorflow_backend.py:102: The name tf.get_default_graph is deprecated. Please use tf.compat.v1.get_default_graph instead.\n",
      "\n"
     ]
    }
   ],
   "source": [
    "K.clear_session()"
   ]
  },
  {
   "cell_type": "markdown",
   "metadata": {},
   "source": [
    "## Inspect model architecture"
   ]
  },
  {
   "cell_type": "code",
   "execution_count": null,
   "metadata": {
    "run_control": {
     "marked": false
    }
   },
   "outputs": [],
   "source": [
    "# weekdata = modelconfig['weeklist'][1]\n",
    "# X_train = weekdata['X_train']\n",
    "# y_train = weekdata['y_train']\n",
    "# X_test = weekdata['X_test']\n",
    "# y_test = weekdata['y_test']\n",
    "# y_scaler = weekdata['y_scaler']\n",
    "\n",
    "# #Instantiate learner model\n",
    "# nn_model = mp.simple_LSTM_model(path,\n",
    "#                       inputdim=X_train.shape[-1],\n",
    "#                       outputdim=y_train.shape[-1],\n",
    "#                       period=period)\n",
    "\n",
    "# # Desing model architecture\n",
    "# nn_model.design_network(lstmhiddenlayers=[modelconfig['lstm_hidden_units']] * (2*modelconfig['lstm_no_layers']),\n",
    "#                    densehiddenlayers=[modelconfig['dense_hidden_units']] * modelconfig['dense_no_layers'],\n",
    "#                    dropoutlist=[[], []],\n",
    "#                    batchnormalizelist=[[], []])\n",
    "\n",
    "# # compile model\n",
    "# nn_model.model_compile()\n",
    "# print(K.get_session())\n",
    "\n",
    "# # nn_model.model.summary()0x7f8d2b89f048  0x7f8ba4767550>\n",
    "\n",
    "# #Instantiate learner model\n",
    "# nn_model2 = mp.simple_LSTM_model(path,\n",
    "#                       inputdim=X_train.shape[-1],\n",
    "#                       outputdim=y_train.shape[-1],\n",
    "#                       period=period)\n",
    "\n",
    "# # Desing model architecture\n",
    "# nn_model2.design_network(lstmhiddenlayers=[modelconfig['lstm_hidden_units']] * (2*modelconfig['lstm_no_layers']),\n",
    "#                    densehiddenlayers=[modelconfig['dense_hidden_units']] * modelconfig['dense_no_layers'],\n",
    "#                    dropoutlist=[[], []],\n",
    "#                    batchnormalizelist=[[], []])\n",
    "\n",
    "# # compile model\n",
    "# nn_model.model_compile()\n",
    "\n",
    "# print(K.get_session())"
   ]
  },
  {
   "cell_type": "markdown",
   "metadata": {},
   "source": [
    "## Train the model"
   ]
  },
  {
   "cell_type": "code",
   "execution_count": 24,
   "metadata": {
    "run_control": {
     "marked": true
    },
    "scrolled": true
   },
   "outputs": [
    {
     "name": "stderr",
     "output_type": "stream",
     "text": [
      "\r",
      "  0%|          | 0/37 [00:00<?, ?it/s]"
     ]
    },
    {
     "name": "stdout",
     "output_type": "stream",
     "text": [
      "WARNING:tensorflow:From /data/nauga/SmartBuildings/venvs/sbvenv1/lib/python3.6/site-packages/keras/backend/tensorflow_backend.py:517: The name tf.placeholder is deprecated. Please use tf.compat.v1.placeholder instead.\n",
      "\n",
      "WARNING:tensorflow:From /data/nauga/SmartBuildings/venvs/sbvenv1/lib/python3.6/site-packages/keras/backend/tensorflow_backend.py:4138: The name tf.random_uniform is deprecated. Please use tf.random.uniform instead.\n",
      "\n",
      "WARNING:tensorflow:From /data/nauga/SmartBuildings/venvs/sbvenv1/lib/python3.6/site-packages/keras/optimizers.py:790: The name tf.train.Optimizer is deprecated. Please use tf.compat.v1.train.Optimizer instead.\n",
      "\n",
      "WARNING:tensorflow:From /data/nauga/SmartBuildings/venvs/sbvenv1/lib/python3.6/site-packages/tensorflow/python/ops/math_grad.py:1250: add_dispatch_support.<locals>.wrapper (from tensorflow.python.ops.array_ops) is deprecated and will be removed in a future version.\n",
      "Instructions for updating:\n",
      "Use tf.where in 2.0, which has the same broadcast rule as np.where\n",
      "Train on 10381 samples, validate on 321 samples\n",
      "WARNING:tensorflow:From /data/nauga/SmartBuildings/venvs/sbvenv1/lib/python3.6/site-packages/keras/callbacks.py:850: The name tf.summary.merge_all is deprecated. Please use tf.compat.v1.summary.merge_all instead.\n",
      "\n",
      "WARNING:tensorflow:From /data/nauga/SmartBuildings/venvs/sbvenv1/lib/python3.6/site-packages/keras/callbacks.py:856: The name tf.summary.FileWriter is deprecated. Please use tf.compat.v1.summary.FileWriter instead.\n",
      "\n",
      "Epoch 1/5000\n",
      " - 3s - loss: 0.0416 - val_loss: 0.0181\n",
      "Epoch 2/5000\n",
      " - 2s - loss: 0.0191 - val_loss: 0.0164\n",
      "Epoch 3/5000\n",
      " - 2s - loss: 0.0164 - val_loss: 0.0120\n",
      "Epoch 4/5000\n",
      " - 2s - loss: 0.0124 - val_loss: 0.0081\n",
      "Epoch 5/5000\n",
      " - 2s - loss: 0.0096 - val_loss: 0.0061\n",
      "Epoch 6/5000\n",
      " - 2s - loss: 0.0084 - val_loss: 0.0056\n",
      "Epoch 7/5000\n",
      " - 2s - loss: 0.0081 - val_loss: 0.0056\n",
      "Epoch 8/5000\n",
      " - 2s - loss: 0.0079 - val_loss: 0.0055\n",
      "Epoch 9/5000\n",
      " - 2s - loss: 0.0078 - val_loss: 0.0055\n",
      "Epoch 10/5000\n",
      " - 2s - loss: 0.0078 - val_loss: 0.0055\n",
      "Epoch 11/5000\n",
      " - 2s - loss: 0.0081 - val_loss: 0.0107\n",
      "Epoch 12/5000\n",
      " - 2s - loss: 0.0087 - val_loss: 0.0098\n",
      "Epoch 13/5000\n",
      " - 2s - loss: 0.0084 - val_loss: 0.0095\n",
      "Epoch 14/5000\n",
      " - 2s - loss: 0.0082 - val_loss: 0.0094\n",
      "Epoch 15/5000\n",
      " - 2s - loss: 0.0096 - val_loss: 0.0080\n"
     ]
    },
    {
     "name": "stderr",
     "output_type": "stream",
     "text": [
      "\r",
      "  3%|▎         | 1/37 [00:41<24:38, 41.06s/it]"
     ]
    },
    {
     "name": "stdout",
     "output_type": "stream",
     "text": [
      "Train on 10390 samples, validate on 316 samples\n",
      "Epoch 16/5000\n",
      " - 3s - loss: 0.0294 - val_loss: 0.0082\n",
      "Epoch 17/5000\n",
      " - 2s - loss: 0.0078 - val_loss: 0.0077\n",
      "Epoch 18/5000\n",
      " - 2s - loss: 0.0075 - val_loss: 0.0079\n",
      "Epoch 19/5000\n",
      " - 2s - loss: 0.0074 - val_loss: 0.0079\n",
      "Epoch 20/5000\n",
      " - 2s - loss: 0.0078 - val_loss: 0.0100\n",
      "Epoch 21/5000\n",
      " - 2s - loss: 0.0080 - val_loss: 0.0096\n",
      "Epoch 22/5000\n",
      " - 2s - loss: 0.0078 - val_loss: 0.0095\n"
     ]
    },
    {
     "name": "stderr",
     "output_type": "stream",
     "text": [
      "\r",
      "  5%|▌         | 2/37 [01:02<20:28, 35.11s/it]"
     ]
    },
    {
     "name": "stdout",
     "output_type": "stream",
     "text": [
      "Train on 10374 samples, validate on 312 samples\n",
      "Epoch 23/5000\n",
      " - 3s - loss: 0.0077 - val_loss: 0.0097\n",
      "Epoch 24/5000\n",
      " - 2s - loss: 0.0080 - val_loss: 0.0090\n",
      "Epoch 25/5000\n",
      " - 2s - loss: 0.0078 - val_loss: 0.0086\n",
      "Epoch 26/5000\n",
      " - 2s - loss: 0.0076 - val_loss: 0.0084\n",
      "Epoch 27/5000\n",
      " - 2s - loss: 0.0076 - val_loss: 0.0084\n",
      "Epoch 28/5000\n",
      " - 2s - loss: 0.0076 - val_loss: 0.0083\n",
      "Epoch 29/5000\n",
      " - 2s - loss: 0.0075 - val_loss: 0.0083\n",
      "Epoch 30/5000\n",
      " - 2s - loss: 0.0075 - val_loss: 0.0082\n",
      "Epoch 31/5000\n",
      " - 2s - loss: 0.0075 - val_loss: 0.0081\n",
      "Epoch 32/5000\n",
      " - 2s - loss: 0.0075 - val_loss: 0.0081\n",
      "Epoch 33/5000\n",
      " - 2s - loss: 0.0080 - val_loss: 0.0102\n",
      "Epoch 34/5000\n",
      " - 2s - loss: 0.0078 - val_loss: 0.0095\n",
      "Epoch 35/5000\n",
      " - 2s - loss: 0.0077 - val_loss: 0.0092\n",
      "Epoch 36/5000\n",
      " - 2s - loss: 0.0076 - val_loss: 0.0091\n"
     ]
    },
    {
     "name": "stderr",
     "output_type": "stream",
     "text": [
      "\r",
      "  8%|▊         | 3/37 [01:40<20:26, 36.07s/it]"
     ]
    },
    {
     "name": "stdout",
     "output_type": "stream",
     "text": [
      "Train on 10357 samples, validate on 314 samples\n",
      "Epoch 37/5000\n",
      " - 3s - loss: 0.0077 - val_loss: 0.0057\n",
      "Epoch 38/5000\n",
      " - 2s - loss: 0.0078 - val_loss: 0.0057\n",
      "Epoch 39/5000\n",
      " - 2s - loss: 0.0078 - val_loss: 0.0059\n",
      "Epoch 40/5000\n",
      " - 2s - loss: 0.0082 - val_loss: 0.0088\n",
      "Epoch 41/5000\n",
      " - 2s - loss: 0.0079 - val_loss: 0.0077\n",
      "Epoch 42/5000\n",
      " - 2s - loss: 0.0077 - val_loss: 0.0074\n"
     ]
    },
    {
     "name": "stderr",
     "output_type": "stream",
     "text": [
      "\r",
      " 11%|█         | 4/37 [01:59<17:05, 31.07s/it]"
     ]
    },
    {
     "name": "stdout",
     "output_type": "stream",
     "text": [
      "Train on 10376 samples, validate on 306 samples\n",
      "Epoch 43/5000\n",
      " - 3s - loss: 0.0074 - val_loss: 0.0119\n",
      "Epoch 44/5000\n",
      " - 2s - loss: 0.0076 - val_loss: 0.0115\n",
      "Epoch 45/5000\n",
      " - 2s - loss: 0.0076 - val_loss: 0.0111\n",
      "Epoch 46/5000\n",
      " - 2s - loss: 0.0076 - val_loss: 0.0109\n",
      "Epoch 47/5000\n",
      " - 2s - loss: 0.0076 - val_loss: 0.0109\n",
      "Epoch 48/5000\n",
      " - 2s - loss: 0.0075 - val_loss: 0.0108\n",
      "Epoch 49/5000\n",
      " - 2s - loss: 0.0075 - val_loss: 0.0108\n",
      "Epoch 50/5000\n",
      " - 2s - loss: 0.0078 - val_loss: 0.0108\n",
      "Epoch 51/5000\n",
      " - 2s - loss: 0.0083 - val_loss: 0.0076\n",
      "Epoch 52/5000\n",
      " - 2s - loss: 0.0078 - val_loss: 0.0075\n",
      "Epoch 53/5000\n",
      " - 2s - loss: 0.0076 - val_loss: 0.0074\n",
      "Epoch 54/5000\n",
      " - 2s - loss: 0.0076 - val_loss: 0.0074\n",
      "Epoch 55/5000\n",
      " - 2s - loss: 0.0076 - val_loss: 0.0073\n",
      "Epoch 56/5000\n",
      " - 2s - loss: 0.0075 - val_loss: 0.0073\n",
      "Epoch 57/5000\n",
      " - 2s - loss: 0.0078 - val_loss: 0.0074\n",
      "Epoch 58/5000\n",
      " - 2s - loss: 0.0076 - val_loss: 0.0075\n",
      "Epoch 59/5000\n",
      " - 2s - loss: 0.0076 - val_loss: 0.0076\n",
      "Epoch 60/5000\n",
      " - 2s - loss: 0.0075 - val_loss: 0.0077\n",
      "Epoch 61/5000\n",
      " - 2s - loss: 0.0075 - val_loss: 0.0077\n"
     ]
    },
    {
     "name": "stderr",
     "output_type": "stream",
     "text": [
      "\r",
      " 14%|█▎        | 5/37 [02:50<19:36, 36.77s/it]"
     ]
    },
    {
     "name": "stdout",
     "output_type": "stream",
     "text": [
      "Train on 10603 samples, validate on 87 samples\n",
      "Epoch 62/5000\n",
      " - 3s - loss: 0.0071 - val_loss: 0.0024\n",
      "Epoch 63/5000\n",
      " - 2s - loss: 0.0073 - val_loss: 0.0024\n",
      "Epoch 64/5000\n",
      " - 2s - loss: 0.0074 - val_loss: 0.0025\n",
      "Epoch 65/5000\n",
      " - 2s - loss: 0.0081 - val_loss: 0.0023\n",
      "Epoch 66/5000\n",
      " - 2s - loss: 0.0077 - val_loss: 0.0023\n",
      "Epoch 67/5000\n",
      " - 2s - loss: 0.0076 - val_loss: 0.0023\n",
      "Epoch 68/5000\n",
      " - 2s - loss: 0.0075 - val_loss: 0.0023\n",
      "Epoch 69/5000\n",
      " - 2s - loss: 0.0079 - val_loss: 0.0024\n",
      "Epoch 70/5000\n",
      " - 2s - loss: 0.0076 - val_loss: 0.0026\n",
      "Epoch 71/5000\n",
      " - 2s - loss: 0.0075 - val_loss: 0.0026\n",
      "Epoch 72/5000\n",
      " - 2s - loss: 0.0075 - val_loss: 0.0026\n",
      "Epoch 73/5000\n",
      " - 2s - loss: 0.0074 - val_loss: 0.0026\n"
     ]
    },
    {
     "name": "stderr",
     "output_type": "stream",
     "text": [
      "\r",
      " 16%|█▌        | 6/37 [03:23<18:27, 35.73s/it]"
     ]
    },
    {
     "name": "stdout",
     "output_type": "stream",
     "text": [
      "Train on 10354 samples, validate on 219 samples\n",
      "Epoch 74/5000\n",
      " - 3s - loss: 0.0070 - val_loss: 0.0041\n",
      "Epoch 75/5000\n",
      " - 2s - loss: 0.0073 - val_loss: 0.0028\n",
      "Epoch 76/5000\n",
      " - 2s - loss: 0.0073 - val_loss: 0.0026\n",
      "Epoch 77/5000\n",
      " - 2s - loss: 0.0073 - val_loss: 0.0025\n",
      "Epoch 78/5000\n",
      " - 2s - loss: 0.0073 - val_loss: 0.0025\n",
      "Epoch 79/5000\n",
      " - 2s - loss: 0.0079 - val_loss: 0.0025\n",
      "Epoch 80/5000\n",
      " - 2s - loss: 0.0075 - val_loss: 0.0025\n",
      "Epoch 81/5000\n",
      " - 2s - loss: 0.0074 - val_loss: 0.0025\n",
      "Epoch 82/5000\n",
      " - 2s - loss: 0.0074 - val_loss: 0.0025\n",
      "Epoch 83/5000\n",
      " - 2s - loss: 0.0077 - val_loss: 0.0026\n",
      "Epoch 84/5000\n",
      " - 2s - loss: 0.0075 - val_loss: 0.0028\n",
      "Epoch 85/5000\n",
      " - 2s - loss: 0.0074 - val_loss: 0.0029\n",
      "Epoch 86/5000\n",
      " - 2s - loss: 0.0073 - val_loss: 0.0029\n",
      "Epoch 87/5000\n",
      " - 2s - loss: 0.0073 - val_loss: 0.0029\n"
     ]
    },
    {
     "name": "stderr",
     "output_type": "stream",
     "text": [
      "\r",
      " 19%|█▉        | 7/37 [04:00<18:08, 36.28s/it]"
     ]
    },
    {
     "name": "stdout",
     "output_type": "stream",
     "text": [
      "Train on 10237 samples, validate on 137 samples\n",
      "Epoch 88/5000\n",
      " - 3s - loss: 0.0074 - val_loss: 0.0056\n",
      "Epoch 89/5000\n",
      " - 2s - loss: 0.0074 - val_loss: 0.0058\n",
      "Epoch 90/5000\n",
      " - 2s - loss: 0.0074 - val_loss: 0.0059\n",
      "Epoch 91/5000\n",
      " - 2s - loss: 0.0078 - val_loss: 0.0059\n",
      "Epoch 92/5000\n",
      " - 2s - loss: 0.0075 - val_loss: 0.0059\n",
      "Epoch 93/5000\n",
      " - 2s - loss: 0.0074 - val_loss: 0.0058\n"
     ]
    },
    {
     "name": "stderr",
     "output_type": "stream",
     "text": [
      "\r",
      " 22%|██▏       | 8/37 [04:19<14:55, 30.88s/it]"
     ]
    },
    {
     "name": "stdout",
     "output_type": "stream",
     "text": [
      "Train on 10038 samples, validate on 326 samples\n",
      "Epoch 94/5000\n",
      " - 3s - loss: 0.0070 - val_loss: 0.0051\n",
      "Epoch 95/5000\n",
      " - 2s - loss: 0.0070 - val_loss: 0.0052\n",
      "Epoch 96/5000\n",
      " - 2s - loss: 0.0070 - val_loss: 0.0052\n",
      "Epoch 97/5000\n",
      " - 2s - loss: 0.0075 - val_loss: 0.0053\n",
      "Epoch 98/5000\n",
      " - 2s - loss: 0.0072 - val_loss: 0.0052\n",
      "Epoch 99/5000\n",
      " - 2s - loss: 0.0072 - val_loss: 0.0051\n",
      "Epoch 100/5000\n",
      " - 2s - loss: 0.0071 - val_loss: 0.0049\n",
      "Epoch 101/5000\n",
      " - 2s - loss: 0.0071 - val_loss: 0.0049\n",
      "Epoch 102/5000\n",
      " - 2s - loss: 0.0071 - val_loss: 0.0048\n",
      "Epoch 103/5000\n",
      " - 2s - loss: 0.0076 - val_loss: 0.0053\n",
      "Epoch 104/5000\n",
      " - 2s - loss: 0.0072 - val_loss: 0.0057\n",
      "Epoch 105/5000\n",
      " - 2s - loss: 0.0071 - val_loss: 0.0059\n",
      "Epoch 106/5000\n",
      " - 2s - loss: 0.0071 - val_loss: 0.0060\n",
      "Epoch 107/5000\n",
      " - 2s - loss: 0.0071 - val_loss: 0.0060\n"
     ]
    },
    {
     "name": "stderr",
     "output_type": "stream",
     "text": [
      "\r",
      " 24%|██▍       | 9/37 [04:56<15:17, 32.77s/it]"
     ]
    },
    {
     "name": "stdout",
     "output_type": "stream",
     "text": [
      "Train on 10028 samples, validate on 318 samples\n",
      "Epoch 108/5000\n",
      " - 3s - loss: 0.0067 - val_loss: 0.0063\n",
      "Epoch 109/5000\n",
      " - 2s - loss: 0.0068 - val_loss: 0.0072\n",
      "Epoch 110/5000\n",
      " - 2s - loss: 0.0068 - val_loss: 0.0070\n",
      "Epoch 111/5000\n",
      " - 2s - loss: 0.0072 - val_loss: 0.0061\n",
      "Epoch 112/5000\n",
      " - 2s - loss: 0.0068 - val_loss: 0.0061\n",
      "Epoch 113/5000\n",
      " - 2s - loss: 0.0067 - val_loss: 0.0061\n",
      "Epoch 114/5000\n",
      " - 2s - loss: 0.0067 - val_loss: 0.0060\n",
      "Epoch 115/5000\n",
      " - 2s - loss: 0.0071 - val_loss: 0.0063\n",
      "Epoch 116/5000\n",
      " - 2s - loss: 0.0069 - val_loss: 0.0066\n",
      "Epoch 117/5000\n",
      " - 2s - loss: 0.0068 - val_loss: 0.0067\n",
      "Epoch 118/5000\n",
      " - 2s - loss: 0.0067 - val_loss: 0.0067\n",
      "Epoch 119/5000\n",
      " - 2s - loss: 0.0067 - val_loss: 0.0067\n"
     ]
    },
    {
     "name": "stderr",
     "output_type": "stream",
     "text": [
      "\r",
      " 27%|██▋       | 10/37 [05:28<14:41, 32.66s/it]"
     ]
    },
    {
     "name": "stdout",
     "output_type": "stream",
     "text": [
      "Train on 10012 samples, validate on 319 samples\n",
      "Epoch 120/5000\n",
      " - 3s - loss: 0.0068 - val_loss: 0.0093\n",
      "Epoch 121/5000\n",
      " - 2s - loss: 0.0067 - val_loss: 0.0098\n",
      "Epoch 122/5000\n",
      " - 2s - loss: 0.0067 - val_loss: 0.0095\n",
      "Epoch 123/5000\n",
      " - 2s - loss: 0.0071 - val_loss: 0.0092\n",
      "Epoch 124/5000\n",
      " - 2s - loss: 0.0068 - val_loss: 0.0091\n",
      "Epoch 125/5000\n",
      " - 2s - loss: 0.0067 - val_loss: 0.0089\n",
      "Epoch 126/5000\n",
      " - 2s - loss: 0.0067 - val_loss: 0.0087\n",
      "Epoch 127/5000\n",
      " - 2s - loss: 0.0067 - val_loss: 0.0085\n",
      "Epoch 128/5000\n",
      " - 2s - loss: 0.0066 - val_loss: 0.0083\n",
      "Epoch 129/5000\n",
      " - 2s - loss: 0.0066 - val_loss: 0.0083\n",
      "Epoch 130/5000\n",
      " - 2s - loss: 0.0066 - val_loss: 0.0082\n",
      "Epoch 131/5000\n",
      " - 2s - loss: 0.0066 - val_loss: 0.0082\n",
      "Epoch 132/5000\n",
      " - 2s - loss: 0.0066 - val_loss: 0.0081\n",
      "Epoch 133/5000\n",
      " - 2s - loss: 0.0071 - val_loss: 0.0091\n",
      "Epoch 134/5000\n",
      " - 2s - loss: 0.0068 - val_loss: 0.0095\n",
      "Epoch 135/5000\n",
      " - 2s - loss: 0.0067 - val_loss: 0.0097\n",
      "Epoch 136/5000\n",
      " - 2s - loss: 0.0067 - val_loss: 0.0098\n",
      "Epoch 137/5000\n",
      " - 2s - loss: 0.0067 - val_loss: 0.0098\n"
     ]
    },
    {
     "name": "stderr",
     "output_type": "stream",
     "text": [
      "\r",
      " 30%|██▉       | 11/37 [06:15<15:57, 36.82s/it]"
     ]
    },
    {
     "name": "stdout",
     "output_type": "stream",
     "text": [
      "Train on 9996 samples, validate on 327 samples\n",
      "Epoch 138/5000\n",
      " - 3s - loss: 0.0060 - val_loss: 0.0029\n",
      "Epoch 139/5000\n",
      " - 2s - loss: 0.0059 - val_loss: 0.0029\n",
      "Epoch 140/5000\n",
      " - 2s - loss: 0.0059 - val_loss: 0.0029\n",
      "Epoch 141/5000\n",
      " - 2s - loss: 0.0066 - val_loss: 0.0031\n",
      "Epoch 142/5000\n",
      " - 2s - loss: 0.0062 - val_loss: 0.0031\n",
      "Epoch 143/5000\n",
      " - 2s - loss: 0.0061 - val_loss: 0.0031\n"
     ]
    },
    {
     "name": "stderr",
     "output_type": "stream",
     "text": [
      "\r",
      " 32%|███▏      | 12/37 [06:33<13:04, 31.37s/it]"
     ]
    },
    {
     "name": "stdout",
     "output_type": "stream",
     "text": [
      "Train on 9992 samples, validate on 322 samples\n",
      "Epoch 144/5000\n",
      " - 3s - loss: 0.0042 - val_loss: 0.0040\n",
      "Epoch 145/5000\n",
      " - 2s - loss: 0.0041 - val_loss: 0.0040\n",
      "Epoch 146/5000\n",
      " - 2s - loss: 0.0041 - val_loss: 0.0040\n",
      "Epoch 147/5000\n",
      " - 2s - loss: 0.0047 - val_loss: 0.0042\n",
      "Epoch 148/5000\n",
      " - 2s - loss: 0.0044 - val_loss: 0.0042\n",
      "Epoch 149/5000\n",
      " - 2s - loss: 0.0043 - val_loss: 0.0042\n",
      "Epoch 150/5000\n",
      " - 2s - loss: 0.0043 - val_loss: 0.0042\n"
     ]
    },
    {
     "name": "stderr",
     "output_type": "stream",
     "text": [
      "\r",
      " 35%|███▌      | 13/37 [06:54<11:18, 28.25s/it]"
     ]
    },
    {
     "name": "stdout",
     "output_type": "stream",
     "text": [
      "Train on 10021 samples, validate on 335 samples\n",
      "Epoch 151/5000\n",
      " - 3s - loss: 0.0042 - val_loss: 0.0065\n",
      "Epoch 152/5000\n",
      " - 2s - loss: 0.0043 - val_loss: 0.0066\n",
      "Epoch 153/5000\n",
      " - 2s - loss: 0.0042 - val_loss: 0.0066\n",
      "Epoch 154/5000\n",
      " - 2s - loss: 0.0051 - val_loss: 0.0055\n",
      "Epoch 155/5000\n",
      " - 2s - loss: 0.0045 - val_loss: 0.0056\n",
      "Epoch 156/5000\n",
      " - 2s - loss: 0.0044 - val_loss: 0.0056\n",
      "Epoch 157/5000\n",
      " - 2s - loss: 0.0044 - val_loss: 0.0055\n",
      "Epoch 158/5000\n",
      " - 2s - loss: 0.0048 - val_loss: 0.0052\n",
      "Epoch 159/5000\n",
      " - 2s - loss: 0.0045 - val_loss: 0.0053\n",
      "Epoch 160/5000\n",
      " - 2s - loss: 0.0044 - val_loss: 0.0054\n",
      "Epoch 161/5000\n",
      " - 2s - loss: 0.0044 - val_loss: 0.0054\n",
      "Epoch 162/5000\n",
      " - 2s - loss: 0.0044 - val_loss: 0.0054\n",
      "Epoch 163/5000\n",
      " - 2s - loss: 0.0043 - val_loss: 0.0054\n"
     ]
    },
    {
     "name": "stderr",
     "output_type": "stream",
     "text": [
      "\r",
      " 38%|███▊      | 14/37 [07:29<11:33, 30.16s/it]"
     ]
    },
    {
     "name": "stdout",
     "output_type": "stream",
     "text": [
      "Train on 10090 samples, validate on 333 samples\n",
      "Epoch 164/5000\n",
      " - 3s - loss: 0.0042 - val_loss: 0.0046\n",
      "Epoch 165/5000\n",
      " - 2s - loss: 0.0042 - val_loss: 0.0049\n",
      "Epoch 166/5000\n",
      " - 2s - loss: 0.0042 - val_loss: 0.0049\n",
      "Epoch 167/5000\n",
      " - 2s - loss: 0.0046 - val_loss: 0.0062\n",
      "Epoch 168/5000\n",
      " - 2s - loss: 0.0045 - val_loss: 0.0063\n",
      "Epoch 169/5000\n",
      " - 2s - loss: 0.0044 - val_loss: 0.0063\n"
     ]
    },
    {
     "name": "stderr",
     "output_type": "stream",
     "text": [
      "\r",
      " 41%|████      | 15/37 [07:48<09:49, 26.78s/it]"
     ]
    },
    {
     "name": "stdout",
     "output_type": "stream",
     "text": [
      "Train on 10107 samples, validate on 332 samples\n",
      "Epoch 170/5000\n",
      " - 3s - loss: 0.0043 - val_loss: 0.0052\n",
      "Epoch 171/5000\n",
      " - 2s - loss: 0.0042 - val_loss: 0.0053\n",
      "Epoch 172/5000\n",
      " - 2s - loss: 0.0042 - val_loss: 0.0052\n",
      "Epoch 173/5000\n",
      " - 2s - loss: 0.0046 - val_loss: 0.0037\n",
      "Epoch 174/5000\n",
      " - 2s - loss: 0.0044 - val_loss: 0.0037\n",
      "Epoch 175/5000\n",
      " - 2s - loss: 0.0043 - val_loss: 0.0037\n",
      "Epoch 176/5000\n",
      " - 2s - loss: 0.0043 - val_loss: 0.0037\n",
      "Epoch 177/5000\n",
      " - 2s - loss: 0.0046 - val_loss: 0.0035\n",
      "Epoch 178/5000\n",
      " - 2s - loss: 0.0044 - val_loss: 0.0035\n",
      "Epoch 179/5000\n",
      " - 2s - loss: 0.0044 - val_loss: 0.0036\n",
      "Epoch 180/5000\n",
      " - 2s - loss: 0.0043 - val_loss: 0.0036\n",
      "Epoch 181/5000\n",
      " - 2s - loss: 0.0043 - val_loss: 0.0036\n",
      "Epoch 182/5000\n",
      " - 2s - loss: 0.0043 - val_loss: 0.0036\n"
     ]
    },
    {
     "name": "stderr",
     "output_type": "stream",
     "text": [
      "\r",
      " 43%|████▎     | 16/37 [08:23<10:15, 29.31s/it]"
     ]
    },
    {
     "name": "stdout",
     "output_type": "stream",
     "text": [
      "Train on 10137 samples, validate on 336 samples\n",
      "Epoch 183/5000\n",
      " - 3s - loss: 0.0042 - val_loss: 0.0022\n",
      "Epoch 184/5000\n",
      " - 2s - loss: 0.0044 - val_loss: 0.0022\n",
      "Epoch 185/5000\n",
      " - 2s - loss: 0.0043 - val_loss: 0.0022\n",
      "Epoch 186/5000\n",
      " - 2s - loss: 0.0050 - val_loss: 0.0021\n",
      "Epoch 187/5000\n",
      " - 2s - loss: 0.0043 - val_loss: 0.0021\n",
      "Epoch 188/5000\n",
      " - 2s - loss: 0.0042 - val_loss: 0.0021\n",
      "Epoch 189/5000\n",
      " - 2s - loss: 0.0042 - val_loss: 0.0021\n",
      "Epoch 190/5000\n",
      " - 2s - loss: 0.0044 - val_loss: 0.0023\n",
      "Epoch 191/5000\n",
      " - 2s - loss: 0.0043 - val_loss: 0.0024\n"
     ]
    },
    {
     "name": "stderr",
     "output_type": "stream",
     "text": [
      "\r",
      " 46%|████▌     | 17/37 [08:49<09:22, 28.15s/it]"
     ]
    },
    {
     "name": "stdout",
     "output_type": "stream",
     "text": [
      "Train on 10255 samples, validate on 150 samples\n",
      "Epoch 192/5000\n",
      " - 3s - loss: 0.0042 - val_loss: 0.0016\n",
      "Epoch 193/5000\n",
      " - 2s - loss: 0.0042 - val_loss: 0.0017\n",
      "Epoch 194/5000\n",
      " - 2s - loss: 0.0042 - val_loss: 0.0017\n",
      "Epoch 195/5000\n",
      " - 2s - loss: 0.0047 - val_loss: 0.0017\n",
      "Epoch 196/5000\n",
      " - 2s - loss: 0.0043 - val_loss: 0.0018\n",
      "Epoch 197/5000\n",
      " - 2s - loss: 0.0042 - val_loss: 0.0018\n"
     ]
    },
    {
     "name": "stderr",
     "output_type": "stream",
     "text": [
      "\r",
      " 49%|████▊     | 18/37 [09:07<08:01, 25.36s/it]"
     ]
    },
    {
     "name": "stdout",
     "output_type": "stream",
     "text": [
      "Train on 10162 samples, validate on 327 samples\n",
      "Epoch 198/5000\n",
      " - 3s - loss: 0.0043 - val_loss: 0.0029\n",
      "Epoch 199/5000\n",
      " - 2s - loss: 0.0042 - val_loss: 0.0029\n",
      "Epoch 200/5000\n",
      " - 2s - loss: 0.0042 - val_loss: 0.0029\n",
      "Epoch 201/5000\n",
      " - 2s - loss: 0.0047 - val_loss: 0.0029\n",
      "Epoch 202/5000\n",
      " - 2s - loss: 0.0042 - val_loss: 0.0029\n",
      "Epoch 203/5000\n",
      " - 2s - loss: 0.0042 - val_loss: 0.0029\n",
      "Epoch 204/5000\n",
      " - 2s - loss: 0.0041 - val_loss: 0.0029\n",
      "Epoch 205/5000\n",
      " - 2s - loss: 0.0043 - val_loss: 0.0029\n",
      "Epoch 206/5000\n",
      " - 2s - loss: 0.0042 - val_loss: 0.0029\n"
     ]
    },
    {
     "name": "stderr",
     "output_type": "stream",
     "text": [
      "\r",
      " 51%|█████▏    | 19/37 [09:34<07:40, 25.59s/it]"
     ]
    },
    {
     "name": "stdout",
     "output_type": "stream",
     "text": [
      "Train on 10246 samples, validate on 336 samples\n",
      "Epoch 207/5000\n",
      " - 3s - loss: 0.0041 - val_loss: 0.0052\n",
      "Epoch 208/5000\n",
      " - 2s - loss: 0.0041 - val_loss: 0.0052\n",
      "Epoch 209/5000\n",
      " - 2s - loss: 0.0042 - val_loss: 0.0052\n",
      "Epoch 210/5000\n",
      " - 2s - loss: 0.0048 - val_loss: 0.0052\n",
      "Epoch 211/5000\n",
      " - 2s - loss: 0.0042 - val_loss: 0.0052\n",
      "Epoch 212/5000\n",
      " - 2s - loss: 0.0041 - val_loss: 0.0052\n",
      "Epoch 213/5000\n",
      " - 2s - loss: 0.0041 - val_loss: 0.0052\n",
      "Epoch 214/5000\n",
      " - 2s - loss: 0.0043 - val_loss: 0.0053\n"
     ]
    },
    {
     "name": "stderr",
     "output_type": "stream",
     "text": [
      "\r",
      " 54%|█████▍    | 20/37 [09:58<07:06, 25.11s/it]"
     ]
    },
    {
     "name": "stdout",
     "output_type": "stream",
     "text": [
      "Train on 10301 samples, validate on 336 samples\n",
      "Epoch 215/5000\n",
      " - 3s - loss: 0.0044 - val_loss: 0.0077\n",
      "Epoch 216/5000\n",
      " - 2s - loss: 0.0042 - val_loss: 0.0078\n",
      "Epoch 217/5000\n",
      " - 2s - loss: 0.0042 - val_loss: 0.0078\n",
      "Epoch 218/5000\n",
      " - 2s - loss: 0.0048 - val_loss: 0.0061\n",
      "Epoch 219/5000\n",
      " - 2s - loss: 0.0042 - val_loss: 0.0061\n",
      "Epoch 220/5000\n",
      " - 2s - loss: 0.0042 - val_loss: 0.0061\n",
      "Epoch 221/5000\n",
      " - 2s - loss: 0.0041 - val_loss: 0.0061\n",
      "Epoch 222/5000\n",
      " - 2s - loss: 0.0043 - val_loss: 0.0056\n",
      "Epoch 223/5000\n",
      " - 2s - loss: 0.0042 - val_loss: 0.0055\n",
      "Epoch 224/5000\n",
      " - 2s - loss: 0.0042 - val_loss: 0.0054\n",
      "Epoch 225/5000\n",
      " - 2s - loss: 0.0041 - val_loss: 0.0054\n",
      "Epoch 226/5000\n",
      " - 2s - loss: 0.0041 - val_loss: 0.0054\n",
      "Epoch 227/5000\n",
      " - 2s - loss: 0.0041 - val_loss: 0.0054\n",
      "Epoch 228/5000\n",
      " - 2s - loss: 0.0041 - val_loss: 0.0054\n",
      "Epoch 229/5000\n",
      " - 2s - loss: 0.0041 - val_loss: 0.0053\n",
      "Epoch 230/5000\n",
      " - 2s - loss: 0.0041 - val_loss: 0.0053\n",
      "Epoch 231/5000\n",
      " - 2s - loss: 0.0041 - val_loss: 0.0053\n",
      "Epoch 232/5000\n",
      " - 2s - loss: 0.0041 - val_loss: 0.0053\n",
      "Epoch 233/5000\n",
      " - 2s - loss: 0.0041 - val_loss: 0.0053\n",
      "Epoch 234/5000\n",
      " - 2s - loss: 0.0041 - val_loss: 0.0053\n",
      "Epoch 235/5000\n",
      " - 2s - loss: 0.0041 - val_loss: 0.0053\n",
      "Epoch 236/5000\n",
      " - 2s - loss: 0.0041 - val_loss: 0.0053\n",
      "Epoch 237/5000\n",
      " - 2s - loss: 0.0041 - val_loss: 0.0053\n",
      "Epoch 238/5000\n",
      " - 2s - loss: 0.0041 - val_loss: 0.0053\n",
      "Epoch 239/5000\n",
      " - 2s - loss: 0.0041 - val_loss: 0.0053\n",
      "Epoch 240/5000\n",
      " - 2s - loss: 0.0041 - val_loss: 0.0053\n",
      "Epoch 241/5000\n",
      " - 2s - loss: 0.0041 - val_loss: 0.0053\n",
      "Epoch 242/5000\n",
      " - 2s - loss: 0.0041 - val_loss: 0.0053\n",
      "Epoch 243/5000\n",
      " - 2s - loss: 0.0041 - val_loss: 0.0053\n",
      "Epoch 244/5000\n",
      " - 2s - loss: 0.0041 - val_loss: 0.0053\n",
      "Epoch 245/5000\n",
      " - 2s - loss: 0.0041 - val_loss: 0.0053\n",
      "Epoch 246/5000\n",
      " - 2s - loss: 0.0041 - val_loss: 0.0053\n",
      "Epoch 247/5000\n",
      " - 2s - loss: 0.0041 - val_loss: 0.0053\n",
      "Epoch 248/5000\n",
      " - 2s - loss: 0.0041 - val_loss: 0.0053\n",
      "Epoch 249/5000\n",
      " - 2s - loss: 0.0041 - val_loss: 0.0053\n"
     ]
    },
    {
     "name": "stderr",
     "output_type": "stream",
     "text": [
      "\r",
      " 57%|█████▋    | 21/37 [11:24<11:34, 43.40s/it]"
     ]
    },
    {
     "name": "stdout",
     "output_type": "stream",
     "text": [
      "Train on 10451 samples, validate on 336 samples\n",
      "Epoch 250/5000\n",
      " - 3s - loss: 0.0043 - val_loss: 0.0129\n",
      "Epoch 251/5000\n",
      " - 2s - loss: 0.0042 - val_loss: 0.0129\n",
      "Epoch 252/5000\n",
      " - 2s - loss: 0.0042 - val_loss: 0.0129\n",
      "Epoch 253/5000\n",
      " - 2s - loss: 0.0044 - val_loss: 0.0094\n",
      "Epoch 254/5000\n",
      " - 2s - loss: 0.0043 - val_loss: 0.0093\n",
      "Epoch 255/5000\n",
      " - 2s - loss: 0.0042 - val_loss: 0.0093\n",
      "Epoch 256/5000\n",
      " - 2s - loss: 0.0041 - val_loss: 0.0093\n",
      "Epoch 257/5000\n",
      " - 2s - loss: 0.0043 - val_loss: 0.0093\n",
      "Epoch 258/5000\n",
      " - 2s - loss: 0.0042 - val_loss: 0.0092\n",
      "Epoch 259/5000\n",
      " - 2s - loss: 0.0042 - val_loss: 0.0092\n",
      "Epoch 260/5000\n",
      " - 2s - loss: 0.0042 - val_loss: 0.0092\n",
      "Epoch 261/5000\n",
      " - 2s - loss: 0.0042 - val_loss: 0.0092\n",
      "Epoch 262/5000\n",
      " - 2s - loss: 0.0042 - val_loss: 0.0092\n",
      "Epoch 263/5000\n",
      " - 2s - loss: 0.0042 - val_loss: 0.0092\n",
      "Epoch 264/5000\n",
      " - 2s - loss: 0.0042 - val_loss: 0.0092\n",
      "Epoch 265/5000\n",
      " - 2s - loss: 0.0042 - val_loss: 0.0092\n",
      "Epoch 266/5000\n",
      " - 2s - loss: 0.0042 - val_loss: 0.0092\n",
      "Epoch 267/5000\n",
      " - 2s - loss: 0.0042 - val_loss: 0.0092\n",
      "Epoch 268/5000\n",
      " - 2s - loss: 0.0042 - val_loss: 0.0092\n",
      "Epoch 269/5000\n",
      " - 2s - loss: 0.0042 - val_loss: 0.0092\n",
      "Epoch 270/5000\n",
      " - 2s - loss: 0.0042 - val_loss: 0.0092\n",
      "Epoch 271/5000\n",
      " - 2s - loss: 0.0042 - val_loss: 0.0092\n",
      "Epoch 272/5000\n",
      " - 2s - loss: 0.0042 - val_loss: 0.0092\n",
      "Epoch 273/5000\n",
      " - 2s - loss: 0.0042 - val_loss: 0.0092\n",
      "Epoch 274/5000\n",
      " - 2s - loss: 0.0042 - val_loss: 0.0092\n",
      "Epoch 275/5000\n",
      " - 2s - loss: 0.0042 - val_loss: 0.0092\n",
      "Epoch 276/5000\n",
      " - 2s - loss: 0.0042 - val_loss: 0.0092\n",
      "Epoch 277/5000\n",
      " - 2s - loss: 0.0042 - val_loss: 0.0092\n",
      "Epoch 278/5000\n",
      " - 2s - loss: 0.0042 - val_loss: 0.0092\n",
      "Epoch 279/5000\n",
      " - 2s - loss: 0.0042 - val_loss: 0.0092\n"
     ]
    },
    {
     "name": "stderr",
     "output_type": "stream",
     "text": [
      "\r",
      " 59%|█████▉    | 22/37 [12:41<13:21, 53.44s/it]"
     ]
    },
    {
     "name": "stdout",
     "output_type": "stream",
     "text": [
      "Train on 10505 samples, validate on 325 samples\n",
      "Epoch 280/5000\n",
      " - 3s - loss: 0.0045 - val_loss: 0.0070\n",
      "Epoch 281/5000\n",
      " - 2s - loss: 0.0046 - val_loss: 0.0069\n",
      "Epoch 282/5000\n",
      " - 2s - loss: 0.0047 - val_loss: 0.0068\n",
      "Epoch 283/5000\n",
      " - 2s - loss: 0.0047 - val_loss: 0.0068\n",
      "Epoch 284/5000\n",
      " - 2s - loss: 0.0047 - val_loss: 0.0068\n",
      "Epoch 285/5000\n",
      " - 2s - loss: 0.0050 - val_loss: 0.0067\n",
      "Epoch 286/5000\n",
      " - 2s - loss: 0.0045 - val_loss: 0.0067\n",
      "Epoch 287/5000\n",
      " - 2s - loss: 0.0043 - val_loss: 0.0067\n",
      "Epoch 288/5000\n",
      " - 2s - loss: 0.0043 - val_loss: 0.0067\n",
      "Epoch 289/5000\n",
      " - 2s - loss: 0.0044 - val_loss: 0.0067\n",
      "Epoch 290/5000\n",
      " - 2s - loss: 0.0044 - val_loss: 0.0066\n",
      "Epoch 291/5000\n",
      " - 2s - loss: 0.0044 - val_loss: 0.0066\n",
      "Epoch 292/5000\n",
      " - 2s - loss: 0.0043 - val_loss: 0.0065\n",
      "Epoch 293/5000\n",
      " - 2s - loss: 0.0043 - val_loss: 0.0066\n",
      "Epoch 294/5000\n",
      " - 2s - loss: 0.0043 - val_loss: 0.0066\n",
      "Epoch 295/5000\n",
      " - 2s - loss: 0.0043 - val_loss: 0.0066\n",
      "Epoch 296/5000\n",
      " - 2s - loss: 0.0043 - val_loss: 0.0066\n",
      "Epoch 297/5000\n",
      " - 2s - loss: 0.0043 - val_loss: 0.0066\n"
     ]
    },
    {
     "name": "stderr",
     "output_type": "stream",
     "text": [
      "\r",
      " 62%|██████▏   | 23/37 [13:29<12:07, 51.98s/it]"
     ]
    },
    {
     "name": "stdout",
     "output_type": "stream",
     "text": [
      "Train on 10612 samples, validate on 336 samples\n",
      "Epoch 298/5000\n",
      " - 3s - loss: 0.0046 - val_loss: 0.0146\n",
      "Epoch 299/5000\n",
      " - 2s - loss: 0.0046 - val_loss: 0.0148\n",
      "Epoch 300/5000\n",
      " - 2s - loss: 0.0046 - val_loss: 0.0148\n",
      "Epoch 301/5000\n",
      " - 2s - loss: 0.0050 - val_loss: 0.0109\n",
      "Epoch 302/5000\n",
      " - 2s - loss: 0.0044 - val_loss: 0.0108\n",
      "Epoch 303/5000\n",
      " - 2s - loss: 0.0044 - val_loss: 0.0108\n",
      "Epoch 304/5000\n",
      " - 2s - loss: 0.0043 - val_loss: 0.0108\n",
      "Epoch 305/5000\n",
      " - 2s - loss: 0.0044 - val_loss: 0.0108\n",
      "Epoch 306/5000\n",
      " - 2s - loss: 0.0044 - val_loss: 0.0108\n",
      "Epoch 307/5000\n",
      " - 2s - loss: 0.0044 - val_loss: 0.0108\n",
      "Epoch 308/5000\n",
      " - 2s - loss: 0.0043 - val_loss: 0.0108\n"
     ]
    },
    {
     "name": "stderr",
     "output_type": "stream",
     "text": [
      "\r",
      " 65%|██████▍   | 24/37 [14:00<09:52, 45.59s/it]"
     ]
    },
    {
     "name": "stdout",
     "output_type": "stream",
     "text": [
      "Train on 10686 samples, validate on 334 samples\n",
      "Epoch 309/5000\n",
      " - 3s - loss: 0.0050 - val_loss: 0.0136\n",
      "Epoch 310/5000\n",
      " - 2s - loss: 0.0049 - val_loss: 0.0135\n",
      "Epoch 311/5000\n",
      " - 2s - loss: 0.0049 - val_loss: 0.0134\n",
      "Epoch 312/5000\n",
      " - 2s - loss: 0.0049 - val_loss: 0.0133\n",
      "Epoch 313/5000\n",
      " - 2s - loss: 0.0049 - val_loss: 0.0133\n",
      "Epoch 314/5000\n",
      " - 2s - loss: 0.0049 - val_loss: 0.0132\n",
      "Epoch 315/5000\n",
      " - 2s - loss: 0.0048 - val_loss: 0.0132\n",
      "Epoch 316/5000\n",
      " - 2s - loss: 0.0048 - val_loss: 0.0131\n",
      "Epoch 317/5000\n",
      " - 2s - loss: 0.0048 - val_loss: 0.0130\n",
      "Epoch 318/5000\n",
      " - 2s - loss: 0.0048 - val_loss: 0.0129\n",
      "Epoch 319/5000\n",
      " - 2s - loss: 0.0048 - val_loss: 0.0128\n",
      "Epoch 320/5000\n",
      " - 2s - loss: 0.0048 - val_loss: 0.0127\n",
      "Epoch 321/5000\n",
      " - 2s - loss: 0.0048 - val_loss: 0.0127\n",
      "Epoch 322/5000\n",
      " - 2s - loss: 0.0048 - val_loss: 0.0126\n",
      "Epoch 323/5000\n",
      " - 2s - loss: 0.0048 - val_loss: 0.0125\n",
      "Epoch 324/5000\n",
      " - 2s - loss: 0.0048 - val_loss: 0.0124\n",
      "Epoch 325/5000\n",
      " - 2s - loss: 0.0048 - val_loss: 0.0123\n",
      "Epoch 326/5000\n",
      " - 2s - loss: 0.0048 - val_loss: 0.0122\n",
      "Epoch 327/5000\n",
      " - 2s - loss: 0.0048 - val_loss: 0.0121\n",
      "Epoch 328/5000\n",
      " - 2s - loss: 0.0047 - val_loss: 0.0121\n",
      "Epoch 329/5000\n",
      " - 2s - loss: 0.0047 - val_loss: 0.0120\n",
      "Epoch 330/5000\n",
      " - 2s - loss: 0.0047 - val_loss: 0.0119\n",
      "Epoch 331/5000\n",
      " - 2s - loss: 0.0047 - val_loss: 0.0118\n",
      "Epoch 332/5000\n",
      " - 2s - loss: 0.0047 - val_loss: 0.0117\n",
      "Epoch 333/5000\n",
      " - 2s - loss: 0.0047 - val_loss: 0.0117\n",
      "Epoch 334/5000\n",
      " - 2s - loss: 0.0047 - val_loss: 0.0116\n",
      "Epoch 335/5000\n",
      " - 2s - loss: 0.0047 - val_loss: 0.0115\n",
      "Epoch 336/5000\n",
      " - 2s - loss: 0.0047 - val_loss: 0.0114\n",
      "Epoch 337/5000\n",
      " - 2s - loss: 0.0047 - val_loss: 0.0113\n",
      "Epoch 338/5000\n",
      " - 2s - loss: 0.0047 - val_loss: 0.0113\n",
      "Epoch 339/5000\n",
      " - 2s - loss: 0.0047 - val_loss: 0.0112\n",
      "Epoch 340/5000\n",
      " - 2s - loss: 0.0047 - val_loss: 0.0111\n",
      "Epoch 341/5000\n",
      " - 2s - loss: 0.0047 - val_loss: 0.0111\n",
      "Epoch 342/5000\n",
      " - 2s - loss: 0.0047 - val_loss: 0.0110\n",
      "Epoch 343/5000\n",
      " - 2s - loss: 0.0047 - val_loss: 0.0109\n",
      "Epoch 344/5000\n",
      " - 2s - loss: 0.0047 - val_loss: 0.0108\n",
      "Epoch 345/5000\n",
      " - 2s - loss: 0.0047 - val_loss: 0.0107\n",
      "Epoch 346/5000\n",
      " - 2s - loss: 0.0047 - val_loss: 0.0107\n",
      "Epoch 347/5000\n",
      " - 2s - loss: 0.0047 - val_loss: 0.0106\n",
      "Epoch 348/5000\n",
      " - 2s - loss: 0.0047 - val_loss: 0.0106\n",
      "Epoch 349/5000\n",
      " - 2s - loss: 0.0047 - val_loss: 0.0105\n",
      "Epoch 350/5000\n",
      " - 2s - loss: 0.0046 - val_loss: 0.0074\n",
      "Epoch 351/5000\n",
      " - 2s - loss: 0.0045 - val_loss: 0.0074\n",
      "Epoch 352/5000\n",
      " - 2s - loss: 0.0043 - val_loss: 0.0074\n",
      "Epoch 353/5000\n",
      " - 2s - loss: 0.0043 - val_loss: 0.0074\n",
      "Epoch 354/5000\n",
      " - 2s - loss: 0.0043 - val_loss: 0.0074\n",
      "Epoch 355/5000\n",
      " - 2s - loss: 0.0043 - val_loss: 0.0074\n",
      "Epoch 356/5000\n",
      " - 2s - loss: 0.0042 - val_loss: 0.0074\n",
      "Epoch 357/5000\n",
      " - 2s - loss: 0.0042 - val_loss: 0.0074\n",
      "Epoch 358/5000\n",
      " - 2s - loss: 0.0042 - val_loss: 0.0074\n"
     ]
    },
    {
     "name": "stderr",
     "output_type": "stream",
     "text": [
      "\r",
      " 68%|██████▊   | 25/37 [16:03<13:47, 69.00s/it]"
     ]
    },
    {
     "name": "stdout",
     "output_type": "stream",
     "text": [
      "Train on 10748 samples, validate on 336 samples\n",
      "Epoch 359/5000\n",
      " - 3s - loss: 0.0048 - val_loss: 0.0049\n",
      "Epoch 360/5000\n",
      " - 2s - loss: 0.0051 - val_loss: 0.0049\n",
      "Epoch 361/5000\n",
      " - 2s - loss: 0.0051 - val_loss: 0.0049\n",
      "Epoch 362/5000\n",
      " - 2s - loss: 0.0051 - val_loss: 0.0057\n",
      "Epoch 363/5000\n",
      " - 2s - loss: 0.0046 - val_loss: 0.0060\n",
      "Epoch 364/5000\n",
      " - 2s - loss: 0.0044 - val_loss: 0.0061\n"
     ]
    },
    {
     "name": "stderr",
     "output_type": "stream",
     "text": [
      "\r",
      " 70%|███████   | 26/37 [16:23<09:56, 54.26s/it]"
     ]
    },
    {
     "name": "stdout",
     "output_type": "stream",
     "text": [
      "Train on 10930 samples, validate on 316 samples\n",
      "Epoch 365/5000\n",
      " - 3s - loss: 0.0050 - val_loss: 0.0091\n",
      "Epoch 366/5000\n",
      " - 2s - loss: 0.0050 - val_loss: 0.0092\n",
      "Epoch 367/5000\n",
      " - 2s - loss: 0.0051 - val_loss: 0.0092\n",
      "Epoch 368/5000\n",
      " - 2s - loss: 0.0054 - val_loss: 0.0061\n",
      "Epoch 369/5000\n",
      " - 2s - loss: 0.0046 - val_loss: 0.0062\n",
      "Epoch 370/5000\n",
      " - 2s - loss: 0.0045 - val_loss: 0.0062\n",
      "Epoch 371/5000\n",
      " - 2s - loss: 0.0045 - val_loss: 0.0063\n",
      "Epoch 372/5000\n",
      " - 2s - loss: 0.0044 - val_loss: 0.0063\n",
      "Epoch 373/5000\n",
      " - 2s - loss: 0.0044 - val_loss: 0.0063\n"
     ]
    },
    {
     "name": "stderr",
     "output_type": "stream",
     "text": [
      "\r",
      " 73%|███████▎  | 27/37 [16:51<07:42, 46.29s/it]"
     ]
    },
    {
     "name": "stdout",
     "output_type": "stream",
     "text": [
      "Train on 11059 samples, validate on 297 samples\n",
      "Epoch 374/5000\n",
      " - 3s - loss: 0.0051 - val_loss: 0.0058\n",
      "Epoch 375/5000\n",
      " - 2s - loss: 0.0050 - val_loss: 0.0058\n",
      "Epoch 376/5000\n",
      " - 2s - loss: 0.0050 - val_loss: 0.0058\n",
      "Epoch 377/5000\n",
      " - 2s - loss: 0.0049 - val_loss: 0.0051\n",
      "Epoch 378/5000\n",
      " - 3s - loss: 0.0047 - val_loss: 0.0051\n",
      "Epoch 379/5000\n",
      " - 2s - loss: 0.0046 - val_loss: 0.0051\n",
      "Epoch 380/5000\n",
      " - 2s - loss: 0.0045 - val_loss: 0.0052\n",
      "Epoch 381/5000\n",
      " - 3s - loss: 0.0045 - val_loss: 0.0050\n",
      "Epoch 382/5000\n",
      " - 3s - loss: 0.0045 - val_loss: 0.0050\n",
      "Epoch 383/5000\n",
      " - 3s - loss: 0.0044 - val_loss: 0.0050\n",
      "Epoch 384/5000\n",
      " - 3s - loss: 0.0044 - val_loss: 0.0050\n",
      "Epoch 385/5000\n",
      " - 3s - loss: 0.0044 - val_loss: 0.0050\n",
      "Epoch 386/5000\n",
      " - 2s - loss: 0.0044 - val_loss: 0.0050\n",
      "Epoch 387/5000\n",
      " - 2s - loss: 0.0044 - val_loss: 0.0050\n",
      "Epoch 388/5000\n",
      " - 2s - loss: 0.0044 - val_loss: 0.0050\n",
      "Epoch 389/5000\n",
      " - 3s - loss: 0.0044 - val_loss: 0.0050\n",
      "Epoch 390/5000\n",
      " - 3s - loss: 0.0044 - val_loss: 0.0050\n",
      "Epoch 391/5000\n",
      " - 2s - loss: 0.0044 - val_loss: 0.0050\n",
      "Epoch 392/5000\n",
      " - 2s - loss: 0.0044 - val_loss: 0.0050\n",
      "Epoch 393/5000\n",
      " - 2s - loss: 0.0044 - val_loss: 0.0050\n",
      "Epoch 394/5000\n",
      " - 3s - loss: 0.0044 - val_loss: 0.0050\n",
      "Epoch 395/5000\n",
      " - 2s - loss: 0.0044 - val_loss: 0.0050\n",
      "Epoch 396/5000\n",
      " - 2s - loss: 0.0044 - val_loss: 0.0050\n",
      "Epoch 397/5000\n",
      " - 3s - loss: 0.0044 - val_loss: 0.0050\n",
      "Epoch 398/5000\n",
      " - 2s - loss: 0.0044 - val_loss: 0.0050\n",
      "Epoch 399/5000\n",
      " - 3s - loss: 0.0044 - val_loss: 0.0050\n",
      "Epoch 400/5000\n",
      " - 3s - loss: 0.0044 - val_loss: 0.0050\n",
      "Epoch 401/5000\n",
      " - 2s - loss: 0.0044 - val_loss: 0.0050\n",
      "Epoch 402/5000\n",
      " - 2s - loss: 0.0044 - val_loss: 0.0050\n",
      "Epoch 403/5000\n",
      " - 2s - loss: 0.0044 - val_loss: 0.0050\n",
      "Epoch 404/5000\n",
      " - 3s - loss: 0.0044 - val_loss: 0.0050\n"
     ]
    },
    {
     "name": "stderr",
     "output_type": "stream",
     "text": [
      "\r",
      " 76%|███████▌  | 28/37 [18:14<08:35, 57.23s/it]"
     ]
    },
    {
     "name": "stdout",
     "output_type": "stream",
     "text": [
      "Train on 11187 samples, validate on 87 samples\n",
      "Epoch 405/5000\n",
      " - 3s - loss: 0.0050 - val_loss: 0.0047\n",
      "Epoch 406/5000\n",
      " - 2s - loss: 0.0050 - val_loss: 0.0065\n",
      "Epoch 407/5000\n",
      " - 3s - loss: 0.0050 - val_loss: 0.0067\n",
      "Epoch 408/5000\n",
      " - 3s - loss: 0.0047 - val_loss: 0.0051\n",
      "Epoch 409/5000\n",
      " - 3s - loss: 0.0047 - val_loss: 0.0034\n",
      "Epoch 410/5000\n",
      " - 3s - loss: 0.0046 - val_loss: 0.0024\n",
      "Epoch 411/5000\n",
      " - 3s - loss: 0.0045 - val_loss: 0.0018\n",
      "Epoch 412/5000\n",
      " - 3s - loss: 0.0045 - val_loss: 0.0016\n",
      "Epoch 413/5000\n",
      " - 3s - loss: 0.0045 - val_loss: 0.0015\n",
      "Epoch 414/5000\n",
      " - 3s - loss: 0.0045 - val_loss: 0.0014\n",
      "Epoch 415/5000\n",
      " - 3s - loss: 0.0045 - val_loss: 0.0014\n",
      "Epoch 416/5000\n",
      " - 3s - loss: 0.0045 - val_loss: 0.0014\n",
      "Epoch 417/5000\n",
      " - 3s - loss: 0.0045 - val_loss: 0.0013\n",
      "Epoch 418/5000\n",
      " - 3s - loss: 0.0045 - val_loss: 0.0012\n",
      "Epoch 419/5000\n",
      " - 3s - loss: 0.0045 - val_loss: 0.0011\n",
      "Epoch 420/5000\n",
      " - 3s - loss: 0.0044 - val_loss: 0.0011\n",
      "Epoch 421/5000\n",
      " - 3s - loss: 0.0044 - val_loss: 0.0011\n",
      "Epoch 422/5000\n",
      " - 3s - loss: 0.0044 - val_loss: 0.0010\n",
      "Epoch 423/5000\n",
      " - 3s - loss: 0.0044 - val_loss: 0.0010\n",
      "Epoch 424/5000\n",
      " - 3s - loss: 0.0044 - val_loss: 0.0010\n",
      "Epoch 425/5000\n",
      " - 3s - loss: 0.0044 - val_loss: 0.0010\n",
      "Epoch 426/5000\n",
      " - 3s - loss: 0.0044 - val_loss: 0.0010\n",
      "Epoch 427/5000\n",
      " - 3s - loss: 0.0044 - val_loss: 0.0010\n",
      "Epoch 428/5000\n",
      " - 3s - loss: 0.0044 - val_loss: 0.0010\n",
      "Epoch 429/5000\n",
      " - 3s - loss: 0.0044 - val_loss: 0.0010\n",
      "Epoch 430/5000\n",
      " - 3s - loss: 0.0044 - val_loss: 0.0010\n",
      "Epoch 431/5000\n",
      " - 3s - loss: 0.0044 - val_loss: 0.0010\n",
      "Epoch 432/5000\n",
      " - 3s - loss: 0.0044 - val_loss: 0.0010\n",
      "Epoch 433/5000\n",
      " - 3s - loss: 0.0044 - val_loss: 0.0010\n",
      "Epoch 434/5000\n",
      " - 3s - loss: 0.0044 - val_loss: 0.0010\n",
      "Epoch 435/5000\n",
      " - 3s - loss: 0.0044 - val_loss: 0.0010\n",
      "Epoch 436/5000\n",
      " - 3s - loss: 0.0044 - val_loss: 0.0010\n",
      "Epoch 437/5000\n",
      " - 2s - loss: 0.0044 - val_loss: 0.0010\n",
      "Epoch 438/5000\n",
      " - 3s - loss: 0.0044 - val_loss: 0.0010\n",
      "Epoch 439/5000\n",
      " - 3s - loss: 0.0044 - val_loss: 0.0010\n",
      "Epoch 440/5000\n",
      " - 3s - loss: 0.0044 - val_loss: 0.0010\n",
      "Epoch 441/5000\n",
      " - 3s - loss: 0.0044 - val_loss: 0.0010\n",
      "Epoch 442/5000\n",
      " - 3s - loss: 0.0044 - val_loss: 0.0010\n",
      "Epoch 443/5000\n",
      " - 3s - loss: 0.0044 - val_loss: 0.0010\n"
     ]
    },
    {
     "name": "stderr",
     "output_type": "stream",
     "text": [
      "\r",
      " 78%|███████▊  | 29/37 [19:58<09:31, 71.38s/it]"
     ]
    },
    {
     "name": "stdout",
     "output_type": "stream",
     "text": [
      "Train on 11037 samples, validate on 48 samples\n",
      "Epoch 444/5000\n",
      " - 3s - loss: 0.0050 - val_loss: 0.0062\n",
      "Epoch 445/5000\n",
      " - 2s - loss: 0.0049 - val_loss: 0.0082\n",
      "Epoch 446/5000\n",
      " - 2s - loss: 0.0049 - val_loss: 0.0084\n",
      "Epoch 447/5000\n",
      " - 2s - loss: 0.0045 - val_loss: 0.0072\n",
      "Epoch 448/5000\n",
      " - 2s - loss: 0.0045 - val_loss: 0.0055\n",
      "Epoch 449/5000\n",
      " - 2s - loss: 0.0044 - val_loss: 0.0047\n",
      "Epoch 450/5000\n",
      " - 3s - loss: 0.0044 - val_loss: 0.0043\n",
      "Epoch 451/5000\n",
      " - 2s - loss: 0.0044 - val_loss: 0.0041\n",
      "Epoch 452/5000\n",
      " - 2s - loss: 0.0044 - val_loss: 0.0040\n",
      "Epoch 453/5000\n",
      " - 2s - loss: 0.0044 - val_loss: 0.0039\n",
      "Epoch 454/5000\n",
      " - 2s - loss: 0.0044 - val_loss: 0.0038\n",
      "Epoch 455/5000\n",
      " - 2s - loss: 0.0043 - val_loss: 0.0038\n",
      "Epoch 456/5000\n",
      " - 2s - loss: 0.0043 - val_loss: 0.0038\n",
      "Epoch 457/5000\n",
      " - 2s - loss: 0.0044 - val_loss: 0.0036\n",
      "Epoch 458/5000\n",
      " - 2s - loss: 0.0043 - val_loss: 0.0035\n",
      "Epoch 459/5000\n",
      " - 2s - loss: 0.0043 - val_loss: 0.0034\n",
      "Epoch 460/5000\n",
      " - 2s - loss: 0.0043 - val_loss: 0.0033\n",
      "Epoch 461/5000\n",
      " - 2s - loss: 0.0043 - val_loss: 0.0033\n",
      "Epoch 462/5000\n",
      " - 2s - loss: 0.0043 - val_loss: 0.0033\n",
      "Epoch 463/5000\n",
      " - 2s - loss: 0.0043 - val_loss: 0.0033\n",
      "Epoch 464/5000\n",
      " - 2s - loss: 0.0043 - val_loss: 0.0033\n",
      "Epoch 465/5000\n",
      " - 2s - loss: 0.0043 - val_loss: 0.0032\n",
      "Epoch 466/5000\n",
      " - 2s - loss: 0.0043 - val_loss: 0.0032\n",
      "Epoch 467/5000\n",
      " - 3s - loss: 0.0043 - val_loss: 0.0032\n",
      "Epoch 468/5000\n",
      " - 2s - loss: 0.0043 - val_loss: 0.0032\n",
      "Epoch 469/5000\n",
      " - 2s - loss: 0.0043 - val_loss: 0.0032\n",
      "Epoch 470/5000\n",
      " - 2s - loss: 0.0043 - val_loss: 0.0032\n",
      "Epoch 471/5000\n",
      " - 2s - loss: 0.0043 - val_loss: 0.0032\n",
      "Epoch 472/5000\n",
      " - 2s - loss: 0.0043 - val_loss: 0.0032\n",
      "Epoch 473/5000\n",
      " - 2s - loss: 0.0043 - val_loss: 0.0032\n",
      "Epoch 474/5000\n",
      " - 2s - loss: 0.0043 - val_loss: 0.0032\n",
      "Epoch 475/5000\n",
      " - 2s - loss: 0.0043 - val_loss: 0.0032\n",
      "Epoch 476/5000\n",
      " - 2s - loss: 0.0043 - val_loss: 0.0032\n",
      "Epoch 477/5000\n",
      " - 2s - loss: 0.0043 - val_loss: 0.0032\n",
      "Epoch 478/5000\n",
      " - 2s - loss: 0.0043 - val_loss: 0.0032\n",
      "Epoch 479/5000\n",
      " - 2s - loss: 0.0043 - val_loss: 0.0032\n",
      "Epoch 480/5000\n",
      " - 2s - loss: 0.0043 - val_loss: 0.0032\n",
      "Epoch 481/5000\n",
      " - 2s - loss: 0.0043 - val_loss: 0.0032\n",
      "Epoch 482/5000\n",
      " - 2s - loss: 0.0043 - val_loss: 0.0032\n",
      "Epoch 483/5000\n",
      " - 2s - loss: 0.0043 - val_loss: 0.0032\n",
      "Epoch 484/5000\n",
      " - 2s - loss: 0.0043 - val_loss: 0.0032\n",
      "Epoch 485/5000\n",
      " - 2s - loss: 0.0043 - val_loss: 0.0032\n",
      "Epoch 486/5000\n",
      " - 2s - loss: 0.0043 - val_loss: 0.0032\n",
      "Epoch 487/5000\n",
      " - 2s - loss: 0.0043 - val_loss: 0.0032\n"
     ]
    },
    {
     "name": "stderr",
     "output_type": "stream",
     "text": [
      "\r",
      " 81%|████████  | 30/37 [21:52<09:49, 84.16s/it]"
     ]
    },
    {
     "name": "stdout",
     "output_type": "stream",
     "text": [
      "Train on 10943 samples, validate on 25 samples\n",
      "Epoch 488/5000\n",
      " - 3s - loss: 0.0050 - val_loss: 0.0023\n",
      "Epoch 489/5000\n",
      " - 2s - loss: 0.0049 - val_loss: 0.0037\n",
      "Epoch 490/5000\n",
      " - 2s - loss: 0.0049 - val_loss: 0.0041\n",
      "Epoch 491/5000\n",
      " - 2s - loss: 0.0044 - val_loss: 0.0035\n",
      "Epoch 492/5000\n",
      " - 2s - loss: 0.0044 - val_loss: 0.0022\n",
      "Epoch 493/5000\n",
      " - 2s - loss: 0.0043 - val_loss: 0.0016\n",
      "Epoch 494/5000\n",
      " - 2s - loss: 0.0043 - val_loss: 0.0013\n",
      "Epoch 495/5000\n",
      " - 2s - loss: 0.0043 - val_loss: 0.0012\n",
      "Epoch 496/5000\n",
      " - 2s - loss: 0.0043 - val_loss: 0.0011\n",
      "Epoch 497/5000\n",
      " - 2s - loss: 0.0043 - val_loss: 0.0011\n",
      "Epoch 498/5000\n",
      " - 2s - loss: 0.0043 - val_loss: 9.7794e-04\n",
      "Epoch 499/5000\n",
      " - 2s - loss: 0.0042 - val_loss: 9.1506e-04\n",
      "Epoch 500/5000\n",
      " - 2s - loss: 0.0042 - val_loss: 8.7756e-04\n",
      "Epoch 501/5000\n",
      " - 2s - loss: 0.0042 - val_loss: 8.5082e-04\n",
      "Epoch 502/5000\n",
      " - 2s - loss: 0.0042 - val_loss: 8.3039e-04\n",
      "Epoch 503/5000\n",
      " - 2s - loss: 0.0042 - val_loss: 8.2682e-04\n",
      "Epoch 504/5000\n",
      " - 2s - loss: 0.0042 - val_loss: 8.2342e-04\n",
      "Epoch 505/5000\n",
      " - 2s - loss: 0.0042 - val_loss: 8.2018e-04\n",
      "Epoch 506/5000\n",
      " - 2s - loss: 0.0042 - val_loss: 8.1706e-04\n",
      "Epoch 507/5000\n",
      " - 2s - loss: 0.0042 - val_loss: 8.1673e-04\n",
      "Epoch 508/5000\n",
      " - 2s - loss: 0.0042 - val_loss: 8.1640e-04\n",
      "Epoch 509/5000\n",
      " - 2s - loss: 0.0042 - val_loss: 8.1607e-04\n",
      "Epoch 510/5000\n",
      " - 2s - loss: 0.0042 - val_loss: 8.1574e-04\n",
      "Epoch 511/5000\n",
      " - 2s - loss: 0.0042 - val_loss: 8.1572e-04\n",
      "Epoch 512/5000\n",
      " - 2s - loss: 0.0042 - val_loss: 8.1570e-04\n",
      "Epoch 513/5000\n",
      " - 2s - loss: 0.0042 - val_loss: 8.1568e-04\n",
      "Epoch 514/5000\n",
      " - 2s - loss: 0.0042 - val_loss: 8.1565e-04\n",
      "Epoch 515/5000\n",
      " - 2s - loss: 0.0042 - val_loss: 8.1565e-04\n",
      "Epoch 516/5000\n",
      " - 2s - loss: 0.0042 - val_loss: 8.1565e-04\n",
      "Epoch 517/5000\n",
      " - 2s - loss: 0.0042 - val_loss: 8.1565e-04\n",
      "Epoch 518/5000\n",
      " - 2s - loss: 0.0042 - val_loss: 8.1565e-04\n",
      "Epoch 519/5000\n",
      " - 2s - loss: 0.0042 - val_loss: 8.1565e-04\n",
      "Epoch 520/5000\n",
      " - 2s - loss: 0.0042 - val_loss: 8.1565e-04\n",
      "Epoch 521/5000\n",
      " - 2s - loss: 0.0042 - val_loss: 8.1565e-04\n",
      "Epoch 522/5000\n",
      " - 2s - loss: 0.0042 - val_loss: 8.1565e-04\n",
      "Epoch 523/5000\n",
      " - 2s - loss: 0.0042 - val_loss: 8.1565e-04\n"
     ]
    },
    {
     "name": "stderr",
     "output_type": "stream",
     "text": [
      "\r",
      " 84%|████████▍ | 31/37 [23:25<08:40, 86.77s/it]"
     ]
    },
    {
     "name": "stdout",
     "output_type": "stream",
     "text": [
      "Train on 10704 samples, validate on 316 samples\n",
      "Epoch 524/5000\n",
      " - 3s - loss: 0.0050 - val_loss: 0.0028\n",
      "Epoch 525/5000\n",
      " - 2s - loss: 0.0049 - val_loss: 0.0035\n",
      "Epoch 526/5000\n",
      " - 2s - loss: 0.0049 - val_loss: 0.0039\n",
      "Epoch 527/5000\n",
      " - 2s - loss: 0.0043 - val_loss: 0.0050\n",
      "Epoch 528/5000\n",
      " - 2s - loss: 0.0043 - val_loss: 0.0045\n",
      "Epoch 529/5000\n",
      " - 2s - loss: 0.0043 - val_loss: 0.0042\n"
     ]
    },
    {
     "name": "stderr",
     "output_type": "stream",
     "text": [
      "\r",
      " 86%|████████▋ | 32/37 [23:45<05:33, 66.69s/it]"
     ]
    },
    {
     "name": "stdout",
     "output_type": "stream",
     "text": [
      "Train on 10700 samples, validate on 320 samples\n",
      "Epoch 530/5000\n",
      " - 3s - loss: 0.0050 - val_loss: 0.0032\n",
      "Epoch 531/5000\n",
      " - 2s - loss: 0.0049 - val_loss: 0.0026\n",
      "Epoch 532/5000\n",
      " - 2s - loss: 0.0049 - val_loss: 0.0023\n",
      "Epoch 533/5000\n",
      " - 2s - loss: 0.0049 - val_loss: 0.0022\n",
      "Epoch 534/5000\n",
      " - 2s - loss: 0.0049 - val_loss: 0.0043\n",
      "Epoch 535/5000\n",
      " - 2s - loss: 0.0051 - val_loss: 0.0021\n",
      "Epoch 536/5000\n",
      " - 2s - loss: 0.0045 - val_loss: 0.0029\n",
      "Epoch 537/5000\n",
      " - 2s - loss: 0.0043 - val_loss: 0.0030\n",
      "Epoch 538/5000\n",
      " - 2s - loss: 0.0043 - val_loss: 0.0030\n",
      "Epoch 539/5000\n",
      " - 2s - loss: 0.0043 - val_loss: 0.0031\n",
      "Epoch 540/5000\n",
      " - 2s - loss: 0.0043 - val_loss: 0.0029\n"
     ]
    },
    {
     "name": "stderr",
     "output_type": "stream",
     "text": [
      "\r",
      " 89%|████████▉ | 33/37 [24:15<03:43, 55.85s/it]"
     ]
    },
    {
     "name": "stdout",
     "output_type": "stream",
     "text": [
      "Train on 10803 samples, validate on 243 samples\n",
      "Epoch 541/5000\n",
      " - 3s - loss: 0.0050 - val_loss: 0.0018\n",
      "Epoch 542/5000\n",
      " - 2s - loss: 0.0050 - val_loss: 0.0017\n",
      "Epoch 543/5000\n",
      " - 2s - loss: 0.0049 - val_loss: 0.0018\n",
      "Epoch 544/5000\n",
      " - 2s - loss: 0.0049 - val_loss: 0.0018\n",
      "Epoch 545/5000\n",
      " - 2s - loss: 0.0046 - val_loss: 0.0053\n",
      "Epoch 546/5000\n",
      " - 2s - loss: 0.0043 - val_loss: 0.0055\n",
      "Epoch 547/5000\n",
      " - 2s - loss: 0.0043 - val_loss: 0.0056\n"
     ]
    },
    {
     "name": "stderr",
     "output_type": "stream",
     "text": [
      "\r",
      " 92%|█████████▏| 34/37 [24:37<02:16, 45.58s/it]"
     ]
    },
    {
     "name": "stdout",
     "output_type": "stream",
     "text": [
      "Train on 10721 samples, validate on 284 samples\n",
      "Epoch 548/5000\n",
      " - 3s - loss: 0.0048 - val_loss: 0.0037\n",
      "Epoch 549/5000\n",
      " - 2s - loss: 0.0048 - val_loss: 0.0038\n",
      "Epoch 550/5000\n",
      " - 2s - loss: 0.0048 - val_loss: 0.0038\n",
      "Epoch 551/5000\n",
      " - 2s - loss: 0.0047 - val_loss: 0.0050\n",
      "Epoch 552/5000\n",
      " - 2s - loss: 0.0042 - val_loss: 0.0052\n",
      "Epoch 553/5000\n",
      " - 2s - loss: 0.0042 - val_loss: 0.0053\n"
     ]
    },
    {
     "name": "stderr",
     "output_type": "stream",
     "text": [
      "\r",
      " 95%|█████████▍| 35/37 [24:56<01:15, 37.61s/it]"
     ]
    },
    {
     "name": "stdout",
     "output_type": "stream",
     "text": [
      "Train on 10671 samples, validate on 62 samples\n",
      "Epoch 554/5000\n",
      " - 3s - loss: 0.0048 - val_loss: 0.0019\n",
      "Epoch 555/5000\n",
      " - 2s - loss: 0.0048 - val_loss: 0.0019\n",
      "Epoch 556/5000\n",
      " - 2s - loss: 0.0048 - val_loss: 0.0020\n",
      "Epoch 557/5000\n",
      " - 2s - loss: 0.0046 - val_loss: 0.0028\n",
      "Epoch 558/5000\n",
      " - 2s - loss: 0.0043 - val_loss: 0.0028\n",
      "Epoch 559/5000\n",
      " - 2s - loss: 0.0043 - val_loss: 0.0028\n",
      "Epoch 560/5000\n",
      " - 2s - loss: 0.0043 - val_loss: 0.0028\n"
     ]
    },
    {
     "name": "stderr",
     "output_type": "stream",
     "text": [
      "\r",
      " 97%|█████████▋| 36/37 [25:15<00:32, 32.17s/it]"
     ]
    },
    {
     "name": "stdout",
     "output_type": "stream",
     "text": [
      "Train on 10411 samples, validate on 298 samples\n",
      "Epoch 561/5000\n",
      " - 3s - loss: 0.0048 - val_loss: 0.0030\n",
      "Epoch 562/5000\n",
      " - 2s - loss: 0.0048 - val_loss: 0.0028\n",
      "Epoch 563/5000\n",
      " - 2s - loss: 0.0048 - val_loss: 0.0025\n",
      "Epoch 564/5000\n",
      " - 2s - loss: 0.0047 - val_loss: 0.0025\n",
      "Epoch 565/5000\n",
      " - 2s - loss: 0.0047 - val_loss: 0.0025\n",
      "Epoch 566/5000\n",
      " - 2s - loss: 0.0046 - val_loss: 0.0017\n",
      "Epoch 567/5000\n",
      " - 2s - loss: 0.0043 - val_loss: 0.0017\n",
      "Epoch 568/5000\n",
      " - 2s - loss: 0.0043 - val_loss: 0.0017\n",
      "Epoch 569/5000\n",
      " - 2s - loss: 0.0043 - val_loss: 0.0017\n",
      "Epoch 570/5000\n",
      " - 2s - loss: 0.0042 - val_loss: 0.0017\n",
      "Epoch 571/5000\n",
      " - 2s - loss: 0.0042 - val_loss: 0.0017\n"
     ]
    },
    {
     "name": "stderr",
     "output_type": "stream",
     "text": [
      "100%|██████████| 37/37 [25:46<00:00, 41.81s/it]\n"
     ]
    }
   ],
   "source": [
    "for weekno, BatchData in enumerate(tqdm(modelconfig['weeklist'])):\n",
    "    \n",
    "    X_train = BatchData['X_train']\n",
    "    y_train = BatchData['y_train']\n",
    "    y_scaler = BatchData['y_scaler']\n",
    "    X_scaler = BatchData['X_scaler']\n",
    "    X_test = BatchData['X_test']\n",
    "    y_test = BatchData['y_test']\n",
    "\n",
    "    \"\"\"Begin weekly training\"\"\"   \n",
    "    K.clear_session()\n",
    "    \n",
    "    try:\n",
    "        del nn_model\n",
    "    except NameError:\n",
    "        pass\n",
    "\n",
    "    #Instantiate learner model\n",
    "    nn_model = mp.regression_nn(path,\n",
    "                                  inputdim=X_train.shape[-1],\n",
    "                                  outputdim=y_train.shape[-1],\n",
    "                                  input_timesteps=input_timesteps,\n",
    "                                  output_timesteps = output_timesteps,\n",
    "                                  period=period,\n",
    "                                  stateful = modelconfig['train_stateful'],\n",
    "                                  batch_size=modelconfig['train_batchsize'])\n",
    "\n",
    "    # Desing model architecture\n",
    "    nn_model.design_network(lstmhiddenlayers=[modelconfig['lstm_hidden_units']] * modelconfig['lstm_no_layers'],\n",
    "                            densehiddenlayers=[modelconfig['dense_hidden_units']] * modelconfig['dense_no_layers'],\n",
    "                            dropoutlist=[[], []],\n",
    "                            batchnormalizelist=[[], []])\n",
    "\n",
    "    # load the trained model weights if we want to: here some layer weights may be reinitialized; see below\n",
    "    if model_saved & retain_prev_model:\n",
    "        nn_model.model.load_weights('IntermediateModel.h5')\n",
    "\n",
    "\n",
    "    # compile model\n",
    "    nn_model.model_compile()   \n",
    "\n",
    "    # train the model for adaptive model and fixed after first round for fixed control\n",
    "    if adaptive_control | (weekno==0):\n",
    "        history = nn_model.train_model(X_train,\n",
    "                                       y_train,\n",
    "                                       X_test,\n",
    "                                       y_test,\n",
    "                                       epochs=modelconfig['train_epochs'],\n",
    "                                       initial_epoch=initial_epoch)\n",
    "        try:\n",
    "            initial_epoch += len(history.history['loss'])\n",
    "        except KeyError:\n",
    "            pass\n",
    "\n",
    "        # save the model only if trained at least once- needed for prediction model\n",
    "        nn_model.model.save('IntermediateModel.h5')\n",
    "        model_saved = True     \n",
    "    \"\"\"End Weekly Training\"\"\"\n",
    "    \n",
    "    \n",
    "    \"\"\"Begin Last Week Prediction\"\"\"\n",
    "    try:\n",
    "        del nn_model_pred\n",
    "    except NameError:\n",
    "        pass\n",
    "\n",
    "    # Separate predictor for predicting online: only difference is test batch size\n",
    "    nn_model_pred = mp.regression_nn(path,\n",
    "                                       inputdim=X_test.shape[-1],\n",
    "                                       outputdim=y_test.shape[-1],\n",
    "                                       input_timesteps=input_timesteps,\n",
    "                                       output_timesteps = output_timesteps,\n",
    "                                       period=period,\n",
    "                                       stateful = modelconfig['test_stateful'],\n",
    "                                       batch_size=modelconfig['test_batchsize'])\n",
    "\n",
    "    # Desing model architecture\n",
    "    nn_model_pred.design_network(lstmhiddenlayers=[modelconfig['lstm_hidden_units']] * modelconfig['lstm_no_layers'],\n",
    "                            densehiddenlayers=[modelconfig['dense_hidden_units']] * modelconfig['dense_no_layers'],\n",
    "                            dropoutlist=[[], []],\n",
    "                            batchnormalizelist=[[], []])\n",
    "\n",
    "\n",
    "    # load the trained model weights\n",
    "    nn_model_pred.model.load_weights('IntermediateModel.h5')\n",
    "    # compile model\n",
    "    nn_model_pred.model_compile()\n",
    "\n",
    "    # evaluate the model for metrics at this stage\n",
    "    # train and test plots as well as logged errors inside the text file\n",
    "    preds_test = nn_model_pred.evaluate_model( X_test,\n",
    "                                               y_test,\n",
    "                                               y_scaler,\n",
    "                                               save_plot_loc=path+'normalplots/',\n",
    "                                               scaling=True,\n",
    "                                               saveplot=True,\n",
    "                                               Idx=BatchData['Id'],\n",
    "                                               outputdim_names=[addl['names_abreviation'][outputcols[0]]],\n",
    "                                               output_mean = mean_output)\n",
    "\n",
    "    # do a detailed plot instead\n",
    "    pu.regression_plot(period * 5,\n",
    "                    xs = date2num(list(BatchData['test_idx'])),\n",
    "                    outputdim=len(outputcols),\n",
    "                    output_timesteps=output_timesteps,\n",
    "                    input_timesteps=input_timesteps,\n",
    "                    pred=preds_test,\n",
    "                    target=y_test,\n",
    "                    X_var=X_test,\n",
    "                    x_loc=x_loc,\n",
    "                    x_lab=x_lab,\n",
    "                    saveloc=path + 'detailedplots/',\n",
    "                    scaling=True,\n",
    "                    Xscaler=X_scaler,\n",
    "                    yscaler=y_scaler,\n",
    "                    outputdim_names=[addl['names_abreviation'][outputcols[0]]],\n",
    "                    typeofplot='test',\n",
    "                    Idx=BatchData['Id'])\n",
    "    \"\"\"End Last Week Prediction\"\"\"\n",
    "\n",
    "    \"\"\"Only execute when we are freezing LSTM and just training on Dense\"\"\"\n",
    "    if adaptive_control:\n",
    "        \n",
    "        # freeze all but dense layers at the top and compile with new weights\n",
    "        if freeze_model:\n",
    "            for layer in nn_model.model.layers[:modelconfig['retrain_from_layers']]:\n",
    "                layer.trainable = False\n",
    "\n",
    "        # for relearning, reinitialize top few layers\n",
    "        if reinitialize:\n",
    "            for layer in nn_model.model.layers[modelconfig['retrain_from_layers']:]:\n",
    "                layer.kernel.initializer.run(session=K.get_session())\n",
    "                layer.bias.initializer.run(session=K.get_session())\n",
    "\n",
    "        # recompile model\n",
    "        if freeze_model | reinitialize:\n",
    "            nn_model.model_compile()\n",
    "            \n",
    "            # save the model- needed for Keras limitations: Tensorboard crashes if we relearn on original model with\n",
    "            # reinitialized weights; solution: we create new model and load these weights\n",
    "            nn_model.model.save('IntermediateModel.h5')\n",
    "            model_saved = True\n",
    "            \n",
    "            freeze_model = False\n",
    "            reinitialize = False"
   ]
  },
  {
   "cell_type": "markdown",
   "metadata": {},
   "source": [
    "## Plot the CVRMSE error on chunks of temporal data"
   ]
  },
  {
   "cell_type": "code",
   "execution_count": 25,
   "metadata": {
    "run_control": {
     "marked": true
    }
   },
   "outputs": [
    {
     "name": "stderr",
     "output_type": "stream",
     "text": [
      "findfont: Font family ['Times New Roman'] not found. Falling back to DejaVu Sans.\n",
      "findfont: Font family ['Times New Roman'] not found. Falling back to DejaVu Sans.\n",
      "findfont: Font family ['Times New Roman'] not found. Falling back to DejaVu Sans.\n"
     ]
    },
    {
     "name": "stdout",
     "output_type": "stream",
     "text": [
      "Name of the file:  ../results/cwe_model_0/adaptive/30min Results_File.txt\n"
     ]
    },
    {
     "data": {
      "image/png": "[encoded data removed]",
      "text/plain": [
       "<Figure size 1224x432 with 1 Axes>"
      ]
     },
     "metadata": {
      "needs_background": "light"
     },
     "output_type": "display_data"
    }
   ],
   "source": [
    "metricname = 'cvrmse'\n",
    "# Open a file\n",
    "fo = open(path + \"{}min Results_File.txt\".format(5 * period), \"r\")\n",
    "print(\"Name of the file: \", fo.name)\n",
    "lines = fo.readlines()\n",
    "\n",
    "parse_format = 'Year-{}-Week-{}-Time Step {}: {} RMSE={} |{} CVRMSE={} |{} MAE={}'\n",
    "stats = {\n",
    "    'Train': {\n",
    "        'rmse': [],\n",
    "        'cvrmse': [],\n",
    "        'mae': []\n",
    "    },\n",
    "    'Test': {\n",
    "        'rmse': [],\n",
    "        'cvrmse': [],\n",
    "        'mae': []\n",
    "    }\n",
    "}\n",
    "xticklist = []\n",
    "counter = 0\n",
    "for line in lines:\n",
    "    p = parse.parse(parse_format, line)\n",
    "    stats[p[3]]['rmse'].append(float(p[4]))\n",
    "    stats[p[5]]['cvrmse'].append(float(p[6]))\n",
    "    stats[p[7]]['mae'].append(float(p[8]))\n",
    "    if counter % 1 == 0:\n",
    "        xticklist.append('Year-{}-Week-{}'.format(p[0], p[1]))\n",
    "    counter += 1\n",
    "fo.close()\n",
    "metric_list = stats['Test'][metricname]\n",
    "\n",
    "# max_metric = max(cvrmse_list)\n",
    "# metric_list = [i if i <= 30 else (10*(i-30)/(max_cvrmse-30))+30 for i in cvrmse_list]\n",
    "\n",
    "cvrmse = sum(metric_list) / len(metric_list)\n",
    "# from dataprocess import plotutils as pu\n",
    "plot_args = dict(\n",
    "    bars=metric_list,\n",
    "    color='goldenrod',\n",
    "    bar_label=metricname,\n",
    "    saveloc=path,\n",
    "    smoothcurve=True,\n",
    "    bar_annotate=True,\n",
    "    saveplot=True,\n",
    "    xlabel='Week of year',\n",
    "    ylabel='cvrmse error in percentage',\n",
    "    title=\n",
    "    'Weekly CVRMSE Error for Hot Water Energy Model at {5:}min(s) intervals \\n [{0:} \\\n",
    "    layers of {1:}-unit lstm, {2:} layers of {3:}-unit dense] \\n Average CVRMSE Error {4:.2f}%'\n",
    "    .format(modelconfig['lstm_no_layers'], modelconfig['lstm_hidden_units'],\n",
    "            modelconfig['dense_no_layers'], modelconfig['dense_hidden_units'],\n",
    "            cvrmse, 5 * period),\n",
    "    xticklist=xticklist,\n",
    "    plotwidth=17,\n",
    "    plotheight=6,\n",
    "    fontsize=16,\n",
    "    savetitle=metricname+' plot.png')\n",
    "pu.regression_bar_plot(**plot_args)"
   ]
  },
  {
   "cell_type": "markdown",
   "metadata": {},
   "source": [
    "## Merge the pdfs together"
   ]
  },
  {
   "cell_type": "code",
   "execution_count": 26,
   "metadata": {
    "run_control": {
     "marked": true
    }
   },
   "outputs": [],
   "source": [
    "# path where files are stored\n",
    "pdfs_loc = path + 'detailedplots/'\n",
    "# list all the files\n",
    "flist = sorted(glob.glob(os.path.join(pdfs_loc, '*')))"
   ]
  },
  {
   "cell_type": "code",
   "execution_count": 27,
   "metadata": {
    "run_control": {
     "marked": true
    }
   },
   "outputs": [],
   "source": [
    "from PyPDF2 import PdfFileMerger, PdfFileReader\n",
    " \n",
    "# Call the PdfFileMerger\n",
    "mergedObject = PdfFileMerger()\n",
    " \n",
    "# I had 116 files in the folder that had to be merged into a single document\n",
    "# Loop through all of them and append their pages\n",
    "for filename in flist:\n",
    "    mergedObject.append(PdfFileReader(filename, 'rb'))\n",
    "    \n",
    "#  Write all the files into a file which is named as shown below\n",
    "mergedObject.write(path+'DetailedPredvsTarget.pdf')"
   ]
  },
  {
   "cell_type": "markdown",
   "metadata": {
    "run_control": {
     "marked": false
    }
   },
   "source": [
    "### Code cemetery"
   ]
  },
  {
   "cell_type": "code",
   "execution_count": null,
   "metadata": {},
   "outputs": [],
   "source": [
    "# from keras.utils import plot_model\n",
    "# plot_model(nn_model.model, to_file='model.png',show_shapes=True,)\n",
    "\n",
    "\n",
    "# # Check the trainable status of the individual layers\n",
    "# for layer in nn_model.model.layers:\n",
    "#     print(layer, layer.trainable, layer.name)\n",
    "\n",
    "\n",
    "#model.model.summary()\n",
    "\n",
    "\n",
    "#nn_model.model.layers[-1].input_shape\n",
    "#model.model.layers[-1].kernel.initializer.run(session=K.get_session())\n",
    "#model.model.layers[-1].bias.initializer.run(session=K.get_session())\n",
    "#nn_model.model.layers[-1].output_shape"
   ]
  },
  {
   "cell_type": "code",
   "execution_count": 25,
   "metadata": {},
   "outputs": [],
   "source": [
    "import pandas as pd\n",
    "import matplotlib.pyplot as plt\n",
    "plt.rcParams['figure.figsize'] = (20, 10)\n",
    "df = pd.read_csv(\n",
    "    '/data/nauga/SmartBuildings/AlumniHallResearch/AdaptiveController/cdc20/models/adaptive/Trial_0/rl/performance/EnvId1-results.csv',\n",
    "index_col=0)"
   ]
  },
  {
   "cell_type": "code",
   "execution_count": 26,
   "metadata": {},
   "outputs": [
    {
     "data": {
      "text/html": [
       "<div>\n",
       "<style scoped>\n",
       "    .dataframe tbody tr th:only-of-type {\n",
       "        vertical-align: middle;\n",
       "    }\n",
       "\n",
       "    .dataframe tbody tr th {\n",
       "        vertical-align: top;\n",
       "    }\n",
       "\n",
       "    .dataframe thead th {\n",
       "        text-align: right;\n",
       "    }\n",
       "</style>\n",
       "<table border=\"1\" class=\"dataframe\">\n",
       "  <thead>\n",
       "    <tr style=\"text-align: right;\">\n",
       "      <th></th>\n",
       "      <th>rl_cwe</th>\n",
       "      <th>rl_hwe</th>\n",
       "      <th>hist_cwe</th>\n",
       "      <th>hist_hwe</th>\n",
       "      <th>reward_energy</th>\n",
       "      <th>reward_comfort</th>\n",
       "      <th>oat</th>\n",
       "      <th>orh</th>\n",
       "      <th>T_rl_disch</th>\n",
       "      <th>avg_stpt</th>\n",
       "    </tr>\n",
       "    <tr>\n",
       "      <th>datetime</th>\n",
       "      <th></th>\n",
       "      <th></th>\n",
       "      <th></th>\n",
       "      <th></th>\n",
       "      <th></th>\n",
       "      <th></th>\n",
       "      <th></th>\n",
       "      <th></th>\n",
       "      <th></th>\n",
       "      <th></th>\n",
       "    </tr>\n",
       "  </thead>\n",
       "  <tbody>\n",
       "    <tr>\n",
       "      <th>2019-02-21 05:00:00</th>\n",
       "      <td>0.0</td>\n",
       "      <td>0.289705</td>\n",
       "      <td>0.0</td>\n",
       "      <td>0.289705</td>\n",
       "      <td>-0.05</td>\n",
       "      <td>-0.05</td>\n",
       "      <td>0.370336</td>\n",
       "      <td>0.831598</td>\n",
       "      <td>0.663023</td>\n",
       "      <td>0.905318</td>\n",
       "    </tr>\n",
       "    <tr>\n",
       "      <th>2019-02-21 05:30:00</th>\n",
       "      <td>0.0</td>\n",
       "      <td>0.293897</td>\n",
       "      <td>0.0</td>\n",
       "      <td>0.293897</td>\n",
       "      <td>-0.05</td>\n",
       "      <td>-0.05</td>\n",
       "      <td>0.362696</td>\n",
       "      <td>0.827967</td>\n",
       "      <td>0.653409</td>\n",
       "      <td>0.905316</td>\n",
       "    </tr>\n",
       "    <tr>\n",
       "      <th>2019-02-21 06:00:00</th>\n",
       "      <td>0.0</td>\n",
       "      <td>0.295028</td>\n",
       "      <td>0.0</td>\n",
       "      <td>0.295028</td>\n",
       "      <td>-0.05</td>\n",
       "      <td>-0.05</td>\n",
       "      <td>0.357862</td>\n",
       "      <td>0.829309</td>\n",
       "      <td>0.658838</td>\n",
       "      <td>0.905317</td>\n",
       "    </tr>\n",
       "    <tr>\n",
       "      <th>2019-02-21 06:30:00</th>\n",
       "      <td>0.0</td>\n",
       "      <td>0.299833</td>\n",
       "      <td>0.0</td>\n",
       "      <td>0.299833</td>\n",
       "      <td>-0.05</td>\n",
       "      <td>-0.05</td>\n",
       "      <td>0.354021</td>\n",
       "      <td>0.832685</td>\n",
       "      <td>0.652560</td>\n",
       "      <td>0.905320</td>\n",
       "    </tr>\n",
       "    <tr>\n",
       "      <th>2019-02-21 07:00:00</th>\n",
       "      <td>0.0</td>\n",
       "      <td>0.306665</td>\n",
       "      <td>0.0</td>\n",
       "      <td>0.306665</td>\n",
       "      <td>-0.05</td>\n",
       "      <td>-0.05</td>\n",
       "      <td>0.349678</td>\n",
       "      <td>0.831965</td>\n",
       "      <td>0.646361</td>\n",
       "      <td>0.905325</td>\n",
       "    </tr>\n",
       "  </tbody>\n",
       "</table>\n",
       "</div>"
      ],
      "text/plain": [
       "                     rl_cwe    rl_hwe  hist_cwe  hist_hwe  reward_energy  \\\n",
       "datetime                                                                   \n",
       "2019-02-21 05:00:00     0.0  0.289705       0.0  0.289705          -0.05   \n",
       "2019-02-21 05:30:00     0.0  0.293897       0.0  0.293897          -0.05   \n",
       "2019-02-21 06:00:00     0.0  0.295028       0.0  0.295028          -0.05   \n",
       "2019-02-21 06:30:00     0.0  0.299833       0.0  0.299833          -0.05   \n",
       "2019-02-21 07:00:00     0.0  0.306665       0.0  0.306665          -0.05   \n",
       "\n",
       "                     reward_comfort       oat       orh  T_rl_disch  avg_stpt  \n",
       "datetime                                                                       \n",
       "2019-02-21 05:00:00           -0.05  0.370336  0.831598    0.663023  0.905318  \n",
       "2019-02-21 05:30:00           -0.05  0.362696  0.827967    0.653409  0.905316  \n",
       "2019-02-21 06:00:00           -0.05  0.357862  0.829309    0.658838  0.905317  \n",
       "2019-02-21 06:30:00           -0.05  0.354021  0.832685    0.652560  0.905320  \n",
       "2019-02-21 07:00:00           -0.05  0.349678  0.831965    0.646361  0.905325  "
      ]
     },
     "execution_count": 26,
     "metadata": {},
     "output_type": "execute_result"
    }
   ],
   "source": [
    "df.head()"
   ]
  },
  {
   "cell_type": "code",
   "execution_count": 29,
   "metadata": {},
   "outputs": [
    {
     "data": {
      "text/plain": [
       "<matplotlib.axes._subplots.AxesSubplot at 0x7f365ca7feb8>"
      ]
     },
     "execution_count": 29,
     "metadata": {},
     "output_type": "execute_result"
    },
    {
     "data": {
      "image/png": "[encoded data removed]",
      "text/plain": [
       "<Figure size 1440x720 with 1 Axes>"
      ]
     },
     "metadata": {
      "needs_background": "light"
     },
     "output_type": "display_data"
    }
   ],
   "source": [
    "df.plot(y=df.columns[[8,6]],linewidth=3.0,style='*-')"
   ]
  },
  {
   "cell_type": "code",
   "execution_count": null,
   "metadata": {},
   "outputs": [],
   "source": []
  }
 ],
 "metadata": {
  "kernelspec": {
   "display_name": "Python 3.6.9 64-bit ('sbvenv1': venv)",
   "language": "python",
   "name": "python36964bitsbvenv1venv1a534851ebbc4d609aad5dcf7b359ab5"
  },
  "language_info": {
   "codemirror_mode": {
    "name": "ipython",
    "version": 3
   },
   "file_extension": ".py",
   "mimetype": "text/x-python",
   "name": "python",
   "nbconvert_exporter": "python",
   "pygments_lexer": "ipython3",
   "version": "3.6.9"
  },
  "toc": {
   "base_numbering": 1,
   "nav_menu": {},
   "number_sections": true,
   "sideBar": true,
   "skip_h1_title": false,
   "title_cell": "Table of Contents",
   "title_sidebar": "Contents",
   "toc_cell": false,
   "toc_position": {
    "height": "calc(100% - 180px)",
    "left": "10px",
    "top": "150px",
    "width": "307px"
   },
   "toc_section_display": true,
   "toc_window_display": true
  }
 },
 "nbformat": 4,
 "nbformat_minor": 4
}
