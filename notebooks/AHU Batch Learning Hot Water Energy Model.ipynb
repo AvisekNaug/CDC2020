{
 "cells": [
  {
   "cell_type": "markdown",
   "metadata": {},
   "source": [
    "## Select the parameters for the experiment and log in the experiment folder"
   ]
  },
  {
   "cell_type": "code",
   "execution_count": 1,
   "metadata": {
    "run_control": {
     "marked": true
    }
   },
   "outputs": [],
   "source": [
    "# %%writefile param_sets.json\n",
    "seed_value = 123  # seed for the experiment\n",
    "Trial = 2  # number of the experiment\n",
    "\n",
    "period = 6  # the period to sample the data at. 1 period= 5 minutes\n",
    "\n",
    "inputcols = ['oat', 'orh', 'sat-oat', 'wbt']  # input predictors\n",
    "x_loc = [0, 1, 2, 3]  # vars we want to plot in detailed plot\n",
    "outputcols = ['hwe']  # output targets\n",
    "input_timesteps = 1  # number of timesteps for the input sequence\n",
    "output_timesteps = 1  # number of timesteps for the output sequence\n",
    "\n",
    "# Smoothing\n",
    "smooth_data = True  # whether to smooth the data or not\n",
    "order = 5  # order of the filer\n",
    "T = 300  # sampling_period in seconds\n",
    "fs = 1 / 300  # sample rate, Hz\n",
    "cutoff = 0.0001  # desired cutoff frequency of the filter, Hz\n",
    "\n",
    "# adjust out of phase data\n",
    "adjust_lag = True  # whether to adjust the lag for certain columns\n",
    "lag_columns = outputcols  # choose columns to adjust lag\n",
    "data_lag = -1  # lag by how many periods: negative means shift column upwards\n",
    "\n",
    "# aggregate data based on period\n",
    "aggregate_data = True  # aggregate data or not\n",
    "rolling_sum_target = ['hwe']  # create sum aggregate for these columns\n",
    "rolling_mean_target = [\n",
    "    'oat', 'orh', 'sat-oat', 'wbt',\n",
    "]  # create mean aggregate for these columns\n",
    "\n",
    "# create temporal batches of data: df2dflist\n",
    "days, hours = 7, 0\n",
    "\n",
    "# Values below which we consider as 0 output in hwe units is kBTU in period*5 mins\n",
    "threshold = 0.5\n",
    "\n",
    "# Custom way to create Training Data\n",
    "startweek = 0  # start week; indicates how large training set is\n",
    "data_weeks = 39  # Create a large initial block startweek-data_weeks weeks of training and testing data\n",
    "end_week = -1\n",
    "create_lag = 0  # Create further lags in the output\n",
    "scaling = True  # Scale the input and output features\n",
    "feature_range = (0, 1)  # Scaling range\n",
    "reshaping = True  # reshape data according to (batch_size, time_steps, features)\n",
    "\n",
    "# model configuration\n",
    "modelconfig = {\n",
    "    'lstm_hidden_units': 4,\n",
    "    'lstm_no_layers': 0,\n",
    "    'dense_hidden_units': 16,\n",
    "    'dense_no_layers': 6,\n",
    "    'retrain_from_layers': 3,\n",
    "    'train_stateful': False,\n",
    "    'test_stateful':False,\n",
    "    'train_batchsize':32,\n",
    "    'test_batchsize':1, # we are doing online prediction\n",
    "    'train_epochs': 5000,\n",
    "}\n",
    "\n",
    "# wheter doing adaptive for fixed learning\n",
    "adaptive_control = True  # whether we relearn or keep it fixed\n",
    "path = '../results/' + outputcols[0] + '_model{}/'.format(\n",
    "    Trial) + 'adaptive/' * adaptive_control + 'fixed/' * (1 - adaptive_control)\n",
    "#!rm -rf ../results/lstm_hwe_trial8/adaptive\n",
    "\n",
    "#model design considerations\n",
    "modeldesigndone = False  # whether model will be reinitialized\n",
    "initial_epoch = 0  # the start epoch number for the training\n",
    "\n",
    "# These are automatically superseded and ignored if adaptive_control is set to False\n",
    "retain_prev_model = True  # retain weights of model from previous training\n",
    "freeze_model = True  # freeze weights of certain layers\n",
    "reinitialize = True  # reinitialize the weights of certain layers\n",
    "\n",
    "model_saved = False  # whether model has been saved once\n",
    "test_model_created = False  # create an idectical model for online predicton\n",
    "\n",
    "# data used for learning the model\n",
    "datapath = '../data/processed/buildingdata.pkl'\n",
    "\n",
    "# additional info\n",
    "addl = {\n",
    "    'metainfo': 'create a diff of sat and oat for hot water energy prediction as it is useful. See 1.0.8',\n",
    "    'names_abreviation': {\n",
    "        'oat':'Outside Air Temperature',\n",
    "        'orh':'Outside Air Relative Humidity',\n",
    "        'sat-oat' : 'Difference of Supply Air and Outside Air Temps ',\n",
    "        'ghi': 'Global Solar Irradiance',\n",
    "        'hw_sf':'Hot Water System Flow Rate',\n",
    "        'hx_vlv1':'Hot Water Valve %',\n",
    "        'hw_st':'Hot Water Supply Temperature',\n",
    "        'hwe': 'Hot Water Energy Consumption',\n",
    "        'wbt': 'Wet Builb Temperature',\n",
    "    }\n",
    "}\n",
    "x_lab = [addl['names_abreviation'][inputcols[i]] for i in x_loc]"
   ]
  },
  {
   "cell_type": "markdown",
   "metadata": {},
   "source": [
    "## Set Seed in numpy, Keras and TF for reproducability; Import modules; Set GPU configurations"
   ]
  },
  {
   "cell_type": "code",
   "execution_count": 2,
   "metadata": {
    "run_control": {
     "marked": true
    }
   },
   "outputs": [],
   "source": [
    "import shutil\n",
    "import glob\n",
    "import os\n",
    "# 1. Set the `PYTHONHASHSEED` environment variable at a fixed value\n",
    "os.environ['PYTHONHASHSEED']=str(seed_value)\n",
    "\n",
    "# 2. Set the `python` built-in pseudo-random generator at a fixed value\n",
    "import random\n",
    "random.seed(seed_value)\n",
    "\n",
    "# 3. Set the `numpy` pseudo-random generator at a fixed value\n",
    "import numpy as np\n",
    "np.random.seed(seed_value)\n",
    "\n",
    "# Enable '0' or disable '-1' GPU use\n",
    "os.environ['CUDA_VISIBLE_DEVICES'] = '-1'\n",
    "\n",
    "# including the project directory to the notebook level\n",
    "import sys\n",
    "module_path = os.path.abspath(os.path.join('..'))\n",
    "if module_path not in sys.path:\n",
    "    sys.path.append(module_path)\n",
    "\n",
    "import json\n",
    "from tqdm import tqdm\n",
    "import parse\n",
    "import warnings\n",
    "from matplotlib.dates import date2num"
   ]
  },
  {
   "cell_type": "code",
   "execution_count": 3,
   "metadata": {
    "run_control": {
     "marked": true
    }
   },
   "outputs": [
    {
     "name": "stderr",
     "output_type": "stream",
     "text": [
      "Using TensorFlow backend.\n"
     ]
    }
   ],
   "source": [
    "with warnings.catch_warnings():\n",
    "    warnings.filterwarnings(\"ignore\", category=FutureWarning)\n",
    "    \n",
    "    # 4. Set the `tensorflow` pseudo-random generator at a fixed value\n",
    "    import tensorflow as tf\n",
    "    #tf.random.set_seed(seed_value)\n",
    "    # for later versions: \n",
    "    tf.compat.v1.set_random_seed(seed_value)\n",
    "    config = tf.ConfigProto(log_device_placement=False)\n",
    "    config.gpu_options.allow_growth = True\n",
    "    session = tf.Session(config=config)\n",
    "    \n",
    "    from keras import backend as K\n",
    "    from nn_source import models as mp\n",
    "\n",
    "from dataprocess import dataprocessor as dp\n",
    "from dataprocess import plotutils as pu"
   ]
  },
  {
   "cell_type": "code",
   "execution_count": null,
   "metadata": {
    "run_control": {
     "marked": false
    }
   },
   "outputs": [],
   "source": [
    "# %load_ext tensorboard\n",
    "# %tensorboard --logdir '../results/lstm_hwe_trial1/loginfo/' --port 8200"
   ]
  },
  {
   "cell_type": "markdown",
   "metadata": {},
   "source": [
    "## Create Folder to save models and tensorboard logs"
   ]
  },
  {
   "cell_type": "code",
   "execution_count": 4,
   "metadata": {
    "run_control": {
     "marked": true
    }
   },
   "outputs": [],
   "source": [
    "# create the results directory\n",
    "try:\n",
    "    os.makedirs(path)\n",
    "except FileExistsError:\n",
    "    files = os.listdir(path)\n",
    "    for f in files:\n",
    "        try:\n",
    "            shutil.rmtree(path + f)\n",
    "        except NotADirectoryError:\n",
    "            os.remove(path + f)\n",
    "        \n",
    "os.mkdir(path + 'loginfo')\n",
    "os.mkdir(path + 'normalplots')\n",
    "os.mkdir(path + 'detailedplots')"
   ]
  },
  {
   "cell_type": "markdown",
   "metadata": {},
   "source": [
    "## Save the experiment parameters and configurations"
   ]
  },
  {
   "cell_type": "code",
   "execution_count": 5,
   "metadata": {
    "run_control": {
     "marked": true
    }
   },
   "outputs": [],
   "source": [
    "#save the values\n",
    "paramsdict = {\n",
    "    \n",
    "    'seed_value' : seed_value,\n",
    "    \n",
    "    'period':period,\n",
    "    \n",
    "    'inputcols':inputcols,\n",
    "    'x_loc': x_loc,\n",
    "    'outputcols':outputcols,\n",
    "    'input_timesteps':input_timesteps,\n",
    "    'output_timesteps':output_timesteps,\n",
    "    \n",
    "    'smooth_data': smooth_data,\n",
    "    'order' : 5,\n",
    "    'T' : T,\n",
    "    'fs' : fs,\n",
    "    'cutoff' : cutoff,\n",
    "    \n",
    "    'adjust_lag' : adjust_lag,\n",
    "    'lag_columns' : lag_columns,\n",
    "    'data_lag' : data_lag,\n",
    "    \n",
    "    'aggregate_data' : aggregate_data,\n",
    "    'rolling_sum_target' : rolling_sum_target,\n",
    "    'rolling_mean_target' : rolling_mean_target,\n",
    "    \n",
    "    'days':days,\n",
    "    'hours':hours,\n",
    "    \n",
    "    'threshold': threshold,\n",
    "    \n",
    "    'startweek': startweek,\n",
    "    'data_weeks' : data_weeks,\n",
    "    'threshold': threshold,\n",
    "    'create_lag' : create_lag,\n",
    "    'scaling' : scaling,\n",
    "    'feature_range' : feature_range,\n",
    "    'reshaping' : reshaping,\n",
    "    \n",
    "    'modelconfig' : modelconfig,\n",
    "    \n",
    "    'adaptive_control':adaptive_control,\n",
    "    'path':path,\n",
    "    \n",
    "    'modeldesigndone' : modeldesigndone,\n",
    "    'initial_epoch' : initial_epoch,\n",
    "    \n",
    "    'retain_prev_model' : retain_prev_model,\n",
    "    'freeze_model' : freeze_model,\n",
    "    'reinitialize' : reinitialize,\n",
    "    'model_saved' : model_saved,\n",
    "    'test_model_created': test_model_created,\n",
    "    \n",
    "    'datapath' : datapath,\n",
    "    \n",
    "    'addl' : addl,\n",
    "}\n",
    "    \n",
    "# with open(path+'params.json', 'r') as fp:\n",
    "#     param2dict = json.load(fp)\n",
    "\n",
    "with open(path+'params.json', 'w') as fp:\n",
    "    json.dump(paramsdict, fp, indent=4)"
   ]
  },
  {
   "cell_type": "markdown",
   "metadata": {},
   "source": [
    "## Read the cleaned data"
   ]
  },
  {
   "cell_type": "code",
   "execution_count": 6,
   "metadata": {
    "run_control": {
     "marked": true
    }
   },
   "outputs": [],
   "source": [
    "# read the pickled file for ahu data\n",
    "df1data = dp.readfile(datapath)\n",
    "\n",
    "# return pickled df\n",
    "df1 = df1data.return_df(processmethods=['file2df'])"
   ]
  },
  {
   "cell_type": "code",
   "execution_count": 7,
   "metadata": {
    "run_control": {
     "marked": true
    }
   },
   "outputs": [],
   "source": [
    "# read the pickled file for wet bulb data\n",
    "df2data = dp.readfile('../data/processed/interpolated/wetbulbtemp.pkl')\n",
    "\n",
    "# return pickled df\n",
    "df2 = df2data.return_df(processmethods=['file2df'])"
   ]
  },
  {
   "cell_type": "code",
   "execution_count": 8,
   "metadata": {
    "run_control": {
     "marked": true
    }
   },
   "outputs": [],
   "source": [
    "df = dp.merge_df_columns([df1,df2])"
   ]
  },
  {
   "cell_type": "markdown",
   "metadata": {},
   "source": [
    "## Create additional Data columns as needed"
   ]
  },
  {
   "cell_type": "code",
   "execution_count": 9,
   "metadata": {
    "run_control": {
     "marked": true
    }
   },
   "outputs": [],
   "source": [
    "df['sat-oat']= df['sat']-df['oat']"
   ]
  },
  {
   "cell_type": "markdown",
   "metadata": {},
   "source": [
    "## Smooth the data"
   ]
  },
  {
   "cell_type": "code",
   "execution_count": 10,
   "metadata": {
    "run_control": {
     "marked": true
    }
   },
   "outputs": [],
   "source": [
    "if smooth_data:\n",
    "    df = dp.dfsmoothing(df=df,\n",
    "                        column_names=list(df.columns),\n",
    "                        order=order,\n",
    "                        Wn=cutoff,\n",
    "                        T=T)"
   ]
  },
  {
   "cell_type": "markdown",
   "metadata": {},
   "source": [
    "## Remove <0 values for output energy"
   ]
  },
  {
   "cell_type": "code",
   "execution_count": 11,
   "metadata": {
    "run_control": {
     "marked": true
    }
   },
   "outputs": [],
   "source": [
    "df['hwe'][df['hwe']<=0]=0.0"
   ]
  },
  {
   "cell_type": "markdown",
   "metadata": {},
   "source": [
    "## Adjust lag for certain columns if needed"
   ]
  },
  {
   "cell_type": "code",
   "execution_count": 12,
   "metadata": {
    "run_control": {
     "marked": true
    }
   },
   "outputs": [],
   "source": [
    "if adjust_lag:\n",
    "    df = dp.createlag(df, lag_columns, lag=data_lag)"
   ]
  },
  {
   "cell_type": "markdown",
   "metadata": {},
   "source": [
    "## Create aggregate data: aggregate specified columns at specified intervals"
   ]
  },
  {
   "cell_type": "code",
   "execution_count": 13,
   "metadata": {
    "run_control": {
     "marked": true
    }
   },
   "outputs": [],
   "source": [
    "# return a new column which is the sum of previous window_size values\n",
    "def window_sum(df_, window_size: int, column_names: list):\n",
    "    return df_[column_names].rolling(window=window_size, min_periods=window_size).sum()\n",
    "\n",
    "# return a new column which is the average of previous window_size values\n",
    "def window_mean(df_, window_size: int, column_names: list):\n",
    "    return df_[column_names].rolling(window=window_size, min_periods=window_size).mean()\n",
    "\n",
    "# rolling_sum_output = ['{}min_{}_sum'.format(5*period,target) for target in rolling_sum_target]\n",
    "# rolling_mean_output = ['{}min_{}_mean'.format(5*period,target) for target in rolling_mean_target]\n",
    "\n",
    "if aggregate_data:\n",
    "    \n",
    "    # rolling sum\n",
    "    if rolling_sum_target:\n",
    "        df[rolling_sum_target] =  window_sum(df, window_size=period, column_names=rolling_sum_target)\n",
    "    \n",
    "    # rolling mean\n",
    "    if rolling_mean_target:\n",
    "        df[rolling_mean_target] =  window_mean(df, window_size=period, column_names=rolling_mean_target)\n",
    "    \n",
    "    df = dp.dropNaNrows(df)\n",
    "    \n",
    "    # Sample the data at period intervals\n",
    "    df = dp.sample_timeseries_df(df, period=period)"
   ]
  },
  {
   "cell_type": "code",
   "execution_count": 14,
   "metadata": {
    "run_control": {
     "marked": true
    }
   },
   "outputs": [
    {
     "data": {
      "text/html": [
       "<div>\n",
       "<style scoped>\n",
       "    .dataframe tbody tr th:only-of-type {\n",
       "        vertical-align: middle;\n",
       "    }\n",
       "\n",
       "    .dataframe tbody tr th {\n",
       "        vertical-align: top;\n",
       "    }\n",
       "\n",
       "    .dataframe thead th {\n",
       "        text-align: right;\n",
       "    }\n",
       "</style>\n",
       "<table border=\"1\" class=\"dataframe\">\n",
       "  <thead>\n",
       "    <tr style=\"text-align: right;\">\n",
       "      <th></th>\n",
       "      <th>oat</th>\n",
       "      <th>sat</th>\n",
       "      <th>sat_stpt</th>\n",
       "      <th>orh</th>\n",
       "      <th>hwe</th>\n",
       "      <th>cwe</th>\n",
       "      <th>ghi</th>\n",
       "      <th>avg_stpt</th>\n",
       "      <th>flow</th>\n",
       "      <th>hw_rt</th>\n",
       "      <th>hw_sf</th>\n",
       "      <th>hw_st</th>\n",
       "      <th>hw_s_stp</th>\n",
       "      <th>hx_vlv1</th>\n",
       "      <th>wbt</th>\n",
       "      <th>sat-oat</th>\n",
       "    </tr>\n",
       "  </thead>\n",
       "  <tbody>\n",
       "    <tr>\n",
       "      <th>count</th>\n",
       "      <td>21971.000000</td>\n",
       "      <td>21971.000000</td>\n",
       "      <td>21971.000000</td>\n",
       "      <td>21971.000000</td>\n",
       "      <td>2.197100e+04</td>\n",
       "      <td>21971.000000</td>\n",
       "      <td>21971.000000</td>\n",
       "      <td>21971.000000</td>\n",
       "      <td>21971.000000</td>\n",
       "      <td>21971.000000</td>\n",
       "      <td>21971.000000</td>\n",
       "      <td>21971.000000</td>\n",
       "      <td>21971.000000</td>\n",
       "      <td>21971.000000</td>\n",
       "      <td>21971.000000</td>\n",
       "      <td>21971.000000</td>\n",
       "    </tr>\n",
       "    <tr>\n",
       "      <th>mean</th>\n",
       "      <td>63.626061</td>\n",
       "      <td>70.280306</td>\n",
       "      <td>71.526940</td>\n",
       "      <td>60.053565</td>\n",
       "      <td>2.059501e+01</td>\n",
       "      <td>22.961840</td>\n",
       "      <td>173.045241</td>\n",
       "      <td>71.544148</td>\n",
       "      <td>37.374449</td>\n",
       "      <td>91.823088</td>\n",
       "      <td>8.728783</td>\n",
       "      <td>101.228479</td>\n",
       "      <td>101.231408</td>\n",
       "      <td>25.100563</td>\n",
       "      <td>55.037507</td>\n",
       "      <td>6.653835</td>\n",
       "    </tr>\n",
       "    <tr>\n",
       "      <th>std</th>\n",
       "      <td>17.457382</td>\n",
       "      <td>5.648634</td>\n",
       "      <td>2.917083</td>\n",
       "      <td>17.336188</td>\n",
       "      <td>2.542404e+01</td>\n",
       "      <td>17.689552</td>\n",
       "      <td>258.519946</td>\n",
       "      <td>1.048642</td>\n",
       "      <td>30.586206</td>\n",
       "      <td>13.308474</td>\n",
       "      <td>9.455208</td>\n",
       "      <td>14.401975</td>\n",
       "      <td>14.225589</td>\n",
       "      <td>20.175748</td>\n",
       "      <td>14.713747</td>\n",
       "      <td>17.897679</td>\n",
       "    </tr>\n",
       "    <tr>\n",
       "      <th>min</th>\n",
       "      <td>17.638819</td>\n",
       "      <td>51.855114</td>\n",
       "      <td>58.595467</td>\n",
       "      <td>17.237653</td>\n",
       "      <td>-7.327472e-15</td>\n",
       "      <td>0.000000</td>\n",
       "      <td>0.000000</td>\n",
       "      <td>66.466667</td>\n",
       "      <td>0.000018</td>\n",
       "      <td>64.947403</td>\n",
       "      <td>-1.393096</td>\n",
       "      <td>77.685165</td>\n",
       "      <td>90.000000</td>\n",
       "      <td>0.000000</td>\n",
       "      <td>14.639024</td>\n",
       "      <td>-25.277482</td>\n",
       "    </tr>\n",
       "    <tr>\n",
       "      <th>25%</th>\n",
       "      <td>49.134224</td>\n",
       "      <td>67.439785</td>\n",
       "      <td>73.000000</td>\n",
       "      <td>46.691106</td>\n",
       "      <td>2.220446e-16</td>\n",
       "      <td>7.537702</td>\n",
       "      <td>0.000000</td>\n",
       "      <td>70.895238</td>\n",
       "      <td>10.094883</td>\n",
       "      <td>82.424969</td>\n",
       "      <td>0.000000</td>\n",
       "      <td>90.167656</td>\n",
       "      <td>90.000000</td>\n",
       "      <td>7.299322</td>\n",
       "      <td>42.726069</td>\n",
       "      <td>-6.364388</td>\n",
       "    </tr>\n",
       "    <tr>\n",
       "      <th>50%</th>\n",
       "      <td>65.847777</td>\n",
       "      <td>71.908134</td>\n",
       "      <td>73.000000</td>\n",
       "      <td>59.333333</td>\n",
       "      <td>1.177621e+01</td>\n",
       "      <td>21.089712</td>\n",
       "      <td>7.000000</td>\n",
       "      <td>71.342857</td>\n",
       "      <td>32.527981</td>\n",
       "      <td>87.479713</td>\n",
       "      <td>5.783177</td>\n",
       "      <td>94.486305</td>\n",
       "      <td>91.792168</td>\n",
       "      <td>23.971956</td>\n",
       "      <td>57.829886</td>\n",
       "      <td>2.635854</td>\n",
       "    </tr>\n",
       "    <tr>\n",
       "      <th>75%</th>\n",
       "      <td>77.797713</td>\n",
       "      <td>73.724075</td>\n",
       "      <td>73.000000</td>\n",
       "      <td>74.140239</td>\n",
       "      <td>2.934486e+01</td>\n",
       "      <td>38.203423</td>\n",
       "      <td>282.000000</td>\n",
       "      <td>72.485714</td>\n",
       "      <td>63.528797</td>\n",
       "      <td>98.615917</td>\n",
       "      <td>13.121335</td>\n",
       "      <td>112.237209</td>\n",
       "      <td>112.145386</td>\n",
       "      <td>43.579166</td>\n",
       "      <td>68.089480</td>\n",
       "      <td>23.609758</td>\n",
       "    </tr>\n",
       "    <tr>\n",
       "      <th>max</th>\n",
       "      <td>97.068787</td>\n",
       "      <td>88.511330</td>\n",
       "      <td>73.390434</td>\n",
       "      <td>96.000000</td>\n",
       "      <td>1.631912e+02</td>\n",
       "      <td>74.281441</td>\n",
       "      <td>965.000000</td>\n",
       "      <td>73.533333</td>\n",
       "      <td>128.265732</td>\n",
       "      <td>136.656403</td>\n",
       "      <td>31.659739</td>\n",
       "      <td>148.283646</td>\n",
       "      <td>148.433563</td>\n",
       "      <td>77.857613</td>\n",
       "      <td>86.812275</td>\n",
       "      <td>55.970702</td>\n",
       "    </tr>\n",
       "  </tbody>\n",
       "</table>\n",
       "</div>"
      ],
      "text/plain": [
       "                oat           sat      sat_stpt           orh           hwe  \\\n",
       "count  21971.000000  21971.000000  21971.000000  21971.000000  2.197100e+04   \n",
       "mean      63.626061     70.280306     71.526940     60.053565  2.059501e+01   \n",
       "std       17.457382      5.648634      2.917083     17.336188  2.542404e+01   \n",
       "min       17.638819     51.855114     58.595467     17.237653 -7.327472e-15   \n",
       "25%       49.134224     67.439785     73.000000     46.691106  2.220446e-16   \n",
       "50%       65.847777     71.908134     73.000000     59.333333  1.177621e+01   \n",
       "75%       77.797713     73.724075     73.000000     74.140239  2.934486e+01   \n",
       "max       97.068787     88.511330     73.390434     96.000000  1.631912e+02   \n",
       "\n",
       "                cwe           ghi      avg_stpt          flow         hw_rt  \\\n",
       "count  21971.000000  21971.000000  21971.000000  21971.000000  21971.000000   \n",
       "mean      22.961840    173.045241     71.544148     37.374449     91.823088   \n",
       "std       17.689552    258.519946      1.048642     30.586206     13.308474   \n",
       "min        0.000000      0.000000     66.466667      0.000018     64.947403   \n",
       "25%        7.537702      0.000000     70.895238     10.094883     82.424969   \n",
       "50%       21.089712      7.000000     71.342857     32.527981     87.479713   \n",
       "75%       38.203423    282.000000     72.485714     63.528797     98.615917   \n",
       "max       74.281441    965.000000     73.533333    128.265732    136.656403   \n",
       "\n",
       "              hw_sf         hw_st      hw_s_stp       hx_vlv1           wbt  \\\n",
       "count  21971.000000  21971.000000  21971.000000  21971.000000  21971.000000   \n",
       "mean       8.728783    101.228479    101.231408     25.100563     55.037507   \n",
       "std        9.455208     14.401975     14.225589     20.175748     14.713747   \n",
       "min       -1.393096     77.685165     90.000000      0.000000     14.639024   \n",
       "25%        0.000000     90.167656     90.000000      7.299322     42.726069   \n",
       "50%        5.783177     94.486305     91.792168     23.971956     57.829886   \n",
       "75%       13.121335    112.237209    112.145386     43.579166     68.089480   \n",
       "max       31.659739    148.283646    148.433563     77.857613     86.812275   \n",
       "\n",
       "            sat-oat  \n",
       "count  21971.000000  \n",
       "mean       6.653835  \n",
       "std       17.897679  \n",
       "min      -25.277482  \n",
       "25%       -6.364388  \n",
       "50%        2.635854  \n",
       "75%       23.609758  \n",
       "max       55.970702  "
      ]
     },
     "execution_count": 14,
     "metadata": {},
     "output_type": "execute_result"
    }
   ],
   "source": [
    "# show data\n",
    "df.describe()"
   ]
  },
  {
   "cell_type": "markdown",
   "metadata": {},
   "source": [
    "## Get mean of the entire scaled data"
   ]
  },
  {
   "cell_type": "code",
   "execution_count": 15,
   "metadata": {
    "run_control": {
     "marked": true
    }
   },
   "outputs": [],
   "source": [
    "# get the mean of the outputs for the entire data\n",
    "dfscaled = ((df-df.min())/(df.max()-df.min()))\n",
    "threshold_scaled = ((threshold-df.min()['hwe'])/(df.max()['hwe']-df.min()['hwe']))\n",
    "dfscaled = dfscaled[dfscaled['hwe']>=threshold_scaled]\n",
    "dfmean = dfscaled.mean() \n",
    "mean_output = list(dfmean[outputcols])\n",
    "mean_input = list(dfmean[inputcols])"
   ]
  },
  {
   "cell_type": "markdown",
   "metadata": {},
   "source": [
    "## Create temporal chunks of data"
   ]
  },
  {
   "cell_type": "code",
   "execution_count": 16,
   "metadata": {
    "run_control": {
     "marked": true
    }
   },
   "outputs": [
    {
     "name": "stdout",
     "output_type": "stream",
     "text": [
      "Length of dflist: 76\n"
     ]
    }
   ],
   "source": [
    "# Creating a list of \"days\" day dataframes for training\n",
    "dflist = dp.df2dflist_alt(df[inputcols+outputcols],\n",
    "                      subsequence=True,\n",
    "                      period=period,\n",
    "                      days=days,\n",
    "                      hours=hours)\n",
    "print('Length of dflist: {}'.format(len(dflist)))"
   ]
  },
  {
   "cell_type": "markdown",
   "metadata": {},
   "source": [
    "## Custom way to create Training Data"
   ]
  },
  {
   "cell_type": "code",
   "execution_count": 17,
   "metadata": {
    "run_control": {
     "marked": true
    }
   },
   "outputs": [],
   "source": [
    "assert (input_timesteps == 1) & (\n",
    "    output_timesteps == 1), \"Input and Output timesteps must be 1 for this notebook\""
   ]
  },
  {
   "cell_type": "code",
   "execution_count": 18,
   "metadata": {
    "run_control": {
     "marked": true
    }
   },
   "outputs": [],
   "source": [
    "from pandas import concat\n",
    "import swifter\n",
    "\n",
    "\n",
    "def quickmerge(listdf):\n",
    "    return concat(listdf)\n",
    "\n",
    "\n",
    "def df2operating_regions(df, column_names, thresholds):\n",
    "    \"\"\"\n",
    "    Select from data frame the operating regions based on threshold\n",
    "    \"\"\"\n",
    "    \n",
    "    org_shape = df.shape[0]\n",
    "    \n",
    "    # select cells to be retained\n",
    "    constraints = df.swifter.apply(\n",
    "        lambda row: all([(cell > thresholds) for cell in row[column_names]]),\n",
    "        axis=1)\n",
    "    # Drop values set to be rejected\n",
    "    df = df.drop(df.index[~constraints], axis = 0)\n",
    "    \n",
    "    print(\"Retaining {}% of the data\".format(100*df.shape[0]/org_shape))\n",
    "    \n",
    "    return df\n",
    "\n",
    "weeklist = []  # create list of training, testing arrays"
   ]
  },
  {
   "cell_type": "code",
   "execution_count": 19,
   "metadata": {
    "run_control": {
     "marked": true
    }
   },
   "outputs": [
    {
     "data": {
      "application/vnd.jupyter.widget-view+json": {
       "model_id": "dd070a1072674082a1a4c80f3c279031",
       "version_major": 2,
       "version_minor": 0
      },
      "text/plain": [
       "HBox(children=(FloatProgress(value=0.0, description='Dask Apply', max=40.0, style=ProgressStyle(description_wi…"
      ]
     },
     "metadata": {},
     "output_type": "display_data"
    },
    {
     "name": "stdout",
     "output_type": "stream",
     "text": [
      "\n",
      "Retaining 68.1501962183375% of the data\n"
     ]
    },
    {
     "data": {
      "application/vnd.jupyter.widget-view+json": {
       "model_id": "57d4d717fcf8429f9b95a2f381333640",
       "version_major": 2,
       "version_minor": 0
      },
      "text/plain": [
       "HBox(children=(FloatProgress(value=0.0, description='Pandas Apply', max=321.0, style=ProgressStyle(description…"
      ]
     },
     "metadata": {},
     "output_type": "display_data"
    },
    {
     "name": "stdout",
     "output_type": "stream",
     "text": [
      "\n",
      "Retaining 60.43613707165109% of the data\n"
     ]
    }
   ],
   "source": [
    "# select and merge data_weeks-1 worth of data\n",
    "datablock_train_pre = dflist[startweek:data_weeks-1]\n",
    "datablock_train = quickmerge(datablock_train_pre)\n",
    "#Select from data frame the operating regions\n",
    "datablock_train = df2operating_regions(datablock_train, outputcols, threshold)\n",
    "\"\"\"\n",
    "#divide into contiguous regions\n",
    "datablock_train = dp.subsequencing(datablock_train, period=period)\n",
    "#drop smaller blocks\n",
    "datablock_train = [item for item in datablock_train if item.shape[0] >= 0.05*modelconfig['train_batchsize']]\n",
    "#merge them together\n",
    "minibatch_train = quickmerge(datablock_train)\n",
    "\"\"\"\n",
    "minibatch_train = datablock_train\n",
    "\n",
    "# select weeks=1 worth of data\n",
    "datablock_test_pre = dflist[data_weeks-1]\n",
    "#Select from data frame the operating regions\n",
    "datablock_test = df2operating_regions(datablock_test_pre, outputcols, threshold)\n",
    "\"\"\"\n",
    "#divide into contiguous operating region\n",
    "datablock_test = dp.subsequencing(datablock_test_pre, period=period)\n",
    "#drop smaller blocks\n",
    "datablock_test = [item for item in datablock_test if item.shape[0] >= 0.05*modelconfig['test_batchsize']]\n",
    "#merge them together\n",
    "minibatch_test = quickmerge(datablock_test)\n",
    "\"\"\"\n",
    "minibatch_test = datablock_test\n",
    "\n",
    "\n",
    "# splitvalue\n",
    "splitvalue = minibatch_test.shape[0]\n",
    "#merge test and train together\n",
    "data_block = quickmerge([minibatch_train, minibatch_test])\n",
    "\n",
    "# create numpy arrays\n",
    "X_train, X_test, y_train, y_test, X_scaler, y_scaler = dp.df2arrays(\n",
    "        data_block,\n",
    "        predictorcols=inputcols,\n",
    "        outputcols=outputcols,\n",
    "        scaling=scaling,\n",
    "        feature_range=feature_range,\n",
    "        reshaping=reshaping,\n",
    "        lag=create_lag,\n",
    "        split=splitvalue,\n",
    "    input_timesteps=input_timesteps,\n",
    "    output_timesteps = output_timesteps\n",
    "    )\n",
    "\n",
    "# select test ids for later plots\n",
    "test_idx = minibatch_test.index\n",
    "\n",
    "# year and week\n",
    "yearno = minibatch_test.index[int(splitvalue/2)].year\n",
    "weekno = minibatch_test.index[int(splitvalue/2)].week\n",
    "\n",
    "# append them\n",
    "weeklist.append({\n",
    "        'Id':'Year-{}-Week-{}'.format(str(yearno), \n",
    "                                      str(weekno)),\n",
    "        'X_train':X_train,\n",
    "        'y_train': y_train,\n",
    "        'X_test': X_test,\n",
    "        'y_test': y_test,\n",
    "        'y_scaler':y_scaler,\n",
    "        'X_scaler':X_scaler,\n",
    "        'test_idx':test_idx,\n",
    "    })\n"
   ]
  },
  {
   "cell_type": "code",
   "execution_count": 20,
   "metadata": {
    "run_control": {
     "marked": true
    },
    "scrolled": true
   },
   "outputs": [
    {
     "data": {
      "application/vnd.jupyter.widget-view+json": {
       "model_id": "4bc50869e0c049e6a7e111f972b71905",
       "version_major": 2,
       "version_minor": 0
      },
      "text/plain": [
       "HBox(children=(FloatProgress(value=0.0, description='Dask Apply', max=40.0, style=ProgressStyle(description_wi…"
      ]
     },
     "metadata": {},
     "output_type": "display_data"
    },
    {
     "name": "stdout",
     "output_type": "stream",
     "text": [
      "\n",
      "Retaining 69.82443632474823% of the data\n"
     ]
    },
    {
     "data": {
      "application/vnd.jupyter.widget-view+json": {
       "model_id": "cd8f9f4287634993a2e07c5e93ae5217",
       "version_major": 2,
       "version_minor": 0
      },
      "text/plain": [
       "HBox(children=(FloatProgress(value=0.0, description='Pandas Apply', max=316.0, style=ProgressStyle(description…"
      ]
     },
     "metadata": {},
     "output_type": "display_data"
    },
    {
     "name": "stdout",
     "output_type": "stream",
     "text": [
      "\n",
      "Retaining 59.81012658227848% of the data\n"
     ]
    },
    {
     "data": {
      "application/vnd.jupyter.widget-view+json": {
       "model_id": "fe994de6c92743878865b4b6a2600b3b",
       "version_major": 2,
       "version_minor": 0
      },
      "text/plain": [
       "HBox(children=(FloatProgress(value=0.0, description='Dask Apply', max=40.0, style=ProgressStyle(description_wi…"
      ]
     },
     "metadata": {},
     "output_type": "display_data"
    },
    {
     "name": "stdout",
     "output_type": "stream",
     "text": [
      "\n",
      "Retaining 70.26327532351628% of the data\n"
     ]
    },
    {
     "data": {
      "application/vnd.jupyter.widget-view+json": {
       "model_id": "8298ccd6b79d42e68bbead8dcadf59ca",
       "version_major": 2,
       "version_minor": 0
      },
      "text/plain": [
       "HBox(children=(FloatProgress(value=0.0, description='Pandas Apply', max=312.0, style=ProgressStyle(description…"
      ]
     },
     "metadata": {},
     "output_type": "display_data"
    },
    {
     "name": "stdout",
     "output_type": "stream",
     "text": [
      "\n",
      "Retaining 60.8974358974359% of the data\n"
     ]
    },
    {
     "data": {
      "application/vnd.jupyter.widget-view+json": {
       "model_id": "44ff437ef60d4542a47c3482059baa47",
       "version_major": 2,
       "version_minor": 0
      },
      "text/plain": [
       "HBox(children=(FloatProgress(value=0.0, description='Dask Apply', max=40.0, style=ProgressStyle(description_wi…"
      ]
     },
     "metadata": {},
     "output_type": "display_data"
    },
    {
     "name": "stdout",
     "output_type": "stream",
     "text": [
      "\n",
      "Retaining 70.41473006792992% of the data\n"
     ]
    },
    {
     "data": {
      "application/vnd.jupyter.widget-view+json": {
       "model_id": "fae488ed80904a9a85882eb48d30a9e7",
       "version_major": 2,
       "version_minor": 0
      },
      "text/plain": [
       "HBox(children=(FloatProgress(value=0.0, description='Pandas Apply', max=314.0, style=ProgressStyle(description…"
      ]
     },
     "metadata": {},
     "output_type": "display_data"
    },
    {
     "name": "stdout",
     "output_type": "stream",
     "text": [
      "\n",
      "Retaining 92.35668789808918% of the data\n"
     ]
    },
    {
     "data": {
      "application/vnd.jupyter.widget-view+json": {
       "model_id": "764d42d46ddb46019a3e67443f388d07",
       "version_major": 2,
       "version_minor": 0
      },
      "text/plain": [
       "HBox(children=(FloatProgress(value=0.0, description='Dask Apply', max=40.0, style=ProgressStyle(description_wi…"
      ]
     },
     "metadata": {},
     "output_type": "display_data"
    },
    {
     "name": "stdout",
     "output_type": "stream",
     "text": [
      "\n",
      "Retaining 71.70518425983761% of the data\n"
     ]
    },
    {
     "data": {
      "application/vnd.jupyter.widget-view+json": {
       "model_id": "a530411c605e4f4f8af80fffaf16450c",
       "version_major": 2,
       "version_minor": 0
      },
      "text/plain": [
       "HBox(children=(FloatProgress(value=0.0, description='Pandas Apply', max=307.0, style=ProgressStyle(description…"
      ]
     },
     "metadata": {},
     "output_type": "display_data"
    },
    {
     "name": "stdout",
     "output_type": "stream",
     "text": [
      "\n",
      "Retaining 72.63843648208469% of the data\n"
     ]
    },
    {
     "data": {
      "application/vnd.jupyter.widget-view+json": {
       "model_id": "f47811668c7247518867c7b5deb0c49f",
       "version_major": 2,
       "version_minor": 0
      },
      "text/plain": [
       "HBox(children=(FloatProgress(value=0.0, description='Dask Apply', max=40.0, style=ProgressStyle(description_wi…"
      ]
     },
     "metadata": {},
     "output_type": "display_data"
    },
    {
     "name": "stdout",
     "output_type": "stream",
     "text": [
      "\n",
      "Retaining 71.91954525579362% of the data\n"
     ]
    },
    {
     "data": {
      "application/vnd.jupyter.widget-view+json": {
       "model_id": "635be62fef704837bb1a3e6cfc781eab",
       "version_major": 2,
       "version_minor": 0
      },
      "text/plain": [
       "HBox(children=(FloatProgress(value=0.0, description='Pandas Apply', max=87.0, style=ProgressStyle(description_…"
      ]
     },
     "metadata": {},
     "output_type": "display_data"
    },
    {
     "name": "stdout",
     "output_type": "stream",
     "text": [
      "\n",
      "Retaining 94.25287356321839% of the data\n"
     ]
    },
    {
     "data": {
      "application/vnd.jupyter.widget-view+json": {
       "model_id": "a8daa9c1d89043dc99629cc514c3ee83",
       "version_major": 2,
       "version_minor": 0
      },
      "text/plain": [
       "HBox(children=(FloatProgress(value=0.0, description='Dask Apply', max=40.0, style=ProgressStyle(description_wi…"
      ]
     },
     "metadata": {},
     "output_type": "display_data"
    },
    {
     "name": "stdout",
     "output_type": "stream",
     "text": [
      "\n",
      "Retaining 72.63543715358483% of the data\n"
     ]
    },
    {
     "data": {
      "application/vnd.jupyter.widget-view+json": {
       "model_id": "291afdeb30d94eb8a3bf6bd13b00fcc0",
       "version_major": 2,
       "version_minor": 0
      },
      "text/plain": [
       "HBox(children=(FloatProgress(value=0.0, description='Pandas Apply', max=219.0, style=ProgressStyle(description…"
      ]
     },
     "metadata": {},
     "output_type": "display_data"
    },
    {
     "name": "stdout",
     "output_type": "stream",
     "text": [
      "\n",
      "Retaining 100.0% of the data\n"
     ]
    },
    {
     "data": {
      "application/vnd.jupyter.widget-view+json": {
       "model_id": "b9a0d7f3d8a649b7b21bfea213c7a4c5",
       "version_major": 2,
       "version_minor": 0
      },
      "text/plain": [
       "HBox(children=(FloatProgress(value=0.0, description='Dask Apply', max=40.0, style=ProgressStyle(description_wi…"
      ]
     },
     "metadata": {},
     "output_type": "display_data"
    },
    {
     "name": "stdout",
     "output_type": "stream",
     "text": [
      "\n",
      "Retaining 72.72563013822386% of the data\n"
     ]
    },
    {
     "data": {
      "application/vnd.jupyter.widget-view+json": {
       "model_id": "2342e41da02f42eb962cbee6fd3325bc",
       "version_major": 2,
       "version_minor": 0
      },
      "text/plain": [
       "HBox(children=(FloatProgress(value=0.0, description='Pandas Apply', max=137.0, style=ProgressStyle(description…"
      ]
     },
     "metadata": {},
     "output_type": "display_data"
    },
    {
     "name": "stdout",
     "output_type": "stream",
     "text": [
      "\n",
      "Retaining 97.81021897810218% of the data\n"
     ]
    },
    {
     "data": {
      "application/vnd.jupyter.widget-view+json": {
       "model_id": "348896d533664e5fa049f98162290e80",
       "version_major": 2,
       "version_minor": 0
      },
      "text/plain": [
       "HBox(children=(FloatProgress(value=0.0, description='Dask Apply', max=40.0, style=ProgressStyle(description_wi…"
      ]
     },
     "metadata": {},
     "output_type": "display_data"
    },
    {
     "name": "stdout",
     "output_type": "stream",
     "text": [
      "\n",
      "Retaining 72.91628334866606% of the data\n"
     ]
    },
    {
     "data": {
      "application/vnd.jupyter.widget-view+json": {
       "model_id": "2894a7a1e38e427ebd58e24500d6f54c",
       "version_major": 2,
       "version_minor": 0
      },
      "text/plain": [
       "HBox(children=(FloatProgress(value=0.0, description='Pandas Apply', max=326.0, style=ProgressStyle(description…"
      ]
     },
     "metadata": {},
     "output_type": "display_data"
    },
    {
     "name": "stdout",
     "output_type": "stream",
     "text": [
      "\n",
      "Retaining 84.66257668711657% of the data\n"
     ]
    },
    {
     "data": {
      "application/vnd.jupyter.widget-view+json": {
       "model_id": "31dbe2864ee4447aa965d6f4a69a6509",
       "version_major": 2,
       "version_minor": 0
      },
      "text/plain": [
       "HBox(children=(FloatProgress(value=0.0, description='Dask Apply', max=40.0, style=ProgressStyle(description_wi…"
      ]
     },
     "metadata": {},
     "output_type": "display_data"
    },
    {
     "name": "stdout",
     "output_type": "stream",
     "text": [
      "\n",
      "Retaining 73.76611418047882% of the data\n"
     ]
    },
    {
     "data": {
      "application/vnd.jupyter.widget-view+json": {
       "model_id": "03bff204fa3f4019960b5474688638ae",
       "version_major": 2,
       "version_minor": 0
      },
      "text/plain": [
       "HBox(children=(FloatProgress(value=0.0, description='Pandas Apply', max=318.0, style=ProgressStyle(description…"
      ]
     },
     "metadata": {},
     "output_type": "display_data"
    },
    {
     "name": "stdout",
     "output_type": "stream",
     "text": [
      "\n",
      "Retaining 88.36477987421384% of the data\n"
     ]
    },
    {
     "data": {
      "application/vnd.jupyter.widget-view+json": {
       "model_id": "8918bcaef0d0404bb5a0b5ea0048398c",
       "version_major": 2,
       "version_minor": 0
      },
      "text/plain": [
       "HBox(children=(FloatProgress(value=0.0, description='Dask Apply', max=40.0, style=ProgressStyle(description_wi…"
      ]
     },
     "metadata": {},
     "output_type": "display_data"
    },
    {
     "name": "stdout",
     "output_type": "stream",
     "text": [
      "\n",
      "Retaining 73.75507192917742% of the data\n"
     ]
    },
    {
     "data": {
      "application/vnd.jupyter.widget-view+json": {
       "model_id": "0ceaeb7608314337a54651054c276f82",
       "version_major": 2,
       "version_minor": 0
      },
      "text/plain": [
       "HBox(children=(FloatProgress(value=0.0, description='Pandas Apply', max=319.0, style=ProgressStyle(description…"
      ]
     },
     "metadata": {},
     "output_type": "display_data"
    },
    {
     "name": "stdout",
     "output_type": "stream",
     "text": [
      "\n",
      "Retaining 92.47648902821317% of the data\n"
     ]
    },
    {
     "data": {
      "application/vnd.jupyter.widget-view+json": {
       "model_id": "58f0776275244ab987c7cfc7c1aed488",
       "version_major": 2,
       "version_minor": 0
      },
      "text/plain": [
       "HBox(children=(FloatProgress(value=0.0, description='Dask Apply', max=40.0, style=ProgressStyle(description_wi…"
      ]
     },
     "metadata": {},
     "output_type": "display_data"
    },
    {
     "name": "stdout",
     "output_type": "stream",
     "text": [
      "\n",
      "Retaining 74.12264499445881% of the data\n"
     ]
    },
    {
     "data": {
      "application/vnd.jupyter.widget-view+json": {
       "model_id": "507cd0cb75a948bba45714042a257fea",
       "version_major": 2,
       "version_minor": 0
      },
      "text/plain": [
       "HBox(children=(FloatProgress(value=0.0, description='Pandas Apply', max=327.0, style=ProgressStyle(description…"
      ]
     },
     "metadata": {},
     "output_type": "display_data"
    },
    {
     "name": "stdout",
     "output_type": "stream",
     "text": [
      "\n",
      "Retaining 53.82262996941896% of the data\n"
     ]
    },
    {
     "data": {
      "application/vnd.jupyter.widget-view+json": {
       "model_id": "629b9dcee840471581addf7e056bec48",
       "version_major": 2,
       "version_minor": 0
      },
      "text/plain": [
       "HBox(children=(FloatProgress(value=0.0, description='Dask Apply', max=40.0, style=ProgressStyle(description_wi…"
      ]
     },
     "metadata": {},
     "output_type": "display_data"
    },
    {
     "name": "stdout",
     "output_type": "stream",
     "text": [
      "\n",
      "Retaining 73.02291204730228% of the data\n"
     ]
    },
    {
     "data": {
      "application/vnd.jupyter.widget-view+json": {
       "model_id": "181acd1ee7ae4bd0a3f351da2c49758e",
       "version_major": 2,
       "version_minor": 0
      },
      "text/plain": [
       "HBox(children=(FloatProgress(value=0.0, description='Pandas Apply', max=322.0, style=ProgressStyle(description…"
      ]
     },
     "metadata": {},
     "output_type": "display_data"
    },
    {
     "name": "stdout",
     "output_type": "stream",
     "text": [
      "\n",
      "Retaining 51.5527950310559% of the data\n"
     ]
    },
    {
     "data": {
      "application/vnd.jupyter.widget-view+json": {
       "model_id": "81dc1704fab44cc9a7e0991cb6c6aafa",
       "version_major": 2,
       "version_minor": 0
      },
      "text/plain": [
       "HBox(children=(FloatProgress(value=0.0, description='Dask Apply', max=40.0, style=ProgressStyle(description_wi…"
      ]
     },
     "metadata": {},
     "output_type": "display_data"
    },
    {
     "name": "stdout",
     "output_type": "stream",
     "text": [
      "\n",
      "Retaining 73.08578273288492% of the data\n"
     ]
    },
    {
     "data": {
      "application/vnd.jupyter.widget-view+json": {
       "model_id": "daf6dcb948f24964b952eb41092e5d46",
       "version_major": 2,
       "version_minor": 0
      },
      "text/plain": [
       "HBox(children=(FloatProgress(value=0.0, description='Pandas Apply', max=335.0, style=ProgressStyle(description…"
      ]
     },
     "metadata": {},
     "output_type": "display_data"
    },
    {
     "name": "stdout",
     "output_type": "stream",
     "text": [
      "\n",
      "Retaining 91.94029850746269% of the data\n"
     ]
    },
    {
     "data": {
      "application/vnd.jupyter.widget-view+json": {
       "model_id": "61b6cac86a01435883b96441d2a5e471",
       "version_major": 2,
       "version_minor": 0
      },
      "text/plain": [
       "HBox(children=(FloatProgress(value=0.0, description='Dask Apply', max=40.0, style=ProgressStyle(description_wi…"
      ]
     },
     "metadata": {},
     "output_type": "display_data"
    },
    {
     "name": "stdout",
     "output_type": "stream",
     "text": [
      "\n",
      "Retaining 74.30638219943229% of the data\n"
     ]
    },
    {
     "data": {
      "application/vnd.jupyter.widget-view+json": {
       "model_id": "ea233429653b4f338ff32962a74e2e2f",
       "version_major": 2,
       "version_minor": 0
      },
      "text/plain": [
       "HBox(children=(FloatProgress(value=0.0, description='Pandas Apply', max=333.0, style=ProgressStyle(description…"
      ]
     },
     "metadata": {},
     "output_type": "display_data"
    },
    {
     "name": "stdout",
     "output_type": "stream",
     "text": [
      "\n",
      "Retaining 58.25825825825826% of the data\n"
     ]
    },
    {
     "data": {
      "application/vnd.jupyter.widget-view+json": {
       "model_id": "e0590be5ec4c4206ab3284010d7c63aa",
       "version_major": 2,
       "version_minor": 0
      },
      "text/plain": [
       "HBox(children=(FloatProgress(value=0.0, description='Dask Apply', max=40.0, style=ProgressStyle(description_wi…"
      ]
     },
     "metadata": {},
     "output_type": "display_data"
    },
    {
     "name": "stdout",
     "output_type": "stream",
     "text": [
      "\n",
      "Retaining 73.91622462044997% of the data\n"
     ]
    },
    {
     "data": {
      "application/vnd.jupyter.widget-view+json": {
       "model_id": "023a1366336d45dca28a0ba0fa3994ad",
       "version_major": 2,
       "version_minor": 0
      },
      "text/plain": [
       "HBox(children=(FloatProgress(value=0.0, description='Pandas Apply', max=332.0, style=ProgressStyle(description…"
      ]
     },
     "metadata": {},
     "output_type": "display_data"
    },
    {
     "name": "stdout",
     "output_type": "stream",
     "text": [
      "\n",
      "Retaining 73.49397590361446% of the data\n"
     ]
    },
    {
     "data": {
      "application/vnd.jupyter.widget-view+json": {
       "model_id": "1b102592316d488392b2493746eaf093",
       "version_major": 2,
       "version_minor": 0
      },
      "text/plain": [
       "HBox(children=(FloatProgress(value=0.0, description='Dask Apply', max=40.0, style=ProgressStyle(description_wi…"
      ]
     },
     "metadata": {},
     "output_type": "display_data"
    },
    {
     "name": "stdout",
     "output_type": "stream",
     "text": [
      "\n",
      "Retaining 74.58044509303174% of the data\n"
     ]
    },
    {
     "data": {
      "application/vnd.jupyter.widget-view+json": {
       "model_id": "b7a8dea8953348039aa6d8104d79c2f7",
       "version_major": 2,
       "version_minor": 0
      },
      "text/plain": [
       "HBox(children=(FloatProgress(value=0.0, description='Pandas Apply', max=336.0, style=ProgressStyle(description…"
      ]
     },
     "metadata": {},
     "output_type": "display_data"
    },
    {
     "name": "stdout",
     "output_type": "stream",
     "text": [
      "\n",
      "Retaining 52.38095238095238% of the data\n"
     ]
    },
    {
     "data": {
      "application/vnd.jupyter.widget-view+json": {
       "model_id": "a6b32f05467a4435ba890531e0eeac4b",
       "version_major": 2,
       "version_minor": 0
      },
      "text/plain": [
       "HBox(children=(FloatProgress(value=0.0, description='Dask Apply', max=40.0, style=ProgressStyle(description_wi…"
      ]
     },
     "metadata": {},
     "output_type": "display_data"
    },
    {
     "name": "stdout",
     "output_type": "stream",
     "text": [
      "\n",
      "Retaining 73.31763427225795% of the data\n"
     ]
    },
    {
     "data": {
      "application/vnd.jupyter.widget-view+json": {
       "model_id": "395ad4d5fd1c4be3a77d60a9961f7278",
       "version_major": 2,
       "version_minor": 0
      },
      "text/plain": [
       "HBox(children=(FloatProgress(value=0.0, description='Pandas Apply', max=150.0, style=ProgressStyle(description…"
      ]
     },
     "metadata": {},
     "output_type": "display_data"
    },
    {
     "name": "stdout",
     "output_type": "stream",
     "text": [
      "\n",
      "Retaining 12.666666666666666% of the data\n"
     ]
    },
    {
     "data": {
      "application/vnd.jupyter.widget-view+json": {
       "model_id": "d14e0619e3a441b89152f452d4da65f3",
       "version_major": 2,
       "version_minor": 0
      },
      "text/plain": [
       "HBox(children=(FloatProgress(value=0.0, description='Dask Apply', max=40.0, style=ProgressStyle(description_wi…"
      ]
     },
     "metadata": {},
     "output_type": "display_data"
    },
    {
     "name": "stdout",
     "output_type": "stream",
     "text": [
      "\n",
      "Retaining 72.65223771093177% of the data\n"
     ]
    },
    {
     "data": {
      "application/vnd.jupyter.widget-view+json": {
       "model_id": "39ae4a8744f24db5a7d4b5efe4d92fe9",
       "version_major": 2,
       "version_minor": 0
      },
      "text/plain": [
       "HBox(children=(FloatProgress(value=0.0, description='Pandas Apply', max=327.0, style=ProgressStyle(description…"
      ]
     },
     "metadata": {},
     "output_type": "display_data"
    },
    {
     "name": "stdout",
     "output_type": "stream",
     "text": [
      "\n",
      "Retaining 38.2262996941896% of the data\n"
     ]
    },
    {
     "data": {
      "application/vnd.jupyter.widget-view+json": {
       "model_id": "568376b79d6b454192d7e36f6b526524",
       "version_major": 2,
       "version_minor": 0
      },
      "text/plain": [
       "HBox(children=(FloatProgress(value=0.0, description='Dask Apply', max=40.0, style=ProgressStyle(description_wi…"
      ]
     },
     "metadata": {},
     "output_type": "display_data"
    },
    {
     "name": "stdout",
     "output_type": "stream",
     "text": [
      "\n",
      "Retaining 71.55401079301198% of the data\n"
     ]
    },
    {
     "data": {
      "application/vnd.jupyter.widget-view+json": {
       "model_id": "fd7e62f2b5e84bc493f9b3734e291344",
       "version_major": 2,
       "version_minor": 0
      },
      "text/plain": [
       "HBox(children=(FloatProgress(value=0.0, description='Pandas Apply', max=336.0, style=ProgressStyle(description…"
      ]
     },
     "metadata": {},
     "output_type": "display_data"
    },
    {
     "name": "stdout",
     "output_type": "stream",
     "text": [
      "\n",
      "Retaining 100.0% of the data\n"
     ]
    },
    {
     "data": {
      "application/vnd.jupyter.widget-view+json": {
       "model_id": "352a0f468819455583a8b82285e24be8",
       "version_major": 2,
       "version_minor": 0
      },
      "text/plain": [
       "HBox(children=(FloatProgress(value=0.0, description='Dask Apply', max=40.0, style=ProgressStyle(description_wi…"
      ]
     },
     "metadata": {},
     "output_type": "display_data"
    },
    {
     "name": "stdout",
     "output_type": "stream",
     "text": [
      "\n",
      "Retaining 72.01458523245215% of the data\n"
     ]
    },
    {
     "data": {
      "application/vnd.jupyter.widget-view+json": {
       "model_id": "740fb152625545cbb64ff0e9dc172c2d",
       "version_major": 2,
       "version_minor": 0
      },
      "text/plain": [
       "HBox(children=(FloatProgress(value=0.0, description='Pandas Apply', max=336.0, style=ProgressStyle(description…"
      ]
     },
     "metadata": {},
     "output_type": "display_data"
    },
    {
     "name": "stdout",
     "output_type": "stream",
     "text": [
      "\n",
      "Retaining 67.55952380952381% of the data\n"
     ]
    },
    {
     "data": {
      "application/vnd.jupyter.widget-view+json": {
       "model_id": "f591a7b0af444d4181afef1a8546c038",
       "version_major": 2,
       "version_minor": 0
      },
      "text/plain": [
       "HBox(children=(FloatProgress(value=0.0, description='Dask Apply', max=40.0, style=ProgressStyle(description_wi…"
      ]
     },
     "metadata": {},
     "output_type": "display_data"
    },
    {
     "name": "stdout",
     "output_type": "stream",
     "text": [
      "\n",
      "Retaining 71.55281753940932% of the data\n"
     ]
    },
    {
     "data": {
      "application/vnd.jupyter.widget-view+json": {
       "model_id": "038e53c951134f5bbb2460ee6ebe190c",
       "version_major": 2,
       "version_minor": 0
      },
      "text/plain": [
       "HBox(children=(FloatProgress(value=0.0, description='Pandas Apply', max=336.0, style=ProgressStyle(description…"
      ]
     },
     "metadata": {},
     "output_type": "display_data"
    },
    {
     "name": "stdout",
     "output_type": "stream",
     "text": [
      "\n",
      "Retaining 67.55952380952381% of the data\n"
     ]
    },
    {
     "data": {
      "application/vnd.jupyter.widget-view+json": {
       "model_id": "98ab3af53b9f4806a9b79137a8c9ea09",
       "version_major": 2,
       "version_minor": 0
      },
      "text/plain": [
       "HBox(children=(FloatProgress(value=0.0, description='Dask Apply', max=40.0, style=ProgressStyle(description_wi…"
      ]
     },
     "metadata": {},
     "output_type": "display_data"
    },
    {
     "name": "stdout",
     "output_type": "stream",
     "text": [
      "\n",
      "Retaining 71.42728175498782% of the data\n"
     ]
    },
    {
     "data": {
      "application/vnd.jupyter.widget-view+json": {
       "model_id": "c8b6dafd92644ef59c6ba31c8ad92368",
       "version_major": 2,
       "version_minor": 0
      },
      "text/plain": [
       "HBox(children=(FloatProgress(value=0.0, description='Pandas Apply', max=325.0, style=ProgressStyle(description…"
      ]
     },
     "metadata": {},
     "output_type": "display_data"
    },
    {
     "name": "stdout",
     "output_type": "stream",
     "text": [
      "\n",
      "Retaining 61.23076923076923% of the data\n"
     ]
    },
    {
     "data": {
      "application/vnd.jupyter.widget-view+json": {
       "model_id": "839c844a166f435c9240f994d2e128b5",
       "version_major": 2,
       "version_minor": 0
      },
      "text/plain": [
       "HBox(children=(FloatProgress(value=0.0, description='Dask Apply', max=40.0, style=ProgressStyle(description_wi…"
      ]
     },
     "metadata": {},
     "output_type": "display_data"
    },
    {
     "name": "stdout",
     "output_type": "stream",
     "text": [
      "\n",
      "Retaining 70.70561797752809% of the data\n"
     ]
    },
    {
     "data": {
      "application/vnd.jupyter.widget-view+json": {
       "model_id": "71e46bf871344f0c98a3b96b2b0ce6de",
       "version_major": 2,
       "version_minor": 0
      },
      "text/plain": [
       "HBox(children=(FloatProgress(value=0.0, description='Pandas Apply', max=336.0, style=ProgressStyle(description…"
      ]
     },
     "metadata": {},
     "output_type": "display_data"
    },
    {
     "name": "stdout",
     "output_type": "stream",
     "text": [
      "\n",
      "Retaining 82.73809523809524% of the data\n"
     ]
    },
    {
     "data": {
      "application/vnd.jupyter.widget-view+json": {
       "model_id": "dfb8d6e5202644d0b0f7321b26d9f3fe",
       "version_major": 2,
       "version_minor": 0
      },
      "text/plain": [
       "HBox(children=(FloatProgress(value=0.0, description='Dask Apply', max=40.0, style=ProgressStyle(description_wi…"
      ]
     },
     "metadata": {},
     "output_type": "display_data"
    },
    {
     "name": "stdout",
     "output_type": "stream",
     "text": [
      "\n",
      "Retaining 71.10793168201735% of the data\n"
     ]
    },
    {
     "data": {
      "application/vnd.jupyter.widget-view+json": {
       "model_id": "d8b307fdbef64a1c8a546d30cbc9bce3",
       "version_major": 2,
       "version_minor": 0
      },
      "text/plain": [
       "HBox(children=(FloatProgress(value=0.0, description='Pandas Apply', max=335.0, style=ProgressStyle(description…"
      ]
     },
     "metadata": {},
     "output_type": "display_data"
    },
    {
     "name": "stdout",
     "output_type": "stream",
     "text": [
      "\n",
      "Retaining 98.80597014925372% of the data\n"
     ]
    },
    {
     "data": {
      "application/vnd.jupyter.widget-view+json": {
       "model_id": "54d299d393e140b5a73b05137c29dd43",
       "version_major": 2,
       "version_minor": 0
      },
      "text/plain": [
       "HBox(children=(FloatProgress(value=0.0, description='Dask Apply', max=40.0, style=ProgressStyle(description_wi…"
      ]
     },
     "metadata": {},
     "output_type": "display_data"
    },
    {
     "name": "stdout",
     "output_type": "stream",
     "text": [
      "\n",
      "Retaining 72.12326327039544% of the data\n"
     ]
    },
    {
     "data": {
      "application/vnd.jupyter.widget-view+json": {
       "model_id": "08f228373487415090eb02a0c0598b2c",
       "version_major": 2,
       "version_minor": 0
      },
      "text/plain": [
       "HBox(children=(FloatProgress(value=0.0, description='Pandas Apply', max=336.0, style=ProgressStyle(description…"
      ]
     },
     "metadata": {},
     "output_type": "display_data"
    },
    {
     "name": "stdout",
     "output_type": "stream",
     "text": [
      "\n",
      "Retaining 88.69047619047619% of the data\n"
     ]
    },
    {
     "data": {
      "application/vnd.jupyter.widget-view+json": {
       "model_id": "f5144f1087de45809a8cf97c2a2d6b15",
       "version_major": 2,
       "version_minor": 0
      },
      "text/plain": [
       "HBox(children=(FloatProgress(value=0.0, description='Dask Apply', max=40.0, style=ProgressStyle(description_wi…"
      ]
     },
     "metadata": {},
     "output_type": "display_data"
    },
    {
     "name": "stdout",
     "output_type": "stream",
     "text": [
      "\n",
      "Retaining 73.10939305074203% of the data\n"
     ]
    },
    {
     "data": {
      "application/vnd.jupyter.widget-view+json": {
       "model_id": "f8fdb37e50ce4a48b0ebe1b3e626b275",
       "version_major": 2,
       "version_minor": 0
      },
      "text/plain": [
       "HBox(children=(FloatProgress(value=0.0, description='Pandas Apply', max=316.0, style=ProgressStyle(description…"
      ]
     },
     "metadata": {},
     "output_type": "display_data"
    },
    {
     "name": "stdout",
     "output_type": "stream",
     "text": [
      "\n",
      "Retaining 53.48101265822785% of the data\n"
     ]
    },
    {
     "data": {
      "application/vnd.jupyter.widget-view+json": {
       "model_id": "db90a76f6db04c1fa96a08ec3d826e73",
       "version_major": 2,
       "version_minor": 0
      },
      "text/plain": [
       "HBox(children=(FloatProgress(value=0.0, description='Dask Apply', max=40.0, style=ProgressStyle(description_wi…"
      ]
     },
     "metadata": {},
     "output_type": "display_data"
    },
    {
     "name": "stdout",
     "output_type": "stream",
     "text": [
      "\n",
      "Retaining 72.14115149907137% of the data\n"
     ]
    },
    {
     "data": {
      "application/vnd.jupyter.widget-view+json": {
       "model_id": "30982a6245d84baabc776e3dc3513ce2",
       "version_major": 2,
       "version_minor": 0
      },
      "text/plain": [
       "HBox(children=(FloatProgress(value=0.0, description='Pandas Apply', max=297.0, style=ProgressStyle(description…"
      ]
     },
     "metadata": {},
     "output_type": "display_data"
    },
    {
     "name": "stdout",
     "output_type": "stream",
     "text": [
      "\n",
      "Retaining 56.22895622895623% of the data\n"
     ]
    },
    {
     "data": {
      "application/vnd.jupyter.widget-view+json": {
       "model_id": "41a70c19f9484688b4ae409f88b1475e",
       "version_major": 2,
       "version_minor": 0
      },
      "text/plain": [
       "HBox(children=(FloatProgress(value=0.0, description='Dask Apply', max=40.0, style=ProgressStyle(description_wi…"
      ]
     },
     "metadata": {},
     "output_type": "display_data"
    },
    {
     "name": "stdout",
     "output_type": "stream",
     "text": [
      "\n",
      "Retaining 71.31558133403638% of the data\n"
     ]
    },
    {
     "data": {
      "application/vnd.jupyter.widget-view+json": {
       "model_id": "8e73fe7d35c04a9a84d6c1bd49f99791",
       "version_major": 2,
       "version_minor": 0
      },
      "text/plain": [
       "HBox(children=(FloatProgress(value=0.0, description='Pandas Apply', max=137.0, style=ProgressStyle(description…"
      ]
     },
     "metadata": {},
     "output_type": "display_data"
    },
    {
     "name": "stdout",
     "output_type": "stream",
     "text": [
      "\n",
      "Retaining 100.0% of the data\n"
     ]
    },
    {
     "data": {
      "application/vnd.jupyter.widget-view+json": {
       "model_id": "dc24cfd177de45aaaf086710ea0acd00",
       "version_major": 2,
       "version_minor": 0
      },
      "text/plain": [
       "HBox(children=(FloatProgress(value=0.0, description='Dask Apply', max=40.0, style=ProgressStyle(description_wi…"
      ]
     },
     "metadata": {},
     "output_type": "display_data"
    },
    {
     "name": "stdout",
     "output_type": "stream",
     "text": [
      "\n",
      "Retaining 71.37915742793791% of the data\n"
     ]
    },
    {
     "data": {
      "application/vnd.jupyter.widget-view+json": {
       "model_id": "bc70dea8fd2d4a9ba84364793532522a",
       "version_major": 2,
       "version_minor": 0
      },
      "text/plain": [
       "HBox(children=(FloatProgress(value=0.0, description='Pandas Apply', max=92.0, style=ProgressStyle(description_…"
      ]
     },
     "metadata": {},
     "output_type": "display_data"
    },
    {
     "name": "stdout",
     "output_type": "stream",
     "text": [
      "\n",
      "Retaining 100.0% of the data\n"
     ]
    },
    {
     "data": {
      "application/vnd.jupyter.widget-view+json": {
       "model_id": "2536f3f2d9a848598f91d93f71695b02",
       "version_major": 2,
       "version_minor": 0
      },
      "text/plain": [
       "HBox(children=(FloatProgress(value=0.0, description='Dask Apply', max=40.0, style=ProgressStyle(description_wi…"
      ]
     },
     "metadata": {},
     "output_type": "display_data"
    },
    {
     "name": "stdout",
     "output_type": "stream",
     "text": [
      "\n",
      "Retaining 71.51774567504904% of the data\n"
     ]
    },
    {
     "data": {
      "application/vnd.jupyter.widget-view+json": {
       "model_id": "097541fc1ec84b8cafdc375ee7514ab0",
       "version_major": 2,
       "version_minor": 0
      },
      "text/plain": [
       "HBox(children=(FloatProgress(value=0.0, description='Pandas Apply', max=34.0, style=ProgressStyle(description_…"
      ]
     },
     "metadata": {},
     "output_type": "display_data"
    },
    {
     "name": "stdout",
     "output_type": "stream",
     "text": [
      "\n",
      "Retaining 100.0% of the data\n"
     ]
    },
    {
     "data": {
      "application/vnd.jupyter.widget-view+json": {
       "model_id": "a7704b0ae2cc43e7891cd9027ffb6422",
       "version_major": 2,
       "version_minor": 0
      },
      "text/plain": [
       "HBox(children=(FloatProgress(value=0.0, description='Dask Apply', max=40.0, style=ProgressStyle(description_wi…"
      ]
     },
     "metadata": {},
     "output_type": "display_data"
    },
    {
     "name": "stdout",
     "output_type": "stream",
     "text": [
      "\n",
      "Retaining 70.90426505583012% of the data\n"
     ]
    },
    {
     "data": {
      "application/vnd.jupyter.widget-view+json": {
       "model_id": "86d838fdafeb484b8df201a862b9de3e",
       "version_major": 2,
       "version_minor": 0
      },
      "text/plain": [
       "HBox(children=(FloatProgress(value=0.0, description='Pandas Apply', max=330.0, style=ProgressStyle(description…"
      ]
     },
     "metadata": {},
     "output_type": "display_data"
    },
    {
     "name": "stdout",
     "output_type": "stream",
     "text": [
      "\n",
      "Retaining 61.81818181818182% of the data\n"
     ]
    },
    {
     "data": {
      "application/vnd.jupyter.widget-view+json": {
       "model_id": "7b0b5af525314be28a4d80d97c9a1240",
       "version_major": 2,
       "version_minor": 0
      },
      "text/plain": [
       "HBox(children=(FloatProgress(value=0.0, description='Dask Apply', max=40.0, style=ProgressStyle(description_wi…"
      ]
     },
     "metadata": {},
     "output_type": "display_data"
    },
    {
     "name": "stdout",
     "output_type": "stream",
     "text": [
      "\n",
      "Retaining 70.44997256264863% of the data\n"
     ]
    },
    {
     "data": {
      "application/vnd.jupyter.widget-view+json": {
       "model_id": "85c6f5db3d764219872eb6f511fc7587",
       "version_major": 2,
       "version_minor": 0
      },
      "text/plain": [
       "HBox(children=(FloatProgress(value=0.0, description='Pandas Apply', max=320.0, style=ProgressStyle(description…"
      ]
     },
     "metadata": {},
     "output_type": "display_data"
    },
    {
     "name": "stdout",
     "output_type": "stream",
     "text": [
      "\n",
      "Retaining 84.0625% of the data\n"
     ]
    },
    {
     "data": {
      "application/vnd.jupyter.widget-view+json": {
       "model_id": "0052cdbc63694357be19ef9dd5dd4455",
       "version_major": 2,
       "version_minor": 0
      },
      "text/plain": [
       "HBox(children=(FloatProgress(value=0.0, description='Dask Apply', max=40.0, style=ProgressStyle(description_wi…"
      ]
     },
     "metadata": {},
     "output_type": "display_data"
    },
    {
     "name": "stdout",
     "output_type": "stream",
     "text": [
      "\n",
      "Retaining 69.97804610318332% of the data\n"
     ]
    },
    {
     "data": {
      "application/vnd.jupyter.widget-view+json": {
       "model_id": "9dd67527684e4a0aa773c0147f36aad0",
       "version_major": 2,
       "version_minor": 0
      },
      "text/plain": [
       "HBox(children=(FloatProgress(value=0.0, description='Pandas Apply', max=256.0, style=ProgressStyle(description…"
      ]
     },
     "metadata": {},
     "output_type": "display_data"
    },
    {
     "name": "stdout",
     "output_type": "stream",
     "text": [
      "\n",
      "Retaining 68.359375% of the data\n"
     ]
    },
    {
     "data": {
      "application/vnd.jupyter.widget-view+json": {
       "model_id": "2ed05085785a4759957917533d0db512",
       "version_major": 2,
       "version_minor": 0
      },
      "text/plain": [
       "HBox(children=(FloatProgress(value=0.0, description='Dask Apply', max=40.0, style=ProgressStyle(description_wi…"
      ]
     },
     "metadata": {},
     "output_type": "display_data"
    },
    {
     "name": "stdout",
     "output_type": "stream",
     "text": [
      "\n",
      "Retaining 70.39800995024876% of the data\n"
     ]
    },
    {
     "data": {
      "application/vnd.jupyter.widget-view+json": {
       "model_id": "aa48064abebc443a8b54f499418e385b",
       "version_major": 2,
       "version_minor": 0
      },
      "text/plain": [
       "HBox(children=(FloatProgress(value=0.0, description='Pandas Apply', max=284.0, style=ProgressStyle(description…"
      ]
     },
     "metadata": {},
     "output_type": "display_data"
    },
    {
     "name": "stdout",
     "output_type": "stream",
     "text": [
      "\n",
      "Retaining 52.46478873239437% of the data\n"
     ]
    },
    {
     "data": {
      "application/vnd.jupyter.widget-view+json": {
       "model_id": "30570955e8934ef4b2ea9ac3bc0215eb",
       "version_major": 2,
       "version_minor": 0
      },
      "text/plain": [
       "HBox(children=(FloatProgress(value=0.0, description='Dask Apply', max=40.0, style=ProgressStyle(description_wi…"
      ]
     },
     "metadata": {},
     "output_type": "display_data"
    },
    {
     "name": "stdout",
     "output_type": "stream",
     "text": [
      "\n",
      "Retaining 70.10089789873183% of the data\n"
     ]
    },
    {
     "data": {
      "application/vnd.jupyter.widget-view+json": {
       "model_id": "34c8b8bae1544866b4bf51b690df8c01",
       "version_major": 2,
       "version_minor": 0
      },
      "text/plain": [
       "HBox(children=(FloatProgress(value=0.0, description='Pandas Apply', max=102.0, style=ProgressStyle(description…"
      ]
     },
     "metadata": {},
     "output_type": "display_data"
    },
    {
     "name": "stdout",
     "output_type": "stream",
     "text": [
      "\n",
      "Retaining 100.0% of the data\n"
     ]
    },
    {
     "data": {
      "application/vnd.jupyter.widget-view+json": {
       "model_id": "8ecd5f3d3c7347b4b405e9ff6ce9fff2",
       "version_major": 2,
       "version_minor": 0
      },
      "text/plain": [
       "HBox(children=(FloatProgress(value=0.0, description='Dask Apply', max=40.0, style=ProgressStyle(description_wi…"
      ]
     },
     "metadata": {},
     "output_type": "display_data"
    },
    {
     "name": "stdout",
     "output_type": "stream",
     "text": [
      "\n",
      "Retaining 71.47311726353585% of the data\n"
     ]
    },
    {
     "data": {
      "application/vnd.jupyter.widget-view+json": {
       "model_id": "f2d19aefe51c4ab7b1630a72acbd9ac7",
       "version_major": 2,
       "version_minor": 0
      },
      "text/plain": [
       "HBox(children=(FloatProgress(value=0.0, description='Pandas Apply', max=304.0, style=ProgressStyle(description…"
      ]
     },
     "metadata": {},
     "output_type": "display_data"
    },
    {
     "name": "stdout",
     "output_type": "stream",
     "text": [
      "\n",
      "Retaining 97.03947368421052% of the data\n",
      "Length of weeklist: 37\n"
     ]
    }
   ],
   "source": [
    "for weekdata in dflist[data_weeks:end_week]:\n",
    "    \n",
    "    # select and merge data_weeks-1 worth of data\n",
    "    datablock_train_pre = datablock_train_pre[1:]+[datablock_test_pre]\n",
    "    datablock_train = quickmerge(datablock_train_pre)\n",
    "    #Select from data frame the operating regions\n",
    "    datablock_train = df2operating_regions(datablock_train, outputcols, threshold)\n",
    "    minibatch_train = datablock_train\n",
    "    \n",
    "    # select weeks=1 worth of data\n",
    "    datablock_test_pre = weekdata\n",
    "    #Select from data frame the operating regions\n",
    "    datablock_test = df2operating_regions(datablock_test_pre, outputcols, threshold)\n",
    "    minibatch_test = datablock_test\n",
    "    \n",
    "    # splitvalue\n",
    "    splitvalue = minibatch_test.shape[0]\n",
    "    #merge test and train together\n",
    "    data_block = quickmerge([minibatch_train, minibatch_test])\n",
    "\n",
    "    # and add new week data from weekdata\n",
    "    X_train, X_test, y_train, y_test, X_scaler, y_scaler = dp.df2arrays(\n",
    "        data_block,\n",
    "        predictorcols=inputcols,\n",
    "        outputcols=outputcols,\n",
    "        scaling=scaling,\n",
    "        feature_range=feature_range,\n",
    "        reshaping=reshaping,\n",
    "        lag=create_lag,\n",
    "        split=splitvalue,\n",
    "    input_timesteps=input_timesteps,\n",
    "    output_timesteps = output_timesteps\n",
    "    )\n",
    "\n",
    "    # select test ids for later plots\n",
    "    test_idx = minibatch_test.index\n",
    "    \n",
    "    # year and week no\n",
    "    weekno += 1\n",
    "    weekno = weekno if weekno%53 != 0 else 1\n",
    "    yearno = yearno if weekno!= 1 else yearno+1\n",
    "\n",
    "    weeklist.append({\n",
    "        'Id':'Year-{}-Week-{}'.format(str(yearno), \n",
    "                                      str(weekno)),\n",
    "        'X_train':X_train,\n",
    "        'y_train': y_train,\n",
    "        'X_test': X_test,\n",
    "        'y_test': y_test,\n",
    "        'y_scaler':y_scaler,\n",
    "        'X_scaler':X_scaler,\n",
    "        'test_idx':test_idx,\n",
    "    })\n",
    "\n",
    "print('Length of weeklist: {}'.format(len(weeklist)))"
   ]
  },
  {
   "cell_type": "markdown",
   "metadata": {},
   "source": [
    "## Print size and shape of data to feed to the model for sanity checks"
   ]
  },
  {
   "cell_type": "code",
   "execution_count": 21,
   "metadata": {
    "run_control": {
     "marked": true
    },
    "scrolled": true
   },
   "outputs": [
    {
     "name": "stdout",
     "output_type": "stream",
     "text": [
      "name: Id, shape: Year-2019-Week-15\n",
      "name: X_train, shape: (7641, 1, 4)\n",
      "name: y_train, shape: (7641, 1, 1)\n",
      "name: X_test, shape: (194, 1, 4)\n",
      "name: y_test, shape: (194, 1, 1)\n",
      "name: test_idx, shape: (194,)\n",
      "name: Id, shape: Year-2019-Week-16\n",
      "name: X_train, shape: (7835, 1, 4)\n",
      "name: y_train, shape: (7835, 1, 1)\n",
      "name: X_test, shape: (189, 1, 4)\n",
      "name: y_test, shape: (189, 1, 1)\n",
      "name: test_idx, shape: (189,)\n",
      "name: Id, shape: Year-2019-Week-17\n",
      "name: X_train, shape: (7873, 1, 4)\n",
      "name: y_train, shape: (7873, 1, 1)\n",
      "name: X_test, shape: (190, 1, 4)\n",
      "name: y_test, shape: (190, 1, 1)\n",
      "name: test_idx, shape: (190,)\n",
      "name: Id, shape: Year-2019-Week-18\n",
      "name: X_train, shape: (7878, 1, 4)\n",
      "name: y_train, shape: (7878, 1, 1)\n",
      "name: X_test, shape: (290, 1, 4)\n",
      "name: y_test, shape: (290, 1, 1)\n",
      "name: test_idx, shape: (290,)\n",
      "name: Id, shape: Year-2019-Week-19\n",
      "name: X_train, shape: (8036, 1, 4)\n",
      "name: y_train, shape: (8036, 1, 1)\n",
      "name: X_test, shape: (223, 1, 4)\n",
      "name: y_test, shape: (223, 1, 1)\n",
      "name: test_idx, shape: (223,)\n",
      "name: Id, shape: Year-2019-Week-20\n",
      "name: X_train, shape: (8224, 1, 4)\n",
      "name: y_train, shape: (8224, 1, 1)\n",
      "name: X_test, shape: (82, 1, 4)\n",
      "name: y_test, shape: (82, 1, 1)\n",
      "name: test_idx, shape: (82,)\n",
      "name: Id, shape: Year-2019-Week-21\n",
      "name: X_train, shape: (8125, 1, 4)\n",
      "name: y_train, shape: (8125, 1, 1)\n",
      "name: X_test, shape: (219, 1, 4)\n",
      "name: y_test, shape: (219, 1, 1)\n",
      "name: test_idx, shape: (219,)\n",
      "name: Id, shape: Year-2019-Week-22\n",
      "name: X_train, shape: (8050, 1, 4)\n",
      "name: y_train, shape: (8050, 1, 1)\n",
      "name: X_test, shape: (134, 1, 4)\n",
      "name: y_test, shape: (134, 1, 1)\n",
      "name: test_idx, shape: (134,)\n",
      "name: Id, shape: Year-2019-Week-23\n",
      "name: X_train, shape: (7926, 1, 4)\n",
      "name: y_train, shape: (7926, 1, 1)\n",
      "name: X_test, shape: (276, 1, 4)\n",
      "name: y_test, shape: (276, 1, 1)\n",
      "name: test_idx, shape: (276,)\n",
      "name: Id, shape: Year-2019-Week-24\n",
      "name: X_train, shape: (8011, 1, 4)\n",
      "name: y_train, shape: (8011, 1, 1)\n",
      "name: X_test, shape: (281, 1, 4)\n",
      "name: y_test, shape: (281, 1, 1)\n",
      "name: test_idx, shape: (281,)\n",
      "name: Id, shape: Year-2019-Week-25\n",
      "name: X_train, shape: (7998, 1, 4)\n",
      "name: y_train, shape: (7998, 1, 1)\n",
      "name: X_test, shape: (295, 1, 4)\n",
      "name: y_test, shape: (295, 1, 1)\n",
      "name: test_idx, shape: (295,)\n",
      "name: Id, shape: Year-2019-Week-26\n",
      "name: X_train, shape: (8026, 1, 4)\n",
      "name: y_train, shape: (8026, 1, 1)\n",
      "name: X_test, shape: (176, 1, 4)\n",
      "name: y_test, shape: (176, 1, 1)\n",
      "name: test_idx, shape: (176,)\n",
      "name: Id, shape: Year-2019-Week-27\n",
      "name: X_train, shape: (7904, 1, 4)\n",
      "name: y_train, shape: (7904, 1, 1)\n",
      "name: X_test, shape: (166, 1, 4)\n",
      "name: y_test, shape: (166, 1, 1)\n",
      "name: test_idx, shape: (166,)\n",
      "name: Id, shape: Year-2019-Week-28\n",
      "name: X_train, shape: (7932, 1, 4)\n",
      "name: y_train, shape: (7932, 1, 1)\n",
      "name: X_test, shape: (308, 1, 4)\n",
      "name: y_test, shape: (308, 1, 1)\n",
      "name: test_idx, shape: (308,)\n",
      "name: Id, shape: Year-2019-Week-29\n",
      "name: X_train, shape: (8115, 1, 4)\n",
      "name: y_train, shape: (8115, 1, 1)\n",
      "name: X_test, shape: (194, 1, 4)\n",
      "name: y_test, shape: (194, 1, 1)\n",
      "name: test_idx, shape: (194,)\n",
      "name: Id, shape: Year-2019-Week-30\n",
      "name: X_train, shape: (8082, 1, 4)\n",
      "name: y_train, shape: (8082, 1, 1)\n",
      "name: X_test, shape: (244, 1, 4)\n",
      "name: y_test, shape: (244, 1, 1)\n",
      "name: test_idx, shape: (244,)\n",
      "name: Id, shape: Year-2019-Week-31\n",
      "name: X_train, shape: (8177, 1, 4)\n",
      "name: y_train, shape: (8177, 1, 1)\n",
      "name: X_test, shape: (176, 1, 4)\n",
      "name: y_test, shape: (176, 1, 1)\n",
      "name: test_idx, shape: (176,)\n",
      "name: Id, shape: Year-2019-Week-32\n",
      "name: X_train, shape: (8095, 1, 4)\n",
      "name: y_train, shape: (8095, 1, 1)\n",
      "name: X_test, shape: (19, 1, 4)\n",
      "name: y_test, shape: (19, 1, 1)\n",
      "name: test_idx, shape: (19,)\n",
      "name: Id, shape: Year-2019-Week-33\n",
      "name: X_train, shape: (7922, 1, 4)\n",
      "name: y_train, shape: (7922, 1, 1)\n",
      "name: X_test, shape: (125, 1, 4)\n",
      "name: y_test, shape: (125, 1, 1)\n",
      "name: test_idx, shape: (125,)\n",
      "name: Id, shape: Year-2019-Week-34\n",
      "name: X_train, shape: (7823, 1, 4)\n",
      "name: y_train, shape: (7823, 1, 1)\n",
      "name: X_test, shape: (336, 1, 4)\n",
      "name: y_test, shape: (336, 1, 1)\n",
      "name: test_idx, shape: (336,)\n",
      "name: Id, shape: Year-2019-Week-35\n",
      "name: X_train, shape: (7900, 1, 4)\n",
      "name: y_train, shape: (7900, 1, 1)\n",
      "name: X_test, shape: (227, 1, 4)\n",
      "name: y_test, shape: (227, 1, 1)\n",
      "name: test_idx, shape: (227,)\n",
      "name: Id, shape: Year-2019-Week-36\n",
      "name: X_train, shape: (7898, 1, 4)\n",
      "name: y_train, shape: (7898, 1, 1)\n",
      "name: X_test, shape: (227, 1, 4)\n",
      "name: y_test, shape: (227, 1, 1)\n",
      "name: test_idx, shape: (227,)\n",
      "name: Id, shape: Year-2019-Week-37\n",
      "name: X_train, shape: (7912, 1, 4)\n",
      "name: y_train, shape: (7912, 1, 1)\n",
      "name: X_test, shape: (199, 1, 4)\n",
      "name: y_test, shape: (199, 1, 1)\n",
      "name: test_idx, shape: (199,)\n",
      "name: Id, shape: Year-2019-Week-38\n",
      "name: X_train, shape: (7866, 1, 4)\n",
      "name: y_train, shape: (7866, 1, 1)\n",
      "name: X_test, shape: (278, 1, 4)\n",
      "name: y_test, shape: (278, 1, 1)\n",
      "name: test_idx, shape: (278,)\n",
      "name: Id, shape: Year-2019-Week-39\n",
      "name: X_train, shape: (7952, 1, 4)\n",
      "name: y_train, shape: (7952, 1, 1)\n",
      "name: X_test, shape: (331, 1, 4)\n",
      "name: y_test, shape: (331, 1, 1)\n",
      "name: test_idx, shape: (331,)\n",
      "name: Id, shape: Year-2019-Week-40\n",
      "name: X_train, shape: (8098, 1, 4)\n",
      "name: y_train, shape: (8098, 1, 1)\n",
      "name: X_test, shape: (298, 1, 4)\n",
      "name: y_test, shape: (298, 1, 1)\n",
      "name: test_idx, shape: (298,)\n",
      "name: Id, shape: Year-2019-Week-41\n",
      "name: X_train, shape: (8227, 1, 4)\n",
      "name: y_train, shape: (8227, 1, 1)\n",
      "name: X_test, shape: (169, 1, 4)\n",
      "name: y_test, shape: (169, 1, 1)\n",
      "name: test_idx, shape: (169,)\n",
      "name: Id, shape: Year-2019-Week-42\n",
      "name: X_train, shape: (8157, 1, 4)\n",
      "name: y_train, shape: (8157, 1, 1)\n",
      "name: X_test, shape: (167, 1, 4)\n",
      "name: y_test, shape: (167, 1, 1)\n",
      "name: test_idx, shape: (167,)\n",
      "name: Id, shape: Year-2019-Week-43\n",
      "name: X_train, shape: (8115, 1, 4)\n",
      "name: y_train, shape: (8115, 1, 1)\n",
      "name: X_test, shape: (137, 1, 4)\n",
      "name: y_test, shape: (137, 1, 1)\n",
      "name: test_idx, shape: (137,)\n",
      "name: Id, shape: Year-2019-Week-44\n",
      "name: X_train, shape: (8048, 1, 4)\n",
      "name: y_train, shape: (8048, 1, 1)\n",
      "name: X_test, shape: (92, 1, 4)\n",
      "name: y_test, shape: (92, 1, 1)\n",
      "name: test_idx, shape: (92,)\n",
      "name: Id, shape: Year-2019-Week-45\n",
      "name: X_train, shape: (8020, 1, 4)\n",
      "name: y_train, shape: (8020, 1, 1)\n",
      "name: X_test, shape: (34, 1, 4)\n",
      "name: y_test, shape: (34, 1, 1)\n",
      "name: test_idx, shape: (34,)\n",
      "name: Id, shape: Year-2019-Week-46\n",
      "name: X_train, shape: (7747, 1, 4)\n",
      "name: y_train, shape: (7747, 1, 1)\n",
      "name: X_test, shape: (204, 1, 4)\n",
      "name: y_test, shape: (204, 1, 1)\n",
      "name: test_idx, shape: (204,)\n",
      "name: Id, shape: Year-2019-Week-47\n",
      "name: X_train, shape: (7703, 1, 4)\n",
      "name: y_train, shape: (7703, 1, 1)\n",
      "name: X_test, shape: (269, 1, 4)\n",
      "name: y_test, shape: (269, 1, 1)\n",
      "name: test_idx, shape: (269,)\n",
      "name: Id, shape: Year-2019-Week-48\n",
      "name: X_train, shape: (7650, 1, 4)\n",
      "name: y_train, shape: (7650, 1, 1)\n",
      "name: X_test, shape: (175, 1, 4)\n",
      "name: y_test, shape: (175, 1, 1)\n",
      "name: test_idx, shape: (175,)\n",
      "name: Id, shape: Year-2019-Week-49\n",
      "name: X_train, shape: (7641, 1, 4)\n",
      "name: y_train, shape: (7641, 1, 1)\n",
      "name: X_test, shape: (149, 1, 4)\n",
      "name: y_test, shape: (149, 1, 1)\n",
      "name: test_idx, shape: (149,)\n",
      "name: Id, shape: Year-2019-Week-50\n",
      "name: X_train, shape: (7573, 1, 4)\n",
      "name: y_train, shape: (7573, 1, 1)\n",
      "name: X_test, shape: (102, 1, 4)\n",
      "name: y_test, shape: (102, 1, 1)\n",
      "name: test_idx, shape: (102,)\n",
      "name: Id, shape: Year-2019-Week-51\n",
      "name: X_train, shape: (7564, 1, 4)\n",
      "name: y_train, shape: (7564, 1, 1)\n",
      "name: X_test, shape: (295, 1, 4)\n",
      "name: y_test, shape: (295, 1, 1)\n",
      "name: test_idx, shape: (295,)\n"
     ]
    }
   ],
   "source": [
    "for week in weeklist:\n",
    "    for key,value in week.items():\n",
    "        if (key != 'y_scaler') & (key != 'X_scaler') :\n",
    "            print(\"name: {}, shape: {}\".format(key, value.shape if not isinstance(value,str) else value))"
   ]
  },
  {
   "cell_type": "markdown",
   "metadata": {},
   "source": [
    "## Add weekly train test data to modelconfig dictionary for ease of training"
   ]
  },
  {
   "cell_type": "code",
   "execution_count": 22,
   "metadata": {
    "run_control": {
     "marked": true
    }
   },
   "outputs": [],
   "source": [
    "modelconfig['weeklist'] = weeklist"
   ]
  },
  {
   "cell_type": "markdown",
   "metadata": {},
   "source": [
    "##  Clear the Tensorflow graph from previous training"
   ]
  },
  {
   "cell_type": "code",
   "execution_count": 23,
   "metadata": {
    "run_control": {
     "marked": true
    }
   },
   "outputs": [
    {
     "name": "stdout",
     "output_type": "stream",
     "text": [
      "WARNING:tensorflow:From /data/nauga/SmartBuildings/venvs/sbvenv1/lib/python3.6/site-packages/keras/backend/tensorflow_backend.py:95: The name tf.reset_default_graph is deprecated. Please use tf.compat.v1.reset_default_graph instead.\n",
      "\n",
      "WARNING:tensorflow:From /data/nauga/SmartBuildings/venvs/sbvenv1/lib/python3.6/site-packages/keras/backend/tensorflow_backend.py:98: The name tf.placeholder_with_default is deprecated. Please use tf.compat.v1.placeholder_with_default instead.\n",
      "\n",
      "WARNING:tensorflow:From /data/nauga/SmartBuildings/venvs/sbvenv1/lib/python3.6/site-packages/keras/backend/tensorflow_backend.py:102: The name tf.get_default_graph is deprecated. Please use tf.compat.v1.get_default_graph instead.\n",
      "\n"
     ]
    }
   ],
   "source": [
    "K.clear_session()"
   ]
  },
  {
   "cell_type": "markdown",
   "metadata": {},
   "source": [
    "## Inspect model architecture"
   ]
  },
  {
   "cell_type": "code",
   "execution_count": null,
   "metadata": {
    "run_control": {
     "marked": false
    }
   },
   "outputs": [],
   "source": [
    "# weekdata = modelconfig['weeklist'][1]\n",
    "# X_train = weekdata['X_train']\n",
    "# y_train = weekdata['y_train']\n",
    "# X_test = weekdata['X_test']\n",
    "# y_test = weekdata['y_test']\n",
    "# y_scaler = weekdata['y_scaler']\n",
    "\n",
    "# #Instantiate learner model\n",
    "# nn_model = mp.simple_LSTM_model(path,\n",
    "#                       inputdim=X_train.shape[-1],\n",
    "#                       outputdim=y_train.shape[-1],\n",
    "#                       period=period)\n",
    "\n",
    "# # Desing model architecture\n",
    "# nn_model.design_network(lstmhiddenlayers=[modelconfig['lstm_hidden_units']] * (2*modelconfig['lstm_no_layers']),\n",
    "#                    densehiddenlayers=[modelconfig['dense_hidden_units']] * modelconfig['dense_no_layers'],\n",
    "#                    dropoutlist=[[], []],\n",
    "#                    batchnormalizelist=[[], []])\n",
    "\n",
    "# # compile model\n",
    "# nn_model.model_compile()\n",
    "# print(K.get_session())\n",
    "\n",
    "# # nn_model.model.summary()0x7f8d2b89f048  0x7f8ba4767550>\n",
    "\n",
    "# #Instantiate learner model\n",
    "# nn_model2 = mp.simple_LSTM_model(path,\n",
    "#                       inputdim=X_train.shape[-1],\n",
    "#                       outputdim=y_train.shape[-1],\n",
    "#                       period=period)\n",
    "\n",
    "# # Desing model architecture\n",
    "# nn_model2.design_network(lstmhiddenlayers=[modelconfig['lstm_hidden_units']] * (2*modelconfig['lstm_no_layers']),\n",
    "#                    densehiddenlayers=[modelconfig['dense_hidden_units']] * modelconfig['dense_no_layers'],\n",
    "#                    dropoutlist=[[], []],\n",
    "#                    batchnormalizelist=[[], []])\n",
    "\n",
    "# # compile model\n",
    "# nn_model.model_compile()\n",
    "\n",
    "# print(K.get_session())"
   ]
  },
  {
   "cell_type": "markdown",
   "metadata": {},
   "source": [
    "## Train the model"
   ]
  },
  {
   "cell_type": "code",
   "execution_count": 24,
   "metadata": {
    "run_control": {
     "marked": true
    },
    "scrolled": true
   },
   "outputs": [
    {
     "name": "stderr",
     "output_type": "stream",
     "text": [
      "\r",
      "  0%|          | 0/37 [00:00<?, ?it/s]"
     ]
    },
    {
     "name": "stdout",
     "output_type": "stream",
     "text": [
      "WARNING:tensorflow:From /data/nauga/SmartBuildings/venvs/sbvenv1/lib/python3.6/site-packages/keras/backend/tensorflow_backend.py:517: The name tf.placeholder is deprecated. Please use tf.compat.v1.placeholder instead.\n",
      "\n",
      "WARNING:tensorflow:From /data/nauga/SmartBuildings/venvs/sbvenv1/lib/python3.6/site-packages/keras/backend/tensorflow_backend.py:4138: The name tf.random_uniform is deprecated. Please use tf.random.uniform instead.\n",
      "\n",
      "WARNING:tensorflow:From /data/nauga/SmartBuildings/venvs/sbvenv1/lib/python3.6/site-packages/keras/optimizers.py:790: The name tf.train.Optimizer is deprecated. Please use tf.compat.v1.train.Optimizer instead.\n",
      "\n",
      "WARNING:tensorflow:From /data/nauga/SmartBuildings/venvs/sbvenv1/lib/python3.6/site-packages/keras/callbacks.py:850: The name tf.summary.merge_all is deprecated. Please use tf.compat.v1.summary.merge_all instead.\n",
      "\n",
      "WARNING:tensorflow:From /data/nauga/SmartBuildings/venvs/sbvenv1/lib/python3.6/site-packages/keras/callbacks.py:856: The name tf.summary.FileWriter is deprecated. Please use tf.compat.v1.summary.FileWriter instead.\n",
      "\n",
      "Epoch 1/5000\n",
      " - 1s - loss: 0.0180\n",
      "Epoch 2/5000\n",
      " - 1s - loss: 0.0137\n",
      "Epoch 3/5000\n",
      " - 1s - loss: 0.0090\n",
      "Epoch 4/5000\n",
      " - 1s - loss: 0.0075\n",
      "Epoch 5/5000\n",
      " - 1s - loss: 0.0074\n",
      "Epoch 6/5000\n",
      " - 1s - loss: 0.0073\n",
      "Epoch 7/5000\n",
      " - 1s - loss: 0.0076\n",
      "Epoch 8/5000\n",
      " - 1s - loss: 0.0072\n",
      "Epoch 9/5000\n",
      " - 1s - loss: 0.0074\n",
      "Epoch 10/5000\n",
      " - 1s - loss: 0.0074\n",
      "Epoch 11/5000\n",
      " - 1s - loss: 0.0080\n",
      "Epoch 12/5000\n",
      " - 1s - loss: 0.0064\n",
      "Epoch 13/5000\n",
      " - 1s - loss: 0.0062\n",
      "Epoch 14/5000\n",
      " - 1s - loss: 0.0061\n",
      "Epoch 15/5000\n",
      " - 1s - loss: 0.0061\n",
      "Epoch 16/5000\n",
      " - 1s - loss: 0.0060\n",
      "Epoch 17/5000\n",
      " - 1s - loss: 0.0060\n",
      "Epoch 18/5000\n",
      " - 1s - loss: 0.0060\n",
      "Epoch 19/5000\n",
      " - 1s - loss: 0.0060\n",
      "Epoch 20/5000\n",
      " - 1s - loss: 0.0060\n",
      "Epoch 21/5000\n",
      " - 1s - loss: 0.0060\n",
      "Epoch 22/5000\n",
      " - 1s - loss: 0.0060\n",
      "Epoch 23/5000\n",
      " - 1s - loss: 0.0060\n",
      "Epoch 24/5000\n",
      " - 1s - loss: 0.0060\n",
      "Epoch 25/5000\n",
      " - 1s - loss: 0.0060\n",
      "Epoch 26/5000\n",
      " - 1s - loss: 0.0060\n",
      "Epoch 27/5000\n",
      " - 1s - loss: 0.0060\n",
      "Epoch 28/5000\n",
      " - 1s - loss: 0.0060\n",
      "Epoch 29/5000\n",
      " - 1s - loss: 0.0060\n",
      "Epoch 30/5000\n",
      " - 1s - loss: 0.0060\n",
      "Epoch 31/5000\n",
      " - 1s - loss: 0.0060\n",
      "Epoch 32/5000\n",
      " - 1s - loss: 0.0060\n",
      "Epoch 33/5000\n",
      " - 1s - loss: 0.0060\n",
      "Epoch 34/5000\n",
      " - 1s - loss: 0.0060\n",
      "Epoch 35/5000\n",
      " - 1s - loss: 0.0060\n",
      "Epoch 36/5000\n",
      " - 1s - loss: 0.0060\n",
      "Epoch 37/5000\n",
      " - 1s - loss: 0.0060\n",
      "Epoch 38/5000\n",
      " - 1s - loss: 0.0060\n",
      "Epoch 39/5000\n",
      " - 1s - loss: 0.0060\n",
      "Epoch 40/5000\n",
      " - 1s - loss: 0.0060\n",
      "Epoch 41/5000\n",
      " - 1s - loss: 0.0060\n",
      "Epoch 42/5000\n",
      " - 1s - loss: 0.0060\n",
      "Epoch 43/5000\n",
      " - 1s - loss: 0.0060\n",
      "Epoch 44/5000\n",
      " - 1s - loss: 0.0060\n",
      "Epoch 45/5000\n",
      " - 1s - loss: 0.0060\n"
     ]
    },
    {
     "name": "stderr",
     "output_type": "stream",
     "text": [
      "\r",
      "  3%|▎         | 1/37 [00:33<19:51, 33.10s/it]"
     ]
    },
    {
     "name": "stdout",
     "output_type": "stream",
     "text": [
      "Epoch 46/5000\n",
      " - 1s - loss: 0.0118\n",
      "Epoch 47/5000\n",
      " - 1s - loss: 0.0086\n",
      "Epoch 48/5000\n",
      " - 1s - loss: 0.0082\n",
      "Epoch 49/5000\n",
      " - 1s - loss: 0.0076\n",
      "Epoch 50/5000\n",
      " - 1s - loss: 0.0076\n",
      "Epoch 51/5000\n",
      " - 1s - loss: 0.0072\n",
      "Epoch 52/5000\n",
      " - 1s - loss: 0.0073\n",
      "Epoch 53/5000\n",
      " - 1s - loss: 0.0071\n",
      "Epoch 54/5000\n",
      " - 1s - loss: 0.0072\n",
      "Epoch 55/5000\n",
      " - 1s - loss: 0.0071\n",
      "Epoch 56/5000\n",
      " - 1s - loss: 0.0077\n",
      "Epoch 57/5000\n",
      " - 1s - loss: 0.0064\n",
      "Epoch 58/5000\n",
      " - 1s - loss: 0.0061\n",
      "Epoch 59/5000\n",
      " - 1s - loss: 0.0061\n",
      "Epoch 60/5000\n",
      " - 1s - loss: 0.0061\n",
      "Epoch 61/5000\n",
      " - 1s - loss: 0.0060\n",
      "Epoch 62/5000\n",
      " - 1s - loss: 0.0060\n",
      "Epoch 63/5000\n",
      " - 1s - loss: 0.0060\n",
      "Epoch 64/5000\n",
      " - 1s - loss: 0.0060\n",
      "Epoch 65/5000\n",
      " - 1s - loss: 0.0060\n",
      "Epoch 66/5000\n",
      " - 1s - loss: 0.0060\n",
      "Epoch 67/5000\n",
      " - 1s - loss: 0.0060\n",
      "Epoch 68/5000\n",
      " - 1s - loss: 0.0060\n",
      "Epoch 69/5000\n",
      " - 1s - loss: 0.0060\n",
      "Epoch 70/5000\n",
      " - 1s - loss: 0.0060\n",
      "Epoch 71/5000\n",
      " - 1s - loss: 0.0060\n",
      "Epoch 72/5000\n",
      " - 1s - loss: 0.0060\n",
      "Epoch 73/5000\n",
      " - 1s - loss: 0.0060\n",
      "Epoch 74/5000\n",
      " - 1s - loss: 0.0060\n",
      "Epoch 75/5000\n",
      " - 1s - loss: 0.0060\n",
      "Epoch 76/5000\n",
      " - 1s - loss: 0.0060\n",
      "Epoch 77/5000\n",
      " - 1s - loss: 0.0060\n",
      "Epoch 78/5000\n",
      " - 1s - loss: 0.0060\n",
      "Epoch 79/5000\n",
      " - 1s - loss: 0.0060\n",
      "Epoch 80/5000\n",
      " - 1s - loss: 0.0060\n",
      "Epoch 81/5000\n",
      " - 1s - loss: 0.0060\n",
      "Epoch 82/5000\n",
      " - 1s - loss: 0.0060\n",
      "Epoch 83/5000\n",
      " - 1s - loss: 0.0060\n",
      "Epoch 84/5000\n",
      " - 1s - loss: 0.0060\n",
      "Epoch 85/5000\n",
      " - 1s - loss: 0.0060\n",
      "Epoch 86/5000\n",
      " - 1s - loss: 0.0060\n",
      "Epoch 87/5000\n",
      " - 1s - loss: 0.0060\n",
      "Epoch 88/5000\n",
      " - 1s - loss: 0.0060\n",
      "Epoch 89/5000\n",
      " - 1s - loss: 0.0060\n"
     ]
    },
    {
     "name": "stderr",
     "output_type": "stream",
     "text": [
      "\r",
      "  5%|▌         | 2/37 [01:05<19:13, 32.95s/it]"
     ]
    },
    {
     "name": "stdout",
     "output_type": "stream",
     "text": [
      "Epoch 90/5000\n",
      " - 1s - loss: 0.0073\n",
      "Epoch 91/5000\n",
      " - 1s - loss: 0.0072\n",
      "Epoch 92/5000\n",
      " - 1s - loss: 0.0070\n",
      "Epoch 93/5000\n",
      " - 1s - loss: 0.0069\n",
      "Epoch 94/5000\n",
      " - 1s - loss: 0.0069\n",
      "Epoch 95/5000\n",
      " - 1s - loss: 0.0068\n",
      "Epoch 96/5000\n",
      " - 1s - loss: 0.0068\n",
      "Epoch 97/5000\n",
      " - 1s - loss: 0.0075\n",
      "Epoch 98/5000\n",
      " - 1s - loss: 0.0062\n",
      "Epoch 99/5000\n",
      " - 1s - loss: 0.0060\n",
      "Epoch 100/5000\n",
      " - 1s - loss: 0.0059\n",
      "Epoch 101/5000\n",
      " - 1s - loss: 0.0059\n",
      "Epoch 102/5000\n",
      " - 1s - loss: 0.0059\n",
      "Epoch 103/5000\n",
      " - 1s - loss: 0.0059\n",
      "Epoch 104/5000\n",
      " - 1s - loss: 0.0058\n",
      "Epoch 105/5000\n",
      " - 1s - loss: 0.0058\n",
      "Epoch 106/5000\n",
      " - 1s - loss: 0.0058\n",
      "Epoch 107/5000\n",
      " - 1s - loss: 0.0058\n",
      "Epoch 108/5000\n",
      " - 1s - loss: 0.0058\n",
      "Epoch 109/5000\n",
      " - 1s - loss: 0.0058\n",
      "Epoch 110/5000\n",
      " - 1s - loss: 0.0058\n",
      "Epoch 111/5000\n",
      " - 1s - loss: 0.0058\n",
      "Epoch 112/5000\n",
      " - 1s - loss: 0.0058\n",
      "Epoch 113/5000\n",
      " - 1s - loss: 0.0058\n",
      "Epoch 114/5000\n",
      " - 1s - loss: 0.0058\n",
      "Epoch 115/5000\n",
      " - 1s - loss: 0.0058\n",
      "Epoch 116/5000\n",
      " - 1s - loss: 0.0058\n",
      "Epoch 117/5000\n",
      " - 1s - loss: 0.0058\n",
      "Epoch 118/5000\n",
      " - 1s - loss: 0.0058\n",
      "Epoch 119/5000\n",
      " - 1s - loss: 0.0058\n",
      "Epoch 120/5000\n",
      " - 1s - loss: 0.0058\n",
      "Epoch 121/5000\n",
      " - 1s - loss: 0.0058\n",
      "Epoch 122/5000\n",
      " - 1s - loss: 0.0058\n",
      "Epoch 123/5000\n",
      " - 1s - loss: 0.0058\n",
      "Epoch 124/5000\n",
      " - 1s - loss: 0.0058\n",
      "Epoch 125/5000\n",
      " - 1s - loss: 0.0058\n",
      "Epoch 126/5000\n",
      " - 1s - loss: 0.0058\n",
      "Epoch 127/5000\n",
      " - 1s - loss: 0.0058\n"
     ]
    },
    {
     "name": "stderr",
     "output_type": "stream",
     "text": [
      "\r",
      "  8%|▊         | 3/37 [01:34<17:58, 31.71s/it]"
     ]
    },
    {
     "name": "stdout",
     "output_type": "stream",
     "text": [
      "Epoch 128/5000\n",
      " - 1s - loss: 0.0066\n",
      "Epoch 129/5000\n",
      " - 1s - loss: 0.0069\n",
      "Epoch 130/5000\n",
      " - 1s - loss: 0.0068\n",
      "Epoch 131/5000\n",
      " - 1s - loss: 0.0073\n",
      "Epoch 132/5000\n",
      " - 1s - loss: 0.0061\n",
      "Epoch 133/5000\n",
      " - 1s - loss: 0.0059\n",
      "Epoch 134/5000\n",
      " - 1s - loss: 0.0059\n",
      "Epoch 135/5000\n",
      " - 1s - loss: 0.0059\n",
      "Epoch 136/5000\n",
      " - 1s - loss: 0.0058\n",
      "Epoch 137/5000\n",
      " - 1s - loss: 0.0058\n",
      "Epoch 138/5000\n",
      " - 1s - loss: 0.0058\n",
      "Epoch 139/5000\n",
      " - 1s - loss: 0.0058\n",
      "Epoch 140/5000\n",
      " - 1s - loss: 0.0058\n",
      "Epoch 141/5000\n",
      " - 1s - loss: 0.0058\n",
      "Epoch 142/5000\n",
      " - 1s - loss: 0.0058\n",
      "Epoch 143/5000\n",
      " - 1s - loss: 0.0058\n",
      "Epoch 144/5000\n",
      " - 1s - loss: 0.0058\n",
      "Epoch 145/5000\n",
      " - 1s - loss: 0.0058\n",
      "Epoch 146/5000\n",
      " - 1s - loss: 0.0058\n",
      "Epoch 147/5000\n",
      " - 1s - loss: 0.0058\n",
      "Epoch 148/5000\n",
      " - 1s - loss: 0.0058\n",
      "Epoch 149/5000\n",
      " - 1s - loss: 0.0058\n",
      "Epoch 150/5000\n",
      " - 1s - loss: 0.0058\n",
      "Epoch 151/5000\n",
      " - 1s - loss: 0.0058\n",
      "Epoch 152/5000\n",
      " - 1s - loss: 0.0058\n",
      "Epoch 153/5000\n",
      " - 1s - loss: 0.0058\n",
      "Epoch 154/5000\n",
      " - 1s - loss: 0.0058\n",
      "Epoch 155/5000\n",
      " - 1s - loss: 0.0058\n",
      "Epoch 156/5000\n",
      " - 1s - loss: 0.0058\n",
      "Epoch 157/5000\n",
      " - 1s - loss: 0.0058\n",
      "Epoch 158/5000\n",
      " - 1s - loss: 0.0058\n",
      "Epoch 159/5000\n",
      " - 1s - loss: 0.0058\n",
      "Epoch 160/5000\n",
      " - 1s - loss: 0.0058\n",
      "Epoch 161/5000\n",
      " - 1s - loss: 0.0058\n"
     ]
    },
    {
     "name": "stderr",
     "output_type": "stream",
     "text": [
      "\r",
      " 11%|█         | 4/37 [02:00<16:31, 30.03s/it]"
     ]
    },
    {
     "name": "stdout",
     "output_type": "stream",
     "text": [
      "Epoch 162/5000\n",
      " - 1s - loss: 0.0064\n",
      "Epoch 163/5000\n",
      " - 1s - loss: 0.0066\n",
      "Epoch 164/5000\n",
      " - 1s - loss: 0.0065\n",
      "Epoch 165/5000\n",
      " - 1s - loss: 0.0069\n",
      "Epoch 166/5000\n",
      " - 1s - loss: 0.0059\n",
      "Epoch 167/5000\n",
      " - 1s - loss: 0.0058\n",
      "Epoch 168/5000\n",
      " - 1s - loss: 0.0058\n",
      "Epoch 169/5000\n",
      " - 1s - loss: 0.0058\n",
      "Epoch 170/5000\n",
      " - 1s - loss: 0.0057\n",
      "Epoch 171/5000\n",
      " - 1s - loss: 0.0057\n",
      "Epoch 172/5000\n",
      " - 1s - loss: 0.0057\n",
      "Epoch 173/5000\n",
      " - 1s - loss: 0.0057\n",
      "Epoch 174/5000\n",
      " - 1s - loss: 0.0057\n",
      "Epoch 175/5000\n",
      " - 1s - loss: 0.0057\n",
      "Epoch 176/5000\n",
      " - 1s - loss: 0.0057\n",
      "Epoch 177/5000\n",
      " - 1s - loss: 0.0057\n",
      "Epoch 178/5000\n",
      " - 1s - loss: 0.0057\n",
      "Epoch 179/5000\n",
      " - 1s - loss: 0.0057\n",
      "Epoch 180/5000\n",
      " - 1s - loss: 0.0057\n",
      "Epoch 181/5000\n",
      " - 1s - loss: 0.0057\n",
      "Epoch 182/5000\n",
      " - 1s - loss: 0.0057\n",
      "Epoch 183/5000\n",
      " - 1s - loss: 0.0057\n",
      "Epoch 184/5000\n",
      " - 1s - loss: 0.0057\n",
      "Epoch 185/5000\n",
      " - 1s - loss: 0.0057\n",
      "Epoch 186/5000\n",
      " - 1s - loss: 0.0057\n",
      "Epoch 187/5000\n",
      " - 1s - loss: 0.0057\n",
      "Epoch 188/5000\n",
      " - 1s - loss: 0.0057\n",
      "Epoch 189/5000\n",
      " - 1s - loss: 0.0057\n",
      "Epoch 190/5000\n",
      " - 1s - loss: 0.0057\n",
      "Epoch 191/5000\n",
      " - 1s - loss: 0.0057\n",
      "Epoch 192/5000\n",
      " - 1s - loss: 0.0057\n",
      "Epoch 193/5000\n",
      " - 1s - loss: 0.0057\n",
      "Epoch 194/5000\n",
      " - 1s - loss: 0.0057\n",
      "Epoch 195/5000\n",
      " - 1s - loss: 0.0057\n",
      "Epoch 196/5000\n",
      " - 1s - loss: 0.0057\n"
     ]
    },
    {
     "name": "stderr",
     "output_type": "stream",
     "text": [
      "\r",
      " 14%|█▎        | 5/37 [02:27<15:35, 29.23s/it]"
     ]
    },
    {
     "name": "stdout",
     "output_type": "stream",
     "text": [
      "Epoch 197/5000\n",
      " - 1s - loss: 0.0063\n",
      "Epoch 198/5000\n",
      " - 1s - loss: 0.0063\n",
      "Epoch 199/5000\n",
      " - 1s - loss: 0.0063\n",
      "Epoch 200/5000\n",
      " - 1s - loss: 0.0066\n",
      "Epoch 201/5000\n",
      " - 1s - loss: 0.0058\n",
      "Epoch 202/5000\n",
      " - 1s - loss: 0.0057\n",
      "Epoch 203/5000\n",
      " - 1s - loss: 0.0056\n",
      "Epoch 204/5000\n",
      " - 1s - loss: 0.0056\n",
      "Epoch 205/5000\n",
      " - 1s - loss: 0.0056\n",
      "Epoch 206/5000\n",
      " - 1s - loss: 0.0056\n",
      "Epoch 207/5000\n",
      " - 1s - loss: 0.0056\n",
      "Epoch 208/5000\n",
      " - 1s - loss: 0.0056\n",
      "Epoch 209/5000\n",
      " - 1s - loss: 0.0056\n",
      "Epoch 210/5000\n",
      " - 1s - loss: 0.0055\n",
      "Epoch 211/5000\n",
      " - 1s - loss: 0.0055\n",
      "Epoch 212/5000\n",
      " - 1s - loss: 0.0055\n",
      "Epoch 213/5000\n",
      " - 1s - loss: 0.0055\n",
      "Epoch 214/5000\n",
      " - 1s - loss: 0.0055\n",
      "Epoch 215/5000\n",
      " - 1s - loss: 0.0055\n",
      "Epoch 216/5000\n",
      " - 1s - loss: 0.0055\n",
      "Epoch 217/5000\n",
      " - 1s - loss: 0.0055\n",
      "Epoch 218/5000\n",
      " - 1s - loss: 0.0055\n",
      "Epoch 219/5000\n",
      " - 1s - loss: 0.0055\n",
      "Epoch 220/5000\n",
      " - 1s - loss: 0.0055\n",
      "Epoch 221/5000\n",
      " - 1s - loss: 0.0055\n",
      "Epoch 222/5000\n",
      " - 1s - loss: 0.0055\n",
      "Epoch 223/5000\n",
      " - 1s - loss: 0.0055\n",
      "Epoch 224/5000\n",
      " - 1s - loss: 0.0055\n",
      "Epoch 225/5000\n",
      " - 1s - loss: 0.0055\n",
      "Epoch 226/5000\n",
      " - 1s - loss: 0.0055\n",
      "Epoch 227/5000\n",
      " - 1s - loss: 0.0055\n",
      "Epoch 228/5000\n",
      " - 1s - loss: 0.0055\n",
      "Epoch 229/5000\n",
      " - 1s - loss: 0.0055\n",
      "Epoch 230/5000\n",
      " - 1s - loss: 0.0055\n",
      "Epoch 231/5000\n",
      " - 1s - loss: 0.0055\n"
     ]
    },
    {
     "name": "stderr",
     "output_type": "stream",
     "text": [
      "\r",
      " 16%|█▌        | 6/37 [02:55<14:52, 28.78s/it]"
     ]
    },
    {
     "name": "stdout",
     "output_type": "stream",
     "text": [
      "Epoch 232/5000\n",
      " - 1s - loss: 0.0062\n",
      "Epoch 233/5000\n",
      " - 1s - loss: 0.0064\n",
      "Epoch 234/5000\n",
      " - 1s - loss: 0.0063\n",
      "Epoch 235/5000\n",
      " - 1s - loss: 0.0068\n",
      "Epoch 236/5000\n",
      " - 1s - loss: 0.0058\n",
      "Epoch 237/5000\n",
      " - 1s - loss: 0.0057\n",
      "Epoch 238/5000\n",
      " - 1s - loss: 0.0057\n",
      "Epoch 239/5000\n",
      " - 1s - loss: 0.0057\n",
      "Epoch 240/5000\n",
      " - 1s - loss: 0.0057\n",
      "Epoch 241/5000\n",
      " - 1s - loss: 0.0056\n",
      "Epoch 242/5000\n",
      " - 1s - loss: 0.0056\n",
      "Epoch 243/5000\n",
      " - 1s - loss: 0.0056\n",
      "Epoch 244/5000\n",
      " - 1s - loss: 0.0056\n",
      "Epoch 245/5000\n",
      " - 1s - loss: 0.0056\n",
      "Epoch 246/5000\n",
      " - 1s - loss: 0.0056\n",
      "Epoch 247/5000\n",
      " - 1s - loss: 0.0056\n",
      "Epoch 248/5000\n",
      " - 1s - loss: 0.0056\n",
      "Epoch 249/5000\n",
      " - 1s - loss: 0.0056\n",
      "Epoch 250/5000\n",
      " - 1s - loss: 0.0056\n",
      "Epoch 251/5000\n",
      " - 1s - loss: 0.0056\n",
      "Epoch 252/5000\n",
      " - 1s - loss: 0.0056\n",
      "Epoch 253/5000\n",
      " - 1s - loss: 0.0056\n",
      "Epoch 254/5000\n",
      " - 1s - loss: 0.0056\n",
      "Epoch 255/5000\n",
      " - 1s - loss: 0.0056\n",
      "Epoch 256/5000\n",
      " - 1s - loss: 0.0056\n",
      "Epoch 257/5000\n",
      " - 1s - loss: 0.0056\n",
      "Epoch 258/5000\n",
      " - 1s - loss: 0.0056\n",
      "Epoch 259/5000\n",
      " - 1s - loss: 0.0056\n",
      "Epoch 260/5000\n",
      " - 1s - loss: 0.0056\n",
      "Epoch 261/5000\n",
      " - 1s - loss: 0.0056\n",
      "Epoch 262/5000\n",
      " - 1s - loss: 0.0056\n",
      "Epoch 263/5000\n",
      " - 1s - loss: 0.0056\n",
      "Epoch 264/5000\n",
      " - 1s - loss: 0.0056\n",
      "Epoch 265/5000\n",
      " - 1s - loss: 0.0056\n",
      "Epoch 266/5000\n",
      " - 1s - loss: 0.0056\n",
      "Epoch 267/5000\n",
      " - 1s - loss: 0.0056\n",
      "Epoch 268/5000\n",
      " - 1s - loss: 0.0056\n",
      "Epoch 269/5000\n",
      " - 1s - loss: 0.0056\n"
     ]
    },
    {
     "name": "stderr",
     "output_type": "stream",
     "text": [
      "\r",
      " 19%|█▉        | 7/37 [03:25<14:31, 29.04s/it]"
     ]
    },
    {
     "name": "stdout",
     "output_type": "stream",
     "text": [
      "Epoch 270/5000\n",
      " - 1s - loss: 0.0063\n",
      "Epoch 271/5000\n",
      " - 1s - loss: 0.0064\n",
      "Epoch 272/5000\n",
      " - 1s - loss: 0.0064\n",
      "Epoch 273/5000\n",
      " - 1s - loss: 0.0066\n",
      "Epoch 274/5000\n",
      " - 1s - loss: 0.0058\n",
      "Epoch 275/5000\n",
      " - 1s - loss: 0.0058\n",
      "Epoch 276/5000\n",
      " - 1s - loss: 0.0057\n",
      "Epoch 277/5000\n",
      " - 1s - loss: 0.0057\n",
      "Epoch 278/5000\n",
      " - 1s - loss: 0.0057\n",
      "Epoch 279/5000\n",
      " - 1s - loss: 0.0057\n",
      "Epoch 280/5000\n",
      " - 1s - loss: 0.0057\n",
      "Epoch 281/5000\n",
      " - 1s - loss: 0.0057\n",
      "Epoch 282/5000\n",
      " - 1s - loss: 0.0057\n",
      "Epoch 283/5000\n",
      " - 1s - loss: 0.0056\n",
      "Epoch 284/5000\n",
      " - 1s - loss: 0.0056\n",
      "Epoch 285/5000\n",
      " - 1s - loss: 0.0056\n",
      "Epoch 286/5000\n",
      " - 1s - loss: 0.0056\n",
      "Epoch 287/5000\n",
      " - 1s - loss: 0.0056\n",
      "Epoch 288/5000\n",
      " - 1s - loss: 0.0056\n",
      "Epoch 289/5000\n",
      " - 1s - loss: 0.0056\n",
      "Epoch 290/5000\n",
      " - 1s - loss: 0.0056\n",
      "Epoch 291/5000\n",
      " - 1s - loss: 0.0056\n",
      "Epoch 292/5000\n",
      " - 1s - loss: 0.0056\n",
      "Epoch 293/5000\n",
      " - 1s - loss: 0.0056\n",
      "Epoch 294/5000\n",
      " - 1s - loss: 0.0056\n",
      "Epoch 295/5000\n",
      " - 1s - loss: 0.0056\n",
      "Epoch 296/5000\n",
      " - 1s - loss: 0.0056\n",
      "Epoch 297/5000\n",
      " - 1s - loss: 0.0056\n",
      "Epoch 298/5000\n",
      " - 1s - loss: 0.0056\n",
      "Epoch 299/5000\n",
      " - 1s - loss: 0.0056\n",
      "Epoch 300/5000\n",
      " - 1s - loss: 0.0056\n",
      "Epoch 301/5000\n",
      " - 1s - loss: 0.0056\n",
      "Epoch 302/5000\n",
      " - 1s - loss: 0.0056\n",
      "Epoch 303/5000\n",
      " - 1s - loss: 0.0056\n",
      "Epoch 304/5000\n",
      " - 1s - loss: 0.0056\n"
     ]
    },
    {
     "name": "stderr",
     "output_type": "stream",
     "text": [
      "\r",
      " 22%|██▏       | 8/37 [03:52<13:47, 28.52s/it]"
     ]
    },
    {
     "name": "stdout",
     "output_type": "stream",
     "text": [
      "Epoch 305/5000\n",
      " - 1s - loss: 0.0064\n",
      "Epoch 306/5000\n",
      " - 1s - loss: 0.0064\n",
      "Epoch 307/5000\n",
      " - 1s - loss: 0.0064\n",
      "Epoch 308/5000\n",
      " - 1s - loss: 0.0066\n",
      "Epoch 309/5000\n",
      " - 1s - loss: 0.0059\n",
      "Epoch 310/5000\n",
      " - 1s - loss: 0.0058\n",
      "Epoch 311/5000\n",
      " - 1s - loss: 0.0058\n",
      "Epoch 312/5000\n",
      " - 1s - loss: 0.0058\n",
      "Epoch 313/5000\n",
      " - 1s - loss: 0.0058\n",
      "Epoch 314/5000\n",
      " - 1s - loss: 0.0057\n",
      "Epoch 315/5000\n",
      " - 1s - loss: 0.0057\n",
      "Epoch 316/5000\n",
      " - 1s - loss: 0.0057\n",
      "Epoch 317/5000\n",
      " - 1s - loss: 0.0057\n",
      "Epoch 318/5000\n",
      " - 1s - loss: 0.0057\n",
      "Epoch 319/5000\n",
      " - 1s - loss: 0.0057\n",
      "Epoch 320/5000\n",
      " - 1s - loss: 0.0057\n",
      "Epoch 321/5000\n",
      " - 1s - loss: 0.0057\n",
      "Epoch 322/5000\n",
      " - 1s - loss: 0.0057\n",
      "Epoch 323/5000\n",
      " - 1s - loss: 0.0057\n",
      "Epoch 324/5000\n",
      " - 1s - loss: 0.0057\n",
      "Epoch 325/5000\n",
      " - 1s - loss: 0.0057\n",
      "Epoch 326/5000\n",
      " - 1s - loss: 0.0057\n",
      "Epoch 327/5000\n",
      " - 1s - loss: 0.0057\n",
      "Epoch 328/5000\n",
      " - 1s - loss: 0.0057\n",
      "Epoch 329/5000\n",
      " - 1s - loss: 0.0057\n",
      "Epoch 330/5000\n",
      " - 1s - loss: 0.0057\n",
      "Epoch 331/5000\n",
      " - 1s - loss: 0.0057\n",
      "Epoch 332/5000\n",
      " - 1s - loss: 0.0057\n",
      "Epoch 333/5000\n",
      " - 1s - loss: 0.0057\n",
      "Epoch 334/5000\n",
      " - 1s - loss: 0.0057\n",
      "Epoch 335/5000\n",
      " - 1s - loss: 0.0057\n",
      "Epoch 336/5000\n",
      " - 1s - loss: 0.0057\n",
      "Epoch 337/5000\n",
      " - 1s - loss: 0.0057\n"
     ]
    },
    {
     "name": "stderr",
     "output_type": "stream",
     "text": [
      "\r",
      " 24%|██▍       | 9/37 [04:17<12:51, 27.54s/it]"
     ]
    },
    {
     "name": "stdout",
     "output_type": "stream",
     "text": [
      "Epoch 338/5000\n",
      " - 1s - loss: 0.0064\n",
      "Epoch 339/5000\n",
      " - 1s - loss: 0.0063\n",
      "Epoch 340/5000\n",
      " - 1s - loss: 0.0063\n",
      "Epoch 341/5000\n",
      " - 1s - loss: 0.0064\n",
      "Epoch 342/5000\n",
      " - 1s - loss: 0.0058\n",
      "Epoch 343/5000\n",
      " - 1s - loss: 0.0058\n",
      "Epoch 344/5000\n",
      " - 1s - loss: 0.0057\n",
      "Epoch 345/5000\n",
      " - 1s - loss: 0.0057\n",
      "Epoch 346/5000\n",
      " - 1s - loss: 0.0057\n",
      "Epoch 347/5000\n",
      " - 1s - loss: 0.0057\n",
      "Epoch 348/5000\n",
      " - 1s - loss: 0.0057\n",
      "Epoch 349/5000\n",
      " - 1s - loss: 0.0057\n",
      "Epoch 350/5000\n",
      " - 1s - loss: 0.0057\n",
      "Epoch 351/5000\n",
      " - 1s - loss: 0.0057\n",
      "Epoch 352/5000\n",
      " - 1s - loss: 0.0057\n",
      "Epoch 353/5000\n",
      " - 1s - loss: 0.0057\n",
      "Epoch 354/5000\n",
      " - 1s - loss: 0.0057\n",
      "Epoch 355/5000\n",
      " - 1s - loss: 0.0057\n",
      "Epoch 356/5000\n",
      " - 1s - loss: 0.0057\n",
      "Epoch 357/5000\n",
      " - 1s - loss: 0.0057\n",
      "Epoch 358/5000\n",
      " - 1s - loss: 0.0057\n",
      "Epoch 359/5000\n",
      " - 1s - loss: 0.0057\n",
      "Epoch 360/5000\n",
      " - 1s - loss: 0.0057\n",
      "Epoch 361/5000\n",
      " - 1s - loss: 0.0057\n",
      "Epoch 362/5000\n",
      " - 1s - loss: 0.0057\n",
      "Epoch 363/5000\n",
      " - 1s - loss: 0.0057\n",
      "Epoch 364/5000\n",
      " - 1s - loss: 0.0057\n",
      "Epoch 365/5000\n",
      " - 1s - loss: 0.0057\n",
      "Epoch 366/5000\n",
      " - 1s - loss: 0.0057\n",
      "Epoch 367/5000\n",
      " - 1s - loss: 0.0057\n",
      "Epoch 368/5000\n",
      " - 1s - loss: 0.0057\n",
      "Epoch 369/5000\n",
      " - 1s - loss: 0.0057\n",
      "Epoch 370/5000\n",
      " - 1s - loss: 0.0057\n",
      "Epoch 371/5000\n",
      " - 1s - loss: 0.0057\n",
      "Epoch 372/5000\n",
      " - 1s - loss: 0.0057\n",
      "Epoch 373/5000\n",
      " - 1s - loss: 0.0057\n",
      "Epoch 374/5000\n",
      " - 1s - loss: 0.0057\n"
     ]
    },
    {
     "name": "stderr",
     "output_type": "stream",
     "text": [
      "\r",
      " 27%|██▋       | 10/37 [04:46<12:35, 27.97s/it]"
     ]
    },
    {
     "name": "stdout",
     "output_type": "stream",
     "text": [
      "Epoch 375/5000\n",
      " - 1s - loss: 0.0062\n",
      "Epoch 376/5000\n",
      " - 1s - loss: 0.0063\n",
      "Epoch 377/5000\n",
      " - 1s - loss: 0.0063\n",
      "Epoch 378/5000\n",
      " - 1s - loss: 0.0064\n",
      "Epoch 379/5000\n",
      " - 1s - loss: 0.0058\n",
      "Epoch 380/5000\n",
      " - 1s - loss: 0.0058\n",
      "Epoch 381/5000\n",
      " - 1s - loss: 0.0057\n",
      "Epoch 382/5000\n",
      " - 1s - loss: 0.0057\n",
      "Epoch 383/5000\n",
      " - 1s - loss: 0.0057\n",
      "Epoch 384/5000\n",
      " - 1s - loss: 0.0057\n",
      "Epoch 385/5000\n",
      " - 1s - loss: 0.0057\n",
      "Epoch 386/5000\n",
      " - 1s - loss: 0.0057\n",
      "Epoch 387/5000\n",
      " - 1s - loss: 0.0057\n",
      "Epoch 388/5000\n",
      " - 1s - loss: 0.0057\n",
      "Epoch 389/5000\n",
      " - 1s - loss: 0.0057\n",
      "Epoch 390/5000\n",
      " - 1s - loss: 0.0057\n",
      "Epoch 391/5000\n",
      " - 1s - loss: 0.0057\n",
      "Epoch 392/5000\n",
      " - 1s - loss: 0.0057\n",
      "Epoch 393/5000\n",
      " - 1s - loss: 0.0057\n",
      "Epoch 394/5000\n",
      " - 1s - loss: 0.0056\n",
      "Epoch 395/5000\n",
      " - 1s - loss: 0.0056\n",
      "Epoch 396/5000\n",
      " - 1s - loss: 0.0056\n",
      "Epoch 397/5000\n",
      " - 1s - loss: 0.0056\n",
      "Epoch 398/5000\n",
      " - 1s - loss: 0.0056\n",
      "Epoch 399/5000\n",
      " - 1s - loss: 0.0056\n",
      "Epoch 400/5000\n",
      " - 1s - loss: 0.0056\n",
      "Epoch 401/5000\n",
      " - 1s - loss: 0.0056\n",
      "Epoch 402/5000\n",
      " - 1s - loss: 0.0056\n",
      "Epoch 403/5000\n",
      " - 1s - loss: 0.0056\n",
      "Epoch 404/5000\n",
      " - 1s - loss: 0.0056\n",
      "Epoch 405/5000\n",
      " - 1s - loss: 0.0056\n",
      "Epoch 406/5000\n",
      " - 1s - loss: 0.0056\n",
      "Epoch 407/5000\n",
      " - 1s - loss: 0.0056\n"
     ]
    },
    {
     "name": "stderr",
     "output_type": "stream",
     "text": [
      "\r",
      " 30%|██▉       | 11/37 [05:12<11:50, 27.31s/it]"
     ]
    },
    {
     "name": "stdout",
     "output_type": "stream",
     "text": [
      "Epoch 408/5000\n",
      " - 1s - loss: 0.0062\n",
      "Epoch 409/5000\n",
      " - 1s - loss: 0.0062\n",
      "Epoch 410/5000\n",
      " - 1s - loss: 0.0063\n",
      "Epoch 411/5000\n",
      " - 1s - loss: 0.0064\n",
      "Epoch 412/5000\n",
      " - 1s - loss: 0.0058\n",
      "Epoch 413/5000\n",
      " - 1s - loss: 0.0057\n",
      "Epoch 414/5000\n",
      " - 1s - loss: 0.0057\n",
      "Epoch 415/5000\n",
      " - 1s - loss: 0.0056\n",
      "Epoch 416/5000\n",
      " - 1s - loss: 0.0056\n",
      "Epoch 417/5000\n",
      " - 1s - loss: 0.0056\n",
      "Epoch 418/5000\n",
      " - 1s - loss: 0.0056\n",
      "Epoch 419/5000\n",
      " - 1s - loss: 0.0056\n",
      "Epoch 420/5000\n",
      " - 1s - loss: 0.0056\n",
      "Epoch 421/5000\n",
      " - 1s - loss: 0.0056\n",
      "Epoch 422/5000\n",
      " - 1s - loss: 0.0056\n",
      "Epoch 423/5000\n",
      " - 1s - loss: 0.0056\n",
      "Epoch 424/5000\n",
      " - 1s - loss: 0.0056\n",
      "Epoch 425/5000\n",
      " - 1s - loss: 0.0056\n",
      "Epoch 426/5000\n",
      " - 1s - loss: 0.0056\n",
      "Epoch 427/5000\n",
      " - 1s - loss: 0.0056\n",
      "Epoch 428/5000\n",
      " - 1s - loss: 0.0056\n",
      "Epoch 429/5000\n",
      " - 1s - loss: 0.0056\n",
      "Epoch 430/5000\n",
      " - 1s - loss: 0.0056\n",
      "Epoch 431/5000\n",
      " - 1s - loss: 0.0056\n",
      "Epoch 432/5000\n",
      " - 1s - loss: 0.0056\n",
      "Epoch 433/5000\n",
      " - 1s - loss: 0.0056\n",
      "Epoch 434/5000\n",
      " - 1s - loss: 0.0056\n",
      "Epoch 435/5000\n",
      " - 1s - loss: 0.0056\n",
      "Epoch 436/5000\n",
      " - 1s - loss: 0.0056\n",
      "Epoch 437/5000\n",
      " - 1s - loss: 0.0056\n",
      "Epoch 438/5000\n",
      " - 1s - loss: 0.0056\n",
      "Epoch 439/5000\n",
      " - 1s - loss: 0.0056\n",
      "Epoch 440/5000\n",
      " - 1s - loss: 0.0056\n",
      "Epoch 441/5000\n",
      " - 1s - loss: 0.0056\n",
      "Epoch 442/5000\n",
      " - 1s - loss: 0.0056\n",
      "Epoch 443/5000\n",
      " - 1s - loss: 0.0056\n"
     ]
    },
    {
     "name": "stderr",
     "output_type": "stream",
     "text": [
      "\r",
      " 32%|███▏      | 12/37 [05:40<11:24, 27.36s/it]"
     ]
    },
    {
     "name": "stdout",
     "output_type": "stream",
     "text": [
      "Epoch 444/5000\n",
      " - 1s - loss: 0.0062\n",
      "Epoch 445/5000\n",
      " - 1s - loss: 0.0062\n",
      "Epoch 446/5000\n",
      " - 1s - loss: 0.0062\n",
      "Epoch 447/5000\n",
      " - 1s - loss: 0.0065\n",
      "Epoch 448/5000\n",
      " - 1s - loss: 0.0059\n",
      "Epoch 449/5000\n",
      " - 1s - loss: 0.0058\n",
      "Epoch 450/5000\n",
      " - 1s - loss: 0.0058\n",
      "Epoch 451/5000\n",
      " - 1s - loss: 0.0057\n",
      "Epoch 452/5000\n",
      " - 1s - loss: 0.0057\n",
      "Epoch 453/5000\n",
      " - 1s - loss: 0.0057\n",
      "Epoch 454/5000\n",
      " - 1s - loss: 0.0057\n",
      "Epoch 455/5000\n",
      " - 1s - loss: 0.0057\n",
      "Epoch 456/5000\n",
      " - 1s - loss: 0.0057\n",
      "Epoch 457/5000\n",
      " - 1s - loss: 0.0057\n",
      "Epoch 458/5000\n",
      " - 1s - loss: 0.0057\n",
      "Epoch 459/5000\n",
      " - 1s - loss: 0.0057\n",
      "Epoch 460/5000\n",
      " - 1s - loss: 0.0057\n",
      "Epoch 461/5000\n",
      " - 1s - loss: 0.0057\n",
      "Epoch 462/5000\n",
      " - 1s - loss: 0.0057\n",
      "Epoch 463/5000\n",
      " - 1s - loss: 0.0057\n",
      "Epoch 464/5000\n",
      " - 1s - loss: 0.0057\n",
      "Epoch 465/5000\n",
      " - 1s - loss: 0.0057\n",
      "Epoch 466/5000\n",
      " - 1s - loss: 0.0057\n",
      "Epoch 467/5000\n",
      " - 1s - loss: 0.0057\n",
      "Epoch 468/5000\n",
      " - 1s - loss: 0.0057\n",
      "Epoch 469/5000\n",
      " - 1s - loss: 0.0057\n",
      "Epoch 470/5000\n",
      " - 1s - loss: 0.0057\n",
      "Epoch 471/5000\n",
      " - 1s - loss: 0.0057\n",
      "Epoch 472/5000\n",
      " - 1s - loss: 0.0057\n",
      "Epoch 473/5000\n",
      " - 1s - loss: 0.0057\n",
      "Epoch 474/5000\n",
      " - 1s - loss: 0.0057\n",
      "Epoch 475/5000\n",
      " - 1s - loss: 0.0057\n",
      "Epoch 476/5000\n",
      " - 1s - loss: 0.0057\n",
      "Epoch 477/5000\n",
      " - 1s - loss: 0.0057\n",
      "Epoch 478/5000\n",
      " - 1s - loss: 0.0057\n",
      "Epoch 479/5000\n",
      " - 1s - loss: 0.0057\n",
      "Epoch 480/5000\n",
      " - 1s - loss: 0.0057\n"
     ]
    },
    {
     "name": "stderr",
     "output_type": "stream",
     "text": [
      "\r",
      " 35%|███▌      | 13/37 [06:08<11:02, 27.62s/it]"
     ]
    },
    {
     "name": "stdout",
     "output_type": "stream",
     "text": [
      "Epoch 481/5000\n",
      " - 1s - loss: 0.0061\n",
      "Epoch 482/5000\n",
      " - 1s - loss: 0.0061\n",
      "Epoch 483/5000\n",
      " - 1s - loss: 0.0061\n",
      "Epoch 484/5000\n",
      " - 1s - loss: 0.0064\n",
      "Epoch 485/5000\n",
      " - 1s - loss: 0.0057\n",
      "Epoch 486/5000\n",
      " - 1s - loss: 0.0057\n",
      "Epoch 487/5000\n",
      " - 1s - loss: 0.0057\n",
      "Epoch 488/5000\n",
      " - 1s - loss: 0.0056\n",
      "Epoch 489/5000\n",
      " - 1s - loss: 0.0056\n",
      "Epoch 490/5000\n",
      " - 1s - loss: 0.0056\n",
      "Epoch 491/5000\n",
      " - 1s - loss: 0.0056\n",
      "Epoch 492/5000\n",
      " - 1s - loss: 0.0056\n",
      "Epoch 493/5000\n",
      " - 1s - loss: 0.0056\n",
      "Epoch 494/5000\n",
      " - 1s - loss: 0.0056\n",
      "Epoch 495/5000\n",
      " - 1s - loss: 0.0056\n",
      "Epoch 496/5000\n",
      " - 1s - loss: 0.0056\n",
      "Epoch 497/5000\n",
      " - 1s - loss: 0.0056\n",
      "Epoch 498/5000\n",
      " - 1s - loss: 0.0056\n",
      "Epoch 499/5000\n",
      " - 1s - loss: 0.0056\n",
      "Epoch 500/5000\n",
      " - 1s - loss: 0.0056\n",
      "Epoch 501/5000\n",
      " - 1s - loss: 0.0056\n",
      "Epoch 502/5000\n",
      " - 1s - loss: 0.0056\n",
      "Epoch 503/5000\n",
      " - 1s - loss: 0.0056\n",
      "Epoch 504/5000\n",
      " - 1s - loss: 0.0056\n",
      "Epoch 505/5000\n",
      " - 1s - loss: 0.0056\n",
      "Epoch 506/5000\n",
      " - 1s - loss: 0.0056\n",
      "Epoch 507/5000\n",
      " - 1s - loss: 0.0056\n",
      "Epoch 508/5000\n",
      " - 1s - loss: 0.0056\n",
      "Epoch 509/5000\n",
      " - 1s - loss: 0.0056\n",
      "Epoch 510/5000\n",
      " - 1s - loss: 0.0056\n",
      "Epoch 511/5000\n",
      " - 1s - loss: 0.0056\n",
      "Epoch 512/5000\n",
      " - 1s - loss: 0.0056\n",
      "Epoch 513/5000\n",
      " - 1s - loss: 0.0056\n",
      "Epoch 514/5000\n",
      " - 1s - loss: 0.0056\n"
     ]
    },
    {
     "name": "stderr",
     "output_type": "stream",
     "text": [
      "\r",
      " 38%|███▊      | 14/37 [06:34<10:24, 27.14s/it]"
     ]
    },
    {
     "name": "stdout",
     "output_type": "stream",
     "text": [
      "Epoch 515/5000\n",
      " - 1s - loss: 0.0059\n",
      "Epoch 516/5000\n",
      " - 1s - loss: 0.0060\n",
      "Epoch 517/5000\n",
      " - 1s - loss: 0.0060\n",
      "Epoch 518/5000\n",
      " - 1s - loss: 0.0063\n",
      "Epoch 519/5000\n",
      " - 1s - loss: 0.0055\n",
      "Epoch 520/5000\n",
      " - 1s - loss: 0.0055\n",
      "Epoch 521/5000\n",
      " - 1s - loss: 0.0055\n",
      "Epoch 522/5000\n",
      " - 1s - loss: 0.0055\n",
      "Epoch 523/5000\n",
      " - 1s - loss: 0.0054\n",
      "Epoch 524/5000\n",
      " - 1s - loss: 0.0054\n",
      "Epoch 525/5000\n",
      " - 1s - loss: 0.0054\n",
      "Epoch 526/5000\n",
      " - 1s - loss: 0.0054\n",
      "Epoch 527/5000\n",
      " - 1s - loss: 0.0054\n",
      "Epoch 528/5000\n",
      " - 1s - loss: 0.0054\n",
      "Epoch 529/5000\n",
      " - 1s - loss: 0.0054\n",
      "Epoch 530/5000\n",
      " - 1s - loss: 0.0054\n",
      "Epoch 531/5000\n",
      " - 1s - loss: 0.0054\n",
      "Epoch 532/5000\n",
      " - 1s - loss: 0.0054\n",
      "Epoch 533/5000\n",
      " - 1s - loss: 0.0054\n",
      "Epoch 534/5000\n",
      " - 1s - loss: 0.0054\n",
      "Epoch 535/5000\n",
      " - 1s - loss: 0.0054\n",
      "Epoch 536/5000\n",
      " - 1s - loss: 0.0054\n",
      "Epoch 537/5000\n",
      " - 1s - loss: 0.0054\n",
      "Epoch 538/5000\n",
      " - 1s - loss: 0.0054\n",
      "Epoch 539/5000\n",
      " - 1s - loss: 0.0054\n",
      "Epoch 540/5000\n",
      " - 1s - loss: 0.0054\n",
      "Epoch 541/5000\n",
      " - 1s - loss: 0.0054\n",
      "Epoch 542/5000\n",
      " - 1s - loss: 0.0054\n",
      "Epoch 543/5000\n",
      " - 1s - loss: 0.0054\n",
      "Epoch 544/5000\n",
      " - 1s - loss: 0.0054\n",
      "Epoch 545/5000\n",
      " - 1s - loss: 0.0054\n",
      "Epoch 546/5000\n",
      " - 1s - loss: 0.0054\n",
      "Epoch 547/5000\n",
      " - 1s - loss: 0.0054\n",
      "Epoch 548/5000\n",
      " - 1s - loss: 0.0054\n"
     ]
    },
    {
     "name": "stderr",
     "output_type": "stream",
     "text": [
      "\r",
      " 41%|████      | 15/37 [07:01<09:56, 27.10s/it]"
     ]
    },
    {
     "name": "stdout",
     "output_type": "stream",
     "text": [
      "Epoch 549/5000\n",
      " - 1s - loss: 0.0058\n",
      "Epoch 550/5000\n",
      " - 1s - loss: 0.0060\n",
      "Epoch 551/5000\n",
      " - 1s - loss: 0.0061\n",
      "Epoch 552/5000\n",
      " - 1s - loss: 0.0062\n",
      "Epoch 553/5000\n",
      " - 1s - loss: 0.0055\n",
      "Epoch 554/5000\n",
      " - 1s - loss: 0.0055\n",
      "Epoch 555/5000\n",
      " - 1s - loss: 0.0055\n",
      "Epoch 556/5000\n",
      " - 1s - loss: 0.0054\n",
      "Epoch 557/5000\n",
      " - 1s - loss: 0.0054\n",
      "Epoch 558/5000\n",
      " - 1s - loss: 0.0054\n",
      "Epoch 559/5000\n",
      " - 1s - loss: 0.0054\n",
      "Epoch 560/5000\n",
      " - 1s - loss: 0.0054\n",
      "Epoch 561/5000\n",
      " - 1s - loss: 0.0054\n",
      "Epoch 562/5000\n",
      " - 1s - loss: 0.0054\n",
      "Epoch 563/5000\n",
      " - 1s - loss: 0.0054\n",
      "Epoch 564/5000\n",
      " - 1s - loss: 0.0054\n",
      "Epoch 565/5000\n",
      " - 1s - loss: 0.0054\n",
      "Epoch 566/5000\n",
      " - 1s - loss: 0.0054\n",
      "Epoch 567/5000\n",
      " - 1s - loss: 0.0054\n",
      "Epoch 568/5000\n",
      " - 1s - loss: 0.0054\n",
      "Epoch 569/5000\n",
      " - 1s - loss: 0.0054\n",
      "Epoch 570/5000\n",
      " - 1s - loss: 0.0054\n",
      "Epoch 571/5000\n",
      " - 1s - loss: 0.0054\n",
      "Epoch 572/5000\n",
      " - 1s - loss: 0.0054\n",
      "Epoch 573/5000\n",
      " - 1s - loss: 0.0054\n",
      "Epoch 574/5000\n",
      " - 1s - loss: 0.0054\n",
      "Epoch 575/5000\n",
      " - 1s - loss: 0.0054\n",
      "Epoch 576/5000\n",
      " - 1s - loss: 0.0054\n",
      "Epoch 577/5000\n",
      " - 1s - loss: 0.0054\n",
      "Epoch 578/5000\n",
      " - 1s - loss: 0.0054\n",
      "Epoch 579/5000\n",
      " - 1s - loss: 0.0054\n",
      "Epoch 580/5000\n",
      " - 1s - loss: 0.0054\n",
      "Epoch 581/5000\n",
      " - 1s - loss: 0.0054\n",
      "Epoch 582/5000\n",
      " - 1s - loss: 0.0054\n",
      "Epoch 583/5000\n",
      " - 1s - loss: 0.0054\n",
      "Epoch 584/5000\n",
      " - 1s - loss: 0.0054\n",
      "Epoch 585/5000\n",
      " - 1s - loss: 0.0054\n"
     ]
    },
    {
     "name": "stderr",
     "output_type": "stream",
     "text": [
      "\r",
      " 43%|████▎     | 16/37 [07:30<09:38, 27.57s/it]"
     ]
    },
    {
     "name": "stdout",
     "output_type": "stream",
     "text": [
      "Epoch 586/5000\n",
      " - 1s - loss: 0.0057\n",
      "Epoch 587/5000\n",
      " - 1s - loss: 0.0058\n",
      "Epoch 588/5000\n",
      " - 1s - loss: 0.0059\n",
      "Epoch 589/5000\n",
      " - 1s - loss: 0.0060\n",
      "Epoch 590/5000\n",
      " - 1s - loss: 0.0054\n",
      "Epoch 591/5000\n",
      " - 1s - loss: 0.0053\n",
      "Epoch 592/5000\n",
      " - 1s - loss: 0.0053\n",
      "Epoch 593/5000\n",
      " - 1s - loss: 0.0053\n",
      "Epoch 594/5000\n",
      " - 1s - loss: 0.0053\n",
      "Epoch 595/5000\n",
      " - 1s - loss: 0.0053\n",
      "Epoch 596/5000\n",
      " - 1s - loss: 0.0052\n",
      "Epoch 597/5000\n",
      " - 1s - loss: 0.0052\n",
      "Epoch 598/5000\n",
      " - 1s - loss: 0.0052\n",
      "Epoch 599/5000\n",
      " - 1s - loss: 0.0052\n",
      "Epoch 600/5000\n",
      " - 1s - loss: 0.0052\n",
      "Epoch 601/5000\n",
      " - 1s - loss: 0.0052\n",
      "Epoch 602/5000\n",
      " - 1s - loss: 0.0052\n",
      "Epoch 603/5000\n",
      " - 1s - loss: 0.0052\n",
      "Epoch 604/5000\n",
      " - 1s - loss: 0.0052\n",
      "Epoch 605/5000\n",
      " - 1s - loss: 0.0052\n",
      "Epoch 606/5000\n",
      " - 1s - loss: 0.0052\n",
      "Epoch 607/5000\n",
      " - 1s - loss: 0.0052\n",
      "Epoch 608/5000\n",
      " - 1s - loss: 0.0052\n",
      "Epoch 609/5000\n",
      " - 1s - loss: 0.0052\n",
      "Epoch 610/5000\n",
      " - 1s - loss: 0.0052\n",
      "Epoch 611/5000\n",
      " - 1s - loss: 0.0052\n",
      "Epoch 612/5000\n",
      " - 1s - loss: 0.0052\n",
      "Epoch 613/5000\n",
      " - 1s - loss: 0.0052\n",
      "Epoch 614/5000\n",
      " - 1s - loss: 0.0052\n",
      "Epoch 615/5000\n",
      " - 1s - loss: 0.0052\n",
      "Epoch 616/5000\n",
      " - 1s - loss: 0.0052\n",
      "Epoch 617/5000\n",
      " - 1s - loss: 0.0052\n",
      "Epoch 618/5000\n",
      " - 1s - loss: 0.0052\n",
      "Epoch 619/5000\n",
      " - 1s - loss: 0.0052\n",
      "Epoch 620/5000\n",
      " - 1s - loss: 0.0052\n",
      "Epoch 621/5000\n",
      " - 1s - loss: 0.0052\n"
     ]
    },
    {
     "name": "stderr",
     "output_type": "stream",
     "text": [
      "\r",
      " 46%|████▌     | 17/37 [07:58<09:15, 27.77s/it]"
     ]
    },
    {
     "name": "stdout",
     "output_type": "stream",
     "text": [
      "Epoch 622/5000\n",
      " - 1s - loss: 0.0055\n",
      "Epoch 623/5000\n",
      " - 1s - loss: 0.0057\n",
      "Epoch 624/5000\n",
      " - 1s - loss: 0.0057\n",
      "Epoch 625/5000\n",
      " - 1s - loss: 0.0058\n",
      "Epoch 626/5000\n",
      " - 1s - loss: 0.0053\n",
      "Epoch 627/5000\n",
      " - 1s - loss: 0.0052\n",
      "Epoch 628/5000\n",
      " - 1s - loss: 0.0052\n",
      "Epoch 629/5000\n",
      " - 1s - loss: 0.0052\n",
      "Epoch 630/5000\n",
      " - 1s - loss: 0.0052\n",
      "Epoch 631/5000\n",
      " - 1s - loss: 0.0051\n",
      "Epoch 632/5000\n",
      " - 1s - loss: 0.0051\n",
      "Epoch 633/5000\n",
      " - 1s - loss: 0.0051\n",
      "Epoch 634/5000\n",
      " - 1s - loss: 0.0051\n",
      "Epoch 635/5000\n",
      " - 1s - loss: 0.0051\n",
      "Epoch 636/5000\n",
      " - 1s - loss: 0.0051\n",
      "Epoch 637/5000\n",
      " - 1s - loss: 0.0051\n",
      "Epoch 638/5000\n",
      " - 1s - loss: 0.0051\n",
      "Epoch 639/5000\n",
      " - 1s - loss: 0.0051\n",
      "Epoch 640/5000\n",
      " - 1s - loss: 0.0051\n",
      "Epoch 641/5000\n",
      " - 1s - loss: 0.0051\n",
      "Epoch 642/5000\n",
      " - 1s - loss: 0.0051\n",
      "Epoch 643/5000\n",
      " - 1s - loss: 0.0051\n",
      "Epoch 644/5000\n",
      " - 1s - loss: 0.0051\n",
      "Epoch 645/5000\n",
      " - 1s - loss: 0.0051\n",
      "Epoch 646/5000\n",
      " - 1s - loss: 0.0051\n",
      "Epoch 647/5000\n",
      " - 1s - loss: 0.0051\n",
      "Epoch 648/5000\n",
      " - 1s - loss: 0.0051\n",
      "Epoch 649/5000\n",
      " - 1s - loss: 0.0051\n",
      "Epoch 650/5000\n",
      " - 1s - loss: 0.0051\n",
      "Epoch 651/5000\n",
      " - 1s - loss: 0.0051\n",
      "Epoch 652/5000\n",
      " - 1s - loss: 0.0051\n",
      "Epoch 653/5000\n",
      " - 1s - loss: 0.0051\n",
      "Epoch 654/5000\n",
      " - 1s - loss: 0.0051\n"
     ]
    },
    {
     "name": "stderr",
     "output_type": "stream",
     "text": [
      "\r",
      " 49%|████▊     | 18/37 [08:24<08:36, 27.21s/it]"
     ]
    },
    {
     "name": "stdout",
     "output_type": "stream",
     "text": [
      "Epoch 655/5000\n",
      " - 1s - loss: 0.0053\n",
      "Epoch 656/5000\n",
      " - 1s - loss: 0.0056\n",
      "Epoch 657/5000\n",
      " - 1s - loss: 0.0056\n",
      "Epoch 658/5000\n",
      " - 1s - loss: 0.0057\n",
      "Epoch 659/5000\n",
      " - 1s - loss: 0.0052\n",
      "Epoch 660/5000\n",
      " - 1s - loss: 0.0051\n",
      "Epoch 661/5000\n",
      " - 1s - loss: 0.0051\n",
      "Epoch 662/5000\n",
      " - 1s - loss: 0.0051\n",
      "Epoch 663/5000\n",
      " - 1s - loss: 0.0051\n",
      "Epoch 664/5000\n",
      " - 1s - loss: 0.0051\n",
      "Epoch 665/5000\n",
      " - 1s - loss: 0.0050\n",
      "Epoch 666/5000\n",
      " - 1s - loss: 0.0050\n",
      "Epoch 667/5000\n",
      " - 1s - loss: 0.0050\n",
      "Epoch 668/5000\n",
      " - 1s - loss: 0.0050\n",
      "Epoch 669/5000\n",
      " - 1s - loss: 0.0050\n",
      "Epoch 670/5000\n",
      " - 1s - loss: 0.0050\n",
      "Epoch 671/5000\n",
      " - 1s - loss: 0.0050\n",
      "Epoch 672/5000\n",
      " - 1s - loss: 0.0050\n",
      "Epoch 673/5000\n",
      " - 1s - loss: 0.0050\n",
      "Epoch 674/5000\n",
      " - 1s - loss: 0.0050\n",
      "Epoch 675/5000\n",
      " - 1s - loss: 0.0050\n",
      "Epoch 676/5000\n",
      " - 1s - loss: 0.0050\n",
      "Epoch 677/5000\n",
      " - 1s - loss: 0.0050\n",
      "Epoch 678/5000\n",
      " - 1s - loss: 0.0050\n",
      "Epoch 679/5000\n",
      " - 1s - loss: 0.0050\n",
      "Epoch 680/5000\n",
      " - 1s - loss: 0.0050\n",
      "Epoch 681/5000\n",
      " - 1s - loss: 0.0050\n",
      "Epoch 682/5000\n",
      " - 1s - loss: 0.0050\n",
      "Epoch 683/5000\n",
      " - 1s - loss: 0.0050\n",
      "Epoch 684/5000\n",
      " - 1s - loss: 0.0050\n",
      "Epoch 685/5000\n",
      " - 1s - loss: 0.0050\n",
      "Epoch 686/5000\n",
      " - 1s - loss: 0.0050\n",
      "Epoch 687/5000\n",
      " - 1s - loss: 0.0050\n",
      "Epoch 688/5000\n",
      " - 1s - loss: 0.0050\n"
     ]
    },
    {
     "name": "stderr",
     "output_type": "stream",
     "text": [
      "\r",
      " 51%|█████▏    | 19/37 [08:50<08:04, 26.92s/it]"
     ]
    },
    {
     "name": "stdout",
     "output_type": "stream",
     "text": [
      "Epoch 689/5000\n",
      " - 1s - loss: 0.0052\n",
      "Epoch 690/5000\n",
      " - 1s - loss: 0.0055\n",
      "Epoch 691/5000\n",
      " - 1s - loss: 0.0055\n",
      "Epoch 692/5000\n",
      " - 1s - loss: 0.0055\n",
      "Epoch 693/5000\n",
      " - 1s - loss: 0.0049\n",
      "Epoch 694/5000\n",
      " - 1s - loss: 0.0049\n",
      "Epoch 695/5000\n",
      " - 1s - loss: 0.0049\n",
      "Epoch 696/5000\n",
      " - 1s - loss: 0.0049\n",
      "Epoch 697/5000\n",
      " - 1s - loss: 0.0048\n",
      "Epoch 698/5000\n",
      " - 1s - loss: 0.0048\n",
      "Epoch 699/5000\n",
      " - 1s - loss: 0.0048\n",
      "Epoch 700/5000\n",
      " - 1s - loss: 0.0048\n",
      "Epoch 701/5000\n",
      " - 1s - loss: 0.0048\n",
      "Epoch 702/5000\n",
      " - 1s - loss: 0.0048\n",
      "Epoch 703/5000\n",
      " - 1s - loss: 0.0048\n",
      "Epoch 704/5000\n",
      " - 1s - loss: 0.0048\n",
      "Epoch 705/5000\n",
      " - 1s - loss: 0.0048\n",
      "Epoch 706/5000\n",
      " - 1s - loss: 0.0048\n",
      "Epoch 707/5000\n",
      " - 1s - loss: 0.0048\n",
      "Epoch 708/5000\n",
      " - 1s - loss: 0.0048\n",
      "Epoch 709/5000\n",
      " - 1s - loss: 0.0048\n",
      "Epoch 710/5000\n",
      " - 1s - loss: 0.0048\n",
      "Epoch 711/5000\n",
      " - 1s - loss: 0.0048\n",
      "Epoch 712/5000\n",
      " - 1s - loss: 0.0048\n",
      "Epoch 713/5000\n",
      " - 1s - loss: 0.0048\n",
      "Epoch 714/5000\n",
      " - 1s - loss: 0.0048\n",
      "Epoch 715/5000\n",
      " - 1s - loss: 0.0048\n",
      "Epoch 716/5000\n",
      " - 1s - loss: 0.0048\n",
      "Epoch 717/5000\n",
      " - 1s - loss: 0.0048\n",
      "Epoch 718/5000\n",
      " - 1s - loss: 0.0048\n",
      "Epoch 719/5000\n",
      " - 1s - loss: 0.0048\n",
      "Epoch 720/5000\n",
      " - 1s - loss: 0.0048\n",
      "Epoch 721/5000\n",
      " - 1s - loss: 0.0048\n",
      "Epoch 722/5000\n",
      " - 1s - loss: 0.0048\n",
      "Epoch 723/5000\n",
      " - 1s - loss: 0.0048\n",
      "Epoch 724/5000\n",
      " - 1s - loss: 0.0048\n",
      "Epoch 725/5000\n",
      " - 1s - loss: 0.0048\n"
     ]
    },
    {
     "name": "stderr",
     "output_type": "stream",
     "text": [
      "\r",
      " 54%|█████▍    | 20/37 [09:18<07:42, 27.18s/it]"
     ]
    },
    {
     "name": "stdout",
     "output_type": "stream",
     "text": [
      "Epoch 726/5000\n",
      " - 1s - loss: 0.0050\n",
      "Epoch 727/5000\n",
      " - 1s - loss: 0.0053\n",
      "Epoch 728/5000\n",
      " - 1s - loss: 0.0053\n",
      "Epoch 729/5000\n",
      " - 1s - loss: 0.0053\n",
      "Epoch 730/5000\n",
      " - 1s - loss: 0.0048\n",
      "Epoch 731/5000\n",
      " - 1s - loss: 0.0047\n",
      "Epoch 732/5000\n",
      " - 1s - loss: 0.0047\n",
      "Epoch 733/5000\n",
      " - 1s - loss: 0.0047\n",
      "Epoch 734/5000\n",
      " - 1s - loss: 0.0047\n",
      "Epoch 735/5000\n",
      " - 1s - loss: 0.0046\n",
      "Epoch 736/5000\n",
      " - 1s - loss: 0.0046\n",
      "Epoch 737/5000\n",
      " - 1s - loss: 0.0046\n",
      "Epoch 738/5000\n",
      " - 1s - loss: 0.0046\n",
      "Epoch 739/5000\n",
      " - 1s - loss: 0.0046\n",
      "Epoch 740/5000\n",
      " - 1s - loss: 0.0046\n",
      "Epoch 741/5000\n",
      " - 1s - loss: 0.0046\n",
      "Epoch 742/5000\n",
      " - 1s - loss: 0.0046\n",
      "Epoch 743/5000\n",
      " - 1s - loss: 0.0046\n",
      "Epoch 744/5000\n",
      " - 1s - loss: 0.0046\n",
      "Epoch 745/5000\n",
      " - 1s - loss: 0.0046\n",
      "Epoch 746/5000\n",
      " - 1s - loss: 0.0046\n",
      "Epoch 747/5000\n",
      " - 1s - loss: 0.0046\n",
      "Epoch 748/5000\n",
      " - 1s - loss: 0.0046\n",
      "Epoch 749/5000\n",
      " - 1s - loss: 0.0046\n",
      "Epoch 750/5000\n",
      " - 1s - loss: 0.0046\n",
      "Epoch 751/5000\n",
      " - 1s - loss: 0.0046\n",
      "Epoch 752/5000\n",
      " - 1s - loss: 0.0046\n",
      "Epoch 753/5000\n",
      " - 1s - loss: 0.0046\n",
      "Epoch 754/5000\n",
      " - 1s - loss: 0.0046\n",
      "Epoch 755/5000\n",
      " - 1s - loss: 0.0046\n",
      "Epoch 756/5000\n",
      " - 1s - loss: 0.0046\n",
      "Epoch 757/5000\n",
      " - 1s - loss: 0.0046\n",
      "Epoch 758/5000\n",
      " - 1s - loss: 0.0046\n",
      "Epoch 759/5000\n",
      " - 1s - loss: 0.0046\n"
     ]
    },
    {
     "name": "stderr",
     "output_type": "stream",
     "text": [
      "\r",
      " 57%|█████▋    | 21/37 [09:44<07:10, 26.93s/it]"
     ]
    },
    {
     "name": "stdout",
     "output_type": "stream",
     "text": [
      "Epoch 760/5000\n",
      " - 1s - loss: 0.0045\n",
      "Epoch 761/5000\n",
      " - 1s - loss: 0.0047\n",
      "Epoch 762/5000\n",
      " - 1s - loss: 0.0047\n",
      "Epoch 763/5000\n",
      " - 1s - loss: 0.0047\n",
      "Epoch 764/5000\n",
      " - 1s - loss: 0.0043\n",
      "Epoch 765/5000\n",
      " - 1s - loss: 0.0042\n",
      "Epoch 766/5000\n",
      " - 1s - loss: 0.0042\n",
      "Epoch 767/5000\n",
      " - 1s - loss: 0.0042\n",
      "Epoch 768/5000\n",
      " - 1s - loss: 0.0042\n",
      "Epoch 769/5000\n",
      " - 1s - loss: 0.0042\n",
      "Epoch 770/5000\n",
      " - 1s - loss: 0.0042\n",
      "Epoch 771/5000\n",
      " - 1s - loss: 0.0042\n",
      "Epoch 772/5000\n",
      " - 1s - loss: 0.0042\n",
      "Epoch 773/5000\n",
      " - 1s - loss: 0.0042\n",
      "Epoch 774/5000\n",
      " - 1s - loss: 0.0042\n",
      "Epoch 775/5000\n",
      " - 1s - loss: 0.0042\n",
      "Epoch 776/5000\n",
      " - 1s - loss: 0.0042\n",
      "Epoch 777/5000\n",
      " - 1s - loss: 0.0042\n",
      "Epoch 778/5000\n",
      " - 1s - loss: 0.0042\n",
      "Epoch 779/5000\n",
      " - 1s - loss: 0.0042\n",
      "Epoch 780/5000\n",
      " - 1s - loss: 0.0042\n",
      "Epoch 781/5000\n",
      " - 1s - loss: 0.0042\n",
      "Epoch 782/5000\n",
      " - 1s - loss: 0.0042\n",
      "Epoch 783/5000\n",
      " - 1s - loss: 0.0042\n",
      "Epoch 784/5000\n",
      " - 1s - loss: 0.0042\n",
      "Epoch 785/5000\n",
      " - 1s - loss: 0.0042\n",
      "Epoch 786/5000\n",
      " - 1s - loss: 0.0042\n",
      "Epoch 787/5000\n",
      " - 1s - loss: 0.0042\n",
      "Epoch 788/5000\n",
      " - 1s - loss: 0.0042\n",
      "Epoch 789/5000\n",
      " - 1s - loss: 0.0042\n",
      "Epoch 790/5000\n",
      " - 1s - loss: 0.0042\n",
      "Epoch 791/5000\n",
      " - 1s - loss: 0.0042\n",
      "Epoch 792/5000\n",
      " - 1s - loss: 0.0042\n",
      "Epoch 793/5000\n",
      " - 1s - loss: 0.0042\n"
     ]
    },
    {
     "name": "stderr",
     "output_type": "stream",
     "text": [
      "\r",
      " 59%|█████▉    | 22/37 [10:10<06:39, 26.67s/it]"
     ]
    },
    {
     "name": "stdout",
     "output_type": "stream",
     "text": [
      "Epoch 794/5000\n",
      " - 1s - loss: 0.0043\n",
      "Epoch 795/5000\n",
      " - 1s - loss: 0.0045\n",
      "Epoch 796/5000\n",
      " - 1s - loss: 0.0045\n",
      "Epoch 797/5000\n",
      " - 1s - loss: 0.0045\n",
      "Epoch 798/5000\n",
      " - 1s - loss: 0.0041\n",
      "Epoch 799/5000\n",
      " - 1s - loss: 0.0041\n",
      "Epoch 800/5000\n",
      " - 1s - loss: 0.0040\n",
      "Epoch 801/5000\n",
      " - 1s - loss: 0.0040\n",
      "Epoch 802/5000\n",
      " - 1s - loss: 0.0040\n",
      "Epoch 803/5000\n",
      " - 1s - loss: 0.0040\n",
      "Epoch 804/5000\n",
      " - 1s - loss: 0.0040\n",
      "Epoch 805/5000\n",
      " - 1s - loss: 0.0040\n",
      "Epoch 806/5000\n",
      " - 1s - loss: 0.0040\n",
      "Epoch 807/5000\n",
      " - 1s - loss: 0.0040\n",
      "Epoch 808/5000\n",
      " - 1s - loss: 0.0040\n",
      "Epoch 809/5000\n",
      " - 1s - loss: 0.0040\n",
      "Epoch 810/5000\n",
      " - 1s - loss: 0.0040\n",
      "Epoch 811/5000\n",
      " - 1s - loss: 0.0040\n",
      "Epoch 812/5000\n",
      " - 1s - loss: 0.0040\n",
      "Epoch 813/5000\n",
      " - 1s - loss: 0.0040\n",
      "Epoch 814/5000\n",
      " - 1s - loss: 0.0040\n",
      "Epoch 815/5000\n",
      " - 1s - loss: 0.0040\n",
      "Epoch 816/5000\n",
      " - 1s - loss: 0.0040\n",
      "Epoch 817/5000\n",
      " - 1s - loss: 0.0040\n",
      "Epoch 818/5000\n",
      " - 1s - loss: 0.0040\n",
      "Epoch 819/5000\n",
      " - 1s - loss: 0.0040\n",
      "Epoch 820/5000\n",
      " - 1s - loss: 0.0040\n",
      "Epoch 821/5000\n",
      " - 1s - loss: 0.0040\n",
      "Epoch 822/5000\n",
      " - 1s - loss: 0.0040\n",
      "Epoch 823/5000\n",
      " - 1s - loss: 0.0040\n",
      "Epoch 824/5000\n",
      " - 1s - loss: 0.0040\n",
      "Epoch 825/5000\n",
      " - 1s - loss: 0.0040\n",
      "Epoch 826/5000\n",
      " - 1s - loss: 0.0040\n",
      "Epoch 827/5000\n",
      " - 1s - loss: 0.0040\n",
      "Epoch 828/5000\n",
      " - 1s - loss: 0.0040\n",
      "Epoch 829/5000\n",
      " - 1s - loss: 0.0040\n",
      "Epoch 830/5000\n",
      " - 1s - loss: 0.0040\n"
     ]
    },
    {
     "name": "stderr",
     "output_type": "stream",
     "text": [
      "\r",
      " 62%|██████▏   | 23/37 [10:39<06:21, 27.27s/it]"
     ]
    },
    {
     "name": "stdout",
     "output_type": "stream",
     "text": [
      "Epoch 831/5000\n",
      " - 1s - loss: 0.0039\n",
      "Epoch 832/5000\n",
      " - 1s - loss: 0.0041\n",
      "Epoch 833/5000\n",
      " - 1s - loss: 0.0042\n",
      "Epoch 834/5000\n",
      " - 1s - loss: 0.0042\n",
      "Epoch 835/5000\n",
      " - 1s - loss: 0.0038\n",
      "Epoch 836/5000\n",
      " - 1s - loss: 0.0037\n",
      "Epoch 837/5000\n",
      " - 1s - loss: 0.0037\n",
      "Epoch 838/5000\n",
      " - 1s - loss: 0.0037\n",
      "Epoch 839/5000\n",
      " - 1s - loss: 0.0037\n",
      "Epoch 840/5000\n",
      " - 1s - loss: 0.0037\n",
      "Epoch 841/5000\n",
      " - 1s - loss: 0.0037\n",
      "Epoch 842/5000\n",
      " - 1s - loss: 0.0037\n",
      "Epoch 843/5000\n",
      " - 1s - loss: 0.0037\n",
      "Epoch 844/5000\n",
      " - 1s - loss: 0.0037\n",
      "Epoch 845/5000\n",
      " - 1s - loss: 0.0037\n",
      "Epoch 846/5000\n",
      " - 1s - loss: 0.0036\n",
      "Epoch 847/5000\n",
      " - 1s - loss: 0.0036\n",
      "Epoch 848/5000\n",
      " - 1s - loss: 0.0036\n",
      "Epoch 849/5000\n",
      " - 1s - loss: 0.0036\n",
      "Epoch 850/5000\n",
      " - 1s - loss: 0.0036\n",
      "Epoch 851/5000\n",
      " - 1s - loss: 0.0036\n",
      "Epoch 852/5000\n",
      " - 1s - loss: 0.0036\n",
      "Epoch 853/5000\n",
      " - 1s - loss: 0.0036\n",
      "Epoch 854/5000\n",
      " - 1s - loss: 0.0036\n",
      "Epoch 855/5000\n",
      " - 1s - loss: 0.0036\n",
      "Epoch 856/5000\n",
      " - 1s - loss: 0.0036\n",
      "Epoch 857/5000\n",
      " - 1s - loss: 0.0036\n",
      "Epoch 858/5000\n",
      " - 1s - loss: 0.0036\n",
      "Epoch 859/5000\n",
      " - 1s - loss: 0.0036\n",
      "Epoch 860/5000\n",
      " - 1s - loss: 0.0036\n",
      "Epoch 861/5000\n",
      " - 1s - loss: 0.0036\n",
      "Epoch 862/5000\n",
      " - 1s - loss: 0.0036\n"
     ]
    },
    {
     "name": "stderr",
     "output_type": "stream",
     "text": [
      "\r",
      " 65%|██████▍   | 24/37 [11:03<05:43, 26.41s/it]"
     ]
    },
    {
     "name": "stdout",
     "output_type": "stream",
     "text": [
      "Epoch 863/5000\n",
      " - 1s - loss: 0.0038\n",
      "Epoch 864/5000\n",
      " - 1s - loss: 0.0040\n",
      "Epoch 865/5000\n",
      " - 1s - loss: 0.0041\n",
      "Epoch 866/5000\n",
      " - 1s - loss: 0.0040\n",
      "Epoch 867/5000\n",
      " - 1s - loss: 0.0037\n",
      "Epoch 868/5000\n",
      " - 1s - loss: 0.0036\n",
      "Epoch 869/5000\n",
      " - 1s - loss: 0.0036\n",
      "Epoch 870/5000\n",
      " - 1s - loss: 0.0036\n",
      "Epoch 871/5000\n",
      " - 1s - loss: 0.0036\n",
      "Epoch 872/5000\n",
      " - 1s - loss: 0.0036\n",
      "Epoch 873/5000\n",
      " - 1s - loss: 0.0036\n",
      "Epoch 874/5000\n",
      " - 1s - loss: 0.0036\n",
      "Epoch 875/5000\n",
      " - 1s - loss: 0.0036\n",
      "Epoch 876/5000\n",
      " - 1s - loss: 0.0036\n",
      "Epoch 877/5000\n",
      " - 1s - loss: 0.0036\n",
      "Epoch 878/5000\n",
      " - 1s - loss: 0.0036\n",
      "Epoch 879/5000\n",
      " - 1s - loss: 0.0036\n",
      "Epoch 880/5000\n",
      " - 1s - loss: 0.0036\n",
      "Epoch 881/5000\n",
      " - 1s - loss: 0.0036\n",
      "Epoch 882/5000\n",
      " - 1s - loss: 0.0036\n",
      "Epoch 883/5000\n",
      " - 1s - loss: 0.0036\n",
      "Epoch 884/5000\n",
      " - 1s - loss: 0.0036\n",
      "Epoch 885/5000\n",
      " - 1s - loss: 0.0036\n",
      "Epoch 886/5000\n",
      " - 1s - loss: 0.0036\n",
      "Epoch 887/5000\n",
      " - 1s - loss: 0.0036\n",
      "Epoch 888/5000\n",
      " - 1s - loss: 0.0036\n",
      "Epoch 889/5000\n",
      " - 1s - loss: 0.0036\n",
      "Epoch 890/5000\n",
      " - 1s - loss: 0.0036\n",
      "Epoch 891/5000\n",
      " - 1s - loss: 0.0036\n"
     ]
    },
    {
     "name": "stderr",
     "output_type": "stream",
     "text": [
      "\r",
      " 68%|██████▊   | 25/37 [11:26<05:04, 25.37s/it]"
     ]
    },
    {
     "name": "stdout",
     "output_type": "stream",
     "text": [
      "Epoch 892/5000\n",
      " - 1s - loss: 0.0035\n",
      "Epoch 893/5000\n",
      " - 1s - loss: 0.0038\n",
      "Epoch 894/5000\n",
      " - 1s - loss: 0.0039\n",
      "Epoch 895/5000\n",
      " - 1s - loss: 0.0036\n",
      "Epoch 896/5000\n",
      " - 1s - loss: 0.0034\n",
      "Epoch 897/5000\n",
      " - 1s - loss: 0.0034\n",
      "Epoch 898/5000\n",
      " - 1s - loss: 0.0033\n",
      "Epoch 899/5000\n",
      " - 1s - loss: 0.0033\n",
      "Epoch 900/5000\n",
      " - 1s - loss: 0.0033\n",
      "Epoch 901/5000\n",
      " - 1s - loss: 0.0033\n",
      "Epoch 902/5000\n",
      " - 1s - loss: 0.0033\n",
      "Epoch 903/5000\n",
      " - 1s - loss: 0.0033\n",
      "Epoch 904/5000\n",
      " - 1s - loss: 0.0033\n",
      "Epoch 905/5000\n",
      " - 1s - loss: 0.0033\n",
      "Epoch 906/5000\n",
      " - 1s - loss: 0.0033\n",
      "Epoch 907/5000\n",
      " - 1s - loss: 0.0033\n",
      "Epoch 908/5000\n",
      " - 1s - loss: 0.0033\n",
      "Epoch 909/5000\n",
      " - 1s - loss: 0.0033\n",
      "Epoch 910/5000\n",
      " - 1s - loss: 0.0033\n",
      "Epoch 911/5000\n",
      " - 1s - loss: 0.0033\n",
      "Epoch 912/5000\n",
      " - 1s - loss: 0.0033\n",
      "Epoch 913/5000\n",
      " - 1s - loss: 0.0033\n",
      "Epoch 914/5000\n",
      " - 1s - loss: 0.0033\n",
      "Epoch 915/5000\n",
      " - 1s - loss: 0.0033\n",
      "Epoch 916/5000\n",
      " - 1s - loss: 0.0033\n",
      "Epoch 917/5000\n",
      " - 1s - loss: 0.0033\n",
      "Epoch 918/5000\n",
      " - 1s - loss: 0.0033\n",
      "Epoch 919/5000\n",
      " - 1s - loss: 0.0033\n",
      "Epoch 920/5000\n",
      " - 1s - loss: 0.0033\n",
      "Epoch 921/5000\n",
      " - 1s - loss: 0.0033\n"
     ]
    },
    {
     "name": "stderr",
     "output_type": "stream",
     "text": [
      "\r",
      " 70%|███████   | 26/37 [11:50<04:34, 24.92s/it]"
     ]
    },
    {
     "name": "stdout",
     "output_type": "stream",
     "text": [
      "Epoch 922/5000\n",
      " - 1s - loss: 0.0033\n",
      "Epoch 923/5000\n",
      " - 1s - loss: 0.0035\n",
      "Epoch 924/5000\n",
      " - 1s - loss: 0.0036\n",
      "Epoch 925/5000\n",
      " - 1s - loss: 0.0032\n",
      "Epoch 926/5000\n",
      " - 1s - loss: 0.0031\n",
      "Epoch 927/5000\n",
      " - 1s - loss: 0.0031\n",
      "Epoch 928/5000\n",
      " - 1s - loss: 0.0031\n",
      "Epoch 929/5000\n",
      " - 1s - loss: 0.0031\n",
      "Epoch 930/5000\n",
      " - 1s - loss: 0.0030\n",
      "Epoch 931/5000\n",
      " - 1s - loss: 0.0030\n",
      "Epoch 932/5000\n",
      " - 1s - loss: 0.0030\n",
      "Epoch 933/5000\n",
      " - 1s - loss: 0.0030\n",
      "Epoch 934/5000\n",
      " - 1s - loss: 0.0030\n",
      "Epoch 935/5000\n",
      " - 1s - loss: 0.0030\n",
      "Epoch 936/5000\n",
      " - 1s - loss: 0.0030\n",
      "Epoch 937/5000\n",
      " - 1s - loss: 0.0030\n",
      "Epoch 938/5000\n",
      " - 1s - loss: 0.0030\n",
      "Epoch 939/5000\n",
      " - 1s - loss: 0.0030\n",
      "Epoch 940/5000\n",
      " - 1s - loss: 0.0030\n",
      "Epoch 941/5000\n",
      " - 1s - loss: 0.0030\n",
      "Epoch 942/5000\n",
      " - 1s - loss: 0.0030\n",
      "Epoch 943/5000\n",
      " - 1s - loss: 0.0030\n",
      "Epoch 944/5000\n",
      " - 1s - loss: 0.0030\n",
      "Epoch 945/5000\n",
      " - 1s - loss: 0.0030\n",
      "Epoch 946/5000\n",
      " - 1s - loss: 0.0030\n",
      "Epoch 947/5000\n",
      " - 1s - loss: 0.0030\n",
      "Epoch 948/5000\n",
      " - 1s - loss: 0.0030\n",
      "Epoch 949/5000\n",
      " - 1s - loss: 0.0030\n",
      "Epoch 950/5000\n",
      " - 1s - loss: 0.0030\n"
     ]
    },
    {
     "name": "stderr",
     "output_type": "stream",
     "text": [
      "\r",
      " 73%|███████▎  | 27/37 [12:13<04:04, 24.42s/it]"
     ]
    },
    {
     "name": "stdout",
     "output_type": "stream",
     "text": [
      "Epoch 951/5000\n",
      " - 1s - loss: 0.0031\n",
      "Epoch 952/5000\n",
      " - 1s - loss: 0.0033\n",
      "Epoch 953/5000\n",
      " - 1s - loss: 0.0033\n",
      "Epoch 954/5000\n",
      " - 1s - loss: 0.0029\n",
      "Epoch 955/5000\n",
      " - 1s - loss: 0.0029\n",
      "Epoch 956/5000\n",
      " - 1s - loss: 0.0029\n",
      "Epoch 957/5000\n",
      " - 1s - loss: 0.0029\n",
      "Epoch 958/5000\n",
      " - 1s - loss: 0.0029\n",
      "Epoch 959/5000\n",
      " - 1s - loss: 0.0029\n",
      "Epoch 960/5000\n",
      " - 1s - loss: 0.0028\n",
      "Epoch 961/5000\n",
      " - 1s - loss: 0.0028\n",
      "Epoch 962/5000\n",
      " - 1s - loss: 0.0028\n",
      "Epoch 963/5000\n",
      " - 1s - loss: 0.0028\n",
      "Epoch 964/5000\n",
      " - 1s - loss: 0.0028\n",
      "Epoch 965/5000\n",
      " - 1s - loss: 0.0028\n",
      "Epoch 966/5000\n",
      " - 1s - loss: 0.0028\n",
      "Epoch 967/5000\n",
      " - 1s - loss: 0.0028\n",
      "Epoch 968/5000\n",
      " - 1s - loss: 0.0028\n",
      "Epoch 969/5000\n",
      " - 1s - loss: 0.0028\n",
      "Epoch 970/5000\n",
      " - 1s - loss: 0.0028\n",
      "Epoch 971/5000\n",
      " - 1s - loss: 0.0028\n",
      "Epoch 972/5000\n",
      " - 1s - loss: 0.0028\n",
      "Epoch 973/5000\n",
      " - 1s - loss: 0.0028\n",
      "Epoch 974/5000\n",
      " - 1s - loss: 0.0028\n",
      "Epoch 975/5000\n",
      " - 1s - loss: 0.0028\n",
      "Epoch 976/5000\n",
      " - 1s - loss: 0.0028\n",
      "Epoch 977/5000\n",
      " - 1s - loss: 0.0028\n",
      "Epoch 978/5000\n",
      " - 1s - loss: 0.0028\n",
      "Epoch 979/5000\n",
      " - 1s - loss: 0.0028\n",
      "Epoch 980/5000\n",
      " - 1s - loss: 0.0028\n",
      "Epoch 981/5000\n",
      " - 1s - loss: 0.0028\n"
     ]
    },
    {
     "name": "stderr",
     "output_type": "stream",
     "text": [
      "\r",
      " 76%|███████▌  | 28/37 [12:38<03:41, 24.65s/it]"
     ]
    },
    {
     "name": "stdout",
     "output_type": "stream",
     "text": [
      "Epoch 982/5000\n",
      " - 1s - loss: 0.0039\n",
      "Epoch 983/5000\n",
      " - 1s - loss: 0.0039\n",
      "Epoch 984/5000\n",
      " - 1s - loss: 0.0039\n",
      "Epoch 985/5000\n",
      " - 1s - loss: 0.0037\n",
      "Epoch 986/5000\n",
      " - 1s - loss: 0.0036\n",
      "Epoch 987/5000\n",
      " - 1s - loss: 0.0036\n",
      "Epoch 988/5000\n",
      " - 1s - loss: 0.0036\n",
      "Epoch 989/5000\n",
      " - 1s - loss: 0.0036\n",
      "Epoch 990/5000\n",
      " - 1s - loss: 0.0035\n",
      "Epoch 991/5000\n",
      " - 1s - loss: 0.0035\n",
      "Epoch 992/5000\n",
      " - 1s - loss: 0.0035\n",
      "Epoch 993/5000\n",
      " - 1s - loss: 0.0035\n",
      "Epoch 994/5000\n",
      " - 1s - loss: 0.0035\n",
      "Epoch 995/5000\n",
      " - 1s - loss: 0.0035\n",
      "Epoch 996/5000\n",
      " - 1s - loss: 0.0035\n",
      "Epoch 997/5000\n",
      " - 1s - loss: 0.0035\n",
      "Epoch 998/5000\n",
      " - 1s - loss: 0.0035\n",
      "Epoch 999/5000\n",
      " - 1s - loss: 0.0035\n",
      "Epoch 1000/5000\n",
      " - 1s - loss: 0.0035\n",
      "Epoch 1001/5000\n",
      " - 1s - loss: 0.0035\n",
      "Epoch 1002/5000\n",
      " - 1s - loss: 0.0035\n",
      "Epoch 1003/5000\n",
      " - 1s - loss: 0.0035\n",
      "Epoch 1004/5000\n",
      " - 1s - loss: 0.0035\n",
      "Epoch 1005/5000\n",
      " - 1s - loss: 0.0035\n",
      "Epoch 1006/5000\n",
      " - 1s - loss: 0.0035\n",
      "Epoch 1007/5000\n",
      " - 1s - loss: 0.0035\n",
      "Epoch 1008/5000\n",
      " - 1s - loss: 0.0035\n",
      "Epoch 1009/5000\n",
      " - 1s - loss: 0.0035\n",
      "Epoch 1010/5000\n",
      " - 1s - loss: 0.0035\n",
      "Epoch 1011/5000\n",
      " - 1s - loss: 0.0035\n"
     ]
    },
    {
     "name": "stderr",
     "output_type": "stream",
     "text": [
      "\r",
      " 78%|███████▊  | 29/37 [13:02<03:14, 24.30s/it]"
     ]
    },
    {
     "name": "stdout",
     "output_type": "stream",
     "text": [
      "Epoch 1012/5000\n",
      " - 1s - loss: 0.0040\n",
      "Epoch 1013/5000\n",
      " - 1s - loss: 0.0041\n",
      "Epoch 1014/5000\n",
      " - 1s - loss: 0.0041\n",
      "Epoch 1015/5000\n",
      " - 1s - loss: 0.0039\n",
      "Epoch 1016/5000\n",
      " - 1s - loss: 0.0038\n",
      "Epoch 1017/5000\n",
      " - 1s - loss: 0.0037\n",
      "Epoch 1018/5000\n",
      " - 1s - loss: 0.0037\n",
      "Epoch 1019/5000\n",
      " - 1s - loss: 0.0037\n",
      "Epoch 1020/5000\n",
      " - 1s - loss: 0.0037\n",
      "Epoch 1021/5000\n",
      " - 1s - loss: 0.0037\n",
      "Epoch 1022/5000\n",
      " - 1s - loss: 0.0037\n",
      "Epoch 1023/5000\n",
      " - 1s - loss: 0.0037\n",
      "Epoch 1024/5000\n",
      " - 1s - loss: 0.0037\n",
      "Epoch 1025/5000\n",
      " - 1s - loss: 0.0037\n",
      "Epoch 1026/5000\n",
      " - 1s - loss: 0.0037\n",
      "Epoch 1027/5000\n",
      " - 1s - loss: 0.0037\n",
      "Epoch 1028/5000\n",
      " - 1s - loss: 0.0037\n",
      "Epoch 1029/5000\n",
      " - 1s - loss: 0.0037\n",
      "Epoch 1030/5000\n",
      " - 1s - loss: 0.0037\n",
      "Epoch 1031/5000\n",
      " - 1s - loss: 0.0037\n",
      "Epoch 1032/5000\n",
      " - 1s - loss: 0.0037\n",
      "Epoch 1033/5000\n",
      " - 1s - loss: 0.0037\n",
      "Epoch 1034/5000\n",
      " - 1s - loss: 0.0037\n",
      "Epoch 1035/5000\n",
      " - 1s - loss: 0.0037\n",
      "Epoch 1036/5000\n",
      " - 1s - loss: 0.0037\n",
      "Epoch 1037/5000\n",
      " - 1s - loss: 0.0037\n",
      "Epoch 1038/5000\n",
      " - 1s - loss: 0.0037\n",
      "Epoch 1039/5000\n",
      " - 1s - loss: 0.0037\n",
      "Epoch 1040/5000\n",
      " - 1s - loss: 0.0037\n",
      "Epoch 1041/5000\n",
      " - 1s - loss: 0.0037\n",
      "Epoch 1042/5000\n",
      " - 1s - loss: 0.0037\n"
     ]
    },
    {
     "name": "stderr",
     "output_type": "stream",
     "text": [
      "\r",
      " 81%|████████  | 30/37 [13:27<02:50, 24.43s/it]"
     ]
    },
    {
     "name": "stdout",
     "output_type": "stream",
     "text": [
      "Epoch 1043/5000\n",
      " - 1s - loss: 0.0039\n",
      "Epoch 1044/5000\n",
      " - 1s - loss: 0.0041\n",
      "Epoch 1045/5000\n",
      " - 1s - loss: 0.0041\n",
      "Epoch 1046/5000\n",
      " - 1s - loss: 0.0039\n",
      "Epoch 1047/5000\n",
      " - 1s - loss: 0.0037\n",
      "Epoch 1048/5000\n",
      " - 1s - loss: 0.0037\n",
      "Epoch 1049/5000\n",
      " - 1s - loss: 0.0037\n",
      "Epoch 1050/5000\n",
      " - 1s - loss: 0.0037\n",
      "Epoch 1051/5000\n",
      " - 1s - loss: 0.0037\n",
      "Epoch 1052/5000\n",
      " - 1s - loss: 0.0037\n",
      "Epoch 1053/5000\n",
      " - 1s - loss: 0.0037\n",
      "Epoch 1054/5000\n",
      " - 1s - loss: 0.0036\n",
      "Epoch 1055/5000\n",
      " - 1s - loss: 0.0036\n",
      "Epoch 1056/5000\n",
      " - 1s - loss: 0.0036\n",
      "Epoch 1057/5000\n",
      " - 1s - loss: 0.0036\n",
      "Epoch 1058/5000\n",
      " - 1s - loss: 0.0036\n",
      "Epoch 1059/5000\n",
      " - 1s - loss: 0.0036\n",
      "Epoch 1060/5000\n",
      " - 1s - loss: 0.0036\n",
      "Epoch 1061/5000\n",
      " - 1s - loss: 0.0036\n",
      "Epoch 1062/5000\n",
      " - 1s - loss: 0.0036\n",
      "Epoch 1063/5000\n",
      " - 1s - loss: 0.0036\n",
      "Epoch 1064/5000\n",
      " - 1s - loss: 0.0036\n",
      "Epoch 1065/5000\n",
      " - 1s - loss: 0.0036\n",
      "Epoch 1066/5000\n",
      " - 1s - loss: 0.0036\n",
      "Epoch 1067/5000\n",
      " - 1s - loss: 0.0036\n",
      "Epoch 1068/5000\n",
      " - 1s - loss: 0.0036\n",
      "Epoch 1069/5000\n",
      " - 1s - loss: 0.0036\n",
      "Epoch 1070/5000\n",
      " - 1s - loss: 0.0036\n",
      "Epoch 1071/5000\n",
      " - 1s - loss: 0.0036\n",
      "Epoch 1072/5000\n",
      " - 1s - loss: 0.0036\n",
      "Epoch 1073/5000\n",
      " - 1s - loss: 0.0036\n",
      "Epoch 1074/5000\n",
      " - 1s - loss: 0.0036\n",
      "Epoch 1075/5000\n",
      " - 1s - loss: 0.0036\n"
     ]
    },
    {
     "name": "stderr",
     "output_type": "stream",
     "text": [
      "\r",
      " 84%|████████▍ | 31/37 [13:52<02:28, 24.68s/it]"
     ]
    },
    {
     "name": "stdout",
     "output_type": "stream",
     "text": [
      "Epoch 1076/5000\n",
      " - 1s - loss: 0.0037\n",
      "Epoch 1077/5000\n",
      " - 1s - loss: 0.0037\n",
      "Epoch 1078/5000\n",
      " - 1s - loss: 0.0037\n",
      "Epoch 1079/5000\n",
      " - 1s - loss: 0.0037\n",
      "Epoch 1080/5000\n",
      " - 1s - loss: 0.0035\n",
      "Epoch 1081/5000\n",
      " - 1s - loss: 0.0035\n",
      "Epoch 1082/5000\n",
      " - 1s - loss: 0.0035\n",
      "Epoch 1083/5000\n",
      " - 1s - loss: 0.0035\n",
      "Epoch 1084/5000\n",
      " - 1s - loss: 0.0035\n",
      "Epoch 1085/5000\n",
      " - 1s - loss: 0.0035\n",
      "Epoch 1086/5000\n",
      " - 1s - loss: 0.0035\n",
      "Epoch 1087/5000\n",
      " - 1s - loss: 0.0035\n",
      "Epoch 1088/5000\n",
      " - 1s - loss: 0.0035\n",
      "Epoch 1089/5000\n",
      " - 1s - loss: 0.0035\n",
      "Epoch 1090/5000\n",
      " - 1s - loss: 0.0035\n",
      "Epoch 1091/5000\n",
      " - 1s - loss: 0.0035\n",
      "Epoch 1092/5000\n",
      " - 1s - loss: 0.0035\n",
      "Epoch 1093/5000\n",
      " - 1s - loss: 0.0035\n",
      "Epoch 1094/5000\n",
      " - 1s - loss: 0.0035\n",
      "Epoch 1095/5000\n",
      " - 1s - loss: 0.0035\n",
      "Epoch 1096/5000\n",
      " - 1s - loss: 0.0035\n",
      "Epoch 1097/5000\n",
      " - 1s - loss: 0.0035\n",
      "Epoch 1098/5000\n",
      " - 1s - loss: 0.0035\n",
      "Epoch 1099/5000\n",
      " - 1s - loss: 0.0035\n",
      "Epoch 1100/5000\n",
      " - 1s - loss: 0.0035\n",
      "Epoch 1101/5000\n",
      " - 1s - loss: 0.0035\n",
      "Epoch 1102/5000\n",
      " - 1s - loss: 0.0035\n",
      "Epoch 1103/5000\n",
      " - 1s - loss: 0.0035\n",
      "Epoch 1104/5000\n",
      " - 1s - loss: 0.0035\n"
     ]
    },
    {
     "name": "stderr",
     "output_type": "stream",
     "text": [
      "\r",
      " 86%|████████▋ | 32/37 [14:14<02:00, 24.02s/it]"
     ]
    },
    {
     "name": "stdout",
     "output_type": "stream",
     "text": [
      "Epoch 1105/5000\n",
      " - 1s - loss: 0.0039\n",
      "Epoch 1106/5000\n",
      " - 1s - loss: 0.0042\n",
      "Epoch 1107/5000\n",
      " - 1s - loss: 0.0041\n",
      "Epoch 1108/5000\n",
      " - 1s - loss: 0.0038\n",
      "Epoch 1109/5000\n",
      " - 1s - loss: 0.0037\n",
      "Epoch 1110/5000\n",
      " - 1s - loss: 0.0037\n",
      "Epoch 1111/5000\n",
      " - 1s - loss: 0.0036\n",
      "Epoch 1112/5000\n",
      " - 1s - loss: 0.0036\n",
      "Epoch 1113/5000\n",
      " - 1s - loss: 0.0036\n",
      "Epoch 1114/5000\n",
      " - 1s - loss: 0.0036\n",
      "Epoch 1115/5000\n",
      " - 1s - loss: 0.0036\n",
      "Epoch 1116/5000\n",
      " - 1s - loss: 0.0036\n",
      "Epoch 1117/5000\n",
      " - 1s - loss: 0.0036\n",
      "Epoch 1118/5000\n",
      " - 1s - loss: 0.0036\n",
      "Epoch 1119/5000\n",
      " - 1s - loss: 0.0036\n",
      "Epoch 1120/5000\n",
      " - 1s - loss: 0.0036\n",
      "Epoch 1121/5000\n",
      " - 1s - loss: 0.0036\n",
      "Epoch 1122/5000\n",
      " - 1s - loss: 0.0036\n",
      "Epoch 1123/5000\n",
      " - 1s - loss: 0.0036\n",
      "Epoch 1124/5000\n",
      " - 1s - loss: 0.0036\n",
      "Epoch 1125/5000\n",
      " - 1s - loss: 0.0036\n",
      "Epoch 1126/5000\n",
      " - 1s - loss: 0.0036\n",
      "Epoch 1127/5000\n",
      " - 1s - loss: 0.0036\n",
      "Epoch 1128/5000\n",
      " - 1s - loss: 0.0036\n",
      "Epoch 1129/5000\n",
      " - 1s - loss: 0.0036\n",
      "Epoch 1130/5000\n",
      " - 1s - loss: 0.0036\n",
      "Epoch 1131/5000\n",
      " - 1s - loss: 0.0036\n",
      "Epoch 1132/5000\n",
      " - 1s - loss: 0.0036\n",
      "Epoch 1133/5000\n",
      " - 1s - loss: 0.0036\n"
     ]
    },
    {
     "name": "stderr",
     "output_type": "stream",
     "text": [
      "\r",
      " 89%|████████▉ | 33/37 [14:37<01:33, 23.49s/it]"
     ]
    },
    {
     "name": "stdout",
     "output_type": "stream",
     "text": [
      "Epoch 1134/5000\n",
      " - 1s - loss: 0.0040\n",
      "Epoch 1135/5000\n",
      " - 1s - loss: 0.0047\n",
      "Epoch 1136/5000\n",
      " - 1s - loss: 0.0045\n",
      "Epoch 1137/5000\n",
      " - 1s - loss: 0.0046\n",
      "Epoch 1138/5000\n",
      " - 1s - loss: 0.0041\n",
      "Epoch 1139/5000\n",
      " - 1s - loss: 0.0040\n"
     ]
    },
    {
     "name": "stderr",
     "output_type": "stream",
     "text": [
      "\r",
      " 92%|█████████▏| 34/37 [14:43<00:54, 18.23s/it]"
     ]
    },
    {
     "name": "stdout",
     "output_type": "stream",
     "text": [
      "Epoch 1140/5000\n",
      " - 1s - loss: 0.0043\n",
      "Epoch 1141/5000\n",
      " - 1s - loss: 0.0050\n",
      "Epoch 1142/5000\n",
      " - 1s - loss: 0.0048\n",
      "Epoch 1143/5000\n",
      " - 1s - loss: 0.0055\n",
      "Epoch 1144/5000\n",
      " - 1s - loss: 0.0046\n",
      "Epoch 1145/5000\n",
      " - 1s - loss: 0.0044\n"
     ]
    },
    {
     "name": "stderr",
     "output_type": "stream",
     "text": [
      "\r",
      " 95%|█████████▍| 35/37 [14:49<00:29, 14.62s/it]"
     ]
    },
    {
     "name": "stdout",
     "output_type": "stream",
     "text": [
      "Epoch 1146/5000\n",
      " - 1s - loss: 0.0042\n",
      "Epoch 1147/5000\n",
      " - 1s - loss: 0.0048\n",
      "Epoch 1148/5000\n",
      " - 1s - loss: 0.0045\n",
      "Epoch 1149/5000\n",
      " - 1s - loss: 0.0050\n",
      "Epoch 1150/5000\n",
      " - 1s - loss: 0.0043\n",
      "Epoch 1151/5000\n",
      " - 1s - loss: 0.0041\n",
      "Epoch 1152/5000\n",
      " - 1s - loss: 0.0040\n",
      "Epoch 1153/5000\n",
      " - 1s - loss: 0.0039\n",
      "Epoch 1154/5000\n",
      " - 1s - loss: 0.0039\n",
      "Epoch 1155/5000\n",
      " - 1s - loss: 0.0039\n",
      "Epoch 1156/5000\n",
      " - 1s - loss: 0.0038\n",
      "Epoch 1157/5000\n",
      " - 1s - loss: 0.0038\n",
      "Epoch 1158/5000\n",
      " - 1s - loss: 0.0038\n",
      "Epoch 1159/5000\n",
      " - 1s - loss: 0.0038\n",
      "Epoch 1160/5000\n",
      " - 1s - loss: 0.0038\n",
      "Epoch 1161/5000\n",
      " - 1s - loss: 0.0038\n",
      "Epoch 1162/5000\n",
      " - 1s - loss: 0.0038\n",
      "Epoch 1163/5000\n",
      " - 1s - loss: 0.0038\n",
      "Epoch 1164/5000\n",
      " - 1s - loss: 0.0038\n",
      "Epoch 1165/5000\n",
      " - 1s - loss: 0.0038\n",
      "Epoch 1166/5000\n",
      " - 1s - loss: 0.0038\n",
      "Epoch 1167/5000\n",
      " - 1s - loss: 0.0038\n",
      "Epoch 1168/5000\n",
      " - 1s - loss: 0.0038\n",
      "Epoch 1169/5000\n",
      " - 1s - loss: 0.0038\n",
      "Epoch 1170/5000\n",
      " - 1s - loss: 0.0038\n",
      "Epoch 1171/5000\n",
      " - 1s - loss: 0.0038\n",
      "Epoch 1172/5000\n",
      " - 1s - loss: 0.0038\n",
      "Epoch 1173/5000\n",
      " - 1s - loss: 0.0038\n",
      "Epoch 1174/5000\n",
      " - 1s - loss: 0.0038\n",
      "Epoch 1175/5000\n",
      " - 1s - loss: 0.0038\n",
      "Epoch 1176/5000\n",
      " - 1s - loss: 0.0038\n",
      "Epoch 1177/5000\n",
      " - 1s - loss: 0.0038\n",
      "Epoch 1178/5000\n",
      " - 1s - loss: 0.0038\n",
      "Epoch 1179/5000\n",
      " - 1s - loss: 0.0038\n",
      "Epoch 1180/5000\n",
      " - 1s - loss: 0.0038\n",
      "Epoch 1181/5000\n",
      " - 1s - loss: 0.0038\n"
     ]
    },
    {
     "name": "stderr",
     "output_type": "stream",
     "text": [
      "\r",
      " 97%|█████████▋| 36/37 [15:15<00:18, 18.15s/it]"
     ]
    },
    {
     "name": "stdout",
     "output_type": "stream",
     "text": [
      "Epoch 1182/5000\n",
      " - 1s - loss: 0.0045\n",
      "Epoch 1183/5000\n",
      " - 1s - loss: 0.0044\n",
      "Epoch 1184/5000\n",
      " - 1s - loss: 0.0044\n",
      "Epoch 1185/5000\n",
      " - 1s - loss: 0.0044\n",
      "Epoch 1186/5000\n",
      " - 1s - loss: 0.0048\n",
      "Epoch 1187/5000\n",
      " - 1s - loss: 0.0042\n",
      "Epoch 1188/5000\n",
      " - 1s - loss: 0.0041\n",
      "Epoch 1189/5000\n",
      " - 1s - loss: 0.0040\n",
      "Epoch 1190/5000\n",
      " - 1s - loss: 0.0040\n",
      "Epoch 1191/5000\n",
      " - 1s - loss: 0.0039\n",
      "Epoch 1192/5000\n",
      " - 1s - loss: 0.0039\n",
      "Epoch 1193/5000\n",
      " - 1s - loss: 0.0039\n",
      "Epoch 1194/5000\n",
      " - 1s - loss: 0.0039\n",
      "Epoch 1195/5000\n",
      " - 1s - loss: 0.0039\n",
      "Epoch 1196/5000\n",
      " - 1s - loss: 0.0039\n",
      "Epoch 1197/5000\n",
      " - 1s - loss: 0.0039\n",
      "Epoch 1198/5000\n",
      " - 1s - loss: 0.0039\n",
      "Epoch 1199/5000\n",
      " - 1s - loss: 0.0039\n",
      "Epoch 1200/5000\n",
      " - 1s - loss: 0.0039\n",
      "Epoch 1201/5000\n",
      " - 1s - loss: 0.0039\n",
      "Epoch 1202/5000\n",
      " - 1s - loss: 0.0039\n",
      "Epoch 1203/5000\n",
      " - 1s - loss: 0.0039\n",
      "Epoch 1204/5000\n",
      " - 1s - loss: 0.0039\n",
      "Epoch 1205/5000\n",
      " - 1s - loss: 0.0039\n",
      "Epoch 1206/5000\n",
      " - 1s - loss: 0.0039\n",
      "Epoch 1207/5000\n",
      " - 1s - loss: 0.0039\n",
      "Epoch 1208/5000\n",
      " - 1s - loss: 0.0039\n",
      "Epoch 1209/5000\n",
      " - 1s - loss: 0.0039\n",
      "Epoch 1210/5000\n",
      " - 1s - loss: 0.0039\n",
      "Epoch 1211/5000\n",
      " - 1s - loss: 0.0039\n",
      "Epoch 1212/5000\n",
      " - 1s - loss: 0.0039\n",
      "Epoch 1213/5000\n",
      " - 1s - loss: 0.0039\n",
      "Epoch 1214/5000\n",
      " - 1s - loss: 0.0039\n",
      "Epoch 1215/5000\n",
      " - 1s - loss: 0.0039\n",
      "Epoch 1216/5000\n",
      " - 1s - loss: 0.0039\n"
     ]
    },
    {
     "name": "stderr",
     "output_type": "stream",
     "text": [
      "100%|██████████| 37/37 [15:41<00:00, 25.45s/it]\n"
     ]
    }
   ],
   "source": [
    "for weekno, BatchData in enumerate(tqdm(modelconfig['weeklist'])):\n",
    "\n",
    "    \"\"\"Begin weekly training\"\"\"   \n",
    "    X_train = BatchData['X_train']\n",
    "    y_train = BatchData['y_train']\n",
    "\n",
    "    K.clear_session()\n",
    "    \n",
    "    try:\n",
    "        del nn_model\n",
    "    except NameError:\n",
    "        pass\n",
    "\n",
    "    #Instantiate learner model\n",
    "    nn_model = mp.simple_LSTM_model(path,\n",
    "                                  inputdim=X_train.shape[-1],\n",
    "                                  outputdim=y_train.shape[-1],\n",
    "                                  input_timesteps=input_timesteps,\n",
    "                                  output_timesteps = output_timesteps,\n",
    "                                  period=period,\n",
    "                                  stateful = modelconfig['train_stateful'],\n",
    "                                  batch_size=modelconfig['train_batchsize'])\n",
    "\n",
    "    # Desing model architecture\n",
    "    nn_model.design_network(lstmhiddenlayers=[modelconfig['lstm_hidden_units']] * modelconfig['lstm_no_layers'],\n",
    "                            densehiddenlayers=[modelconfig['dense_hidden_units']] * modelconfig['dense_no_layers'],\n",
    "                            dropoutlist=[[], []],\n",
    "                            batchnormalizelist=[[], []])\n",
    "\n",
    "    # load the trained model weights if we want to: here some layer weights may be reinitialized; see below\n",
    "    if model_saved & retain_prev_model:\n",
    "        nn_model.model.load_weights('IntermediateModel.h5')\n",
    "\n",
    "\n",
    "    # compile model\n",
    "    nn_model.model_compile()   \n",
    "\n",
    "    # train the model for adaptive model and fixed after first round for fixed control\n",
    "    if adaptive_control | (weekno==0):\n",
    "        history = nn_model.train_model(X_train,\n",
    "                                       y_train,\n",
    "                                       epochs=modelconfig['train_epochs'],\n",
    "                                       initial_epoch=initial_epoch)\n",
    "        try:\n",
    "            initial_epoch += len(history.history['loss'])\n",
    "        except KeyError:\n",
    "            pass\n",
    "\n",
    "        # save the model only if trained at least once- needed for prediction model\n",
    "        nn_model.model.save('IntermediateModel.h5')\n",
    "        model_saved = True     \n",
    "    \"\"\"End Weekly Training\"\"\"\n",
    "    \n",
    "    \n",
    "    \"\"\"Begin Last Week Prediction\"\"\"\n",
    "    \n",
    "    y_scaler = BatchData['y_scaler']\n",
    "    X_scaler = BatchData['X_scaler']\n",
    "    X_test = BatchData['X_test']\n",
    "    y_test = BatchData['y_test']\n",
    "   \n",
    "\n",
    "    try:\n",
    "        del nn_model_pred\n",
    "    except NameError:\n",
    "        pass\n",
    "    # K.clear_session()\n",
    "\n",
    "    # Separate predictor for predicting online: only difference is test batch size\n",
    "    nn_model_pred = mp.simple_LSTM_model(path,\n",
    "                                       inputdim=X_test.shape[-1],\n",
    "                                       outputdim=y_test.shape[-1],\n",
    "                                       input_timesteps=input_timesteps,\n",
    "                                       output_timesteps = output_timesteps,\n",
    "                                       period=period,\n",
    "                                       stateful = modelconfig['test_stateful'],\n",
    "                                       batch_size=modelconfig['test_batchsize'])\n",
    "\n",
    "    # Desing model architecture\n",
    "    nn_model_pred.design_network(lstmhiddenlayers=[modelconfig['lstm_hidden_units']] * modelconfig['lstm_no_layers'],\n",
    "                            densehiddenlayers=[modelconfig['dense_hidden_units']] * modelconfig['dense_no_layers'],\n",
    "                            dropoutlist=[[], []],\n",
    "                            batchnormalizelist=[[], []])\n",
    "\n",
    "\n",
    "    # load the trained model weights\n",
    "    nn_model_pred.model.load_weights('IntermediateModel.h5')\n",
    "    # compile model\n",
    "    nn_model_pred.model_compile()\n",
    "\n",
    "    # evaluate the model for metrics at this stage\n",
    "    # train and test plots as well as logged errors inside the text file\n",
    "    preds_test = nn_model_pred.evaluate_model( X_test,\n",
    "                                               y_test,\n",
    "                                               y_scaler,\n",
    "                                               save_plot_loc=path+'normalplots/',\n",
    "                                               scaling=True,\n",
    "                                               saveplot=True,\n",
    "                                               Idx=BatchData['Id'],\n",
    "                                               outputdim_names=[addl['names_abreviation'][outputcols[0]]],\n",
    "                                               output_mean = mean_output)\n",
    "\n",
    "    # do a detailed plot instead\n",
    "    pu.detailedplot(period * 5,\n",
    "                    xs = date2num(list(BatchData['test_idx'])),\n",
    "                    outputdim=len(outputcols),\n",
    "                    output_timesteps=output_timesteps,\n",
    "                    input_timesteps=input_timesteps,\n",
    "                    pred=preds_test,\n",
    "                    target=y_test,\n",
    "                    X_var=X_test,\n",
    "                    x_loc=x_loc,\n",
    "                    x_lab=x_lab,\n",
    "                    saveloc=path + 'detailedplots/',\n",
    "                    scaling=True,\n",
    "                    Xscaler=X_scaler,\n",
    "                    yscaler=y_scaler,\n",
    "                    outputdim_names=[addl['names_abreviation'][outputcols[0]]],\n",
    "                    typeofplot='test',\n",
    "                    Idx=BatchData['Id'])\n",
    "    \"\"\"End Last Week Prediction\"\"\"\n",
    "\n",
    "    \"\"\"Only execute when we are freezing LSTM and just training on Dense\"\"\"\n",
    "    if adaptive_control:\n",
    "        \n",
    "        # freeze all but dense layers at the top and compile with new weights\n",
    "        if freeze_model:\n",
    "            for layer in nn_model.model.layers[:modelconfig['retrain_from_layers']]:\n",
    "                layer.trainable = False\n",
    "\n",
    "        # for relearning, reinitialize top few layers\n",
    "        if reinitialize:\n",
    "            for layer in nn_model.model.layers[modelconfig['retrain_from_layers']:]:\n",
    "                layer.kernel.initializer.run(session=K.get_session())\n",
    "                layer.bias.initializer.run(session=K.get_session())\n",
    "\n",
    "        # recompile model\n",
    "        if freeze_model | reinitialize:\n",
    "            nn_model.model_compile()\n",
    "            \n",
    "            # save the model- needed for Keras limitations: Tensorboard crashes if we relearn on original model with\n",
    "            # reinitialized weights; solution: we create new model and load these weights\n",
    "            nn_model.model.save('IntermediateModel.h5')\n",
    "            model_saved = True\n",
    "            \n",
    "            freeze_model = False\n",
    "            reinitialize = False"
   ]
  },
  {
   "cell_type": "markdown",
   "metadata": {},
   "source": [
    "## Plot the CVRMSE error on chunks of temporal data"
   ]
  },
  {
   "cell_type": "code",
   "execution_count": 28,
   "metadata": {
    "run_control": {
     "marked": true
    }
   },
   "outputs": [
    {
     "name": "stdout",
     "output_type": "stream",
     "text": [
      "Name of the file:  ../results/hwe_model2/adaptive/30min Results_File.txt\n"
     ]
    },
    {
     "data": {
      "image/png": "[encoded data removed]",
      "text/plain": [
       "<Figure size 1224x432 with 1 Axes>"
      ]
     },
     "metadata": {
      "needs_background": "light"
     },
     "output_type": "display_data"
    }
   ],
   "source": [
    "# Open a file\n",
    "fo = open(path + \"{}min Results_File.txt\".format(5 * period), \"r\")\n",
    "print(\"Name of the file: \", fo.name)\n",
    "lines = fo.readlines()\n",
    "\n",
    "parse_format = 'Year-{}-Week-{}-Time Step {}: {} RMSE={} |{} CVRMSE={} |{} MAE={}'\n",
    "stats = {\n",
    "    'Train': {\n",
    "        'rmse': [],\n",
    "        'cvrmse': [],\n",
    "        'mae': []\n",
    "    },\n",
    "    'Test': {\n",
    "        'rmse': [],\n",
    "        'cvrmse': [],\n",
    "        'mae': []\n",
    "    }\n",
    "}\n",
    "xticklist = []\n",
    "counter = 0\n",
    "for line in lines:\n",
    "    p = parse.parse(parse_format, line)\n",
    "    stats[p[3]]['rmse'].append(float(p[4]))\n",
    "    stats[p[5]]['cvrmse'].append(float(p[6]))\n",
    "    stats[p[7]]['mae'].append(float(p[8]))\n",
    "    if counter % 1 == 0:\n",
    "        xticklist.append('Year-{}-Week-{}'.format(p[0], p[1]))\n",
    "    counter += 1\n",
    "fo.close()\n",
    "cvrmse_list = stats['Test']['cvrmse']\n",
    "\n",
    "max_cvrmse = max(cvrmse_list)\n",
    "cvrmse_list = [i if i <= 30 else (10*(i-30)/(max_cvrmse-30))+30 for i in cvrmse_list]\n",
    "\n",
    "cvrmse = sum(cvrmse_list) / len(cvrmse_list)\n",
    "# from dataprocess import plotutils as pu\n",
    "plot_args = dict(\n",
    "    bars=cvrmse_list,\n",
    "    color='goldenrod',\n",
    "    bar_label='cvrmse',\n",
    "    saveloc=path,\n",
    "    smoothcurve=True,\n",
    "    bar_annotate=True,\n",
    "    saveplot=True,\n",
    "    xlabel='Week of year',\n",
    "    ylabel='cvrmse error in percentage',\n",
    "    title=\n",
    "    'Weekly CVRMSE Error for Hot Water Energy Model at {5:}min(s) intervals \\n [{0:} \\\n",
    "    layers of {1:}-unit lstm, {2:} layers of {3:}-unit dense] \\n Average CVRMSE Error {4:.2f}%'\n",
    "    .format(modelconfig['lstm_no_layers'], modelconfig['lstm_hidden_units'],\n",
    "            modelconfig['dense_no_layers'], modelconfig['dense_hidden_units'],\n",
    "            cvrmse, 5 * period),\n",
    "    xticklist=xticklist,\n",
    "    plotwidth=17,\n",
    "    plotheight=6,\n",
    "    fontsize=16)\n",
    "pu.single_bar_plot(**plot_args)"
   ]
  },
  {
   "cell_type": "markdown",
   "metadata": {},
   "source": [
    "## Merge the pdfs together"
   ]
  },
  {
   "cell_type": "code",
   "execution_count": 26,
   "metadata": {
    "run_control": {
     "marked": true
    }
   },
   "outputs": [],
   "source": [
    "# path where files are stored\n",
    "pdfs_loc = path + 'detailedplots/'\n",
    "# list all the files\n",
    "flist = sorted(glob.glob(os.path.join(pdfs_loc, '*')))"
   ]
  },
  {
   "cell_type": "code",
   "execution_count": 27,
   "metadata": {
    "run_control": {
     "marked": true
    }
   },
   "outputs": [],
   "source": [
    "from PyPDF2 import PdfFileMerger, PdfFileReader\n",
    " \n",
    "# Call the PdfFileMerger\n",
    "mergedObject = PdfFileMerger()\n",
    " \n",
    "# I had 116 files in the folder that had to be merged into a single document\n",
    "# Loop through all of them and append their pages\n",
    "for filename in flist:\n",
    "    mergedObject.append(PdfFileReader(filename, 'rb'))\n",
    "    \n",
    "#  Write all the files into a file which is named as shown below\n",
    "mergedObject.write(path+'DetailedPredvsTarget.pdf')"
   ]
  },
  {
   "cell_type": "markdown",
   "metadata": {
    "heading_collapsed": true,
    "run_control": {
     "marked": false
    }
   },
   "source": [
    "### Code cemetery"
   ]
  },
  {
   "cell_type": "code",
   "execution_count": null,
   "metadata": {
    "hidden": true
   },
   "outputs": [],
   "source": [
    "# from keras.utils import plot_model\n",
    "# plot_model(nn_model.model, to_file='model.png',show_shapes=True,)\n",
    "\n",
    "\n",
    "# # Check the trainable status of the individual layers\n",
    "# for layer in nn_model.model.layers:\n",
    "#     print(layer, layer.trainable, layer.name)\n",
    "\n",
    "\n",
    "#model.model.summary()\n",
    "\n",
    "\n",
    "#nn_model.model.layers[-1].input_shape\n",
    "#model.model.layers[-1].kernel.initializer.run(session=K.get_session())\n",
    "#model.model.layers[-1].bias.initializer.run(session=K.get_session())\n",
    "#nn_model.model.layers[-1].output_shape"
   ]
  }
 ],
 "metadata": {
  "kernelspec": {
   "display_name": "Python 3.6.9 64-bit ('sbvenv1': venv)",
   "language": "python",
   "name": "python36964bitsbvenv1venv1a534851ebbc4d609aad5dcf7b359ab5"
  },
  "language_info": {
   "codemirror_mode": {
    "name": "ipython",
    "version": 3
   },
   "file_extension": ".py",
   "mimetype": "text/x-python",
   "name": "python",
   "nbconvert_exporter": "python",
   "pygments_lexer": "ipython3",
   "version": "3.6.9"
  },
  "toc": {
   "base_numbering": 1,
   "nav_menu": {},
   "number_sections": true,
   "sideBar": true,
   "skip_h1_title": false,
   "title_cell": "Table of Contents",
   "title_sidebar": "Contents",
   "toc_cell": false,
   "toc_position": {
    "height": "calc(100% - 180px)",
    "left": "10px",
    "top": "150px",
    "width": "307px"
   },
   "toc_section_display": true,
   "toc_window_display": true
  }
 },
 "nbformat": 4,
 "nbformat_minor": 4
}
