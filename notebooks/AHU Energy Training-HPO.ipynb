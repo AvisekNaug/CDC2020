{
 "cells": [
  {
   "cell_type": "code",
   "execution_count": 1,
   "metadata": {},
   "outputs": [],
   "source": [
    "# including the project directory to the notebook level\n",
    "import os\n",
    "os.environ['CUDA_VISIBLE_DEVICES'] = ''\n",
    "import sys\n",
    "module_path = os.path.abspath(os.path.join('..'))\n",
    "if module_path not in sys.path:\n",
    "    sys.path.append(module_path)\n",
    "import numpy as np\n",
    "import warnings"
   ]
  },
  {
   "cell_type": "code",
   "execution_count": 2,
   "metadata": {},
   "outputs": [
    {
     "name": "stderr",
     "output_type": "stream",
     "text": [
      "Using TensorFlow backend.\n"
     ]
    }
   ],
   "source": [
    "with warnings.catch_warnings():\n",
    "    warnings.filterwarnings(\"ignore\", category=FutureWarning)\n",
    "    from keras import backend as K\n",
    "    # from nn_source import models as mp\n",
    "from dataprocess import dataprocessor as dp\n",
    "import models as mp"
   ]
  },
  {
   "cell_type": "code",
   "execution_count": 3,
   "metadata": {},
   "outputs": [],
   "source": [
    "\"\"\"This test checks that HyperOpt is functional.\n",
    "\n",
    "It also checks that it is usable with a separate scheduler.\n",
    "\"\"\"\n",
    "import ray\n",
    "from ray.tune import run\n",
    "from ray.tune.schedulers import AsyncHyperBandScheduler\n",
    "from ray.tune.suggest.hyperopt import HyperOptSearch\n",
    "import argparse\n",
    "from hyperopt import hp"
   ]
  },
  {
   "cell_type": "code",
   "execution_count": 9,
   "metadata": {},
   "outputs": [],
   "source": [
    "# read the pickled file for ahu data\n",
    "ahudata = dp.readfile('../data/processed/ahu1energy.pkl')\n",
    "\n",
    "# return pickled df\n",
    "ahu = ahudata.return_df(processmethods=['file2df'])\n",
    "\n",
    "# read the pickled file for ghi data\n",
    "ghidata = dp.readfile('../data/processed/ghi.pkl')\n",
    "\n",
    "# return pickled df\n",
    "ghi = ghidata.return_df(processmethods=['file2df'])\n",
    "\n",
    "# read the pickled file for ghi data\n",
    "flowdata = dp.readfile('../data/processed/flow.pkl')\n",
    "\n",
    "# return pickled df\n",
    "flow = flowdata.return_df(processmethods=['file2df'])\n",
    "flow.columns = ['flow']"
   ]
  },
  {
   "cell_type": "code",
   "execution_count": 10,
   "metadata": {},
   "outputs": [],
   "source": [
    "# selecting only required columns and rearranging them\n",
    "ahu = ahu[[\n",
    "    'AHU_1 outdoorAirTemp', 'WeatherDataProfile humidity',\n",
    "    'AHU_1 supplyAirTemp', 'HW_BTU_METER currentKbtuDeltaReading',\n",
    "    'CHW_BTU_METER currentKbtuDeltaReading'\n",
    "]]\n",
    "\n",
    "# renaming columns\n",
    "ahu.columns = ['oat', 'orh', 'sat', 'hwe', 'cwe']\n",
    "\n",
    "# Total energy is sum of heating and coling\n",
    "ahu['totale'] = ahu['hwe'] + ahu['cwe']\n",
    "# dropping heating and cooling energy columns\n",
    "ahu = ahu.drop(columns=['hwe', 'cwe'])"
   ]
  },
  {
   "cell_type": "code",
   "execution_count": 12,
   "metadata": {},
   "outputs": [],
   "source": [
    "# merging ahu and ghi data\n",
    "df = dp.merge_df_columns([ahu, ghi, flow])\n",
    "\n",
    "# rearranging columns\n",
    "df = df[['oat', 'orh', 'sat', 'Ghi', 'flow', 'totale']]"
   ]
  },
  {
   "cell_type": "code",
   "execution_count": 15,
   "metadata": {},
   "outputs": [
    {
     "data": {
      "text/html": [
       "<div>\n",
       "<style scoped>\n",
       "    .dataframe tbody tr th:only-of-type {\n",
       "        vertical-align: middle;\n",
       "    }\n",
       "\n",
       "    .dataframe tbody tr th {\n",
       "        vertical-align: top;\n",
       "    }\n",
       "\n",
       "    .dataframe thead th {\n",
       "        text-align: right;\n",
       "    }\n",
       "</style>\n",
       "<table border=\"1\" class=\"dataframe\">\n",
       "  <thead>\n",
       "    <tr style=\"text-align: right;\">\n",
       "      <th></th>\n",
       "      <th>oat</th>\n",
       "      <th>orh</th>\n",
       "      <th>sat</th>\n",
       "      <th>Ghi</th>\n",
       "      <th>flow</th>\n",
       "      <th>totale</th>\n",
       "    </tr>\n",
       "  </thead>\n",
       "  <tbody>\n",
       "    <tr>\n",
       "      <th>2018-07-12 13:55:00</th>\n",
       "      <td>89.554909</td>\n",
       "      <td>76.0</td>\n",
       "      <td>75.443275</td>\n",
       "      <td>872.0</td>\n",
       "      <td>43.108143</td>\n",
       "      <td>35.590466</td>\n",
       "    </tr>\n",
       "    <tr>\n",
       "      <th>2018-07-12 14:00:00</th>\n",
       "      <td>89.863190</td>\n",
       "      <td>76.0</td>\n",
       "      <td>75.443275</td>\n",
       "      <td>866.0</td>\n",
       "      <td>45.760704</td>\n",
       "      <td>33.027813</td>\n",
       "    </tr>\n",
       "    <tr>\n",
       "      <th>2018-07-12 14:05:00</th>\n",
       "      <td>89.863190</td>\n",
       "      <td>76.0</td>\n",
       "      <td>75.443275</td>\n",
       "      <td>859.0</td>\n",
       "      <td>45.840881</td>\n",
       "      <td>31.769627</td>\n",
       "    </tr>\n",
       "    <tr>\n",
       "      <th>2018-07-12 14:10:00</th>\n",
       "      <td>90.484146</td>\n",
       "      <td>69.0</td>\n",
       "      <td>75.443275</td>\n",
       "      <td>848.0</td>\n",
       "      <td>43.372566</td>\n",
       "      <td>34.195641</td>\n",
       "    </tr>\n",
       "    <tr>\n",
       "      <th>2018-07-12 14:15:00</th>\n",
       "      <td>90.826981</td>\n",
       "      <td>69.0</td>\n",
       "      <td>75.443275</td>\n",
       "      <td>836.0</td>\n",
       "      <td>38.218956</td>\n",
       "      <td>31.082222</td>\n",
       "    </tr>\n",
       "  </tbody>\n",
       "</table>\n",
       "</div>"
      ],
      "text/plain": [
       "                           oat   orh        sat    Ghi       flow     totale\n",
       "2018-07-12 13:55:00  89.554909  76.0  75.443275  872.0  43.108143  35.590466\n",
       "2018-07-12 14:00:00  89.863190  76.0  75.443275  866.0  45.760704  33.027813\n",
       "2018-07-12 14:05:00  89.863190  76.0  75.443275  859.0  45.840881  31.769627\n",
       "2018-07-12 14:10:00  90.484146  69.0  75.443275  848.0  43.372566  34.195641\n",
       "2018-07-12 14:15:00  90.826981  69.0  75.443275  836.0  38.218956  31.082222"
      ]
     },
     "execution_count": 15,
     "metadata": {},
     "output_type": "execute_result"
    }
   ],
   "source": [
    "df.head()"
   ]
  },
  {
   "cell_type": "code",
   "execution_count": 16,
   "metadata": {},
   "outputs": [],
   "source": [
    "# Creating a list of 7 day dataframes for training\n",
    "dflist = dp.df2dflist(df, subsequence=True, period=1, days=7, hours=0)"
   ]
  },
  {
   "cell_type": "code",
   "execution_count": 17,
   "metadata": {},
   "outputs": [
    {
     "data": {
      "text/plain": [
       "10"
      ]
     },
     "execution_count": 17,
     "metadata": {},
     "output_type": "execute_result"
    }
   ],
   "source": [
    "len(dflist)"
   ]
  },
  {
   "cell_type": "code",
   "execution_count": 20,
   "metadata": {},
   "outputs": [],
   "source": [
    "# create list of training, testing arrays\n",
    "weeklist = []\n",
    "for weekdata in dflist:\n",
    "    X_train, X_test, y_train, y_test, X_scaler, y_scaler = dp.df2arrays(\n",
    "        weekdata,\n",
    "        predictorcols=['oat', 'orh', 'sat', 'Ghi', 'flow'],\n",
    "        outputcols=['totale'],\n",
    "        scaling=True,\n",
    "        feature_range=(0,1),\n",
    "        reshaping=True,\n",
    "        lag=-1\n",
    "    )\n",
    "    weeklist.append({\n",
    "        'X_train':X_train,\n",
    "        'y_train': y_train,\n",
    "        'X_test': X_test,\n",
    "        'y_test': y_test,\n",
    "    })"
   ]
  },
  {
   "cell_type": "code",
   "execution_count": 37,
   "metadata": {},
   "outputs": [
    {
     "name": "stdout",
     "output_type": "stream",
     "text": [
      "name: X_train, value: (1511, 1, 5)\n",
      "name: y_train, value: (1511, 1, 1)\n",
      "name: X_test, value: (504, 1, 5)\n",
      "name: y_test, value: (504, 1, 1)\n"
     ]
    }
   ],
   "source": [
    "weeklist[0].keys()\n",
    "for key,value in weeklist[0].items():\n",
    "    print(\"name: {}, value: {}\".format(key, value.shape))"
   ]
  },
  {
   "cell_type": "code",
   "execution_count": 40,
   "metadata": {},
   "outputs": [],
   "source": [
    "def objective_function2(config, reporter):\n",
    "    \n",
    "    modeldesigndone = False\n",
    "    \n",
    "    for weekdata in config['weeklist']:\n",
    "        \n",
    "        X_train = weekdata['X_train']\n",
    "        y_train = weekdata['y_train']\n",
    "        X_test = weekdata['X_test']\n",
    "        y_test = weekdata['y_test']\n",
    "    \n",
    "        if not modeldesigndone:\n",
    "            #Instantiate learner model\n",
    "            model = mp.lstm_model(inputdim=X_train.shape[-1], outputdim = y_train.shape[-1], period = 1)\n",
    "\n",
    "            # Desing model architecture\n",
    "            model.design_model(lstmhiddenlayers=[config['lstm_hidden_units']]*config['lstm_no_layers'], \n",
    "                           densehiddenlayers=[config['dense_hidden_units']]*config['dense_no_layers'], \n",
    "                       dropoutlist=[[], []], batchnormalizelist=[[], []])\n",
    "            \n",
    "            # creating early stopping and learning reate changing callbacks\n",
    "            model.model_callbacks()\n",
    "            \n",
    "            modeldesigndone = True\n",
    "\n",
    "        # train the model\n",
    "        model.train_model(X_train, y_train, X_test, y_test, epochs = 200)\n",
    "\n",
    "        # evaluate the model for metrics at this stage\n",
    "        cvrmse, mae = model.evaluate_model(X_train, y_train, X_test, y_test)\n",
    "\n",
    "        # reporter for tracking performance of individual process/ ray process\n",
    "        # note if it is reported betwen weekly data loop, then training might stop at the middle of the loop\n",
    "        reporter(test_cvrmse=sum(cvrmse[1])/len(cvrmse[1]))\n",
    "    "
   ]
  },
  {
   "cell_type": "code",
   "execution_count": 39,
   "metadata": {},
   "outputs": [
    {
     "name": "stderr",
     "output_type": "stream",
     "text": [
      "2020-03-10 17:52:16,159\tWARNING services.py:586 -- setpgrp failed, processes may not be cleaned up properly: [Errno 1] Operation not permitted.\n",
      "2020-03-10 17:52:16,162\tINFO resource_spec.py:212 -- Starting Ray with 36.43 GiB memory available for workers and up to 18.23 GiB for objects. You can adjust these settings with ray.init(memory=<bytes>, object_store_memory=<bytes>).\n",
      "2020-03-10 17:52:16,595\tINFO services.py:1078 -- View the Ray dashboard at \u001b[1m\u001b[32mlocalhost:8266\u001b[39m\u001b[22m\n"
     ]
    },
    {
     "data": {
      "text/plain": [
       "{'node_ip_address': '129.59.104.221',\n",
       " 'redis_address': '129.59.104.221:47244',\n",
       " 'object_store_address': '/tmp/ray/session_2020-03-10_17-52-16_158766_32667/sockets/plasma_store',\n",
       " 'raylet_socket_name': '/tmp/ray/session_2020-03-10_17-52-16_158766_32667/sockets/raylet',\n",
       " 'webui_url': 'localhost:8266',\n",
       " 'session_dir': '/tmp/ray/session_2020-03-10_17-52-16_158766_32667'}"
      ]
     },
     "execution_count": 39,
     "metadata": {},
     "output_type": "execute_result"
    }
   ],
   "source": [
    "ray.init()"
   ]
  },
  {
   "cell_type": "code",
   "execution_count": 41,
   "metadata": {},
   "outputs": [],
   "source": [
    "space = {\n",
    "    'lstm_hidden_units': hp.choice(\"lstm_hidden_units\", [1, 2, 4, 8, 16, 32, 64]),\n",
    "    'lstm_no_layers': hp.choice(\"lstm_no_layers\", [1, 2, 4, 8]),\n",
    "    'dense_hidden_units': hp.choice(\"dense_hidden_units\", [1, 2, 4, 8, 16, 32, 64]),\n",
    "    'dense_no_layers' : hp.choice(\"dense_no_layers\", [1, 2, 4, 8]),\n",
    "}\n",
    "\n",
    "config = {\n",
    "    \"num_samples\": 200,\n",
    "    \"verbose\":1,\n",
    "    \"resources_per_trial\":{\"cpu\": 0.2},\n",
    "    \"config\":{'weeklist':weeklist}\n",
    "}\n",
    "\n",
    "algo = HyperOptSearch(\n",
    "    space,\n",
    "    max_concurrent=40,\n",
    "    metric=\"test_cvrmse\",\n",
    "    mode=\"min\")\n",
    "\n",
    "\n",
    "scheduler = AsyncHyperBandScheduler(\n",
    "    metric=\"test_cvrmse\",\n",
    "    mode=\"min\")"
   ]
  },
  {
   "cell_type": "code",
   "execution_count": 42,
   "metadata": {
    "scrolled": false
   },
   "outputs": [
    {
     "data": {
      "text/html": [
       "== Status ==<br>Memory usage on this node: 5.3/62.5 GiB<br>Using AsyncHyperBand: num_stopped=181\n",
       "Bracket: Iter 64.000: None | Iter 16.000: None | Iter 4.000: -35.69747669238736 | Iter 1.000: -24.42149900871321<br>Resources requested: 0.0/20 CPUs, 0/0 GPUs, 0.0/36.43 GiB heap, 0.0/12.55 GiB objects<br>Result logdir: /home/nauga/ray_results/objective_function2<br>Number of trials: 200 (200 TERMINATED)<br>Table truncated to 20 rows. 180 trials (180 TERMINATED) not shown.<br><table>\n",
       "<thead>\n",
       "<tr><th>Trial name                  </th><th>status    </th><th>loc  </th><th style=\"text-align: right;\">  dense_hidden_units</th><th style=\"text-align: right;\">  dense_no_layers</th><th style=\"text-align: right;\">  lstm_hidden_units</th><th style=\"text-align: right;\">  lstm_no_layers</th><th style=\"text-align: right;\">  total time (s)</th><th style=\"text-align: right;\">  iter</th></tr>\n",
       "</thead>\n",
       "<tbody>\n",
       "<tr><td>objective_function2_921e303f</td><td>TERMINATED</td><td>     </td><td style=\"text-align: right;\">                  64</td><td style=\"text-align: right;\">                2</td><td style=\"text-align: right;\">                  1</td><td style=\"text-align: right;\">               8</td><td style=\"text-align: right;\">         74.5092</td><td style=\"text-align: right;\">     1</td></tr>\n",
       "<tr><td>objective_function2_921e303e</td><td>TERMINATED</td><td>     </td><td style=\"text-align: right;\">                   2</td><td style=\"text-align: right;\">                8</td><td style=\"text-align: right;\">                 16</td><td style=\"text-align: right;\">               4</td><td style=\"text-align: right;\">         49.2588</td><td style=\"text-align: right;\">     1</td></tr>\n",
       "<tr><td>objective_function2_8b6673d5</td><td>TERMINATED</td><td>     </td><td style=\"text-align: right;\">                   1</td><td style=\"text-align: right;\">                2</td><td style=\"text-align: right;\">                  2</td><td style=\"text-align: right;\">               2</td><td style=\"text-align: right;\">         29.6212</td><td style=\"text-align: right;\">     1</td></tr>\n",
       "<tr><td>objective_function2_8b6673d4</td><td>TERMINATED</td><td>     </td><td style=\"text-align: right;\">                  16</td><td style=\"text-align: right;\">                1</td><td style=\"text-align: right;\">                 16</td><td style=\"text-align: right;\">               1</td><td style=\"text-align: right;\">         65.4122</td><td style=\"text-align: right;\">     4</td></tr>\n",
       "<tr><td>objective_function2_8b6673d3</td><td>TERMINATED</td><td>     </td><td style=\"text-align: right;\">                   4</td><td style=\"text-align: right;\">                2</td><td style=\"text-align: right;\">                 64</td><td style=\"text-align: right;\">               2</td><td style=\"text-align: right;\">         32.1446</td><td style=\"text-align: right;\">     1</td></tr>\n",
       "<tr><td>objective_function2_8b6673d2</td><td>TERMINATED</td><td>     </td><td style=\"text-align: right;\">                  16</td><td style=\"text-align: right;\">                2</td><td style=\"text-align: right;\">                 16</td><td style=\"text-align: right;\">               2</td><td style=\"text-align: right;\">         32.7791</td><td style=\"text-align: right;\">     1</td></tr>\n",
       "<tr><td>objective_function2_864410c7</td><td>TERMINATED</td><td>     </td><td style=\"text-align: right;\">                  16</td><td style=\"text-align: right;\">                2</td><td style=\"text-align: right;\">                  8</td><td style=\"text-align: right;\">               1</td><td style=\"text-align: right;\">         20.5309</td><td style=\"text-align: right;\">     1</td></tr>\n",
       "<tr><td>objective_function2_864410c6</td><td>TERMINATED</td><td>     </td><td style=\"text-align: right;\">                  16</td><td style=\"text-align: right;\">                4</td><td style=\"text-align: right;\">                 32</td><td style=\"text-align: right;\">               2</td><td style=\"text-align: right;\">         68.9882</td><td style=\"text-align: right;\">     4</td></tr>\n",
       "<tr><td>objective_function2_7f68a50b</td><td>TERMINATED</td><td>     </td><td style=\"text-align: right;\">                  16</td><td style=\"text-align: right;\">                2</td><td style=\"text-align: right;\">                 16</td><td style=\"text-align: right;\">               4</td><td style=\"text-align: right;\">         54.6449</td><td style=\"text-align: right;\">     1</td></tr>\n",
       "<tr><td>objective_function2_7f68a50a</td><td>TERMINATED</td><td>     </td><td style=\"text-align: right;\">                   2</td><td style=\"text-align: right;\">                8</td><td style=\"text-align: right;\">                 64</td><td style=\"text-align: right;\">               8</td><td style=\"text-align: right;\">         95.1053</td><td style=\"text-align: right;\">     1</td></tr>\n",
       "<tr><td>objective_function2_79674906</td><td>TERMINATED</td><td>     </td><td style=\"text-align: right;\">                  64</td><td style=\"text-align: right;\">                2</td><td style=\"text-align: right;\">                  4</td><td style=\"text-align: right;\">               2</td><td style=\"text-align: right;\">         33.5724</td><td style=\"text-align: right;\">     1</td></tr>\n",
       "<tr><td>objective_function2_79674905</td><td>TERMINATED</td><td>     </td><td style=\"text-align: right;\">                  16</td><td style=\"text-align: right;\">                1</td><td style=\"text-align: right;\">                 16</td><td style=\"text-align: right;\">               1</td><td style=\"text-align: right;\">         20.3829</td><td style=\"text-align: right;\">     1</td></tr>\n",
       "<tr><td>objective_function2_79674904</td><td>TERMINATED</td><td>     </td><td style=\"text-align: right;\">                   1</td><td style=\"text-align: right;\">                2</td><td style=\"text-align: right;\">                  1</td><td style=\"text-align: right;\">               2</td><td style=\"text-align: right;\">         29.0509</td><td style=\"text-align: right;\">     1</td></tr>\n",
       "<tr><td>objective_function2_742b8cb6</td><td>TERMINATED</td><td>     </td><td style=\"text-align: right;\">                  16</td><td style=\"text-align: right;\">                2</td><td style=\"text-align: right;\">                  2</td><td style=\"text-align: right;\">               2</td><td style=\"text-align: right;\">         33.8621</td><td style=\"text-align: right;\">     1</td></tr>\n",
       "<tr><td>objective_function2_72eb9f26</td><td>TERMINATED</td><td>     </td><td style=\"text-align: right;\">                   4</td><td style=\"text-align: right;\">                2</td><td style=\"text-align: right;\">                 16</td><td style=\"text-align: right;\">               1</td><td style=\"text-align: right;\">         20.7521</td><td style=\"text-align: right;\">     1</td></tr>\n",
       "<tr><td>objective_function2_6d36050a</td><td>TERMINATED</td><td>     </td><td style=\"text-align: right;\">                  16</td><td style=\"text-align: right;\">                2</td><td style=\"text-align: right;\">                 64</td><td style=\"text-align: right;\">               4</td><td style=\"text-align: right;\">         64.3515</td><td style=\"text-align: right;\">     1</td></tr>\n",
       "<tr><td>objective_function2_6d360509</td><td>TERMINATED</td><td>     </td><td style=\"text-align: right;\">                  16</td><td style=\"text-align: right;\">                4</td><td style=\"text-align: right;\">                 16</td><td style=\"text-align: right;\">               2</td><td style=\"text-align: right;\">         36.0931</td><td style=\"text-align: right;\">     1</td></tr>\n",
       "<tr><td>objective_function2_6d360508</td><td>TERMINATED</td><td>     </td><td style=\"text-align: right;\">                  16</td><td style=\"text-align: right;\">                2</td><td style=\"text-align: right;\">                  8</td><td style=\"text-align: right;\">               8</td><td style=\"text-align: right;\">        102.328 </td><td style=\"text-align: right;\">     1</td></tr>\n",
       "<tr><td>objective_function2_67b85a86</td><td>TERMINATED</td><td>     </td><td style=\"text-align: right;\">                   2</td><td style=\"text-align: right;\">                1</td><td style=\"text-align: right;\">                 32</td><td style=\"text-align: right;\">               1</td><td style=\"text-align: right;\">        136.896 </td><td style=\"text-align: right;\">    10</td></tr>\n",
       "<tr><td>objective_function2_669e7609</td><td>TERMINATED</td><td>     </td><td style=\"text-align: right;\">                  64</td><td style=\"text-align: right;\">                2</td><td style=\"text-align: right;\">                 16</td><td style=\"text-align: right;\">               2</td><td style=\"text-align: right;\">         29.5918</td><td style=\"text-align: right;\">     1</td></tr>\n",
       "</tbody>\n",
       "</table><br><br>"
      ],
      "text/plain": [
       "<IPython.core.display.HTML object>"
      ]
     },
     "metadata": {},
     "output_type": "display_data"
    },
    {
     "name": "stderr",
     "output_type": "stream",
     "text": [
      "2020-03-10 18:06:50,844\tINFO tune.py:352 -- Returning an analysis object by default. You can call `analysis.trials` to retrieve a list of trials. This message will be removed in future versions of Tune.\n"
     ]
    }
   ],
   "source": [
    "analysis = run(objective_function2, \n",
    "               search_alg=algo, \n",
    "               scheduler=scheduler, \n",
    "               **config)"
   ]
  },
  {
   "cell_type": "code",
   "execution_count": 43,
   "metadata": {},
   "outputs": [
    {
     "name": "stdout",
     "output_type": "stream",
     "text": [
      "Best config for lstm_hidden_units is 32\n",
      "Best config for lstm_no_layers is 1\n",
      "Best config for dense_hidden_units is 32\n",
      "Best config for dense_no_layers is 8\n"
     ]
    }
   ],
   "source": [
    "for i in space.keys():\n",
    "    print(\"Best config for {} is\".format(i), analysis.get_best_config(metric=\"test_cvrmse\",mode='min')[i])"
   ]
  },
  {
   "cell_type": "code",
   "execution_count": null,
   "metadata": {},
   "outputs": [],
   "source": [
    "ray.shutdown()"
   ]
  },
  {
   "cell_type": "code",
   "execution_count": 44,
   "metadata": {},
   "outputs": [],
   "source": [
    "%load_ext tensorboard"
   ]
  },
  {
   "cell_type": "code",
   "execution_count": null,
   "metadata": {
    "scrolled": false
   },
   "outputs": [],
   "source": [
    "%tensorboard --logdir ~/ray_results/objective_function2/"
   ]
  },
  {
   "cell_type": "code",
   "execution_count": null,
   "metadata": {},
   "outputs": [],
   "source": [
    "%tensorboard --logdir ~/ray_results/objective_function/"
   ]
  },
  {
   "cell_type": "code",
   "execution_count": null,
   "metadata": {},
   "outputs": [],
   "source": []
  }
 ],
 "metadata": {
  "kernelspec": {
   "display_name": "Python 3.6.9 64-bit ('sbvenv1': venv)",
   "language": "python",
   "name": "python36964bitsbvenv1venv1a534851ebbc4d609aad5dcf7b359ab5"
  },
  "language_info": {
   "codemirror_mode": {
    "name": "ipython",
    "version": 3
   },
   "file_extension": ".py",
   "mimetype": "text/x-python",
   "name": "python",
   "nbconvert_exporter": "python",
   "pygments_lexer": "ipython3",
   "version": "3.6.9"
  }
 },
 "nbformat": 4,
 "nbformat_minor": 4
}
