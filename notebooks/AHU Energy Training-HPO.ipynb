{
 "cells": [
  {
   "cell_type": "code",
   "execution_count": 1,
   "metadata": {},
   "outputs": [],
   "source": [
    "# including the project directory to the notebook level\n",
    "import os\n",
    "os.environ['CUDA_VISIBLE_DEVICES'] = ''\n",
    "import sys\n",
    "module_path = os.path.abspath(os.path.join('..'))\n",
    "if module_path not in sys.path:\n",
    "    sys.path.append(module_path)\n",
    "import numpy as np\n",
    "import warnings"
   ]
  },
  {
   "cell_type": "code",
   "execution_count": 2,
   "metadata": {},
   "outputs": [
    {
     "name": "stderr",
     "output_type": "stream",
     "text": [
      "Using TensorFlow backend.\n"
     ]
    }
   ],
   "source": [
    "with warnings.catch_warnings():\n",
    "    warnings.filterwarnings(\"ignore\", category=FutureWarning)\n",
    "    from keras import backend as K\n",
    "    # from nn_source import models as mp\n",
    "from dataprocess import dataprocessor as dp\n",
    "import models as mp"
   ]
  },
  {
   "cell_type": "code",
   "execution_count": 3,
   "metadata": {},
   "outputs": [],
   "source": [
    "\"\"\"This test checks that HyperOpt is functional.\n",
    "\n",
    "It also checks that it is usable with a separate scheduler.\n",
    "\"\"\"\n",
    "import ray\n",
    "from ray.tune import run\n",
    "from ray.tune.schedulers import AsyncHyperBandScheduler\n",
    "from ray.tune.suggest.hyperopt import HyperOptSearch\n",
    "import argparse\n",
    "from hyperopt import hp"
   ]
  },
  {
   "cell_type": "code",
   "execution_count": 9,
   "metadata": {},
   "outputs": [],
   "source": [
    "# read the pickled file for ahu data\n",
    "ahudata = dp.readfile('../data/processed/ahu1energy.pkl')\n",
    "\n",
    "# return pickled df\n",
    "ahu = ahudata.return_df(processmethods=['file2df'])\n",
    "\n",
    "# read the pickled file for ghi data\n",
    "ghidata = dp.readfile('../data/processed/ghi.pkl')\n",
    "\n",
    "# return pickled df\n",
    "ghi = ghidata.return_df(processmethods=['file2df'])\n",
    "\n",
    "# read the pickled file for ghi data\n",
    "flowdata = dp.readfile('../data/processed/flow.pkl')\n",
    "\n",
    "# return pickled df\n",
    "flow = flowdata.return_df(processmethods=['file2df'])\n",
    "flow.columns = ['flow']"
   ]
  },
  {
   "cell_type": "code",
   "execution_count": 10,
   "metadata": {},
   "outputs": [],
   "source": [
    "# selecting only required columns and rearranging them\n",
    "ahu = ahu[[\n",
    "    'AHU_1 outdoorAirTemp', 'WeatherDataProfile humidity',\n",
    "    'AHU_1 supplyAirTemp', 'HW_BTU_METER currentKbtuDeltaReading',\n",
    "    'CHW_BTU_METER currentKbtuDeltaReading'\n",
    "]]\n",
    "\n",
    "# renaming columns\n",
    "ahu.columns = ['oat', 'orh', 'sat', 'hwe', 'cwe']\n",
    "\n",
    "# Total energy is sum of heating and coling\n",
    "ahu['totale'] = ahu['hwe'] + ahu['cwe']\n",
    "# dropping heating and cooling energy columns\n",
    "ahu = ahu.drop(columns=['hwe', 'cwe'])"
   ]
  },
  {
   "cell_type": "code",
   "execution_count": 12,
   "metadata": {},
   "outputs": [],
   "source": [
    "# merging ahu and ghi data\n",
    "df = dp.merge_df_columns([ahu, ghi, flow])\n",
    "\n",
    "# rearranging columns\n",
    "df = df[['oat', 'orh', 'sat', 'Ghi', 'flow', 'totale']]"
   ]
  },
  {
   "cell_type": "code",
   "execution_count": 4,
   "metadata": {},
   "outputs": [],
   "source": [
    "# read the pickled file for ghi data\n",
    "dfdata = dp.readfile('../data/processed/smoothbuildingdata.pkl')\n",
    "\n",
    "# return pickled df\n",
    "df = dfdata.return_df(processmethods=['file2df'])"
   ]
  },
  {
   "cell_type": "code",
   "execution_count": 5,
   "metadata": {},
   "outputs": [
    {
     "data": {
      "text/html": [
       "<div>\n",
       "<style scoped>\n",
       "    .dataframe tbody tr th:only-of-type {\n",
       "        vertical-align: middle;\n",
       "    }\n",
       "\n",
       "    .dataframe tbody tr th {\n",
       "        vertical-align: top;\n",
       "    }\n",
       "\n",
       "    .dataframe thead th {\n",
       "        text-align: right;\n",
       "    }\n",
       "</style>\n",
       "<table border=\"1\" class=\"dataframe\">\n",
       "  <thead>\n",
       "    <tr style=\"text-align: right;\">\n",
       "      <th></th>\n",
       "      <th>oat</th>\n",
       "      <th>orh</th>\n",
       "      <th>sat</th>\n",
       "      <th>Ghi</th>\n",
       "      <th>flow</th>\n",
       "      <th>totale</th>\n",
       "    </tr>\n",
       "  </thead>\n",
       "  <tbody>\n",
       "    <tr>\n",
       "      <th>2018-07-12 13:55:00</th>\n",
       "      <td>89.554909</td>\n",
       "      <td>76.0</td>\n",
       "      <td>75.443275</td>\n",
       "      <td>872.0</td>\n",
       "      <td>43.796002</td>\n",
       "      <td>37.726363</td>\n",
       "    </tr>\n",
       "    <tr>\n",
       "      <th>2018-07-12 14:00:00</th>\n",
       "      <td>89.863190</td>\n",
       "      <td>76.0</td>\n",
       "      <td>75.443275</td>\n",
       "      <td>866.0</td>\n",
       "      <td>43.780609</td>\n",
       "      <td>37.713771</td>\n",
       "    </tr>\n",
       "    <tr>\n",
       "      <th>2018-07-12 14:05:00</th>\n",
       "      <td>89.863190</td>\n",
       "      <td>76.0</td>\n",
       "      <td>75.443275</td>\n",
       "      <td>859.0</td>\n",
       "      <td>43.765213</td>\n",
       "      <td>37.701163</td>\n",
       "    </tr>\n",
       "    <tr>\n",
       "      <th>2018-07-12 14:10:00</th>\n",
       "      <td>90.484146</td>\n",
       "      <td>69.0</td>\n",
       "      <td>75.443275</td>\n",
       "      <td>848.0</td>\n",
       "      <td>43.749812</td>\n",
       "      <td>37.688538</td>\n",
       "    </tr>\n",
       "    <tr>\n",
       "      <th>2018-07-12 14:15:00</th>\n",
       "      <td>90.826981</td>\n",
       "      <td>69.0</td>\n",
       "      <td>75.443275</td>\n",
       "      <td>836.0</td>\n",
       "      <td>43.734408</td>\n",
       "      <td>37.675898</td>\n",
       "    </tr>\n",
       "  </tbody>\n",
       "</table>\n",
       "</div>"
      ],
      "text/plain": [
       "                           oat   orh        sat    Ghi       flow     totale\n",
       "2018-07-12 13:55:00  89.554909  76.0  75.443275  872.0  43.796002  37.726363\n",
       "2018-07-12 14:00:00  89.863190  76.0  75.443275  866.0  43.780609  37.713771\n",
       "2018-07-12 14:05:00  89.863190  76.0  75.443275  859.0  43.765213  37.701163\n",
       "2018-07-12 14:10:00  90.484146  69.0  75.443275  848.0  43.749812  37.688538\n",
       "2018-07-12 14:15:00  90.826981  69.0  75.443275  836.0  43.734408  37.675898"
      ]
     },
     "execution_count": 5,
     "metadata": {},
     "output_type": "execute_result"
    }
   ],
   "source": [
    "df.head()"
   ]
  },
  {
   "cell_type": "code",
   "execution_count": 7,
   "metadata": {},
   "outputs": [],
   "source": [
    "# Creating a list of 7 day dataframes for training\n",
    "dflist = dp.df2dflist(df, subsequence=True, period=1, days=7, hours=0)"
   ]
  },
  {
   "cell_type": "code",
   "execution_count": 8,
   "metadata": {},
   "outputs": [
    {
     "data": {
      "text/plain": [
       "10"
      ]
     },
     "execution_count": 8,
     "metadata": {},
     "output_type": "execute_result"
    }
   ],
   "source": [
    "len(dflist)"
   ]
  },
  {
   "cell_type": "code",
   "execution_count": 9,
   "metadata": {},
   "outputs": [],
   "source": [
    "# create list of training, testing arrays\n",
    "weeklist = []\n",
    "for weekdata in dflist:\n",
    "    X_train, X_test, y_train, y_test, X_scaler, y_scaler = dp.df2arrays(\n",
    "        weekdata,\n",
    "        predictorcols=['oat', 'orh', 'sat', 'Ghi', 'flow'],\n",
    "        outputcols=['totale'],\n",
    "        scaling=True,\n",
    "        feature_range=(0,1),\n",
    "        reshaping=True,\n",
    "        lag=-1\n",
    "    )\n",
    "    weeklist.append({\n",
    "        'X_train':X_train,\n",
    "        'y_train': y_train,\n",
    "        'X_test': X_test,\n",
    "        'y_test': y_test,\n",
    "    })"
   ]
  },
  {
   "cell_type": "code",
   "execution_count": 10,
   "metadata": {},
   "outputs": [
    {
     "name": "stdout",
     "output_type": "stream",
     "text": [
      "name: X_train, value: (1511, 1, 5)\n",
      "name: y_train, value: (1511, 1, 1)\n",
      "name: X_test, value: (504, 1, 5)\n",
      "name: y_test, value: (504, 1, 1)\n"
     ]
    }
   ],
   "source": [
    "weeklist[0].keys()\n",
    "for key,value in weeklist[0].items():\n",
    "    print(\"name: {}, value: {}\".format(key, value.shape))"
   ]
  },
  {
   "cell_type": "code",
   "execution_count": 28,
   "metadata": {},
   "outputs": [],
   "source": [
    "def objective_function3(config, reporter):\n",
    "    \n",
    "    modeldesigndone = False\n",
    "    \n",
    "    for weekdata in config['weeklist']:\n",
    "        \n",
    "        X_train = weekdata['X_train']\n",
    "        y_train = weekdata['y_train']\n",
    "        X_test = weekdata['X_test']\n",
    "        y_test = weekdata['y_test']\n",
    "    \n",
    "        if not modeldesigndone:\n",
    "            \n",
    "            try:\n",
    "                del model\n",
    "            except NameError:\n",
    "                pass\n",
    "\n",
    "            K.clear_session()\n",
    "            \n",
    "            #Instantiate learner model\n",
    "            model = mp.lstm_model(inputdim=X_train.shape[-1], outputdim = y_train.shape[-1], period = 1)\n",
    "\n",
    "            # Desing model architecture\n",
    "            model.design_model(lstmhiddenlayers=[config['lstm_hidden_units']]*config['lstm_no_layers'], \n",
    "                           densehiddenlayers=[config['dense_hidden_units']]*config['dense_no_layers'], \n",
    "                       dropoutlist=[[], []], batchnormalizelist=[[], []])\n",
    "            \n",
    "            # creating early stopping and learning reate changing callbacks\n",
    "            model.model_callbacks()\n",
    "            \n",
    "            modeldesigndone = True\n",
    "        \n",
    "        # train the model\n",
    "        model.train_model(X_train, y_train, X_test, y_test, epochs = 200)\n",
    "\n",
    "        # evaluate the model for metrics at this stage\n",
    "        cvrmse, mae = model.evaluate_model(X_train, y_train, X_test, y_test)\n",
    "\n",
    "        # reporter for tracking performance of individual process/ ray process\n",
    "        # note if it is reported betwen weekly data loop, then training might stop at the middle of the loop\n",
    "        reporter(test_cvrmse=sum(cvrmse[1])/len(cvrmse[1]))\n",
    "    "
   ]
  },
  {
   "cell_type": "code",
   "execution_count": 29,
   "metadata": {},
   "outputs": [
    {
     "name": "stderr",
     "output_type": "stream",
     "text": [
      "2020-03-11 15:12:39,434\tWARNING services.py:586 -- setpgrp failed, processes may not be cleaned up properly: [Errno 1] Operation not permitted.\n",
      "2020-03-11 15:12:39,437\tINFO resource_spec.py:212 -- Starting Ray with 35.45 GiB memory available for workers and up to 17.75 GiB for objects. You can adjust these settings with ray.init(memory=<bytes>, object_store_memory=<bytes>).\n",
      "2020-03-11 15:12:40,068\tINFO services.py:1078 -- View the Ray dashboard at \u001b[1m\u001b[32mlocalhost:8266\u001b[39m\u001b[22m\n"
     ]
    },
    {
     "data": {
      "text/plain": [
       "{'node_ip_address': '129.59.104.221',\n",
       " 'redis_address': '129.59.104.221:43558',\n",
       " 'object_store_address': '/tmp/ray/session_2020-03-11_15-12-39_432522_18348/sockets/plasma_store',\n",
       " 'raylet_socket_name': '/tmp/ray/session_2020-03-11_15-12-39_432522_18348/sockets/raylet',\n",
       " 'webui_url': 'localhost:8266',\n",
       " 'session_dir': '/tmp/ray/session_2020-03-11_15-12-39_432522_18348'}"
      ]
     },
     "execution_count": 29,
     "metadata": {},
     "output_type": "execute_result"
    }
   ],
   "source": [
    "ray.init()"
   ]
  },
  {
   "cell_type": "code",
   "execution_count": 31,
   "metadata": {},
   "outputs": [],
   "source": [
    "space = {\n",
    "    'lstm_hidden_units': hp.choice(\"lstm_hidden_units\", [1, 2, 4, 8, 16, 32, 64]),\n",
    "    'lstm_no_layers': hp.choice(\"lstm_no_layers\", [1, 2, 4, 8, 16]),\n",
    "    'dense_hidden_units': hp.choice(\"dense_hidden_units\", [1, 2, 4, 8, 16,]),\n",
    "    'dense_no_layers' : hp.choice(\"dense_no_layers\", [1, 2, 4, 8, 16, 32]),\n",
    "}\n",
    "\n",
    "config = {\n",
    "    \"num_samples\": 150,\n",
    "    \"verbose\":1,\n",
    "    \"resources_per_trial\":{\"cpu\": 0.2},\n",
    "    \"config\":{'weeklist':weeklist}\n",
    "}\n",
    "\n",
    "algo = HyperOptSearch(\n",
    "    space,\n",
    "    max_concurrent=40,\n",
    "    metric=\"test_cvrmse\",\n",
    "    mode=\"min\")\n",
    "\n",
    "\n",
    "scheduler = AsyncHyperBandScheduler(\n",
    "    metric=\"test_cvrmse\",\n",
    "    mode=\"min\")"
   ]
  },
  {
   "cell_type": "code",
   "execution_count": 32,
   "metadata": {
    "scrolled": true
   },
   "outputs": [
    {
     "data": {
      "text/html": [
       "== Status ==<br>Memory usage on this node: 5.7/62.5 GiB<br>Using AsyncHyperBand: num_stopped=137\n",
       "Bracket: Iter 64.000: None | Iter 16.000: None | Iter 4.000: -39.236848917087585 | Iter 1.000: -51.21066577009571<br>Resources requested: 0.0/20 CPUs, 0/0 GPUs, 0.0/35.45 GiB heap, 0.0/12.21 GiB objects<br>Result logdir: /home/nauga/ray_results/objective_function3<br>Number of trials: 150 (150 TERMINATED)<br>Table truncated to 20 rows. 130 trials (130 TERMINATED) not shown.<br><table>\n",
       "<thead>\n",
       "<tr><th>Trial name                  </th><th>status    </th><th>loc  </th><th style=\"text-align: right;\">  lstm_no_layers</th><th style=\"text-align: right;\">  dense_hidden_units</th><th style=\"text-align: right;\">  lstm_hidden_units</th><th style=\"text-align: right;\">  dense_no_layers</th><th style=\"text-align: right;\">  total time (s)</th><th style=\"text-align: right;\">  iter</th></tr>\n",
       "</thead>\n",
       "<tbody>\n",
       "<tr><td>objective_function3_e41c17c0</td><td>TERMINATED</td><td>     </td><td style=\"text-align: right;\">               1</td><td style=\"text-align: right;\">                  16</td><td style=\"text-align: right;\">                  2</td><td style=\"text-align: right;\">               16</td><td style=\"text-align: right;\">         73.3082</td><td style=\"text-align: right;\">     1</td></tr>\n",
       "<tr><td>objective_function3_d0f3a9ba</td><td>TERMINATED</td><td>     </td><td style=\"text-align: right;\">               1</td><td style=\"text-align: right;\">                  16</td><td style=\"text-align: right;\">                  2</td><td style=\"text-align: right;\">               16</td><td style=\"text-align: right;\">         87.4354</td><td style=\"text-align: right;\">     1</td></tr>\n",
       "<tr><td>objective_function3_c2bd8212</td><td>TERMINATED</td><td>     </td><td style=\"text-align: right;\">               1</td><td style=\"text-align: right;\">                  16</td><td style=\"text-align: right;\">                  2</td><td style=\"text-align: right;\">               16</td><td style=\"text-align: right;\">         29.0869</td><td style=\"text-align: right;\">     1</td></tr>\n",
       "<tr><td>objective_function3_bc20976e</td><td>TERMINATED</td><td>     </td><td style=\"text-align: right;\">               1</td><td style=\"text-align: right;\">                  16</td><td style=\"text-align: right;\">                  2</td><td style=\"text-align: right;\">               16</td><td style=\"text-align: right;\">         94.9108</td><td style=\"text-align: right;\">     1</td></tr>\n",
       "<tr><td>objective_function3_b639f78c</td><td>TERMINATED</td><td>     </td><td style=\"text-align: right;\">               1</td><td style=\"text-align: right;\">                  16</td><td style=\"text-align: right;\">                  2</td><td style=\"text-align: right;\">               16</td><td style=\"text-align: right;\">        105.09  </td><td style=\"text-align: right;\">     1</td></tr>\n",
       "<tr><td>objective_function3_aa175e36</td><td>TERMINATED</td><td>     </td><td style=\"text-align: right;\">               1</td><td style=\"text-align: right;\">                  16</td><td style=\"text-align: right;\">                  2</td><td style=\"text-align: right;\">                8</td><td style=\"text-align: right;\">         23.2897</td><td style=\"text-align: right;\">     1</td></tr>\n",
       "<tr><td>objective_function3_a4236d08</td><td>TERMINATED</td><td>     </td><td style=\"text-align: right;\">              16</td><td style=\"text-align: right;\">                   1</td><td style=\"text-align: right;\">                 32</td><td style=\"text-align: right;\">                2</td><td style=\"text-align: right;\">        258.815 </td><td style=\"text-align: right;\">     1</td></tr>\n",
       "<tr><td>objective_function3_9c7ec5c1</td><td>TERMINATED</td><td>     </td><td style=\"text-align: right;\">               1</td><td style=\"text-align: right;\">                  16</td><td style=\"text-align: right;\">                  4</td><td style=\"text-align: right;\">                1</td><td style=\"text-align: right;\">        171.079 </td><td style=\"text-align: right;\">     4</td></tr>\n",
       "<tr><td>objective_function3_9c7ec5c0</td><td>TERMINATED</td><td>     </td><td style=\"text-align: right;\">               2</td><td style=\"text-align: right;\">                   8</td><td style=\"text-align: right;\">                 16</td><td style=\"text-align: right;\">               32</td><td style=\"text-align: right;\">        145.81  </td><td style=\"text-align: right;\">     1</td></tr>\n",
       "<tr><td>objective_function3_9681abbc</td><td>TERMINATED</td><td>     </td><td style=\"text-align: right;\">               8</td><td style=\"text-align: right;\">                  16</td><td style=\"text-align: right;\">                  2</td><td style=\"text-align: right;\">                1</td><td style=\"text-align: right;\">        281.646 </td><td style=\"text-align: right;\">     1</td></tr>\n",
       "<tr><td>objective_function3_9681abbb</td><td>TERMINATED</td><td>     </td><td style=\"text-align: right;\">               4</td><td style=\"text-align: right;\">                   4</td><td style=\"text-align: right;\">                 32</td><td style=\"text-align: right;\">                4</td><td style=\"text-align: right;\">        117.611 </td><td style=\"text-align: right;\">     1</td></tr>\n",
       "<tr><td>objective_function3_9681abba</td><td>TERMINATED</td><td>     </td><td style=\"text-align: right;\">               1</td><td style=\"text-align: right;\">                   2</td><td style=\"text-align: right;\">                  4</td><td style=\"text-align: right;\">               32</td><td style=\"text-align: right;\">        107.939 </td><td style=\"text-align: right;\">     1</td></tr>\n",
       "<tr><td>objective_function3_90f875fc</td><td>TERMINATED</td><td>     </td><td style=\"text-align: right;\">               1</td><td style=\"text-align: right;\">                  16</td><td style=\"text-align: right;\">                  1</td><td style=\"text-align: right;\">                1</td><td style=\"text-align: right;\">         41.8951</td><td style=\"text-align: right;\">     1</td></tr>\n",
       "<tr><td>objective_function3_83733bc4</td><td>TERMINATED</td><td>     </td><td style=\"text-align: right;\">               2</td><td style=\"text-align: right;\">                   8</td><td style=\"text-align: right;\">                 64</td><td style=\"text-align: right;\">                8</td><td style=\"text-align: right;\">        199.451 </td><td style=\"text-align: right;\">     4</td></tr>\n",
       "<tr><td>objective_function3_60221c4e</td><td>TERMINATED</td><td>     </td><td style=\"text-align: right;\">              16</td><td style=\"text-align: right;\">                   1</td><td style=\"text-align: right;\">                  8</td><td style=\"text-align: right;\">                1</td><td style=\"text-align: right;\">        481.793 </td><td style=\"text-align: right;\">     1</td></tr>\n",
       "<tr><td>objective_function3_59a573de</td><td>TERMINATED</td><td>     </td><td style=\"text-align: right;\">               1</td><td style=\"text-align: right;\">                  16</td><td style=\"text-align: right;\">                 32</td><td style=\"text-align: right;\">               32</td><td style=\"text-align: right;\">         79.3671</td><td style=\"text-align: right;\">     1</td></tr>\n",
       "<tr><td>objective_function3_45d06814</td><td>TERMINATED</td><td>     </td><td style=\"text-align: right;\">               2</td><td style=\"text-align: right;\">                  16</td><td style=\"text-align: right;\">                  4</td><td style=\"text-align: right;\">                1</td><td style=\"text-align: right;\">        279.588 </td><td style=\"text-align: right;\">     4</td></tr>\n",
       "<tr><td>objective_function3_40038632</td><td>TERMINATED</td><td>     </td><td style=\"text-align: right;\">               8</td><td style=\"text-align: right;\">                   8</td><td style=\"text-align: right;\">                 16</td><td style=\"text-align: right;\">                4</td><td style=\"text-align: right;\">        285.492 </td><td style=\"text-align: right;\">     1</td></tr>\n",
       "<tr><td>objective_function3_38f706a3</td><td>TERMINATED</td><td>     </td><td style=\"text-align: right;\">               4</td><td style=\"text-align: right;\">                   4</td><td style=\"text-align: right;\">                 32</td><td style=\"text-align: right;\">               32</td><td style=\"text-align: right;\">        178.33  </td><td style=\"text-align: right;\">     1</td></tr>\n",
       "<tr><td>objective_function3_38f706a2</td><td>TERMINATED</td><td>     </td><td style=\"text-align: right;\">               2</td><td style=\"text-align: right;\">                  16</td><td style=\"text-align: right;\">                  4</td><td style=\"text-align: right;\">                1</td><td style=\"text-align: right;\">        141.019 </td><td style=\"text-align: right;\">     1</td></tr>\n",
       "</tbody>\n",
       "</table><br><br>"
      ],
      "text/plain": [
       "<IPython.core.display.HTML object>"
      ]
     },
     "metadata": {},
     "output_type": "display_data"
    },
    {
     "name": "stderr",
     "output_type": "stream",
     "text": [
      "2020-03-11 15:41:22,766\tINFO tune.py:352 -- Returning an analysis object by default. You can call `analysis.trials` to retrieve a list of trials. This message will be removed in future versions of Tune.\n"
     ]
    }
   ],
   "source": [
    "analysis = run(objective_function3, \n",
    "               search_alg=algo, \n",
    "               scheduler=scheduler, \n",
    "               **config)"
   ]
  },
  {
   "cell_type": "code",
   "execution_count": 38,
   "metadata": {},
   "outputs": [
    {
     "name": "stdout",
     "output_type": "stream",
     "text": [
      "Best config for lstm_hidden_units is 4\n",
      "Best config for lstm_no_layers is 2\n",
      "Best config for dense_hidden_units is 8\n",
      "Best config for dense_no_layers is 32\n"
     ]
    }
   ],
   "source": [
    "for i in space.keys():\n",
    "    print(\"Best config for {} is\".format(i), analysis.get_best_config(metric=\"test_cvrmse\")[i])\n",
    "    #    print(\"Best config for {} is\".format(i), analysis.get_best_config(metric=\"test_cvrmse\",mode='min')[i])"
   ]
  },
  {
   "cell_type": "code",
   "execution_count": 36,
   "metadata": {},
   "outputs": [],
   "source": [
    "ray.shutdown()"
   ]
  },
  {
   "cell_type": "code",
   "execution_count": 37,
   "metadata": {},
   "outputs": [
    {
     "name": "stdout",
     "output_type": "stream",
     "text": [
      "The tensorboard extension is already loaded. To reload it, use:\n",
      "  %reload_ext tensorboard\n"
     ]
    }
   ],
   "source": [
    "%load_ext tensorboard"
   ]
  },
  {
   "cell_type": "code",
   "execution_count": null,
   "metadata": {
    "scrolled": false
   },
   "outputs": [],
   "source": [
    "%tensorboard --logdir ~/ray_results/objective_function3/"
   ]
  },
  {
   "cell_type": "code",
   "execution_count": null,
   "metadata": {},
   "outputs": [],
   "source": [
    "%tensorboard --logdir ~/ray_results/objective_function/"
   ]
  },
  {
   "cell_type": "code",
   "execution_count": null,
   "metadata": {},
   "outputs": [],
   "source": []
  }
 ],
 "metadata": {
  "kernelspec": {
   "display_name": "Python 3.6.9 64-bit ('sbvenv1': venv)",
   "language": "python",
   "name": "python36964bitsbvenv1venv1a534851ebbc4d609aad5dcf7b359ab5"
  },
  "language_info": {
   "codemirror_mode": {
    "name": "ipython",
    "version": 3
   },
   "file_extension": ".py",
   "mimetype": "text/x-python",
   "name": "python",
   "nbconvert_exporter": "python",
   "pygments_lexer": "ipython3",
   "version": "3.6.9"
  }
 },
 "nbformat": 4,
 "nbformat_minor": 4
}
