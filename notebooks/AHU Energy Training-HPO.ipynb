{
 "cells": [
  {
   "cell_type": "code",
   "execution_count": 1,
   "metadata": {},
   "outputs": [],
   "source": [
    "# including the project directory to the notebook level\n",
    "import os\n",
    "os.environ['CUDA_VISIBLE_DEVICES'] = ''\n",
    "import sys\n",
    "module_path = os.path.abspath(os.path.join('..'))\n",
    "if module_path not in sys.path:\n",
    "    sys.path.append(module_path)\n",
    "import numpy as np\n",
    "import warnings"
   ]
  },
  {
   "cell_type": "code",
   "execution_count": 2,
   "metadata": {},
   "outputs": [
    {
     "name": "stderr",
     "output_type": "stream",
     "text": [
      "Using TensorFlow backend.\n"
     ]
    }
   ],
   "source": [
    "with warnings.catch_warnings():\n",
    "    warnings.filterwarnings(\"ignore\", category=FutureWarning)\n",
    "    from keras import backend as K\n",
    "    # from nn_source import models as mp\n",
    "from dataprocess import dataprocessor as dp\n",
    "import models as mp"
   ]
  },
  {
   "cell_type": "code",
   "execution_count": 3,
   "metadata": {},
   "outputs": [],
   "source": [
    "\"\"\"This test checks that HyperOpt is functional.\n",
    "\n",
    "It also checks that it is usable with a separate scheduler.\n",
    "\"\"\"\n",
    "import ray\n",
    "from ray.tune import run\n",
    "from ray.tune.schedulers import AsyncHyperBandScheduler\n",
    "from ray.tune.suggest.hyperopt import HyperOptSearch\n",
    "import argparse\n",
    "from hyperopt import hp"
   ]
  },
  {
   "cell_type": "code",
   "execution_count": 4,
   "metadata": {},
   "outputs": [],
   "source": [
    "# read the pickled file for ahu data\n",
    "ahudata = dp.readfile('../data/processed/ahu1energy.pkl')\n",
    "\n",
    "# return pickled df\n",
    "ahu = ahudata.return_df(processmethods=['file2df'])\n",
    "\n",
    "# read the pickled file for ghi data\n",
    "ghidata = dp.readfile('../data/processed/ghi.pkl')\n",
    "\n",
    "# return pickled df\n",
    "ghi = ghidata.return_df(processmethods=['file2df'])"
   ]
  },
  {
   "cell_type": "code",
   "execution_count": 5,
   "metadata": {},
   "outputs": [],
   "source": [
    "# selecting only required columns and rearranging them\n",
    "ahu = ahu[[\n",
    "    'AHU_1 outdoorAirTemp', 'WeatherDataProfile humidity',\n",
    "    'AHU_1 supplyAirTemp', 'HW_BTU_METER currentKbtuDeltaReading',\n",
    "    'CHW_BTU_METER currentKbtuDeltaReading'\n",
    "]]\n",
    "\n",
    "# renaming columns\n",
    "ahu.columns = ['oat', 'orh', 'sat', 'hwe', 'cwe']\n",
    "\n",
    "# Total energy is sum of heating and coling\n",
    "ahu['totale'] = ahu['hwe'] + ahu['cwe']\n",
    "# dropping heating and cooling energy columns\n",
    "ahu = ahu.drop(columns=['hwe', 'cwe'])"
   ]
  },
  {
   "cell_type": "code",
   "execution_count": 6,
   "metadata": {},
   "outputs": [],
   "source": [
    "# merging ahu and ghi data\n",
    "df = dp.merge_df_columns([ahu, ghi])\n",
    "\n",
    "# rearranging columns\n",
    "df = df[['oat', 'orh', 'sat', 'Ghi', 'totale']]"
   ]
  },
  {
   "cell_type": "code",
   "execution_count": 7,
   "metadata": {},
   "outputs": [
    {
     "data": {
      "text/html": [
       "<div>\n",
       "<style scoped>\n",
       "    .dataframe tbody tr th:only-of-type {\n",
       "        vertical-align: middle;\n",
       "    }\n",
       "\n",
       "    .dataframe tbody tr th {\n",
       "        vertical-align: top;\n",
       "    }\n",
       "\n",
       "    .dataframe thead th {\n",
       "        text-align: right;\n",
       "    }\n",
       "</style>\n",
       "<table border=\"1\" class=\"dataframe\">\n",
       "  <thead>\n",
       "    <tr style=\"text-align: right;\">\n",
       "      <th></th>\n",
       "      <th>oat</th>\n",
       "      <th>orh</th>\n",
       "      <th>sat</th>\n",
       "      <th>Ghi</th>\n",
       "      <th>totale</th>\n",
       "    </tr>\n",
       "  </thead>\n",
       "  <tbody>\n",
       "    <tr>\n",
       "      <th>2018-07-12 13:55:00</th>\n",
       "      <td>89.554909</td>\n",
       "      <td>76.0</td>\n",
       "      <td>75.443275</td>\n",
       "      <td>872.0</td>\n",
       "      <td>35.590466</td>\n",
       "    </tr>\n",
       "    <tr>\n",
       "      <th>2018-07-12 14:00:00</th>\n",
       "      <td>89.863190</td>\n",
       "      <td>76.0</td>\n",
       "      <td>75.443275</td>\n",
       "      <td>866.0</td>\n",
       "      <td>33.027813</td>\n",
       "    </tr>\n",
       "    <tr>\n",
       "      <th>2018-07-12 14:05:00</th>\n",
       "      <td>89.863190</td>\n",
       "      <td>76.0</td>\n",
       "      <td>75.443275</td>\n",
       "      <td>859.0</td>\n",
       "      <td>31.769627</td>\n",
       "    </tr>\n",
       "    <tr>\n",
       "      <th>2018-07-12 14:10:00</th>\n",
       "      <td>90.484146</td>\n",
       "      <td>69.0</td>\n",
       "      <td>75.443275</td>\n",
       "      <td>848.0</td>\n",
       "      <td>34.195641</td>\n",
       "    </tr>\n",
       "    <tr>\n",
       "      <th>2018-07-12 14:15:00</th>\n",
       "      <td>90.826981</td>\n",
       "      <td>69.0</td>\n",
       "      <td>75.443275</td>\n",
       "      <td>836.0</td>\n",
       "      <td>31.082222</td>\n",
       "    </tr>\n",
       "  </tbody>\n",
       "</table>\n",
       "</div>"
      ],
      "text/plain": [
       "                           oat   orh        sat    Ghi     totale\n",
       "2018-07-12 13:55:00  89.554909  76.0  75.443275  872.0  35.590466\n",
       "2018-07-12 14:00:00  89.863190  76.0  75.443275  866.0  33.027813\n",
       "2018-07-12 14:05:00  89.863190  76.0  75.443275  859.0  31.769627\n",
       "2018-07-12 14:10:00  90.484146  69.0  75.443275  848.0  34.195641\n",
       "2018-07-12 14:15:00  90.826981  69.0  75.443275  836.0  31.082222"
      ]
     },
     "execution_count": 7,
     "metadata": {},
     "output_type": "execute_result"
    }
   ],
   "source": [
    "df.head()"
   ]
  },
  {
   "cell_type": "code",
   "execution_count": 8,
   "metadata": {},
   "outputs": [],
   "source": [
    "# Creating a list of 7 day dataframes for training\n",
    "dflist = dp.df2dflist(df, subsequence=True, period=1, days=7, hours=0)"
   ]
  },
  {
   "cell_type": "code",
   "execution_count": 9,
   "metadata": {},
   "outputs": [
    {
     "data": {
      "text/plain": [
       "22"
      ]
     },
     "execution_count": 9,
     "metadata": {},
     "output_type": "execute_result"
    }
   ],
   "source": [
    "len(dflist)"
   ]
  },
  {
   "cell_type": "code",
   "execution_count": 10,
   "metadata": {},
   "outputs": [],
   "source": [
    "# create list of training, testing arrays\n",
    "weeklist = []\n",
    "for weekdata in dflist:\n",
    "    X_train, X_test, y_train, y_test, X_scaler, y_scaler = dp.df2arrays(\n",
    "        weekdata,\n",
    "        predictorcols=['oat', 'orh', 'sat', 'Ghi'],\n",
    "        outputcols=['totale'],\n",
    "        scaling=True,\n",
    "        feature_range=(0,1),\n",
    "        reshaping=True,\n",
    "        lag=-1\n",
    "    )\n",
    "    weeklist.append({\n",
    "        'X_train':X_train,\n",
    "        'y_train': y_train,\n",
    "        'X_test': X_test,\n",
    "        'y_test': y_test,\n",
    "    })"
   ]
  },
  {
   "cell_type": "code",
   "execution_count": 11,
   "metadata": {},
   "outputs": [
    {
     "data": {
      "text/plain": [
       "dict_keys(['X_train', 'y_train', 'X_test', 'y_test'])"
      ]
     },
     "execution_count": 11,
     "metadata": {},
     "output_type": "execute_result"
    }
   ],
   "source": [
    "weeklist[0].keys()"
   ]
  },
  {
   "cell_type": "code",
   "execution_count": 12,
   "metadata": {},
   "outputs": [],
   "source": [
    "def objective_function(config, reporter):\n",
    "    \n",
    "    modeldesigndone = False\n",
    "    \n",
    "    for weekdata in config['weeklist']:\n",
    "        \n",
    "        X_train = weekdata['X_train']\n",
    "        y_train = weekdata['y_train']\n",
    "        X_test = weekdata['X_test']\n",
    "        y_test = weekdata['y_test']\n",
    "    \n",
    "        if not modeldesigndone:\n",
    "            #Instantiate learner model\n",
    "            model = mp.lstm_model(inputdim=X_train.shape[-1], outputdim = y_train.shape[-1], period = 1)\n",
    "\n",
    "            # Desing model architecture\n",
    "            model.design_model(lstmhiddenlayers=[config['lstm_hidden_units']]*config['lstm_no_layers'], \n",
    "                           densehiddenlayers=[config['dense_hidden_units']]*config['dense_no_layers'], \n",
    "                       dropoutlist=[[], []], batchnormalizelist=[[], []])\n",
    "            \n",
    "            # creating early stopping and learning reate changing callbacks\n",
    "            model.model_callbacks()\n",
    "            \n",
    "            modeldesigndone = True\n",
    "\n",
    "        # train the model\n",
    "        model.train_model(X_train, y_train, X_test, y_test, epochs = 200)\n",
    "\n",
    "        # evaluate the model for metrics at this stage\n",
    "        cvrmse, mae = model.evaluate_model(X_train, y_train, X_test, y_test)\n",
    "\n",
    "        # reporter for tracking performance of individual process/ ray process\n",
    "        # note if it is reported betwen weekly data loop, then training might stop at the middle of the loop\n",
    "        reporter(test_cvrmse=sum(cvrmse[1])/len(cvrmse[1]))\n",
    "    "
   ]
  },
  {
   "cell_type": "code",
   "execution_count": 13,
   "metadata": {},
   "outputs": [
    {
     "name": "stderr",
     "output_type": "stream",
     "text": [
      "2020-03-08 18:18:29,262\tWARNING services.py:586 -- setpgrp failed, processes may not be cleaned up properly: [Errno 1] Operation not permitted.\n",
      "2020-03-08 18:18:29,265\tINFO resource_spec.py:212 -- Starting Ray with 36.43 GiB memory available for workers and up to 18.23 GiB for objects. You can adjust these settings with ray.init(memory=<bytes>, object_store_memory=<bytes>).\n",
      "2020-03-08 18:18:29,675\tINFO services.py:1078 -- View the Ray dashboard at \u001b[1m\u001b[32mlocalhost:8266\u001b[39m\u001b[22m\n"
     ]
    },
    {
     "data": {
      "text/plain": [
       "{'node_ip_address': '129.59.104.221',\n",
       " 'redis_address': '129.59.104.221:19207',\n",
       " 'object_store_address': '/tmp/ray/session_2020-03-08_18-18-29_261133_9535/sockets/plasma_store',\n",
       " 'raylet_socket_name': '/tmp/ray/session_2020-03-08_18-18-29_261133_9535/sockets/raylet',\n",
       " 'webui_url': 'localhost:8266',\n",
       " 'session_dir': '/tmp/ray/session_2020-03-08_18-18-29_261133_9535'}"
      ]
     },
     "execution_count": 13,
     "metadata": {},
     "output_type": "execute_result"
    }
   ],
   "source": [
    "ray.init()"
   ]
  },
  {
   "cell_type": "code",
   "execution_count": 14,
   "metadata": {},
   "outputs": [],
   "source": [
    "space = {\n",
    "    'lstm_hidden_units': hp.choice(\"lstm_hidden_units\", [1, 2, 4, 8, 16, 32, 64]),\n",
    "    'lstm_no_layers': hp.choice(\"lstm_no_layers\", [1, 2, 4, 8]),\n",
    "    'dense_hidden_units': hp.choice(\"dense_hidden_units\", [1, 2, 4, 8, 16, 32, 64]),\n",
    "    'dense_no_layers' : hp.choice(\"dense_no_layers\", [1, 2, 4, 8]),\n",
    "}\n",
    "\n",
    "config = {\n",
    "    \"num_samples\": 100,\n",
    "    \"verbose\":1,\n",
    "    \"resources_per_trial\":{\"cpu\": 0.2},\n",
    "    \"config\":{'weeklist':weeklist}\n",
    "}\n",
    "\n",
    "algo = HyperOptSearch(\n",
    "    space,\n",
    "    max_concurrent=40,\n",
    "    metric=\"test_cvrmse\",\n",
    "    mode=\"min\")\n",
    "\n",
    "\n",
    "scheduler = AsyncHyperBandScheduler(\n",
    "    metric=\"test_cvrmse\",\n",
    "    mode=\"min\")"
   ]
  },
  {
   "cell_type": "code",
   "execution_count": 15,
   "metadata": {
    "scrolled": false
   },
   "outputs": [
    {
     "data": {
      "text/html": [
       "== Status ==<br>Memory usage on this node: 4.8/62.5 GiB<br>Using AsyncHyperBand: num_stopped=94\n",
       "Bracket: Iter 64.000: None | Iter 16.000: -29.878877293239036 | Iter 4.000: -48.71576282556898 | Iter 1.000: -35.80319791398546<br>Resources requested: 0.0/20 CPUs, 0/0 GPUs, 0.0/36.43 GiB heap, 0.0/12.55 GiB objects<br>Result logdir: /home/nauga/ray_results/objective_function<br>Number of trials: 100 (100 TERMINATED)<br>Table truncated to 20 rows. 80 trials (80 TERMINATED) not shown.<br><table>\n",
       "<thead>\n",
       "<tr><th>Trial name                 </th><th>status    </th><th>loc  </th><th style=\"text-align: right;\">  lstm_no_layers</th><th style=\"text-align: right;\">  dense_no_layers</th><th style=\"text-align: right;\">  dense_hidden_units</th><th style=\"text-align: right;\">  lstm_hidden_units</th><th style=\"text-align: right;\">  total time (s)</th><th style=\"text-align: right;\">  iter</th></tr>\n",
       "</thead>\n",
       "<tbody>\n",
       "<tr><td>objective_function_07bd21f6</td><td>TERMINATED</td><td>     </td><td style=\"text-align: right;\">               4</td><td style=\"text-align: right;\">                2</td><td style=\"text-align: right;\">                   4</td><td style=\"text-align: right;\">                 16</td><td style=\"text-align: right;\">         23.5616</td><td style=\"text-align: right;\">     1</td></tr>\n",
       "<tr><td>objective_function_0139f71e</td><td>TERMINATED</td><td>     </td><td style=\"text-align: right;\">               1</td><td style=\"text-align: right;\">                8</td><td style=\"text-align: right;\">                  16</td><td style=\"text-align: right;\">                 32</td><td style=\"text-align: right;\">         62.901 </td><td style=\"text-align: right;\">     4</td></tr>\n",
       "<tr><td>objective_function_00826086</td><td>TERMINATED</td><td>     </td><td style=\"text-align: right;\">               2</td><td style=\"text-align: right;\">                2</td><td style=\"text-align: right;\">                   2</td><td style=\"text-align: right;\">                  2</td><td style=\"text-align: right;\">         21.9591</td><td style=\"text-align: right;\">     1</td></tr>\n",
       "<tr><td>objective_function_facb9b27</td><td>TERMINATED</td><td>     </td><td style=\"text-align: right;\">               4</td><td style=\"text-align: right;\">                2</td><td style=\"text-align: right;\">                  64</td><td style=\"text-align: right;\">                 64</td><td style=\"text-align: right;\">         48.9337</td><td style=\"text-align: right;\">     1</td></tr>\n",
       "<tr><td>objective_function_facb9b26</td><td>TERMINATED</td><td>     </td><td style=\"text-align: right;\">               1</td><td style=\"text-align: right;\">                4</td><td style=\"text-align: right;\">                   8</td><td style=\"text-align: right;\">                  8</td><td style=\"text-align: right;\">         90.8904</td><td style=\"text-align: right;\">     4</td></tr>\n",
       "<tr><td>objective_function_f4be16b5</td><td>TERMINATED</td><td>     </td><td style=\"text-align: right;\">               8</td><td style=\"text-align: right;\">                1</td><td style=\"text-align: right;\">                  16</td><td style=\"text-align: right;\">                 16</td><td style=\"text-align: right;\">         80.817 </td><td style=\"text-align: right;\">     1</td></tr>\n",
       "<tr><td>objective_function_f4be16b4</td><td>TERMINATED</td><td>     </td><td style=\"text-align: right;\">               2</td><td style=\"text-align: right;\">                2</td><td style=\"text-align: right;\">                  64</td><td style=\"text-align: right;\">                  4</td><td style=\"text-align: right;\">         93.9155</td><td style=\"text-align: right;\">     4</td></tr>\n",
       "<tr><td>objective_function_ef441d32</td><td>TERMINATED</td><td>     </td><td style=\"text-align: right;\">               4</td><td style=\"text-align: right;\">                2</td><td style=\"text-align: right;\">                   1</td><td style=\"text-align: right;\">                 64</td><td style=\"text-align: right;\">         55.9477</td><td style=\"text-align: right;\">     1</td></tr>\n",
       "<tr><td>objective_function_eea3a334</td><td>TERMINATED</td><td>     </td><td style=\"text-align: right;\">               2</td><td style=\"text-align: right;\">                8</td><td style=\"text-align: right;\">                  16</td><td style=\"text-align: right;\">                  2</td><td style=\"text-align: right;\">         26.714 </td><td style=\"text-align: right;\">     1</td></tr>\n",
       "<tr><td>objective_function_e92c4e38</td><td>TERMINATED</td><td>     </td><td style=\"text-align: right;\">               1</td><td style=\"text-align: right;\">                2</td><td style=\"text-align: right;\">                  16</td><td style=\"text-align: right;\">                  2</td><td style=\"text-align: right;\">        174.548 </td><td style=\"text-align: right;\">    22</td></tr>\n",
       "<tr><td>objective_function_e0793b0c</td><td>TERMINATED</td><td>     </td><td style=\"text-align: right;\">               4</td><td style=\"text-align: right;\">                4</td><td style=\"text-align: right;\">                  16</td><td style=\"text-align: right;\">                  2</td><td style=\"text-align: right;\">         38.5002</td><td style=\"text-align: right;\">     1</td></tr>\n",
       "<tr><td>objective_function_dc750176</td><td>TERMINATED</td><td>     </td><td style=\"text-align: right;\">               8</td><td style=\"text-align: right;\">                2</td><td style=\"text-align: right;\">                  16</td><td style=\"text-align: right;\">                  2</td><td style=\"text-align: right;\">         69.5373</td><td style=\"text-align: right;\">     1</td></tr>\n",
       "<tr><td>objective_function_db162ea5</td><td>TERMINATED</td><td>     </td><td style=\"text-align: right;\">               2</td><td style=\"text-align: right;\">                1</td><td style=\"text-align: right;\">                  16</td><td style=\"text-align: right;\">                  2</td><td style=\"text-align: right;\">         24.7626</td><td style=\"text-align: right;\">     1</td></tr>\n",
       "<tr><td>objective_function_db162ea4</td><td>TERMINATED</td><td>     </td><td style=\"text-align: right;\">               4</td><td style=\"text-align: right;\">                2</td><td style=\"text-align: right;\">                  16</td><td style=\"text-align: right;\">                  2</td><td style=\"text-align: right;\">         33.931 </td><td style=\"text-align: right;\">     1</td></tr>\n",
       "<tr><td>objective_function_cf8b652c</td><td>TERMINATED</td><td>     </td><td style=\"text-align: right;\">               1</td><td style=\"text-align: right;\">                8</td><td style=\"text-align: right;\">                  16</td><td style=\"text-align: right;\">                  2</td><td style=\"text-align: right;\">         16.1444</td><td style=\"text-align: right;\">     1</td></tr>\n",
       "<tr><td>objective_function_cde1978e</td><td>TERMINATED</td><td>     </td><td style=\"text-align: right;\">               2</td><td style=\"text-align: right;\">                2</td><td style=\"text-align: right;\">                   4</td><td style=\"text-align: right;\">                 16</td><td style=\"text-align: right;\">        102.421 </td><td style=\"text-align: right;\">     4</td></tr>\n",
       "<tr><td>objective_function_cde1978d</td><td>TERMINATED</td><td>     </td><td style=\"text-align: right;\">               4</td><td style=\"text-align: right;\">                2</td><td style=\"text-align: right;\">                  16</td><td style=\"text-align: right;\">                 32</td><td style=\"text-align: right;\">         59.9637</td><td style=\"text-align: right;\">     1</td></tr>\n",
       "<tr><td>objective_function_cde1978c</td><td>TERMINATED</td><td>     </td><td style=\"text-align: right;\">               8</td><td style=\"text-align: right;\">                2</td><td style=\"text-align: right;\">                  64</td><td style=\"text-align: right;\">                 64</td><td style=\"text-align: right;\">        113.921 </td><td style=\"text-align: right;\">     1</td></tr>\n",
       "<tr><td>objective_function_c9be8e4e</td><td>TERMINATED</td><td>     </td><td style=\"text-align: right;\">               1</td><td style=\"text-align: right;\">                4</td><td style=\"text-align: right;\">                   8</td><td style=\"text-align: right;\">                 16</td><td style=\"text-align: right;\">        224.123 </td><td style=\"text-align: right;\">    16</td></tr>\n",
       "<tr><td>objective_function_c8f02d9c</td><td>TERMINATED</td><td>     </td><td style=\"text-align: right;\">               4</td><td style=\"text-align: right;\">                8</td><td style=\"text-align: right;\">                   2</td><td style=\"text-align: right;\">                  4</td><td style=\"text-align: right;\">         40.634 </td><td style=\"text-align: right;\">     1</td></tr>\n",
       "</tbody>\n",
       "</table><br><br>"
      ],
      "text/plain": [
       "<IPython.core.display.HTML object>"
      ]
     },
     "metadata": {},
     "output_type": "display_data"
    },
    {
     "name": "stderr",
     "output_type": "stream",
     "text": [
      "2020-03-08 18:27:25,669\tINFO tune.py:352 -- Returning an analysis object by default. You can call `analysis.trials` to retrieve a list of trials. This message will be removed in future versions of Tune.\n"
     ]
    }
   ],
   "source": [
    "analysis = run(objective_function, \n",
    "               search_alg=algo, \n",
    "               scheduler=scheduler, \n",
    "               **config)"
   ]
  },
  {
   "cell_type": "code",
   "execution_count": 26,
   "metadata": {},
   "outputs": [
    {
     "name": "stdout",
     "output_type": "stream",
     "text": [
      "Best config for lstm_hidden_units is 8\n",
      "Best config for lstm_no_layers is 1\n",
      "Best config for dense_hidden_units is 32\n",
      "Best config for dense_no_layers is 4\n"
     ]
    }
   ],
   "source": [
    "for i in space.keys():\n",
    "    print(\"Best config for {} is\".format(i), analysis.get_best_config(metric=\"test_cvrmse\",mode='min')[i])\n",
    "    \n",
    "ray.shutdown()"
   ]
  },
  {
   "cell_type": "code",
   "execution_count": 1,
   "metadata": {},
   "outputs": [],
   "source": [
    "%load_ext tensorboard"
   ]
  },
  {
   "cell_type": "code",
   "execution_count": 2,
   "metadata": {
    "scrolled": false
   },
   "outputs": [
    {
     "data": {
      "text/html": [
       "\n",
       "        <iframe\n",
       "            width=\"100%\"\n",
       "            height=\"800\"\n",
       "            src=\"http://localhost:6006\"\n",
       "            frameborder=\"0\"\n",
       "            allowfullscreen\n",
       "        ></iframe>\n",
       "        "
      ],
      "text/plain": [
       "<IPython.lib.display.IFrame at 0x7f3645865ba8>"
      ]
     },
     "metadata": {},
     "output_type": "display_data"
    }
   ],
   "source": [
    "%tensorboard --logdir ~/ray_results/objective_function/"
   ]
  },
  {
   "cell_type": "code",
   "execution_count": 2,
   "metadata": {},
   "outputs": [
    {
     "data": {
      "text/html": [
       "\n",
       "        <iframe\n",
       "            width=\"100%\"\n",
       "            height=\"800\"\n",
       "            src=\"http://localhost:6006\"\n",
       "            frameborder=\"0\"\n",
       "            allowfullscreen\n",
       "        ></iframe>\n",
       "        "
      ],
      "text/plain": [
       "<IPython.lib.display.IFrame at 0x7fe54c21d8d0>"
      ]
     },
     "metadata": {},
     "output_type": "display_data"
    }
   ],
   "source": [
    "%tensorboard --logdir ~/ray_results/objective_function/"
   ]
  },
  {
   "cell_type": "code",
   "execution_count": null,
   "metadata": {},
   "outputs": [],
   "source": []
  }
 ],
 "metadata": {
  "kernelspec": {
   "display_name": "Python 3.6.9 64-bit ('sbvenv1': venv)",
   "language": "python",
   "name": "python36964bitsbvenv1venv1a534851ebbc4d609aad5dcf7b359ab5"
  },
  "language_info": {
   "codemirror_mode": {
    "name": "ipython",
    "version": 3
   },
   "file_extension": ".py",
   "mimetype": "text/x-python",
   "name": "python",
   "nbconvert_exporter": "python",
   "pygments_lexer": "ipython3",
   "version": "3.6.9"
  }
 },
 "nbformat": 4,
 "nbformat_minor": 4
}
