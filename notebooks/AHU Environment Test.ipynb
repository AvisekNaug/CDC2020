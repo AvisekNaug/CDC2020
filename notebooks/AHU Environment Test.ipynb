{
 "cells": [
  {
   "cell_type": "code",
   "execution_count": 1,
   "metadata": {},
   "outputs": [],
   "source": [
    "# including the project directory to the notebook level\n",
    "import os\n",
    "import sys\n",
    "module_path = os.path.abspath(os.path.join('..'))\n",
    "if module_path not in sys.path:\n",
    "    sys.path.append(module_path)\n",
    "import warnings  "
   ]
  },
  {
   "cell_type": "code",
   "execution_count": 2,
   "metadata": {
    "scrolled": true
   },
   "outputs": [
    {
     "name": "stderr",
     "output_type": "stream",
     "text": [
      "Using TensorFlow backend.\n"
     ]
    }
   ],
   "source": [
    "from dataprocess import dataprocessor as dp\n",
    "import numpy as np\n",
    "from sklearn.preprocessing import MinMaxScaler\n",
    "from pandas import DataFrame\n",
    "\n",
    "with warnings.catch_warnings():  \n",
    "    warnings.filterwarnings(\"ignore\",category=FutureWarning)\n",
    "    from keras.models import load_model\n",
    "    from nn_source import models as mp\n",
    "    from rl_source import alumnienv"
   ]
  },
  {
   "cell_type": "code",
   "execution_count": 3,
   "metadata": {},
   "outputs": [],
   "source": [
    "# read the pickled file for ahu data\n",
    "dfdata = dp.readfile('../data/processed/buildingdata.pkl')\n",
    "\n",
    "# return pickled df\n",
    "df = dfdata.return_df(processmethods=['file2df'])"
   ]
  },
  {
   "cell_type": "code",
   "execution_count": 4,
   "metadata": {},
   "outputs": [],
   "source": [
    "# 0-1 Scale the dataframe before sending it to the environment\n",
    "scaler = MinMaxScaler(feature_range=(0,1))\n",
    "dfscaler = scaler.fit(df)"
   ]
  },
  {
   "cell_type": "code",
   "execution_count": 5,
   "metadata": {},
   "outputs": [],
   "source": [
    "dfscaled = DataFrame(dfscaler.fit_transform(df), index=df.index, columns=df.columns)"
   ]
  },
  {
   "cell_type": "code",
   "execution_count": 7,
   "metadata": {
    "scrolled": false
   },
   "outputs": [],
   "source": [
    "energymodel = load_model('../results/lstmtrain/LSTM_model_44_0.01')  # Specify the path where energy is stored"
   ]
  },
  {
   "cell_type": "code",
   "execution_count": 8,
   "metadata": {},
   "outputs": [
    {
     "name": "stderr",
     "output_type": "stream",
     "text": [
      "/data/nauga/SmartBuildings/venvs/sbvenv1/lib/python3.6/site-packages/gym/logger.py:30: UserWarning: \u001b[33mWARN: Box bound precision lowered by casting to float32\u001b[0m\n",
      "  warnings.warn(colorize('%s: %s'%('WARN', msg % args), 'yellow'))\n"
     ]
    }
   ],
   "source": [
    "# important parameters to scale the reward\n",
    "params = {}\n",
    "param_keys = [\n",
    "    'energy_saved', 'energy_savings_thresh', 'energy_penalty', 'energy_reward_weight', \n",
    "    'comfort', 'comfort_thresh', 'uncomfortable', 'comfort_reward_weight',\n",
    "    'action_minmax']\n",
    "param_values = [\n",
    "    1.0, 0.00, -1.0, 1.0,\n",
    "    1.0, 0.10, -1.0, 1.0,\n",
    "    [np.array([df.sat.min()]),np.array([df.sat.max()])]\n",
    "               ]\n",
    "for i,j in zip(param_keys,param_values):\n",
    "    params[i] = j\n",
    "\n",
    "# instantiate the environment\n",
    "envmodel = alumnienv.Env(\n",
    "    df=dfscaled,\n",
    "    obs_space_vars=['oat', 'orh', 'ghi', 'sat', 'avg_stpt'],  # state space variable\n",
    "    action_space_vars=['sat'],   # action space variable\n",
    "    action_space_bounds=[[-2.0], [2.0]],  # bounds for real world action space; is scaled internally using the params\n",
    "    energy_model=energymodel,  # trained lstm model\n",
    "    model_input_shape=(1, 1, 4),  # lstm model input data shape (no_samples, output_timestep, inputdim)\n",
    "    model_input_vars=['oat', 'orh', 'ghi','sat'],  # lstm model input variables\n",
    "    **params\n",
    ")"
   ]
  },
  {
   "cell_type": "markdown",
   "metadata": {},
   "source": [
    "### Test the environment"
   ]
  },
  {
   "cell_type": "code",
   "execution_count": 9,
   "metadata": {},
   "outputs": [],
   "source": [
    "# make sure environment is in train mode\n",
    "envmodel.trainenv()"
   ]
  },
  {
   "cell_type": "code",
   "execution_count": 10,
   "metadata": {},
   "outputs": [
    {
     "data": {
      "text/plain": [
       "array([0.79991203, 0.82282514, 0.58238342, 0.7513201 , 0.45607235])"
      ]
     },
     "execution_count": 10,
     "metadata": {},
     "output_type": "execute_result"
    }
   ],
   "source": [
    "# resest environment\n",
    "envmodel.reset()"
   ]
  },
  {
   "cell_type": "code",
   "execution_count": 11,
   "metadata": {},
   "outputs": [
    {
     "data": {
      "text/plain": [
       "(array([0.79991203, 0.82282514, 0.60103627, 0.76295517, 0.45607235]),\n",
       " 0.0,\n",
       " False,\n",
       " {})"
      ]
     },
     "execution_count": 11,
     "metadata": {},
     "output_type": "execute_result"
    }
   ],
   "source": [
    "# Step through the environment eg apply a change of 0.43*F in the up direction\n",
    "envmodel.step(np.array([0.43]))"
   ]
  },
  {
   "cell_type": "code",
   "execution_count": 12,
   "metadata": {},
   "outputs": [],
   "source": [
    "# make sure environment is in test mode\n",
    "envmodel.testenv()"
   ]
  },
  {
   "cell_type": "code",
   "execution_count": 13,
   "metadata": {},
   "outputs": [
    {
     "data": {
      "text/plain": [
       "array([0.73546375, 0.47605578, 0.        , 0.51102325, 0.57364341])"
      ]
     },
     "execution_count": 13,
     "metadata": {},
     "output_type": "execute_result"
    }
   ],
   "source": [
    "# resest environment\n",
    "envmodel.reset()"
   ]
  },
  {
   "cell_type": "code",
   "execution_count": 14,
   "metadata": {},
   "outputs": [
    {
     "data": {
      "text/plain": [
       "(array([0.73546375, 0.47954249, 0.        , 0.49938818, 0.57364341]),\n",
       " 0.0,\n",
       " False,\n",
       " {'time': '2019-09-26 01:50:00',\n",
       "  'energy': 0.322563499212265,\n",
       "  'baseline_energy': 0.32253530621528625,\n",
       "  'reward_energy': -1.0,\n",
       "  'reward_comfort': 1.0,\n",
       "  'oat': 0.7354637489469744,\n",
       "  'orh': 0.47605577951877737,\n",
       "  'T_rl_disch': 0.49938817625757426,\n",
       "  'avg_stpt': 0.5736434108527124})"
      ]
     },
     "execution_count": 14,
     "metadata": {},
     "output_type": "execute_result"
    }
   ],
   "source": [
    "# Step through the environment eg apply a change of 0.43*F in the down direction\n",
    "envmodel.step(np.array([-0.43]))"
   ]
  }
 ],
 "metadata": {
  "kernelspec": {
   "display_name": "Python 3.6.9 64-bit ('sbvenv1': venv)",
   "language": "python",
   "name": "python36964bitsbvenv1venv1a534851ebbc4d609aad5dcf7b359ab5"
  },
  "language_info": {
   "codemirror_mode": {
    "name": "ipython",
    "version": 3
   },
   "file_extension": ".py",
   "mimetype": "text/x-python",
   "name": "python",
   "nbconvert_exporter": "python",
   "pygments_lexer": "ipython3",
   "version": "3.6.9"
  }
 },
 "nbformat": 4,
 "nbformat_minor": 4
}
