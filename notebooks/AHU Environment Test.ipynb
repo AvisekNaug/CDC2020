{
 "cells": [
  {
   "cell_type": "markdown",
   "metadata": {},
   "source": [
    "# Create the Alumni Hall Gym Environment"
   ]
  },
  {
   "cell_type": "code",
   "execution_count": 1,
   "metadata": {},
   "outputs": [],
   "source": [
    "# including the project directory to the notebook level\n",
    "import os\n",
    "os.environ['CUDA_VISIBLE_DEVICES'] = '0'  # set it to -1 if GPU i snot needed. But set it to the original value after use\n",
    "import sys\n",
    "module_path = os.path.abspath(os.path.join('..'))\n",
    "if module_path not in sys.path:\n",
    "    sys.path.append(module_path)\n",
    "import warnings  "
   ]
  },
  {
   "cell_type": "code",
   "execution_count": 2,
   "metadata": {
    "scrolled": true
   },
   "outputs": [
    {
     "name": "stderr",
     "output_type": "stream",
     "text": [
      "Using TensorFlow backend.\n"
     ]
    }
   ],
   "source": [
    "from dataprocess import dataprocessor as dp\n",
    "import numpy as np\n",
    "from sklearn.preprocessing import MinMaxScaler\n",
    "from pandas import DataFrame\n",
    "\n",
    "with warnings.catch_warnings():  \n",
    "    warnings.filterwarnings(\"ignore\",category=FutureWarning)\n",
    "    \n",
    "    import tensorflow as tf\n",
    "    config = tf.ConfigProto(log_device_placement=False)\n",
    "    config.gpu_options.allow_growth = True\n",
    "    #config = tf.ConfigProto(device_count={'CPU' : 4, 'GPU' : 0}, allow_soft_placement=False, log_device_placement=True)\n",
    "    session = tf.Session(config=config)\n",
    "    \n",
    "    from keras.models import load_model\n",
    "    from nn_source import models as mp\n",
    "    from rl_source import alumnienv\n",
    "    from stable_baselines.common.vec_env import SubprocVecEnv\n",
    "    from stable_baselines.common import set_global_seeds, make_vec_env"
   ]
  },
  {
   "cell_type": "code",
   "execution_count": 3,
   "metadata": {},
   "outputs": [],
   "source": [
    "# read the pickled file for ahu data\n",
    "dfdata = dp.readfile('../data/processed/buildingdata.pkl')\n",
    "\n",
    "# return pickled df\n",
    "df = dfdata.return_df(processmethods=['file2df'])"
   ]
  },
  {
   "cell_type": "code",
   "execution_count": 4,
   "metadata": {},
   "outputs": [],
   "source": [
    "# 0-1 Scale the dataframe before sending it to the environment\n",
    "scaler = MinMaxScaler(feature_range=(0,1))\n",
    "dfscaler = scaler.fit(df)"
   ]
  },
  {
   "cell_type": "code",
   "execution_count": 5,
   "metadata": {},
   "outputs": [],
   "source": [
    "dfscaled = DataFrame(dfscaler.fit_transform(df), index=df.index, columns=df.columns)"
   ]
  },
  {
   "cell_type": "code",
   "execution_count": 6,
   "metadata": {
    "scrolled": false
   },
   "outputs": [
    {
     "name": "stdout",
     "output_type": "stream",
     "text": [
      "WARNING:tensorflow:From /data/nauga/SmartBuildings/venvs/sbvenv1/lib/python3.6/site-packages/keras/backend/tensorflow_backend.py:517: The name tf.placeholder is deprecated. Please use tf.compat.v1.placeholder instead.\n",
      "\n",
      "WARNING:tensorflow:From /data/nauga/SmartBuildings/venvs/sbvenv1/lib/python3.6/site-packages/keras/backend/tensorflow_backend.py:74: The name tf.get_default_graph is deprecated. Please use tf.compat.v1.get_default_graph instead.\n",
      "\n",
      "WARNING:tensorflow:From /data/nauga/SmartBuildings/venvs/sbvenv1/lib/python3.6/site-packages/keras/backend/tensorflow_backend.py:4138: The name tf.random_uniform is deprecated. Please use tf.random.uniform instead.\n",
      "\n",
      "WARNING:tensorflow:From /data/nauga/SmartBuildings/venvs/sbvenv1/lib/python3.6/site-packages/keras/backend/tensorflow_backend.py:174: The name tf.get_default_session is deprecated. Please use tf.compat.v1.get_default_session instead.\n",
      "\n",
      "WARNING:tensorflow:From /data/nauga/SmartBuildings/venvs/sbvenv1/lib/python3.6/site-packages/keras/backend/tensorflow_backend.py:181: The name tf.ConfigProto is deprecated. Please use tf.compat.v1.ConfigProto instead.\n",
      "\n",
      "WARNING:tensorflow:From /data/nauga/SmartBuildings/venvs/sbvenv1/lib/python3.6/site-packages/keras/optimizers.py:790: The name tf.train.Optimizer is deprecated. Please use tf.compat.v1.train.Optimizer instead.\n",
      "\n",
      "WARNING:tensorflow:From /data/nauga/SmartBuildings/venvs/sbvenv1/lib/python3.6/site-packages/tensorflow/python/ops/math_grad.py:1250: add_dispatch_support.<locals>.wrapper (from tensorflow.python.ops.array_ops) is deprecated and will be removed in a future version.\n",
      "Instructions for updating:\n",
      "Use tf.where in 2.0, which has the same broadcast rule as np.where\n"
     ]
    }
   ],
   "source": [
    "# load energy model\n",
    "energymodel = load_model('../results/lstmtrain/LSTM_model_44_0.01')  # Specify the path where energy is stored"
   ]
  },
  {
   "cell_type": "code",
   "execution_count": 7,
   "metadata": {},
   "outputs": [],
   "source": [
    "# important parameters to scale the reward\n",
    "params = {\n",
    "    'energy_saved': 1.0,\n",
    "    'energy_savings_thresh': 0.0,\n",
    "    'energy_penalty': -1.0,\n",
    "    'energy_reward_weight': 1.0,\n",
    "    'comfort': 1.0,\n",
    "    'comfort_thresh': 0.10,\n",
    "    'uncomfortable': -1.0,\n",
    "    'comfort_reward_weight': 1.0,\n",
    "    'action_minmax': [np.array([df.sat.min()]),\n",
    "                      np.array([df.sat.max()])]\n",
    "}"
   ]
  },
  {
   "cell_type": "code",
   "execution_count": 8,
   "metadata": {},
   "outputs": [
    {
     "name": "stderr",
     "output_type": "stream",
     "text": [
      "/data/nauga/SmartBuildings/venvs/sbvenv1/lib/python3.6/site-packages/gym/logger.py:30: UserWarning: \u001b[33mWARN: Box bound precision lowered by casting to float32\u001b[0m\n",
      "  warnings.warn(colorize('%s: %s'%('WARN', msg % args), 'yellow'))\n"
     ]
    }
   ],
   "source": [
    "# instantiate the environment\n",
    "envmodel = alumnienv.Env(\n",
    "    df=dfscaled,\n",
    "    obs_space_vars=['oat', 'orh', 'ghi', 'sat', 'avg_stpt'],  # state space variable\n",
    "    action_space_vars=['sat'],   # action space variable\n",
    "    action_space_bounds=[[-2.0], [2.0]],  # bounds for real world action space; is scaled internally using the params\n",
    "    energy_model=energymodel,  # trained lstm model\n",
    "    model_input_shape=(1, 1, 4),  # lstm model input data shape (no_samples, output_timestep, inputdim)\n",
    "    model_input_vars=['oat', 'orh', 'ghi','sat'],  # lstm model input variables\n",
    "    **params\n",
    ")"
   ]
  },
  {
   "cell_type": "markdown",
   "metadata": {},
   "source": [
    "## Test the environment for inidvidual methods"
   ]
  },
  {
   "cell_type": "code",
   "execution_count": 9,
   "metadata": {},
   "outputs": [],
   "source": [
    "# make sure environment is in train mode\n",
    "envmodel.trainenv()"
   ]
  },
  {
   "cell_type": "code",
   "execution_count": 10,
   "metadata": {},
   "outputs": [
    {
     "data": {
      "text/plain": [
       "array([0.79991203, 0.82282514, 0.58238342, 0.7513201 , 0.45607235])"
      ]
     },
     "execution_count": 10,
     "metadata": {},
     "output_type": "execute_result"
    }
   ],
   "source": [
    "# resest environment\n",
    "envmodel.reset()"
   ]
  },
  {
   "cell_type": "code",
   "execution_count": 11,
   "metadata": {},
   "outputs": [
    {
     "data": {
      "text/plain": [
       "(array([0.79991203, 0.82282514, 0.60103627, 0.76295517, 0.45607235]),\n",
       " 0.0,\n",
       " False,\n",
       " {})"
      ]
     },
     "execution_count": 11,
     "metadata": {},
     "output_type": "execute_result"
    }
   ],
   "source": [
    "# Step through the environment eg apply a change of 0.43*F in the up direction\n",
    "envmodel.step(np.array([0.43]))"
   ]
  },
  {
   "cell_type": "code",
   "execution_count": 12,
   "metadata": {},
   "outputs": [],
   "source": [
    "# make sure environment is in test mode\n",
    "envmodel.testenv()"
   ]
  },
  {
   "cell_type": "code",
   "execution_count": 13,
   "metadata": {},
   "outputs": [
    {
     "data": {
      "text/plain": [
       "array([0.73546375, 0.47605578, 0.        , 0.51102325, 0.57364341])"
      ]
     },
     "execution_count": 13,
     "metadata": {},
     "output_type": "execute_result"
    }
   ],
   "source": [
    "# resest environment\n",
    "envmodel.reset()"
   ]
  },
  {
   "cell_type": "code",
   "execution_count": 14,
   "metadata": {
    "scrolled": false
   },
   "outputs": [
    {
     "data": {
      "text/plain": [
       "(array([0.73546375, 0.47954249, 0.        , 0.49938818, 0.57364341]),\n",
       " 0.0,\n",
       " False,\n",
       " {'time': '2019-09-26 01:50:00',\n",
       "  'energy': 0.322563499212265,\n",
       "  'baseline_energy': 0.32253530621528625,\n",
       "  'reward_energy': -1.0,\n",
       "  'reward_comfort': 1.0,\n",
       "  'oat': 0.7354637489469744,\n",
       "  'orh': 0.47605577951877737,\n",
       "  'T_rl_disch': 0.49938817625757426,\n",
       "  'avg_stpt': 0.5736434108527124})"
      ]
     },
     "execution_count": 14,
     "metadata": {},
     "output_type": "execute_result"
    }
   ],
   "source": [
    "# Step through the environment eg apply a change of 0.43*F in the down direction\n",
    "envmodel.step(np.array([-0.43]))"
   ]
  },
  {
   "cell_type": "code",
   "execution_count": 15,
   "metadata": {},
   "outputs": [],
   "source": [
    "envmodel.seed()"
   ]
  },
  {
   "cell_type": "markdown",
   "metadata": {},
   "source": [
    "## Creating vectorized version of our environment for Stable Baselines"
   ]
  },
  {
   "cell_type": "markdown",
   "metadata": {},
   "source": [
    "### see vecenvtest.py inside rl_source. The vectorized environment cannot be created and executed in separate scripts"
   ]
  },
  {
   "cell_type": "code",
   "execution_count": null,
   "metadata": {},
   "outputs": [],
   "source": []
  }
 ],
 "metadata": {
  "kernelspec": {
   "display_name": "Python 3.6.9 64-bit ('sbvenv1': venv)",
   "language": "python",
   "name": "python36964bitsbvenv1venv1a534851ebbc4d609aad5dcf7b359ab5"
  },
  "language_info": {
   "codemirror_mode": {
    "name": "ipython",
    "version": 3
   },
   "file_extension": ".py",
   "mimetype": "text/x-python",
   "name": "python",
   "nbconvert_exporter": "python",
   "pygments_lexer": "ipython3",
   "version": "3.6.9"
  }
 },
 "nbformat": 4,
 "nbformat_minor": 4
}
