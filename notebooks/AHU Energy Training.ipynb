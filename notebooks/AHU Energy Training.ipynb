{
 "cells": [
  {
   "cell_type": "code",
   "execution_count": 1,
   "metadata": {},
   "outputs": [],
   "source": [
    "# including the project directory to the notebook level\n",
    "import os\n",
    "os.environ['CUDA_VISIBLE_DEVICES'] = '0' \n",
    "import sys\n",
    "module_path = os.path.abspath(os.path.join('..'))\n",
    "if module_path not in sys.path:\n",
    "    sys.path.append(module_path)\n",
    "import numpy as np\n",
    "from tqdm import tqdm\n",
    "import parse\n",
    "import warnings"
   ]
  },
  {
   "cell_type": "code",
   "execution_count": 2,
   "metadata": {},
   "outputs": [
    {
     "name": "stderr",
     "output_type": "stream",
     "text": [
      "Using TensorFlow backend.\n"
     ]
    }
   ],
   "source": [
    "with warnings.catch_warnings():\n",
    "    warnings.filterwarnings(\"ignore\", category=FutureWarning)\n",
    "    \n",
    "    import tensorflow as tf\n",
    "    config = tf.ConfigProto(log_device_placement=False)\n",
    "    config.gpu_options.allow_growth = True\n",
    "    session = tf.Session(config=config)\n",
    "    \n",
    "    from keras import backend as K\n",
    "    from nn_source import models as mp\n",
    "from dataprocess import dataprocessor as dp\n",
    "from dataprocess import plotutils as pu"
   ]
  },
  {
   "cell_type": "code",
   "execution_count": 3,
   "metadata": {},
   "outputs": [],
   "source": [
    "# read the pickled file for ahu data\n",
    "ahudata = dp.readfile('../data/processed/ahu1energy.pkl')\n",
    "\n",
    "# return pickled df\n",
    "ahu = ahudata.return_df(processmethods=['file2df'])\n",
    "\n",
    "# read the pickled file for ghi data\n",
    "ghidata = dp.readfile('../data/processed/ghi.pkl')\n",
    "\n",
    "# return pickled df\n",
    "ghi = ghidata.return_df(processmethods=['file2df'])"
   ]
  },
  {
   "cell_type": "code",
   "execution_count": 4,
   "metadata": {},
   "outputs": [],
   "source": [
    "# selecting only required columns and rearranging them\n",
    "ahu = ahu[[\n",
    "    'AHU_1 outdoorAirTemp', 'WeatherDataProfile humidity',\n",
    "    'AHU_1 supplyAirTemp', 'HW_BTU_METER currentKbtuDeltaReading',\n",
    "    'CHW_BTU_METER currentKbtuDeltaReading'\n",
    "]]\n",
    "\n",
    "# renaming columns\n",
    "ahu.columns = ['oat', 'orh', 'sat', 'hwe', 'cwe']\n",
    "\n",
    "# Total energy is sum of heating and coling\n",
    "ahu['totale'] = ahu['hwe'] + ahu['cwe']\n",
    "# dropping heating and cooling energy columns\n",
    "ahu = ahu.drop(columns=['hwe', 'cwe'])"
   ]
  },
  {
   "cell_type": "code",
   "execution_count": 5,
   "metadata": {},
   "outputs": [],
   "source": [
    "# merging ahu and ghi data\n",
    "df = dp.merge_df_columns([ahu, ghi])\n",
    "\n",
    "# rearranging columns\n",
    "df = df[['oat', 'orh', 'sat', 'Ghi', 'totale']]"
   ]
  },
  {
   "cell_type": "code",
   "execution_count": 6,
   "metadata": {},
   "outputs": [
    {
     "data": {
      "text/html": [
       "<div>\n",
       "<style scoped>\n",
       "    .dataframe tbody tr th:only-of-type {\n",
       "        vertical-align: middle;\n",
       "    }\n",
       "\n",
       "    .dataframe tbody tr th {\n",
       "        vertical-align: top;\n",
       "    }\n",
       "\n",
       "    .dataframe thead th {\n",
       "        text-align: right;\n",
       "    }\n",
       "</style>\n",
       "<table border=\"1\" class=\"dataframe\">\n",
       "  <thead>\n",
       "    <tr style=\"text-align: right;\">\n",
       "      <th></th>\n",
       "      <th>oat</th>\n",
       "      <th>orh</th>\n",
       "      <th>sat</th>\n",
       "      <th>Ghi</th>\n",
       "      <th>totale</th>\n",
       "    </tr>\n",
       "  </thead>\n",
       "  <tbody>\n",
       "    <tr>\n",
       "      <th>2018-07-12 13:55:00</th>\n",
       "      <td>89.554909</td>\n",
       "      <td>76.0</td>\n",
       "      <td>75.443275</td>\n",
       "      <td>872.0</td>\n",
       "      <td>35.590466</td>\n",
       "    </tr>\n",
       "    <tr>\n",
       "      <th>2018-07-12 14:00:00</th>\n",
       "      <td>89.863190</td>\n",
       "      <td>76.0</td>\n",
       "      <td>75.443275</td>\n",
       "      <td>866.0</td>\n",
       "      <td>33.027813</td>\n",
       "    </tr>\n",
       "    <tr>\n",
       "      <th>2018-07-12 14:05:00</th>\n",
       "      <td>89.863190</td>\n",
       "      <td>76.0</td>\n",
       "      <td>75.443275</td>\n",
       "      <td>859.0</td>\n",
       "      <td>31.769627</td>\n",
       "    </tr>\n",
       "    <tr>\n",
       "      <th>2018-07-12 14:10:00</th>\n",
       "      <td>90.484146</td>\n",
       "      <td>69.0</td>\n",
       "      <td>75.443275</td>\n",
       "      <td>848.0</td>\n",
       "      <td>34.195641</td>\n",
       "    </tr>\n",
       "    <tr>\n",
       "      <th>2018-07-12 14:15:00</th>\n",
       "      <td>90.826981</td>\n",
       "      <td>69.0</td>\n",
       "      <td>75.443275</td>\n",
       "      <td>836.0</td>\n",
       "      <td>31.082222</td>\n",
       "    </tr>\n",
       "  </tbody>\n",
       "</table>\n",
       "</div>"
      ],
      "text/plain": [
       "                           oat   orh        sat    Ghi     totale\n",
       "2018-07-12 13:55:00  89.554909  76.0  75.443275  872.0  35.590466\n",
       "2018-07-12 14:00:00  89.863190  76.0  75.443275  866.0  33.027813\n",
       "2018-07-12 14:05:00  89.863190  76.0  75.443275  859.0  31.769627\n",
       "2018-07-12 14:10:00  90.484146  69.0  75.443275  848.0  34.195641\n",
       "2018-07-12 14:15:00  90.826981  69.0  75.443275  836.0  31.082222"
      ]
     },
     "execution_count": 6,
     "metadata": {},
     "output_type": "execute_result"
    }
   ],
   "source": [
    "df.head()"
   ]
  },
  {
   "cell_type": "code",
   "execution_count": null,
   "metadata": {},
   "outputs": [],
   "source": [
    "df['HourSine'] = np.sin(2 * np.pi * df.index.hour / 24.0)\n",
    "df['HourCos'] = np.cos(2 * np.pi * df.index.hour / 24.0)\n",
    "df['WeekSine'] = np.sin(2 * np.pi * df.index.week / 52.0)\n",
    "df['WeekCos'] = np.cos(2 * np.pi * df.index.week / 52.0)\n",
    "df['DayofWeekSine'] = np.sin(2 * np.pi * df.index.dayofweek / 7.0)\n",
    "df['DayofWeekCos'] = np.cos(2 * np.pi * df.index.dayofweek / 7.0)"
   ]
  },
  {
   "cell_type": "code",
   "execution_count": null,
   "metadata": {},
   "outputs": [],
   "source": [
    "df = df[[\n",
    "    'oat', 'orh', 'sat', 'Ghi', 'HourSine', 'HourCos', 'WeekSine', 'WeekCos',\n",
    "    'DayofWeekSine', 'DayofWeekCos', 'totale'\n",
    "]]"
   ]
  },
  {
   "cell_type": "code",
   "execution_count": null,
   "metadata": {},
   "outputs": [],
   "source": [
    "df.head()"
   ]
  },
  {
   "cell_type": "code",
   "execution_count": 7,
   "metadata": {},
   "outputs": [],
   "source": [
    "# Creating a list of 7 day dataframes for training\n",
    "dflist = dp.df2dflist(df, subsequence=True, period=1, days=7, hours=0)"
   ]
  },
  {
   "cell_type": "code",
   "execution_count": 8,
   "metadata": {},
   "outputs": [
    {
     "data": {
      "text/plain": [
       "22"
      ]
     },
     "execution_count": 8,
     "metadata": {},
     "output_type": "execute_result"
    }
   ],
   "source": [
    "len(dflist)"
   ]
  },
  {
   "cell_type": "code",
   "execution_count": 9,
   "metadata": {},
   "outputs": [],
   "source": [
    "# create list of training, testing arrays\n",
    "weeklist = []\n",
    "for weekdata in dflist:\n",
    "    X_train, X_test, y_train, y_test, X_scaler, y_scaler = dp.df2arrays(\n",
    "        weekdata,\n",
    "        predictorcols=['oat', 'orh', 'sat', 'Ghi'],\n",
    "        outputcols=['totale'],\n",
    "        scaling=True,\n",
    "        feature_range=(0,1),\n",
    "        reshaping=True,\n",
    "        lag=-1\n",
    "    )\n",
    "    weeklist.append({\n",
    "        'X_train':X_train,\n",
    "        'y_train': y_train,\n",
    "        'X_test': X_test,\n",
    "        'y_test': y_test,\n",
    "    })"
   ]
  },
  {
   "cell_type": "code",
   "execution_count": 10,
   "metadata": {},
   "outputs": [
    {
     "name": "stdout",
     "output_type": "stream",
     "text": [
      "(1511, 1, 4)\n",
      "(1511, 1, 1)\n",
      "(504, 1, 4)\n",
      "(504, 1, 1)\n"
     ]
    }
   ],
   "source": [
    "for i in weeklist[0].keys():\n",
    "    print(weeklist[0][i].shape)"
   ]
  },
  {
   "cell_type": "code",
   "execution_count": 11,
   "metadata": {},
   "outputs": [],
   "source": [
    "!rm -rf ../results/*"
   ]
  },
  {
   "cell_type": "code",
   "execution_count": 12,
   "metadata": {},
   "outputs": [],
   "source": [
    "# create the results directory\n",
    "try:\n",
    "    os.mkdir('../results/lstmtrain/')\n",
    "except FileExistsError:\n",
    "    files = os.listdir('../results/lstmtrain/')\n",
    "    for f in files:\n",
    "        os.remove('../results/lstmtrain/' + f)\n",
    "        \n",
    "os.mkdir('../results/lstmtrain/loginfo')"
   ]
  },
  {
   "cell_type": "code",
   "execution_count": 13,
   "metadata": {},
   "outputs": [
    {
     "name": "stdout",
     "output_type": "stream",
     "text": [
      "WARNING:tensorflow:From /data/nauga/SmartBuildings/venvs/sbvenv1/lib/python3.6/site-packages/keras/backend/tensorflow_backend.py:95: The name tf.reset_default_graph is deprecated. Please use tf.compat.v1.reset_default_graph instead.\n",
      "\n",
      "WARNING:tensorflow:From /data/nauga/SmartBuildings/venvs/sbvenv1/lib/python3.6/site-packages/keras/backend/tensorflow_backend.py:98: The name tf.placeholder_with_default is deprecated. Please use tf.compat.v1.placeholder_with_default instead.\n",
      "\n",
      "WARNING:tensorflow:From /data/nauga/SmartBuildings/venvs/sbvenv1/lib/python3.6/site-packages/keras/backend/tensorflow_backend.py:102: The name tf.get_default_graph is deprecated. Please use tf.compat.v1.get_default_graph instead.\n",
      "\n"
     ]
    }
   ],
   "source": [
    "try:\n",
    "    del model\n",
    "except NameError:\n",
    "    pass\n",
    "\n",
    "K.clear_session()"
   ]
  },
  {
   "cell_type": "code",
   "execution_count": 14,
   "metadata": {
    "scrolled": true
   },
   "outputs": [
    {
     "name": "stderr",
     "output_type": "stream",
     "text": [
      "\r",
      "  0%|          | 0/22 [00:00<?, ?it/s]"
     ]
    },
    {
     "name": "stdout",
     "output_type": "stream",
     "text": [
      "WARNING:tensorflow:From /data/nauga/SmartBuildings/venvs/sbvenv1/lib/python3.6/site-packages/keras/backend/tensorflow_backend.py:517: The name tf.placeholder is deprecated. Please use tf.compat.v1.placeholder instead.\n",
      "\n",
      "WARNING:tensorflow:From /data/nauga/SmartBuildings/venvs/sbvenv1/lib/python3.6/site-packages/keras/backend/tensorflow_backend.py:4138: The name tf.random_uniform is deprecated. Please use tf.random.uniform instead.\n",
      "\n",
      "WARNING:tensorflow:From /data/nauga/SmartBuildings/venvs/sbvenv1/lib/python3.6/site-packages/keras/optimizers.py:790: The name tf.train.Optimizer is deprecated. Please use tf.compat.v1.train.Optimizer instead.\n",
      "\n",
      "WARNING:tensorflow:From /data/nauga/SmartBuildings/venvs/sbvenv1/lib/python3.6/site-packages/tensorflow/python/ops/math_grad.py:1250: add_dispatch_support.<locals>.wrapper (from tensorflow.python.ops.array_ops) is deprecated and will be removed in a future version.\n",
      "Instructions for updating:\n",
      "Use tf.where in 2.0, which has the same broadcast rule as np.where\n",
      "Train on 1511 samples, validate on 504 samples\n",
      "WARNING:tensorflow:From /data/nauga/SmartBuildings/venvs/sbvenv1/lib/python3.6/site-packages/keras/callbacks.py:848: The name tf.summary.histogram is deprecated. Please use tf.compat.v1.summary.histogram instead.\n",
      "\n",
      "WARNING:tensorflow:From /data/nauga/SmartBuildings/venvs/sbvenv1/lib/python3.6/site-packages/keras/callbacks.py:850: The name tf.summary.merge_all is deprecated. Please use tf.compat.v1.summary.merge_all instead.\n",
      "\n",
      "WARNING:tensorflow:From /data/nauga/SmartBuildings/venvs/sbvenv1/lib/python3.6/site-packages/keras/callbacks.py:856: The name tf.summary.FileWriter is deprecated. Please use tf.compat.v1.summary.FileWriter instead.\n",
      "\n",
      "Epoch 1/1000\n",
      "1511/1511 [==============================] - 1s 981us/step - loss: 0.4950 - val_loss: 0.3646\n",
      "Epoch 2/1000\n",
      "1511/1511 [==============================] - 1s 412us/step - loss: 0.3096 - val_loss: 0.2492\n",
      "Epoch 3/1000\n",
      "1511/1511 [==============================] - 1s 411us/step - loss: 0.2140 - val_loss: 0.1697\n",
      "Epoch 4/1000\n",
      "1511/1511 [==============================] - 1s 415us/step - loss: 0.1471 - val_loss: 0.1150\n",
      "Epoch 5/1000\n",
      "1511/1511 [==============================] - 1s 413us/step - loss: 0.1020 - val_loss: 0.0791\n",
      "Epoch 6/1000\n",
      "1511/1511 [==============================] - 1s 408us/step - loss: 0.0720 - val_loss: 0.0548\n",
      "Epoch 7/1000\n",
      "1511/1511 [==============================] - 1s 411us/step - loss: 0.0518 - val_loss: 0.0382\n",
      "Epoch 8/1000\n",
      "1511/1511 [==============================] - 1s 413us/step - loss: 0.0379 - val_loss: 0.0270\n",
      "Epoch 9/1000\n",
      "1511/1511 [==============================] - 1s 408us/step - loss: 0.0294 - val_loss: 0.0211\n",
      "Epoch 10/1000\n",
      "1511/1511 [==============================] - 1s 412us/step - loss: 0.0245 - val_loss: 0.0171\n",
      "Epoch 11/1000\n",
      "1511/1511 [==============================] - 1s 411us/step - loss: 0.0209 - val_loss: 0.0140\n",
      "Epoch 12/1000\n",
      "1511/1511 [==============================] - 1s 408us/step - loss: 0.0187 - val_loss: 0.0126\n",
      "Epoch 13/1000\n",
      "1511/1511 [==============================] - 1s 412us/step - loss: 0.0176 - val_loss: 0.0118\n",
      "Epoch 14/1000\n",
      "1511/1511 [==============================] - 1s 412us/step - loss: 0.0170 - val_loss: 0.0114\n",
      "Epoch 15/1000\n",
      "1511/1511 [==============================] - 1s 411us/step - loss: 0.0168 - val_loss: 0.0113\n",
      "Epoch 16/1000\n",
      "1511/1511 [==============================] - 1s 416us/step - loss: 0.0168 - val_loss: 0.0114\n",
      "Epoch 17/1000\n",
      "1511/1511 [==============================] - 1s 408us/step - loss: 0.0162 - val_loss: 0.0109\n",
      "Epoch 18/1000\n",
      "1511/1511 [==============================] - 1s 414us/step - loss: 0.0154 - val_loss: 0.0112\n",
      "Epoch 19/1000\n",
      "1511/1511 [==============================] - 1s 412us/step - loss: 0.0152 - val_loss: 0.0114\n",
      "Epoch 20/1000\n",
      "1511/1511 [==============================] - 1s 408us/step - loss: 0.0152 - val_loss: 0.0115\n",
      "Epoch 21/1000\n",
      "1511/1511 [==============================] - 1s 409us/step - loss: 0.0150 - val_loss: 0.0115\n",
      "Epoch 22/1000\n",
      "1511/1511 [==============================] - 1s 398us/step - loss: 0.0150 - val_loss: 0.0115\n"
     ]
    },
    {
     "name": "stderr",
     "output_type": "stream",
     "text": [
      "\r",
      "  5%|▍         | 1/22 [00:27<09:33, 27.30s/it]"
     ]
    },
    {
     "name": "stdout",
     "output_type": "stream",
     "text": [
      "Train on 1511 samples, validate on 504 samples\n",
      "Epoch 23/1000\n",
      "1511/1511 [==============================] - 1s 397us/step - loss: 0.0264 - val_loss: 0.0255\n",
      "Epoch 24/1000\n",
      "1511/1511 [==============================] - 1s 404us/step - loss: 0.0250 - val_loss: 0.0241\n",
      "Epoch 25/1000\n",
      "1511/1511 [==============================] - 1s 412us/step - loss: 0.0238 - val_loss: 0.0228\n",
      "Epoch 26/1000\n",
      "1511/1511 [==============================] - 1s 415us/step - loss: 0.0227 - val_loss: 0.0217\n",
      "Epoch 27/1000\n",
      "1511/1511 [==============================] - 1s 410us/step - loss: 0.0217 - val_loss: 0.0207\n",
      "Epoch 28/1000\n",
      "1511/1511 [==============================] - 1s 405us/step - loss: 0.0209 - val_loss: 0.0198\n",
      "Epoch 29/1000\n",
      "1511/1511 [==============================] - 1s 411us/step - loss: 0.0201 - val_loss: 0.0190\n",
      "Epoch 30/1000\n",
      "1511/1511 [==============================] - 1s 404us/step - loss: 0.0194 - val_loss: 0.0183\n",
      "Epoch 31/1000\n",
      "1511/1511 [==============================] - 1s 410us/step - loss: 0.0188 - val_loss: 0.0177\n",
      "Epoch 32/1000\n",
      "1511/1511 [==============================] - 1s 416us/step - loss: 0.0183 - val_loss: 0.0171\n",
      "Epoch 33/1000\n",
      "1511/1511 [==============================] - 1s 410us/step - loss: 0.0178 - val_loss: 0.0165\n",
      "Epoch 34/1000\n",
      "1511/1511 [==============================] - 1s 413us/step - loss: 0.0174 - val_loss: 0.0161\n",
      "Epoch 35/1000\n",
      "1511/1511 [==============================] - 1s 409us/step - loss: 0.0170 - val_loss: 0.0156\n",
      "Epoch 36/1000\n",
      "1511/1511 [==============================] - 1s 387us/step - loss: 0.0166 - val_loss: 0.0153\n",
      "Epoch 37/1000\n",
      "1511/1511 [==============================] - 1s 395us/step - loss: 0.0163 - val_loss: 0.0149\n",
      "Epoch 38/1000\n",
      "1511/1511 [==============================] - 1s 413us/step - loss: 0.0161 - val_loss: 0.0146\n",
      "Epoch 39/1000\n",
      "1511/1511 [==============================] - 1s 415us/step - loss: 0.0158 - val_loss: 0.0143\n",
      "Epoch 40/1000\n",
      "1511/1511 [==============================] - 1s 411us/step - loss: 0.0156 - val_loss: 0.0141\n",
      "Epoch 41/1000\n",
      "1511/1511 [==============================] - 1s 412us/step - loss: 0.0154 - val_loss: 0.0138\n",
      "Epoch 42/1000\n",
      "1511/1511 [==============================] - 1s 405us/step - loss: 0.0152 - val_loss: 0.0136\n",
      "Epoch 43/1000\n",
      "1511/1511 [==============================] - 1s 402us/step - loss: 0.0151 - val_loss: 0.0135\n",
      "Epoch 44/1000\n",
      "1511/1511 [==============================] - 1s 410us/step - loss: 0.0150 - val_loss: 0.0133\n",
      "Epoch 45/1000\n",
      "1511/1511 [==============================] - 1s 369us/step - loss: 0.0148 - val_loss: 0.0132\n",
      "Epoch 46/1000\n",
      "1511/1511 [==============================] - 1s 345us/step - loss: 0.0147 - val_loss: 0.0130\n",
      "Epoch 47/1000\n",
      "1511/1511 [==============================] - 1s 360us/step - loss: 0.0146 - val_loss: 0.0129\n",
      "Epoch 48/1000\n",
      "1511/1511 [==============================] - 1s 353us/step - loss: 0.0146 - val_loss: 0.0128\n",
      "Epoch 49/1000\n",
      "1511/1511 [==============================] - 1s 361us/step - loss: 0.0145 - val_loss: 0.0127\n",
      "Epoch 50/1000\n",
      "1511/1511 [==============================] - 1s 353us/step - loss: 0.0144 - val_loss: 0.0126\n",
      "Epoch 51/1000\n",
      "1511/1511 [==============================] - 1s 363us/step - loss: 0.0144 - val_loss: 0.0126\n",
      "Epoch 52/1000\n",
      "1511/1511 [==============================] - 1s 369us/step - loss: 0.0143 - val_loss: 0.0125\n",
      "Epoch 53/1000\n",
      "1511/1511 [==============================] - 1s 350us/step - loss: 0.0143 - val_loss: 0.0125\n",
      "Epoch 54/1000\n",
      "1511/1511 [==============================] - 1s 355us/step - loss: 0.0142 - val_loss: 0.0124\n",
      "Epoch 55/1000\n",
      "1511/1511 [==============================] - 1s 368us/step - loss: 0.0142 - val_loss: 0.0124\n",
      "Epoch 56/1000\n",
      "1511/1511 [==============================] - 1s 364us/step - loss: 0.0142 - val_loss: 0.0123\n",
      "Epoch 57/1000\n",
      "1511/1511 [==============================] - 1s 397us/step - loss: 0.0141 - val_loss: 0.0123\n",
      "Epoch 58/1000\n",
      "1511/1511 [==============================] - 1s 406us/step - loss: 0.0141 - val_loss: 0.0123\n",
      "Epoch 59/1000\n",
      "1511/1511 [==============================] - 1s 409us/step - loss: 0.0141 - val_loss: 0.0123\n",
      "Epoch 60/1000\n",
      "1511/1511 [==============================] - 1s 411us/step - loss: 0.0141 - val_loss: 0.0123\n",
      "Epoch 61/1000\n",
      "1511/1511 [==============================] - 1s 401us/step - loss: 0.0141 - val_loss: 0.0123\n",
      "Epoch 62/1000\n",
      "1511/1511 [==============================] - 1s 409us/step - loss: 0.0141 - val_loss: 0.0123\n",
      "Epoch 63/1000\n",
      "1511/1511 [==============================] - 1s 413us/step - loss: 0.0141 - val_loss: 0.0123\n",
      "Epoch 64/1000\n",
      "1511/1511 [==============================] - 1s 413us/step - loss: 0.0141 - val_loss: 0.0123\n",
      "Epoch 65/1000\n",
      "1511/1511 [==============================] - 1s 411us/step - loss: 0.0141 - val_loss: 0.0123\n",
      "Epoch 66/1000\n",
      "1511/1511 [==============================] - 1s 412us/step - loss: 0.0141 - val_loss: 0.0123\n",
      "Epoch 67/1000\n",
      "1511/1511 [==============================] - 1s 407us/step - loss: 0.0141 - val_loss: 0.0123\n",
      "Epoch 68/1000\n",
      "1511/1511 [==============================] - 1s 413us/step - loss: 0.0141 - val_loss: 0.0123\n",
      "Epoch 69/1000\n",
      "1511/1511 [==============================] - 1s 418us/step - loss: 0.0141 - val_loss: 0.0123\n",
      "Epoch 70/1000\n",
      "1511/1511 [==============================] - 1s 408us/step - loss: 0.0141 - val_loss: 0.0123\n",
      "Epoch 71/1000\n",
      "1511/1511 [==============================] - 1s 414us/step - loss: 0.0141 - val_loss: 0.0123\n",
      "Epoch 72/1000\n",
      "1511/1511 [==============================] - 1s 413us/step - loss: 0.0141 - val_loss: 0.0123\n",
      "Epoch 73/1000\n",
      "1511/1511 [==============================] - 1s 404us/step - loss: 0.0141 - val_loss: 0.0123\n",
      "Epoch 74/1000\n",
      "1511/1511 [==============================] - 1s 411us/step - loss: 0.0141 - val_loss: 0.0123\n",
      "Epoch 75/1000\n",
      "1511/1511 [==============================] - 1s 409us/step - loss: 0.0141 - val_loss: 0.0123\n",
      "Epoch 76/1000\n",
      "1511/1511 [==============================] - 1s 409us/step - loss: 0.0141 - val_loss: 0.0123\n",
      "Epoch 77/1000\n",
      "1511/1511 [==============================] - 1s 414us/step - loss: 0.0141 - val_loss: 0.0123\n",
      "Epoch 78/1000\n",
      "1511/1511 [==============================] - 1s 410us/step - loss: 0.0141 - val_loss: 0.0123\n",
      "Epoch 79/1000\n",
      "1511/1511 [==============================] - 1s 411us/step - loss: 0.0141 - val_loss: 0.0123\n",
      "Epoch 80/1000\n",
      "1511/1511 [==============================] - 1s 412us/step - loss: 0.0141 - val_loss: 0.0123\n"
     ]
    },
    {
     "name": "stderr",
     "output_type": "stream",
     "text": [
      "\r",
      "  9%|▉         | 2/22 [01:17<11:20, 34.04s/it]"
     ]
    },
    {
     "name": "stdout",
     "output_type": "stream",
     "text": [
      "Train on 1511 samples, validate on 504 samples\n",
      "Epoch 81/1000\n",
      "1511/1511 [==============================] - 1s 396us/step - loss: 0.0197 - val_loss: 0.0501\n",
      "Epoch 82/1000\n",
      "1511/1511 [==============================] - 1s 409us/step - loss: 0.0197 - val_loss: 0.0501\n",
      "Epoch 83/1000\n",
      "1511/1511 [==============================] - 1s 412us/step - loss: 0.0197 - val_loss: 0.0501\n",
      "Epoch 84/1000\n",
      "1511/1511 [==============================] - 1s 408us/step - loss: 0.0197 - val_loss: 0.0501\n",
      "Epoch 85/1000\n",
      "1511/1511 [==============================] - 1s 408us/step - loss: 0.0197 - val_loss: 0.0501\n",
      "Epoch 86/1000\n",
      "1511/1511 [==============================] - 1s 410us/step - loss: 0.0197 - val_loss: 0.0501\n"
     ]
    },
    {
     "name": "stderr",
     "output_type": "stream",
     "text": [
      "\r",
      " 14%|█▎        | 3/22 [01:23<08:11, 25.87s/it]"
     ]
    },
    {
     "name": "stdout",
     "output_type": "stream",
     "text": [
      "Train on 1511 samples, validate on 504 samples\n",
      "Epoch 87/1000\n",
      "1511/1511 [==============================] - 1s 391us/step - loss: 0.0271 - val_loss: 0.0343\n",
      "Epoch 88/1000\n",
      "1511/1511 [==============================] - 1s 411us/step - loss: 0.0271 - val_loss: 0.0343\n",
      "Epoch 89/1000\n",
      "1511/1511 [==============================] - 1s 417us/step - loss: 0.0271 - val_loss: 0.0343\n",
      "Epoch 90/1000\n",
      "1511/1511 [==============================] - 1s 404us/step - loss: 0.0271 - val_loss: 0.0343\n",
      "Epoch 91/1000\n",
      "1511/1511 [==============================] - 1s 419us/step - loss: 0.0271 - val_loss: 0.0343\n",
      "Epoch 92/1000\n",
      "1511/1511 [==============================] - 1s 411us/step - loss: 0.0271 - val_loss: 0.0343\n"
     ]
    },
    {
     "name": "stderr",
     "output_type": "stream",
     "text": [
      "\r",
      " 18%|█▊        | 4/22 [01:30<06:02, 20.13s/it]"
     ]
    },
    {
     "name": "stdout",
     "output_type": "stream",
     "text": [
      "Train on 1511 samples, validate on 504 samples\n",
      "Epoch 93/1000\n",
      "1511/1511 [==============================] - 1s 397us/step - loss: 0.0260 - val_loss: 0.0114\n",
      "Epoch 94/1000\n",
      "1511/1511 [==============================] - 1s 406us/step - loss: 0.0260 - val_loss: 0.0114\n",
      "Epoch 95/1000\n",
      "1511/1511 [==============================] - 1s 408us/step - loss: 0.0260 - val_loss: 0.0114\n",
      "Epoch 96/1000\n",
      "1511/1511 [==============================] - 1s 412us/step - loss: 0.0260 - val_loss: 0.0114\n",
      "Epoch 97/1000\n",
      "1511/1511 [==============================] - 1s 407us/step - loss: 0.0260 - val_loss: 0.0114\n",
      "Epoch 98/1000\n",
      "1511/1511 [==============================] - 1s 407us/step - loss: 0.0260 - val_loss: 0.0114\n"
     ]
    },
    {
     "name": "stderr",
     "output_type": "stream",
     "text": [
      "\r",
      " 23%|██▎       | 5/22 [01:37<04:34, 16.12s/it]"
     ]
    },
    {
     "name": "stdout",
     "output_type": "stream",
     "text": [
      "Train on 1511 samples, validate on 504 samples\n",
      "Epoch 99/1000\n",
      "1511/1511 [==============================] - 1s 393us/step - loss: 0.0252 - val_loss: 0.0356\n",
      "Epoch 100/1000\n",
      "1511/1511 [==============================] - 1s 408us/step - loss: 0.0252 - val_loss: 0.0356\n",
      "Epoch 101/1000\n",
      "1511/1511 [==============================] - 1s 411us/step - loss: 0.0252 - val_loss: 0.0356\n",
      "Epoch 102/1000\n",
      "1511/1511 [==============================] - 1s 414us/step - loss: 0.0252 - val_loss: 0.0356\n",
      "Epoch 103/1000\n",
      "1511/1511 [==============================] - 1s 415us/step - loss: 0.0252 - val_loss: 0.0356\n",
      "Epoch 104/1000\n",
      "1511/1511 [==============================] - 1s 410us/step - loss: 0.0252 - val_loss: 0.0356\n"
     ]
    },
    {
     "name": "stderr",
     "output_type": "stream",
     "text": [
      "\r",
      " 27%|██▋       | 6/22 [01:44<03:33, 13.32s/it]"
     ]
    },
    {
     "name": "stdout",
     "output_type": "stream",
     "text": [
      "Train on 1511 samples, validate on 504 samples\n",
      "Epoch 105/1000\n",
      "1511/1511 [==============================] - 1s 403us/step - loss: 0.0316 - val_loss: 0.0236\n",
      "Epoch 106/1000\n",
      "1511/1511 [==============================] - 1s 409us/step - loss: 0.0316 - val_loss: 0.0236\n",
      "Epoch 107/1000\n",
      "1511/1511 [==============================] - 1s 410us/step - loss: 0.0316 - val_loss: 0.0236\n",
      "Epoch 108/1000\n",
      "1511/1511 [==============================] - 1s 413us/step - loss: 0.0316 - val_loss: 0.0236\n",
      "Epoch 109/1000\n",
      "1511/1511 [==============================] - 1s 416us/step - loss: 0.0316 - val_loss: 0.0236\n",
      "Epoch 110/1000\n",
      "1511/1511 [==============================] - 1s 408us/step - loss: 0.0316 - val_loss: 0.0236\n"
     ]
    },
    {
     "name": "stderr",
     "output_type": "stream",
     "text": [
      "\r",
      " 32%|███▏      | 7/22 [01:50<02:50, 11.37s/it]"
     ]
    },
    {
     "name": "stdout",
     "output_type": "stream",
     "text": [
      "Train on 1511 samples, validate on 504 samples\n",
      "Epoch 111/1000\n",
      "1511/1511 [==============================] - 1s 395us/step - loss: 0.0266 - val_loss: 0.0059\n",
      "Epoch 112/1000\n",
      "1511/1511 [==============================] - 1s 411us/step - loss: 0.0266 - val_loss: 0.0059\n",
      "Epoch 113/1000\n",
      "1511/1511 [==============================] - 1s 410us/step - loss: 0.0266 - val_loss: 0.0059\n",
      "Epoch 114/1000\n",
      "1511/1511 [==============================] - 1s 412us/step - loss: 0.0266 - val_loss: 0.0059\n",
      "Epoch 115/1000\n",
      "1511/1511 [==============================] - 1s 411us/step - loss: 0.0266 - val_loss: 0.0059\n",
      "Epoch 116/1000\n",
      "1511/1511 [==============================] - 1s 415us/step - loss: 0.0266 - val_loss: 0.0059\n"
     ]
    },
    {
     "name": "stderr",
     "output_type": "stream",
     "text": [
      "\r",
      " 36%|███▋      | 8/22 [01:58<02:21, 10.07s/it]"
     ]
    },
    {
     "name": "stdout",
     "output_type": "stream",
     "text": [
      "Train on 1511 samples, validate on 504 samples\n",
      "Epoch 117/1000\n",
      "1511/1511 [==============================] - 1s 393us/step - loss: 0.0342 - val_loss: 0.0734\n",
      "Epoch 118/1000\n",
      "1511/1511 [==============================] - 1s 414us/step - loss: 0.0342 - val_loss: 0.0734\n",
      "Epoch 119/1000\n",
      "1511/1511 [==============================] - 1s 413us/step - loss: 0.0342 - val_loss: 0.0734\n",
      "Epoch 120/1000\n",
      "1511/1511 [==============================] - 1s 413us/step - loss: 0.0342 - val_loss: 0.0734\n",
      "Epoch 121/1000\n",
      "1511/1511 [==============================] - 1s 412us/step - loss: 0.0342 - val_loss: 0.0734\n",
      "Epoch 122/1000\n",
      "1511/1511 [==============================] - 1s 408us/step - loss: 0.0342 - val_loss: 0.0734\n"
     ]
    },
    {
     "name": "stderr",
     "output_type": "stream",
     "text": [
      "\r",
      " 41%|████      | 9/22 [02:04<01:58,  9.09s/it]"
     ]
    },
    {
     "name": "stdout",
     "output_type": "stream",
     "text": [
      "Train on 1511 samples, validate on 504 samples\n",
      "Epoch 123/1000\n",
      "1511/1511 [==============================] - 1s 394us/step - loss: 0.0194 - val_loss: 0.0090\n",
      "Epoch 124/1000\n",
      "1511/1511 [==============================] - 1s 410us/step - loss: 0.0194 - val_loss: 0.0090\n",
      "Epoch 125/1000\n",
      "1511/1511 [==============================] - 1s 414us/step - loss: 0.0194 - val_loss: 0.0090\n",
      "Epoch 126/1000\n",
      "1511/1511 [==============================] - 1s 408us/step - loss: 0.0194 - val_loss: 0.0090\n",
      "Epoch 127/1000\n",
      "1511/1511 [==============================] - 1s 414us/step - loss: 0.0194 - val_loss: 0.0090\n",
      "Epoch 128/1000\n",
      "1511/1511 [==============================] - 1s 413us/step - loss: 0.0194 - val_loss: 0.0090\n"
     ]
    },
    {
     "name": "stderr",
     "output_type": "stream",
     "text": [
      "\r",
      " 45%|████▌     | 10/22 [02:11<01:40,  8.41s/it]"
     ]
    },
    {
     "name": "stdout",
     "output_type": "stream",
     "text": [
      "Train on 1511 samples, validate on 504 samples\n",
      "Epoch 129/1000\n",
      "1511/1511 [==============================] - 1s 398us/step - loss: 0.0333 - val_loss: 0.0316\n",
      "Epoch 130/1000\n",
      "1511/1511 [==============================] - 1s 412us/step - loss: 0.0333 - val_loss: 0.0316\n",
      "Epoch 131/1000\n",
      "1511/1511 [==============================] - 1s 415us/step - loss: 0.0333 - val_loss: 0.0316\n",
      "Epoch 132/1000\n",
      "1511/1511 [==============================] - 1s 415us/step - loss: 0.0333 - val_loss: 0.0316\n",
      "Epoch 133/1000\n",
      "1511/1511 [==============================] - 1s 412us/step - loss: 0.0333 - val_loss: 0.0316\n",
      "Epoch 134/1000\n",
      "1511/1511 [==============================] - 1s 413us/step - loss: 0.0333 - val_loss: 0.0316\n"
     ]
    },
    {
     "name": "stderr",
     "output_type": "stream",
     "text": [
      "\r",
      " 50%|█████     | 11/22 [02:18<01:27,  7.92s/it]"
     ]
    },
    {
     "name": "stdout",
     "output_type": "stream",
     "text": [
      "Train on 1511 samples, validate on 504 samples\n",
      "Epoch 135/1000\n",
      "1511/1511 [==============================] - 1s 393us/step - loss: 0.0216 - val_loss: 0.0165\n",
      "Epoch 136/1000\n",
      "1511/1511 [==============================] - 1s 406us/step - loss: 0.0216 - val_loss: 0.0165\n",
      "Epoch 137/1000\n",
      "1511/1511 [==============================] - 1s 412us/step - loss: 0.0216 - val_loss: 0.0165\n",
      "Epoch 138/1000\n",
      "1511/1511 [==============================] - 1s 405us/step - loss: 0.0216 - val_loss: 0.0165\n",
      "Epoch 139/1000\n",
      "1511/1511 [==============================] - 1s 410us/step - loss: 0.0216 - val_loss: 0.0165\n",
      "Epoch 140/1000\n",
      "1511/1511 [==============================] - 1s 410us/step - loss: 0.0216 - val_loss: 0.0165\n"
     ]
    },
    {
     "name": "stderr",
     "output_type": "stream",
     "text": [
      "\r",
      " 55%|█████▍    | 12/22 [02:25<01:15,  7.57s/it]"
     ]
    },
    {
     "name": "stdout",
     "output_type": "stream",
     "text": [
      "Train on 1511 samples, validate on 504 samples\n",
      "Epoch 141/1000\n",
      "1511/1511 [==============================] - 1s 395us/step - loss: 0.0147 - val_loss: 0.0168\n",
      "Epoch 142/1000\n",
      "1511/1511 [==============================] - 1s 409us/step - loss: 0.0147 - val_loss: 0.0168\n",
      "Epoch 143/1000\n",
      "1511/1511 [==============================] - 1s 411us/step - loss: 0.0147 - val_loss: 0.0168\n",
      "Epoch 144/1000\n",
      "1511/1511 [==============================] - 1s 408us/step - loss: 0.0147 - val_loss: 0.0168\n",
      "Epoch 145/1000\n",
      "1511/1511 [==============================] - 1s 410us/step - loss: 0.0147 - val_loss: 0.0168\n",
      "Epoch 146/1000\n",
      "1511/1511 [==============================] - 1s 413us/step - loss: 0.0147 - val_loss: 0.0168\n"
     ]
    },
    {
     "name": "stderr",
     "output_type": "stream",
     "text": [
      "\r",
      " 59%|█████▉    | 13/22 [02:31<01:06,  7.35s/it]"
     ]
    },
    {
     "name": "stdout",
     "output_type": "stream",
     "text": [
      "Train on 1511 samples, validate on 504 samples\n",
      "Epoch 147/1000\n",
      "1511/1511 [==============================] - 1s 391us/step - loss: 0.0160 - val_loss: 0.0586\n",
      "Epoch 148/1000\n",
      "1511/1511 [==============================] - 1s 412us/step - loss: 0.0160 - val_loss: 0.0586\n",
      "Epoch 149/1000\n",
      "1511/1511 [==============================] - 1s 415us/step - loss: 0.0160 - val_loss: 0.0586\n",
      "Epoch 150/1000\n",
      "1511/1511 [==============================] - 1s 408us/step - loss: 0.0160 - val_loss: 0.0586\n",
      "Epoch 151/1000\n",
      "1511/1511 [==============================] - 1s 412us/step - loss: 0.0160 - val_loss: 0.0586\n",
      "Epoch 152/1000\n",
      "1511/1511 [==============================] - 1s 411us/step - loss: 0.0160 - val_loss: 0.0586\n"
     ]
    },
    {
     "name": "stderr",
     "output_type": "stream",
     "text": [
      "\r",
      " 64%|██████▎   | 14/22 [02:38<00:57,  7.17s/it]"
     ]
    },
    {
     "name": "stdout",
     "output_type": "stream",
     "text": [
      "Train on 1511 samples, validate on 504 samples\n",
      "Epoch 153/1000\n",
      "1511/1511 [==============================] - 1s 400us/step - loss: 0.0155 - val_loss: 0.0204\n",
      "Epoch 154/1000\n",
      "1511/1511 [==============================] - 1s 414us/step - loss: 0.0155 - val_loss: 0.0204\n",
      "Epoch 155/1000\n",
      "1511/1511 [==============================] - 1s 410us/step - loss: 0.0155 - val_loss: 0.0204\n",
      "Epoch 156/1000\n",
      "1511/1511 [==============================] - 1s 403us/step - loss: 0.0155 - val_loss: 0.0204\n",
      "Epoch 157/1000\n",
      "1511/1511 [==============================] - 1s 407us/step - loss: 0.0155 - val_loss: 0.0204\n",
      "Epoch 158/1000\n",
      "1511/1511 [==============================] - 1s 412us/step - loss: 0.0155 - val_loss: 0.0204\n"
     ]
    },
    {
     "name": "stderr",
     "output_type": "stream",
     "text": [
      "\r",
      " 68%|██████▊   | 15/22 [02:45<00:49,  7.05s/it]"
     ]
    },
    {
     "name": "stdout",
     "output_type": "stream",
     "text": [
      "Train on 1511 samples, validate on 504 samples\n",
      "Epoch 159/1000\n",
      "1511/1511 [==============================] - 1s 394us/step - loss: 0.0300 - val_loss: 0.0229\n",
      "Epoch 160/1000\n",
      "1511/1511 [==============================] - 1s 415us/step - loss: 0.0300 - val_loss: 0.0229\n",
      "Epoch 161/1000\n",
      "1511/1511 [==============================] - 1s 412us/step - loss: 0.0300 - val_loss: 0.0229\n",
      "Epoch 162/1000\n",
      "1511/1511 [==============================] - 1s 412us/step - loss: 0.0300 - val_loss: 0.0229\n",
      "Epoch 163/1000\n",
      "1511/1511 [==============================] - 1s 415us/step - loss: 0.0300 - val_loss: 0.0229\n",
      "Epoch 164/1000\n",
      "1511/1511 [==============================] - 1s 417us/step - loss: 0.0300 - val_loss: 0.0229\n"
     ]
    },
    {
     "name": "stderr",
     "output_type": "stream",
     "text": [
      "\r",
      " 73%|███████▎  | 16/22 [02:52<00:41,  6.99s/it]"
     ]
    },
    {
     "name": "stdout",
     "output_type": "stream",
     "text": [
      "Train on 1511 samples, validate on 504 samples\n",
      "Epoch 165/1000\n",
      "1511/1511 [==============================] - 1s 396us/step - loss: 0.0373 - val_loss: 0.0449\n",
      "Epoch 166/1000\n",
      "1511/1511 [==============================] - 1s 413us/step - loss: 0.0373 - val_loss: 0.0449\n",
      "Epoch 167/1000\n",
      "1511/1511 [==============================] - 1s 414us/step - loss: 0.0373 - val_loss: 0.0449\n",
      "Epoch 168/1000\n",
      "1511/1511 [==============================] - 1s 412us/step - loss: 0.0373 - val_loss: 0.0449\n",
      "Epoch 169/1000\n",
      "1511/1511 [==============================] - 1s 412us/step - loss: 0.0373 - val_loss: 0.0449\n",
      "Epoch 170/1000\n",
      "1511/1511 [==============================] - 1s 414us/step - loss: 0.0373 - val_loss: 0.0449\n"
     ]
    },
    {
     "name": "stderr",
     "output_type": "stream",
     "text": [
      "\r",
      " 77%|███████▋  | 17/22 [02:59<00:34,  6.94s/it]"
     ]
    },
    {
     "name": "stdout",
     "output_type": "stream",
     "text": [
      "Train on 1511 samples, validate on 504 samples\n",
      "Epoch 171/1000\n",
      "1511/1511 [==============================] - 1s 400us/step - loss: 0.0552 - val_loss: 0.0711\n",
      "Epoch 172/1000\n",
      "1511/1511 [==============================] - 1s 413us/step - loss: 0.0552 - val_loss: 0.0711\n",
      "Epoch 173/1000\n",
      "1511/1511 [==============================] - 1s 407us/step - loss: 0.0552 - val_loss: 0.0711\n",
      "Epoch 174/1000\n",
      "1511/1511 [==============================] - 1s 407us/step - loss: 0.0552 - val_loss: 0.0711\n",
      "Epoch 175/1000\n",
      "1511/1511 [==============================] - 1s 403us/step - loss: 0.0552 - val_loss: 0.0711\n",
      "Epoch 176/1000\n",
      "1511/1511 [==============================] - 1s 411us/step - loss: 0.0552 - val_loss: 0.0711\n"
     ]
    },
    {
     "name": "stderr",
     "output_type": "stream",
     "text": [
      "\r",
      " 82%|████████▏ | 18/22 [03:05<00:27,  6.89s/it]"
     ]
    },
    {
     "name": "stdout",
     "output_type": "stream",
     "text": [
      "Train on 1511 samples, validate on 504 samples\n",
      "Epoch 177/1000\n",
      "1511/1511 [==============================] - 1s 395us/step - loss: 0.0297 - val_loss: 0.0309\n",
      "Epoch 178/1000\n",
      "1511/1511 [==============================] - 1s 407us/step - loss: 0.0297 - val_loss: 0.0309\n",
      "Epoch 179/1000\n",
      "1511/1511 [==============================] - 1s 412us/step - loss: 0.0297 - val_loss: 0.0309\n",
      "Epoch 180/1000\n",
      "1511/1511 [==============================] - 1s 409us/step - loss: 0.0297 - val_loss: 0.0309\n",
      "Epoch 181/1000\n",
      "1511/1511 [==============================] - 1s 412us/step - loss: 0.0297 - val_loss: 0.0309\n",
      "Epoch 182/1000\n",
      "1511/1511 [==============================] - 1s 405us/step - loss: 0.0297 - val_loss: 0.0309\n"
     ]
    },
    {
     "name": "stderr",
     "output_type": "stream",
     "text": [
      "\r",
      " 86%|████████▋ | 19/22 [03:12<00:20,  6.85s/it]"
     ]
    },
    {
     "name": "stdout",
     "output_type": "stream",
     "text": [
      "Train on 1511 samples, validate on 504 samples\n",
      "Epoch 183/1000\n",
      "1511/1511 [==============================] - 1s 394us/step - loss: 0.0274 - val_loss: 0.0158\n",
      "Epoch 184/1000\n",
      "1511/1511 [==============================] - 1s 411us/step - loss: 0.0274 - val_loss: 0.0158\n",
      "Epoch 185/1000\n",
      "1511/1511 [==============================] - 1s 407us/step - loss: 0.0274 - val_loss: 0.0158\n",
      "Epoch 186/1000\n",
      "1511/1511 [==============================] - 1s 409us/step - loss: 0.0274 - val_loss: 0.0158\n",
      "Epoch 187/1000\n",
      "1511/1511 [==============================] - 1s 411us/step - loss: 0.0274 - val_loss: 0.0158\n",
      "Epoch 188/1000\n",
      "1511/1511 [==============================] - 1s 411us/step - loss: 0.0274 - val_loss: 0.0158\n"
     ]
    },
    {
     "name": "stderr",
     "output_type": "stream",
     "text": [
      "\r",
      " 91%|█████████ | 20/22 [03:19<00:13,  6.84s/it]"
     ]
    },
    {
     "name": "stdout",
     "output_type": "stream",
     "text": [
      "Train on 1511 samples, validate on 504 samples\n",
      "Epoch 189/1000\n",
      "1511/1511 [==============================] - 1s 397us/step - loss: 0.0409 - val_loss: 0.0556\n",
      "Epoch 190/1000\n",
      "1511/1511 [==============================] - 1s 411us/step - loss: 0.0409 - val_loss: 0.0556\n",
      "Epoch 191/1000\n",
      "1511/1511 [==============================] - 1s 417us/step - loss: 0.0409 - val_loss: 0.0556\n",
      "Epoch 192/1000\n",
      "1511/1511 [==============================] - 1s 412us/step - loss: 0.0409 - val_loss: 0.0556\n",
      "Epoch 193/1000\n",
      "1511/1511 [==============================] - 1s 411us/step - loss: 0.0409 - val_loss: 0.0556\n",
      "Epoch 194/1000\n",
      "1511/1511 [==============================] - 1s 406us/step - loss: 0.0409 - val_loss: 0.0556\n"
     ]
    },
    {
     "name": "stderr",
     "output_type": "stream",
     "text": [
      "\r",
      " 95%|█████████▌| 21/22 [03:26<00:06,  6.90s/it]"
     ]
    },
    {
     "name": "stdout",
     "output_type": "stream",
     "text": [
      "Train on 1511 samples, validate on 504 samples\n",
      "Epoch 195/1000\n",
      "1511/1511 [==============================] - 1s 397us/step - loss: 0.0576 - val_loss: 0.0376\n",
      "Epoch 196/1000\n",
      "1511/1511 [==============================] - 1s 410us/step - loss: 0.0576 - val_loss: 0.0376\n",
      "Epoch 197/1000\n",
      "1511/1511 [==============================] - 1s 413us/step - loss: 0.0576 - val_loss: 0.0376\n",
      "Epoch 198/1000\n",
      "1511/1511 [==============================] - 1s 411us/step - loss: 0.0576 - val_loss: 0.0376\n",
      "Epoch 199/1000\n",
      "1511/1511 [==============================] - 1s 412us/step - loss: 0.0576 - val_loss: 0.0376\n",
      "Epoch 200/1000\n",
      "1511/1511 [==============================] - 1s 407us/step - loss: 0.0576 - val_loss: 0.0376\n"
     ]
    },
    {
     "name": "stderr",
     "output_type": "stream",
     "text": [
      "100%|██████████| 22/22 [03:33<00:00,  9.70s/it]\n"
     ]
    }
   ],
   "source": [
    "config = {\n",
    "    'weeklist': weeklist,\n",
    "    'lstm_hidden_units': 8,\n",
    "    'lstm_no_layers': 1,\n",
    "    'dense_hidden_units': 32,\n",
    "    'dense_no_layers': 4\n",
    "}\n",
    "\n",
    "modeldesigndone = False\n",
    "initial_epoch = 0\n",
    "for weekno, weekdata in enumerate(tqdm(config['weeklist'])):\n",
    "\n",
    "    X_train = weekdata['X_train']\n",
    "    y_train = weekdata['y_train']\n",
    "    X_test = weekdata['X_test']\n",
    "    y_test = weekdata['y_test']\n",
    "\n",
    "    if not modeldesigndone:\n",
    "        #Instantiate learner model\n",
    "        model = mp.lstm_model('../results/lstmtrain/',\n",
    "                              inputdim=X_train.shape[-1],\n",
    "                              outputdim=y_train.shape[-1],\n",
    "                              period=1)\n",
    "\n",
    "        # Desing model architecture\n",
    "        model.design_model(lstmhiddenlayers=[config['lstm_hidden_units']] * config['lstm_no_layers'],\n",
    "                           densehiddenlayers=[config['dense_hidden_units']] * config['dense_no_layers'],\n",
    "                           dropoutlist=[[], []],\n",
    "                           batchnormalizelist=[[], []])\n",
    "\n",
    "        # creating early stopping and learning reate changing callbacks\n",
    "        model.model_callbacks()\n",
    "\n",
    "        modeldesigndone = True\n",
    "\n",
    "    # train the model\n",
    "    history = model.train_model(X_train, y_train, X_test, y_test, epochs=1000, initial_epoch = initial_epoch)\n",
    "    initial_epoch += len(history.history['loss'])\n",
    "\n",
    "    # evaluate the model for metrics at this stage\n",
    "    # see inside results folder to look at t\n",
    "    # train and test plots as well as logged errors inside the text file\n",
    "    preds_train, preds_test = model.evaluate_model(X_train,\n",
    "                                                   y_train,\n",
    "                                                   X_test,\n",
    "                                                   y_test,\n",
    "                                                   y_scaler,\n",
    "                                                   scaling=True,\n",
    "                                                   saveplot=True,\n",
    "                                                   Week=weekno)"
   ]
  },
  {
   "cell_type": "code",
   "execution_count": 3,
   "metadata": {},
   "outputs": [
    {
     "name": "stdout",
     "output_type": "stream",
     "text": [
      "Name of the file:  ../results/lstmtrain/5min Results_File.txt\n"
     ]
    }
   ],
   "source": [
    "# Open a file\n",
    "fo = open(\"../results/lstmtrain/5min Results_File.txt\", \"r\")\n",
    "print (\"Name of the file: \", fo.name)\n",
    "lines = fo.readlines()\n",
    "\n",
    "parse_format = 'Week No:{}-Time Step {}: {} RMSE={} |{} CVRMSE={} |{} MAE={}'\n",
    "stats = {\n",
    "    'Train':{'rmse': [], 'cvrmse' : [], 'mae' : []},\n",
    "    'Test':{'rmse': [], 'cvrmse' : [], 'mae' : []}\n",
    "}\n",
    "for line in lines:\n",
    "    p = parse.parse(parse_format,line)\n",
    "    stats[p[2]]['rmse'].append(float(p[3]))\n",
    "    stats[p[4]]['cvrmse'].append(float(p[5]))\n",
    "    stats[p[6]]['mae'].append(float(p[7]))\n",
    "          \n",
    "fo.close()"
   ]
  },
  {
   "cell_type": "code",
   "execution_count": 4,
   "metadata": {},
   "outputs": [
    {
     "name": "stderr",
     "output_type": "stream",
     "text": [
      "findfont: Font family ['Times New Roman'] not found. Falling back to DejaVu Sans.\n",
      "findfont: Font family ['Times New Roman'] not found. Falling back to DejaVu Sans.\n",
      "findfont: Font family ['Times New Roman'] not found. Falling back to DejaVu Sans.\n"
     ]
    },
    {
     "data": {
      "image/png": "[encoded data removed]",
      "text/plain": [
       "<Figure size 1080x720 with 1 Axes>"
      ]
     },
     "metadata": {
      "needs_background": "light"
     },
     "output_type": "display_data"
    }
   ],
   "source": [
    "# from dataprocess import plotutils as pu\n",
    "plot_args = dict(\n",
    "    bars = stats['Train']['cvrmse'],\n",
    "    color = 'goldenrod',\n",
    "    bar_label = 'cvrmse',\n",
    "    saveloc = '../results/lstmtrain',\n",
    "    smoothcurve = True,\n",
    "    bar_annotate = True,\n",
    "    saveplot = True,\n",
    "    xlabel = 'Week Number(Not consecutive)',\n",
    "    ylabel = 'cvrmse error in percentage',\n",
    "    title = 'Weekly cvrmse Train Error for Single LSTM Model',\n",
    "    xticktype = 'Week'\n",
    ")\n",
    "pu.single_bar_plot(\n",
    "    **plot_args\n",
    ")"
   ]
  },
  {
   "cell_type": "code",
   "execution_count": null,
   "metadata": {
    "scrolled": false
   },
   "outputs": [],
   "source": [
    "model.show_model()"
   ]
  },
  {
   "cell_type": "code",
   "execution_count": null,
   "metadata": {},
   "outputs": [],
   "source": [
    "%load_ext tensorboard"
   ]
  },
  {
   "cell_type": "code",
   "execution_count": null,
   "metadata": {
    "scrolled": true
   },
   "outputs": [],
   "source": [
    "%tensorboard --logdir '../results/lstmtrain/loginfo/' --port 8200"
   ]
  },
  {
   "cell_type": "code",
   "execution_count": null,
   "metadata": {},
   "outputs": [],
   "source": [
    "dp.dataframeplot(dflist[2], lazy=False, style='-', legend=True)"
   ]
  },
  {
   "cell_type": "code",
   "execution_count": null,
   "metadata": {},
   "outputs": [],
   "source": []
  }
 ],
 "metadata": {
  "kernelspec": {
   "display_name": "Python 3.6.9 64-bit ('sbvenv1': venv)",
   "language": "python",
   "name": "python36964bitsbvenv1venv1a534851ebbc4d609aad5dcf7b359ab5"
  },
  "language_info": {
   "codemirror_mode": {
    "name": "ipython",
    "version": 3
   },
   "file_extension": ".py",
   "mimetype": "text/x-python",
   "name": "python",
   "nbconvert_exporter": "python",
   "pygments_lexer": "ipython3",
   "version": "3.6.9"
  }
 },
 "nbformat": 4,
 "nbformat_minor": 4
}
