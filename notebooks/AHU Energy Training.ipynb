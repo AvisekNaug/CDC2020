{
 "cells": [
  {
   "cell_type": "code",
   "execution_count": 1,
   "metadata": {},
   "outputs": [],
   "source": [
    "# including the project directory to the notebook level\n",
    "import os\n",
    "import sys\n",
    "module_path = os.path.abspath(os.path.join('..'))\n",
    "if module_path not in sys.path:\n",
    "    sys.path.append(module_path)"
   ]
  },
  {
   "cell_type": "code",
   "execution_count": 2,
   "metadata": {},
   "outputs": [],
   "source": [
    "#importing modules\n",
    "from dataprocess import dataprocessor as dp"
   ]
  },
  {
   "cell_type": "code",
   "execution_count": 3,
   "metadata": {},
   "outputs": [],
   "source": [
    "# read the pickled file for energy model\n",
    "ahudata = dp.readfile('../data/processed/ahu1energy.pkl')\n",
    "\n",
    "# return pickled df\n",
    "ahu = ahudata.return_df(processmethods=['file2df'])"
   ]
  },
  {
   "cell_type": "code",
   "execution_count": 5,
   "metadata": {},
   "outputs": [],
   "source": [
    "# selecting only required columns and rearranging them\n",
    "ahu = ahu[['AHU_1 outdoorAirTemp',\n",
    "           'WeatherDataProfile humidity',\n",
    "           'AHU_1 supplyAirTemp',\n",
    "          'HW_BTU_METER currentKbtuDeltaReading',\n",
    "          'CHW_BTU_METER currentKbtuDeltaReading']]\n",
    "\n",
    "# renaming columns\n",
    "ahu.columns = ['oat', 'orh', 'sat', 'hwe', 'cwe']"
   ]
  },
  {
   "cell_type": "code",
   "execution_count": 14,
   "metadata": {},
   "outputs": [],
   "source": [
    "ahu['TotalE'] = ahu['hwe']+ahu['cwe']\n",
    "ahu = ahu.drop(columns=['hwe', 'cwe'])"
   ]
  },
  {
   "cell_type": "code",
   "execution_count": 15,
   "metadata": {},
   "outputs": [
    {
     "data": {
      "text/html": [
       "<div>\n",
       "<style scoped>\n",
       "    .dataframe tbody tr th:only-of-type {\n",
       "        vertical-align: middle;\n",
       "    }\n",
       "\n",
       "    .dataframe tbody tr th {\n",
       "        vertical-align: top;\n",
       "    }\n",
       "\n",
       "    .dataframe thead th {\n",
       "        text-align: right;\n",
       "    }\n",
       "</style>\n",
       "<table border=\"1\" class=\"dataframe\">\n",
       "  <thead>\n",
       "    <tr style=\"text-align: right;\">\n",
       "      <th></th>\n",
       "      <th>oat</th>\n",
       "      <th>orh</th>\n",
       "      <th>sat</th>\n",
       "      <th>TotalE</th>\n",
       "    </tr>\n",
       "  </thead>\n",
       "  <tbody>\n",
       "    <tr>\n",
       "      <th>count</th>\n",
       "      <td>166375.000000</td>\n",
       "      <td>166375.000000</td>\n",
       "      <td>166375.000000</td>\n",
       "      <td>166375.000000</td>\n",
       "    </tr>\n",
       "    <tr>\n",
       "      <th>mean</th>\n",
       "      <td>61.957610</td>\n",
       "      <td>59.320534</td>\n",
       "      <td>69.896799</td>\n",
       "      <td>24.523445</td>\n",
       "    </tr>\n",
       "    <tr>\n",
       "      <th>std</th>\n",
       "      <td>17.481413</td>\n",
       "      <td>17.136129</td>\n",
       "      <td>6.189190</td>\n",
       "      <td>15.873589</td>\n",
       "    </tr>\n",
       "    <tr>\n",
       "      <th>min</th>\n",
       "      <td>15.798034</td>\n",
       "      <td>16.982016</td>\n",
       "      <td>51.554096</td>\n",
       "      <td>0.000000</td>\n",
       "    </tr>\n",
       "    <tr>\n",
       "      <th>25%</th>\n",
       "      <td>47.327717</td>\n",
       "      <td>46.000000</td>\n",
       "      <td>66.909103</td>\n",
       "      <td>11.119055</td>\n",
       "    </tr>\n",
       "    <tr>\n",
       "      <th>50%</th>\n",
       "      <td>62.016258</td>\n",
       "      <td>58.720158</td>\n",
       "      <td>71.834129</td>\n",
       "      <td>20.810382</td>\n",
       "    </tr>\n",
       "    <tr>\n",
       "      <th>75%</th>\n",
       "      <td>76.689804</td>\n",
       "      <td>73.000000</td>\n",
       "      <td>73.833794</td>\n",
       "      <td>37.871145</td>\n",
       "    </tr>\n",
       "    <tr>\n",
       "      <th>max</th>\n",
       "      <td>97.201401</td>\n",
       "      <td>96.000000</td>\n",
       "      <td>88.511330</td>\n",
       "      <td>93.723236</td>\n",
       "    </tr>\n",
       "  </tbody>\n",
       "</table>\n",
       "</div>"
      ],
      "text/plain": [
       "                 oat            orh            sat         TotalE\n",
       "count  166375.000000  166375.000000  166375.000000  166375.000000\n",
       "mean       61.957610      59.320534      69.896799      24.523445\n",
       "std        17.481413      17.136129       6.189190      15.873589\n",
       "min        15.798034      16.982016      51.554096       0.000000\n",
       "25%        47.327717      46.000000      66.909103      11.119055\n",
       "50%        62.016258      58.720158      71.834129      20.810382\n",
       "75%        76.689804      73.000000      73.833794      37.871145\n",
       "max        97.201401      96.000000      88.511330      93.723236"
      ]
     },
     "execution_count": 15,
     "metadata": {},
     "output_type": "execute_result"
    }
   ],
   "source": [
    "ahu.describe()"
   ]
  }
 ],
 "metadata": {
  "kernelspec": {
   "display_name": "Python 3",
   "language": "python",
   "name": "python3"
  },
  "language_info": {
   "codemirror_mode": {
    "name": "ipython",
    "version": 3
   },
   "file_extension": ".py",
   "mimetype": "text/x-python",
   "name": "python",
   "nbconvert_exporter": "python",
   "pygments_lexer": "ipython3",
   "version": "3.6.9"
  }
 },
 "nbformat": 4,
 "nbformat_minor": 4
}
