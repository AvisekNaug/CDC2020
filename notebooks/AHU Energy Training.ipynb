{
 "cells": [
  {
   "cell_type": "code",
   "execution_count": 1,
   "metadata": {},
   "outputs": [],
   "source": [
    "# including the project directory to the notebook level\n",
    "import os\n",
    "os.environ['TF_CPP_MIN_LOG_LEVEL'] = '3'  # or any {'0', '1', '2'}\n",
    "import sys\n",
    "module_path = os.path.abspath(os.path.join('..'))\n",
    "if module_path not in sys.path:\n",
    "    sys.path.append(module_path)\n",
    "import numpy as np"
   ]
  },
  {
   "cell_type": "code",
   "execution_count": 2,
   "metadata": {},
   "outputs": [],
   "source": [
    "#importing modules\n",
    "from tensorflow.keras import backend as K\n",
    "\n",
    "from dataprocess import dataprocessor as dp\n",
    "from nn_source import models as mp"
   ]
  },
  {
   "cell_type": "code",
   "execution_count": 3,
   "metadata": {},
   "outputs": [],
   "source": [
    "# read the pickled file for ahu data\n",
    "ahudata = dp.readfile('../data/processed/ahu1energy.pkl')\n",
    "\n",
    "# return pickled df\n",
    "ahu = ahudata.return_df(processmethods=['file2df'])\n",
    "\n",
    "# read the pickled file for ghi data\n",
    "ghidata = dp.readfile('../data/processed/ghi.pkl')\n",
    "\n",
    "# return pickled df\n",
    "ghi = ghidata.return_df(processmethods=['file2df'])"
   ]
  },
  {
   "cell_type": "code",
   "execution_count": 4,
   "metadata": {},
   "outputs": [],
   "source": [
    "# selecting only required columns and rearranging them\n",
    "ahu = ahu[[\n",
    "    'AHU_1 outdoorAirTemp', 'WeatherDataProfile humidity',\n",
    "    'AHU_1 supplyAirTemp', 'HW_BTU_METER currentKbtuDeltaReading',\n",
    "    'CHW_BTU_METER currentKbtuDeltaReading'\n",
    "]]\n",
    "\n",
    "# renaming columns\n",
    "ahu.columns = ['oat', 'orh', 'sat', 'hwe', 'cwe']\n",
    "\n",
    "# Total energy is sum of heating and coling\n",
    "ahu['totale'] = ahu['hwe'] + ahu['cwe']\n",
    "# dropping heating and cooling energy columns\n",
    "ahu = ahu.drop(columns=['hwe', 'cwe'])"
   ]
  },
  {
   "cell_type": "code",
   "execution_count": 5,
   "metadata": {},
   "outputs": [],
   "source": [
    "# merging ahu and ghi data\n",
    "df = dp.merge_df_columns([ahu, ghi])\n",
    "\n",
    "# rearranging columns\n",
    "df = df[['oat', 'orh', 'sat', 'Ghi', 'totale']]"
   ]
  },
  {
   "cell_type": "code",
   "execution_count": 6,
   "metadata": {},
   "outputs": [
    {
     "data": {
      "text/html": [
       "<div>\n",
       "<style scoped>\n",
       "    .dataframe tbody tr th:only-of-type {\n",
       "        vertical-align: middle;\n",
       "    }\n",
       "\n",
       "    .dataframe tbody tr th {\n",
       "        vertical-align: top;\n",
       "    }\n",
       "\n",
       "    .dataframe thead th {\n",
       "        text-align: right;\n",
       "    }\n",
       "</style>\n",
       "<table border=\"1\" class=\"dataframe\">\n",
       "  <thead>\n",
       "    <tr style=\"text-align: right;\">\n",
       "      <th></th>\n",
       "      <th>oat</th>\n",
       "      <th>orh</th>\n",
       "      <th>sat</th>\n",
       "      <th>Ghi</th>\n",
       "      <th>totale</th>\n",
       "    </tr>\n",
       "  </thead>\n",
       "  <tbody>\n",
       "    <tr>\n",
       "      <th>2018-07-12 13:55:00</th>\n",
       "      <td>89.554909</td>\n",
       "      <td>76.0</td>\n",
       "      <td>75.443275</td>\n",
       "      <td>872.0</td>\n",
       "      <td>35.590466</td>\n",
       "    </tr>\n",
       "    <tr>\n",
       "      <th>2018-07-12 14:00:00</th>\n",
       "      <td>89.863190</td>\n",
       "      <td>76.0</td>\n",
       "      <td>75.443275</td>\n",
       "      <td>866.0</td>\n",
       "      <td>33.027813</td>\n",
       "    </tr>\n",
       "    <tr>\n",
       "      <th>2018-07-12 14:05:00</th>\n",
       "      <td>89.863190</td>\n",
       "      <td>76.0</td>\n",
       "      <td>75.443275</td>\n",
       "      <td>859.0</td>\n",
       "      <td>31.769627</td>\n",
       "    </tr>\n",
       "    <tr>\n",
       "      <th>2018-07-12 14:10:00</th>\n",
       "      <td>90.484146</td>\n",
       "      <td>69.0</td>\n",
       "      <td>75.443275</td>\n",
       "      <td>848.0</td>\n",
       "      <td>34.195641</td>\n",
       "    </tr>\n",
       "    <tr>\n",
       "      <th>2018-07-12 14:15:00</th>\n",
       "      <td>90.826981</td>\n",
       "      <td>69.0</td>\n",
       "      <td>75.443275</td>\n",
       "      <td>836.0</td>\n",
       "      <td>31.082222</td>\n",
       "    </tr>\n",
       "  </tbody>\n",
       "</table>\n",
       "</div>"
      ],
      "text/plain": [
       "                           oat   orh        sat    Ghi     totale\n",
       "2018-07-12 13:55:00  89.554909  76.0  75.443275  872.0  35.590466\n",
       "2018-07-12 14:00:00  89.863190  76.0  75.443275  866.0  33.027813\n",
       "2018-07-12 14:05:00  89.863190  76.0  75.443275  859.0  31.769627\n",
       "2018-07-12 14:10:00  90.484146  69.0  75.443275  848.0  34.195641\n",
       "2018-07-12 14:15:00  90.826981  69.0  75.443275  836.0  31.082222"
      ]
     },
     "execution_count": 6,
     "metadata": {},
     "output_type": "execute_result"
    }
   ],
   "source": [
    "df.head()"
   ]
  },
  {
   "cell_type": "code",
   "execution_count": 7,
   "metadata": {},
   "outputs": [],
   "source": [
    "df['HourSine'] = np.sin(2*np.pi*df.index.hour/24.0)\n",
    "df['HourCos'] = np.cos(2*np.pi*df.index.hour/24.0)\n",
    "df['WeekSine'] = np.sin(2*np.pi*df.index.week/52.0)\n",
    "df['WeekCos'] = np.cos(2*np.pi*df.index.week/52.0)\n",
    "df['DayofWeekSine'] = np.sin(2*np.pi*df.index.dayofweek/7.0)\n",
    "df['DayofWeekCos'] = np.cos(2*np.pi*df.index.dayofweek/7.0)"
   ]
  },
  {
   "cell_type": "code",
   "execution_count": 8,
   "metadata": {},
   "outputs": [],
   "source": [
    "df = df[[\n",
    "    'oat', 'orh', 'sat', 'Ghi', 'HourSine', 'HourCos', 'WeekSine', 'WeekCos',\n",
    "    'DayofWeekSine', 'DayofWeekCos', 'totale'\n",
    "]]"
   ]
  },
  {
   "cell_type": "code",
   "execution_count": 9,
   "metadata": {},
   "outputs": [
    {
     "data": {
      "text/html": [
       "<div>\n",
       "<style scoped>\n",
       "    .dataframe tbody tr th:only-of-type {\n",
       "        vertical-align: middle;\n",
       "    }\n",
       "\n",
       "    .dataframe tbody tr th {\n",
       "        vertical-align: top;\n",
       "    }\n",
       "\n",
       "    .dataframe thead th {\n",
       "        text-align: right;\n",
       "    }\n",
       "</style>\n",
       "<table border=\"1\" class=\"dataframe\">\n",
       "  <thead>\n",
       "    <tr style=\"text-align: right;\">\n",
       "      <th></th>\n",
       "      <th>oat</th>\n",
       "      <th>orh</th>\n",
       "      <th>sat</th>\n",
       "      <th>Ghi</th>\n",
       "      <th>HourSine</th>\n",
       "      <th>HourCos</th>\n",
       "      <th>WeekSine</th>\n",
       "      <th>WeekCos</th>\n",
       "      <th>DayofWeekSine</th>\n",
       "      <th>DayofWeekCos</th>\n",
       "      <th>totale</th>\n",
       "    </tr>\n",
       "  </thead>\n",
       "  <tbody>\n",
       "    <tr>\n",
       "      <th>2018-07-12 13:55:00</th>\n",
       "      <td>89.554909</td>\n",
       "      <td>76.0</td>\n",
       "      <td>75.443275</td>\n",
       "      <td>872.0</td>\n",
       "      <td>-0.258819</td>\n",
       "      <td>-0.965926</td>\n",
       "      <td>-0.239316</td>\n",
       "      <td>-0.970942</td>\n",
       "      <td>0.433884</td>\n",
       "      <td>-0.900969</td>\n",
       "      <td>35.590466</td>\n",
       "    </tr>\n",
       "    <tr>\n",
       "      <th>2018-07-12 14:00:00</th>\n",
       "      <td>89.863190</td>\n",
       "      <td>76.0</td>\n",
       "      <td>75.443275</td>\n",
       "      <td>866.0</td>\n",
       "      <td>-0.500000</td>\n",
       "      <td>-0.866025</td>\n",
       "      <td>-0.239316</td>\n",
       "      <td>-0.970942</td>\n",
       "      <td>0.433884</td>\n",
       "      <td>-0.900969</td>\n",
       "      <td>33.027813</td>\n",
       "    </tr>\n",
       "    <tr>\n",
       "      <th>2018-07-12 14:05:00</th>\n",
       "      <td>89.863190</td>\n",
       "      <td>76.0</td>\n",
       "      <td>75.443275</td>\n",
       "      <td>859.0</td>\n",
       "      <td>-0.500000</td>\n",
       "      <td>-0.866025</td>\n",
       "      <td>-0.239316</td>\n",
       "      <td>-0.970942</td>\n",
       "      <td>0.433884</td>\n",
       "      <td>-0.900969</td>\n",
       "      <td>31.769627</td>\n",
       "    </tr>\n",
       "    <tr>\n",
       "      <th>2018-07-12 14:10:00</th>\n",
       "      <td>90.484146</td>\n",
       "      <td>69.0</td>\n",
       "      <td>75.443275</td>\n",
       "      <td>848.0</td>\n",
       "      <td>-0.500000</td>\n",
       "      <td>-0.866025</td>\n",
       "      <td>-0.239316</td>\n",
       "      <td>-0.970942</td>\n",
       "      <td>0.433884</td>\n",
       "      <td>-0.900969</td>\n",
       "      <td>34.195641</td>\n",
       "    </tr>\n",
       "    <tr>\n",
       "      <th>2018-07-12 14:15:00</th>\n",
       "      <td>90.826981</td>\n",
       "      <td>69.0</td>\n",
       "      <td>75.443275</td>\n",
       "      <td>836.0</td>\n",
       "      <td>-0.500000</td>\n",
       "      <td>-0.866025</td>\n",
       "      <td>-0.239316</td>\n",
       "      <td>-0.970942</td>\n",
       "      <td>0.433884</td>\n",
       "      <td>-0.900969</td>\n",
       "      <td>31.082222</td>\n",
       "    </tr>\n",
       "  </tbody>\n",
       "</table>\n",
       "</div>"
      ],
      "text/plain": [
       "                           oat   orh        sat    Ghi  HourSine   HourCos  \\\n",
       "2018-07-12 13:55:00  89.554909  76.0  75.443275  872.0 -0.258819 -0.965926   \n",
       "2018-07-12 14:00:00  89.863190  76.0  75.443275  866.0 -0.500000 -0.866025   \n",
       "2018-07-12 14:05:00  89.863190  76.0  75.443275  859.0 -0.500000 -0.866025   \n",
       "2018-07-12 14:10:00  90.484146  69.0  75.443275  848.0 -0.500000 -0.866025   \n",
       "2018-07-12 14:15:00  90.826981  69.0  75.443275  836.0 -0.500000 -0.866025   \n",
       "\n",
       "                     WeekSine   WeekCos  DayofWeekSine  DayofWeekCos  \\\n",
       "2018-07-12 13:55:00 -0.239316 -0.970942       0.433884     -0.900969   \n",
       "2018-07-12 14:00:00 -0.239316 -0.970942       0.433884     -0.900969   \n",
       "2018-07-12 14:05:00 -0.239316 -0.970942       0.433884     -0.900969   \n",
       "2018-07-12 14:10:00 -0.239316 -0.970942       0.433884     -0.900969   \n",
       "2018-07-12 14:15:00 -0.239316 -0.970942       0.433884     -0.900969   \n",
       "\n",
       "                        totale  \n",
       "2018-07-12 13:55:00  35.590466  \n",
       "2018-07-12 14:00:00  33.027813  \n",
       "2018-07-12 14:05:00  31.769627  \n",
       "2018-07-12 14:10:00  34.195641  \n",
       "2018-07-12 14:15:00  31.082222  "
      ]
     },
     "execution_count": 9,
     "metadata": {},
     "output_type": "execute_result"
    }
   ],
   "source": [
    "df.head()"
   ]
  },
  {
   "cell_type": "code",
   "execution_count": 10,
   "metadata": {},
   "outputs": [],
   "source": [
    "# Creating a list of 7 day dataframes for training\n",
    "dflist = dp.df2dflist(df, subsequence=True, period=1, days=7, hours=0)"
   ]
  },
  {
   "cell_type": "code",
   "execution_count": 11,
   "metadata": {},
   "outputs": [],
   "source": [
    "X_train, X_test, y_train, y_test, X_scaler, y_scaler = dp.df2arrays(\n",
    "    dflist[1],\n",
    "    predictorcols=['oat', 'orh', 'sat', 'Ghi',],\n",
    "    outputcols=['totale'],\n",
    "    scaling=True,\n",
    "    reshaping=True,\n",
    "    lag=-1)"
   ]
  },
  {
   "cell_type": "code",
   "execution_count": 12,
   "metadata": {},
   "outputs": [
    {
     "name": "stdout",
     "output_type": "stream",
     "text": [
      "(1511, 1, 4)\n",
      "(504, 1, 4)\n",
      "(1511, 1, 1)\n",
      "(504, 1, 1)\n"
     ]
    }
   ],
   "source": [
    "for i in [X_train, X_test, y_train, y_test]:\n",
    "    print(i.shape)"
   ]
  },
  {
   "cell_type": "code",
   "execution_count": 13,
   "metadata": {},
   "outputs": [],
   "source": [
    "!rm -rf ../results/lstmtrain2"
   ]
  },
  {
   "cell_type": "code",
   "execution_count": 14,
   "metadata": {},
   "outputs": [],
   "source": [
    "# create the results directory\n",
    "try:\n",
    "    os.mkdir('../results/lstmtrain2/')\n",
    "except FileExistsError:\n",
    "    files = os.listdir('../results/lstmtrain2/')\n",
    "    for f in files:\n",
    "        os.remove('../results/lstmtrain2/' + f)\n",
    "        \n",
    "os.mkdir('../results/lstmtrain2/loginfo')"
   ]
  },
  {
   "cell_type": "code",
   "execution_count": 15,
   "metadata": {},
   "outputs": [],
   "source": [
    "try:\n",
    "    del model\n",
    "except NameError:\n",
    "    pass\n",
    "\n",
    "K.clear_session()"
   ]
  },
  {
   "cell_type": "code",
   "execution_count": 16,
   "metadata": {},
   "outputs": [],
   "source": [
    "#Instantiate learner model\n",
    "model = mp.lstm_model('../results/lstmtrain2/',\n",
    "                      inputdim=X_train.shape[-1],\n",
    "                      outputdim=1,\n",
    "                      period=1)\n",
    "\n",
    "# Desing model architecture\n",
    "model.design_model(lstmhiddenlayers=[16] * 1,\n",
    "                   densehiddenlayers=[32] * 5,\n",
    "                   dropoutlist=[[], []],\n",
    "                   batchnormalizelist=[[], []])"
   ]
  },
  {
   "cell_type": "code",
   "execution_count": 17,
   "metadata": {
    "scrolled": true
   },
   "outputs": [
    {
     "name": "stdout",
     "output_type": "stream",
     "text": [
      "Model: \"model\"\n",
      "_________________________________________________________________\n",
      "Layer (type)                 Output Shape              Param #   \n",
      "=================================================================\n",
      "input_layer (InputLayer)     [(None, 1, 4)]            0         \n",
      "_________________________________________________________________\n",
      "reshape_layer (Reshape)      (None, 4)                 0         \n",
      "_________________________________________________________________\n",
      "input_repeater (RepeatVector (None, 1, 4)              0         \n",
      "_________________________________________________________________\n",
      "lstm (LSTM)                  (None, 1, 16)             1344      \n",
      "_________________________________________________________________\n",
      "dense (Dense)                (None, 1, 32)             544       \n",
      "_________________________________________________________________\n",
      "dense_1 (Dense)              (None, 1, 32)             1056      \n",
      "_________________________________________________________________\n",
      "dense_2 (Dense)              (None, 1, 32)             1056      \n",
      "_________________________________________________________________\n",
      "dense_3 (Dense)              (None, 1, 32)             1056      \n",
      "_________________________________________________________________\n",
      "dense_4 (Dense)              (None, 1, 32)             1056      \n",
      "_________________________________________________________________\n",
      "dense_5 (Dense)              (None, 1, 1)              33        \n",
      "=================================================================\n",
      "Total params: 6,145\n",
      "Trainable params: 6,145\n",
      "Non-trainable params: 0\n",
      "_________________________________________________________________\n",
      "None\n"
     ]
    }
   ],
   "source": [
    "model.show_model()"
   ]
  },
  {
   "cell_type": "code",
   "execution_count": 18,
   "metadata": {},
   "outputs": [
    {
     "name": "stdout",
     "output_type": "stream",
     "text": [
      "WARNING:tensorflow:`period` argument is deprecated. Please use `save_freq` to specify the frequency in number of samples seen.\n",
      "WARNING:tensorflow:`write_grads` will be ignored in TensorFlow 2.0 for the `TensorBoard` Callback.\n",
      "WARNING:tensorflow:`batch_size` is no longer needed in the `TensorBoard` Callback and will be ignored in TensorFlow 2.0.\n"
     ]
    }
   ],
   "source": [
    "# creating early sstopping, model checkpointing and learning reate changing callbacks\n",
    "model.model_callbacks()"
   ]
  },
  {
   "cell_type": "code",
   "execution_count": 19,
   "metadata": {
    "scrolled": false
   },
   "outputs": [
    {
     "name": "stdout",
     "output_type": "stream",
     "text": [
      "Train on 1511 samples, validate on 504 samples\n",
      "Epoch 1/50\n",
      "1511/1511 - 4s - loss: 1.1378 - val_loss: 0.7971\n",
      "Epoch 2/50\n",
      "WARNING:tensorflow:From /data/nauga/SmartBuildings/venvs/cdctf2gpu/lib/python3.6/site-packages/tensorflow_core/python/ops/resource_variable_ops.py:1786: calling BaseResourceVariable.__init__ (from tensorflow.python.ops.resource_variable_ops) with constraint is deprecated and will be removed in a future version.\n",
      "Instructions for updating:\n",
      "If using Keras pass *_constraint arguments to layers.\n",
      "INFO:tensorflow:Assets written to: ../results/lstmtrain2/LSTM_model_02_0.45/assets\n",
      "1511/1511 - 6s - loss: 0.6181 - val_loss: 0.4454\n",
      "Epoch 3/50\n",
      "1511/1511 - 1s - loss: 0.3421 - val_loss: 0.2373\n",
      "Epoch 4/50\n",
      "INFO:tensorflow:Assets written to: ../results/lstmtrain2/LSTM_model_04_0.12/assets\n",
      "1511/1511 - 6s - loss: 0.1819 - val_loss: 0.1235\n",
      "Epoch 5/50\n",
      "1511/1511 - 1s - loss: 0.0976 - val_loss: 0.0670\n",
      "Epoch 6/50\n",
      "INFO:tensorflow:Assets written to: ../results/lstmtrain2/LSTM_model_06_0.04/assets\n",
      "1511/1511 - 6s - loss: 0.0568 - val_loss: 0.0406\n",
      "Epoch 7/50\n",
      "1511/1511 - 1s - loss: 0.0369 - val_loss: 0.0273\n",
      "Epoch 8/50\n",
      "INFO:tensorflow:Assets written to: ../results/lstmtrain2/LSTM_model_08_0.02/assets\n",
      "1511/1511 - 5s - loss: 0.0270 - val_loss: 0.0209\n",
      "Epoch 9/50\n",
      "1511/1511 - 1s - loss: 0.0219 - val_loss: 0.0181\n",
      "Epoch 10/50\n",
      "INFO:tensorflow:Assets written to: ../results/lstmtrain2/LSTM_model_10_0.02/assets\n",
      "1511/1511 - 6s - loss: 0.0200 - val_loss: 0.0174\n",
      "Epoch 11/50\n",
      "1511/1511 - 1s - loss: 0.0194 - val_loss: 0.0173\n",
      "Epoch 12/50\n",
      "INFO:tensorflow:Assets written to: ../results/lstmtrain2/LSTM_model_12_0.02/assets\n",
      "1511/1511 - 6s - loss: 0.0191 - val_loss: 0.0172\n",
      "Epoch 13/50\n",
      "1511/1511 - 1s - loss: 0.0190 - val_loss: 0.0171\n",
      "Epoch 14/50\n",
      "INFO:tensorflow:Assets written to: ../results/lstmtrain2/LSTM_model_14_0.02/assets\n",
      "1511/1511 - 6s - loss: 0.0187 - val_loss: 0.0170\n",
      "Epoch 15/50\n",
      "1511/1511 - 1s - loss: 0.0186 - val_loss: 0.0169\n",
      "Epoch 16/50\n",
      "INFO:tensorflow:Assets written to: ../results/lstmtrain2/LSTM_model_16_0.02/assets\n",
      "1511/1511 - 6s - loss: 0.0185 - val_loss: 0.0166\n",
      "Epoch 17/50\n",
      "1511/1511 - 1s - loss: 0.0181 - val_loss: 0.0166\n",
      "Epoch 18/50\n",
      "INFO:tensorflow:Assets written to: ../results/lstmtrain2/LSTM_model_18_0.02/assets\n",
      "1511/1511 - 6s - loss: 0.0182 - val_loss: 0.0166\n",
      "Epoch 19/50\n",
      "1511/1511 - 1s - loss: 0.0150 - val_loss: 0.0134\n",
      "Epoch 20/50\n",
      "INFO:tensorflow:Assets written to: ../results/lstmtrain2/LSTM_model_20_0.01/assets\n",
      "1511/1511 - 6s - loss: 0.0134 - val_loss: 0.0127\n",
      "Epoch 21/50\n",
      "1511/1511 - 1s - loss: 0.0129 - val_loss: 0.0124\n",
      "Epoch 22/50\n",
      "INFO:tensorflow:Assets written to: ../results/lstmtrain2/LSTM_model_22_0.01/assets\n",
      "1511/1511 - 6s - loss: 0.0127 - val_loss: 0.0123\n",
      "Epoch 23/50\n",
      "1511/1511 - 1s - loss: 0.0127 - val_loss: 0.0123\n",
      "Epoch 24/50\n",
      "INFO:tensorflow:Assets written to: ../results/lstmtrain2/LSTM_model_24_0.01/assets\n",
      "1511/1511 - 6s - loss: 0.0126 - val_loss: 0.0123\n",
      "Epoch 25/50\n",
      "1511/1511 - 1s - loss: 0.0126 - val_loss: 0.0123\n",
      "Epoch 26/50\n",
      "INFO:tensorflow:Assets written to: ../results/lstmtrain2/LSTM_model_26_0.01/assets\n",
      "1511/1511 - 6s - loss: 0.0122 - val_loss: 0.0122\n",
      "Epoch 27/50\n",
      "1511/1511 - 1s - loss: 0.0122 - val_loss: 0.0122\n",
      "Epoch 28/50\n",
      "INFO:tensorflow:Assets written to: ../results/lstmtrain2/LSTM_model_28_0.01/assets\n",
      "1511/1511 - 6s - loss: 0.0121 - val_loss: 0.0122\n",
      "Epoch 29/50\n",
      "1511/1511 - 1s - loss: 0.0121 - val_loss: 0.0122\n",
      "Epoch 30/50\n",
      "INFO:tensorflow:Assets written to: ../results/lstmtrain2/LSTM_model_30_0.01/assets\n",
      "1511/1511 - 6s - loss: 0.0121 - val_loss: 0.0121\n",
      "Epoch 31/50\n",
      "1511/1511 - 0s - loss: 0.0121 - val_loss: 0.0121\n",
      "Epoch 32/50\n",
      "INFO:tensorflow:Assets written to: ../results/lstmtrain2/LSTM_model_32_0.01/assets\n",
      "1511/1511 - 5s - loss: 0.0121 - val_loss: 0.0121\n",
      "Epoch 33/50\n",
      "1511/1511 - 1s - loss: 0.0121 - val_loss: 0.0121\n",
      "Epoch 34/50\n",
      "INFO:tensorflow:Assets written to: ../results/lstmtrain2/LSTM_model_34_0.01/assets\n",
      "1511/1511 - 6s - loss: 0.0121 - val_loss: 0.0121\n",
      "Epoch 35/50\n",
      "1511/1511 - 1s - loss: 0.0121 - val_loss: 0.0121\n",
      "Epoch 36/50\n",
      "INFO:tensorflow:Assets written to: ../results/lstmtrain2/LSTM_model_36_0.01/assets\n",
      "1511/1511 - 6s - loss: 0.0121 - val_loss: 0.0121\n",
      "Epoch 37/50\n",
      "1511/1511 - 1s - loss: 0.0121 - val_loss: 0.0121\n",
      "Epoch 38/50\n",
      "INFO:tensorflow:Assets written to: ../results/lstmtrain2/LSTM_model_38_0.01/assets\n",
      "1511/1511 - 6s - loss: 0.0121 - val_loss: 0.0121\n",
      "Epoch 39/50\n",
      "1511/1511 - 1s - loss: 0.0121 - val_loss: 0.0121\n",
      "Epoch 40/50\n",
      "INFO:tensorflow:Assets written to: ../results/lstmtrain2/LSTM_model_40_0.01/assets\n",
      "1511/1511 - 6s - loss: 0.0121 - val_loss: 0.0121\n",
      "Epoch 41/50\n",
      "1511/1511 - 1s - loss: 0.0121 - val_loss: 0.0121\n",
      "Epoch 42/50\n",
      "INFO:tensorflow:Assets written to: ../results/lstmtrain2/LSTM_model_42_0.01/assets\n",
      "1511/1511 - 6s - loss: 0.0121 - val_loss: 0.0121\n",
      "Epoch 43/50\n",
      "1511/1511 - 1s - loss: 0.0121 - val_loss: 0.0121\n",
      "Epoch 44/50\n",
      "1511/1511 - 1s - loss: 0.0121 - val_loss: 0.0121\n",
      "Epoch 45/50\n",
      "1511/1511 - 1s - loss: 0.0121 - val_loss: 0.0121\n",
      "Epoch 46/50\n",
      "INFO:tensorflow:Assets written to: ../results/lstmtrain2/LSTM_model_46_0.01/assets\n",
      "1511/1511 - 6s - loss: 0.0121 - val_loss: 0.0121\n",
      "Epoch 47/50\n",
      "1511/1511 - 1s - loss: 0.0121 - val_loss: 0.0121\n",
      "Epoch 48/50\n",
      "1511/1511 - 1s - loss: 0.0121 - val_loss: 0.0121\n",
      "Epoch 49/50\n",
      "1511/1511 - 1s - loss: 0.0121 - val_loss: 0.0121\n",
      "Epoch 50/50\n",
      "1511/1511 - 1s - loss: 0.0121 - val_loss: 0.0121\n"
     ]
    }
   ],
   "source": [
    "model.train_model(X_train, y_train, X_test, y_test, epochs = 50)"
   ]
  },
  {
   "cell_type": "code",
   "execution_count": 20,
   "metadata": {},
   "outputs": [],
   "source": [
    "preds_train, preds_test = model.evaluate_model(X_train,\n",
    "                                                         y_train,\n",
    "                                                         X_test,\n",
    "                                                         y_test,\n",
    "                                                         y_scaler,\n",
    "                                                         saveplot=True)"
   ]
  },
  {
   "cell_type": "code",
   "execution_count": null,
   "metadata": {
    "scrolled": true
   },
   "outputs": [],
   "source": [
    "dp.dataframeplot(dflist[2], lazy=False, style='-', legend=True)"
   ]
  },
  {
   "cell_type": "code",
   "execution_count": null,
   "metadata": {},
   "outputs": [],
   "source": []
  }
 ],
 "metadata": {
  "kernelspec": {
   "display_name": "cdctf2gpu",
   "language": "python",
   "name": "cdctf2gpu"
  },
  "language_info": {
   "codemirror_mode": {
    "name": "ipython",
    "version": 3
   },
   "file_extension": ".py",
   "mimetype": "text/x-python",
   "name": "python",
   "nbconvert_exporter": "python",
   "pygments_lexer": "ipython3",
   "version": "3.6.9"
  }
 },
 "nbformat": 4,
 "nbformat_minor": 4
}
