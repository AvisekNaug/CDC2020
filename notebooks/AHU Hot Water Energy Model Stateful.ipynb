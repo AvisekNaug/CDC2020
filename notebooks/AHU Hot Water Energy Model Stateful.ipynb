{
 "cells": [
  {
   "cell_type": "markdown",
   "metadata": {},
   "source": [
    "# Modeling Hot Water Energy"
   ]
  },
  {
   "cell_type": "markdown",
   "metadata": {},
   "source": [
    "### Select the parameters for the experiment and log in the experiment folder"
   ]
  },
  {
   "cell_type": "code",
   "execution_count": 1,
   "metadata": {
    "run_control": {
     "marked": true
    }
   },
   "outputs": [],
   "source": [
    "# %%writefile param_sets.json\n",
    "seed_value = 123  # seed for the experiment\n",
    "Trial = 3  # number of the experiment\n",
    "\n",
    "period = 6  # the period to sample the data at. 1 period= 5 minutes\n",
    "\n",
    "inputcols = ['oat', 'orh', 'sat', 'ghi', 'hw_sf', 'hw_st',\n",
    "             'hx_vlv1']  # input predictors\n",
    "outputcols = ['hwe']  # output targets\n",
    "input_timesteps = 1  # number of timesteps for the input sequence\n",
    "output_timesteps = 1  # number of timesteps for the output sequence\n",
    "\n",
    "# Smoothing\n",
    "smooth_data = True  # whetter to smooth the data or not\n",
    "order = 5  # order of the filer\n",
    "T = 300  # sampling_period in seconds\n",
    "fs = 1 / 300  # sample rate, Hz\n",
    "cutoff = 0.0001  # desired cutoff frequency of the filter, Hz\n",
    "\n",
    "# adjust out of phase data\n",
    "adjust_lag = True  # whether to adjust the lag for certain columns\n",
    "lag_columns = outputcols  # choose columns to adjust lag\n",
    "data_lag = -1  # lag by how many periods: negative means shift column upwards\n",
    "\n",
    "# aggregate data based on period\n",
    "aggregate_data = True  # aggregate data or not\n",
    "rolling_sum_target = ['hwe', 'hw_sf']  # create sum aggregate for these columns\n",
    "rolling_mean_target = [\n",
    "    'hw_st', 'hw_rt', 'oat', 'sat', 'orh', 'ghi', 'avg_stpt','hx_vlv1'\n",
    "]  # create mean aggregate for these columns\n",
    "\n",
    "# create temporal batches of data: df2dflist\n",
    "days, hours = 7, 0\n",
    "\n",
    "# Custom way to create Training Data\n",
    "data_weeks = 52  # Create a large initial block 6 months ~ 26 weeks of training and testing data\n",
    "create_lag = 0  # Create further lags in the output\n",
    "scaling = True  # Scale the input and output features\n",
    "feature_range = (0, 1)  # Scaling range\n",
    "reshaping = True  # reshape data according to (batch_size, time_steps, features)\n",
    "\n",
    "# model configuration\n",
    "modelconfig = {\n",
    "    'lstm_hidden_units': 16,\n",
    "    'lstm_no_layers': 4,\n",
    "    'dense_hidden_units': 1,\n",
    "    'dense_no_layers': 0,\n",
    "    'retrain_from_layers': 0,\n",
    "    'stateful': True,\n",
    "    'train_batchsize':data_weeks-1,\n",
    "    'test_batchsize':1, # we are doing online prediction\n",
    "    'train_epochs': 5000,\n",
    "}\n",
    "\n",
    "# wheter doing adaptive for fixed learning\n",
    "adaptive_control = True  # whether we relearn or keep it fixed\n",
    "path = '../results/' + outputcols[0] + '_model{}/'.format(\n",
    "    Trial) + 'adaptive/' * adaptive_control + 'fixed/' * (1 - adaptive_control)\n",
    "#!rm -rf ../results/lstm_hwe_trial8/adaptive\n",
    "\n",
    "#model design considerations\n",
    "modeldesigndone = False  # whether model will be reinitialized\n",
    "initial_epoch = 0  # the start epoch number for the training\n",
    "\n",
    "# These are automatically superseded and ignored if adaptive_control is set to False\n",
    "retain_prev_model = False  # retain weights of model from previous training\n",
    "freeze_model = False  # freeze weights of certain layers\n",
    "reinitialize = False  # reinitialize the weights of certain layers\n",
    "model_saved = False  # whether model has been saved once\n",
    "test_model_created = False  # create an idectical model for inline predicton\n",
    "\n",
    "# data used for learning the model\n",
    "datapath = '../data/processed/interpolated/buildingdata_interpolated.pkl'"
   ]
  },
  {
   "cell_type": "markdown",
   "metadata": {},
   "source": [
    "### Set Seed in numpy, Keras and TF for reproducability\n",
    "### Import modules\n",
    "### Set GPU configurations"
   ]
  },
  {
   "cell_type": "code",
   "execution_count": 2,
   "metadata": {
    "run_control": {
     "marked": true
    }
   },
   "outputs": [],
   "source": [
    "import shutil\n",
    "import os\n",
    "# 1. Set the `PYTHONHASHSEED` environment variable at a fixed value\n",
    "os.environ['PYTHONHASHSEED']=str(seed_value)\n",
    "\n",
    "# 2. Set the `python` built-in pseudo-random generator at a fixed value\n",
    "import random\n",
    "random.seed(seed_value)\n",
    "\n",
    "# 3. Set the `numpy` pseudo-random generator at a fixed value\n",
    "import numpy as np\n",
    "np.random.seed(seed_value)\n",
    "\n",
    "# Enable '0' or disable '-1' GPU use\n",
    "os.environ['CUDA_VISIBLE_DEVICES'] = '-1'\n",
    "\n",
    "# including the project directory to the notebook level\n",
    "import sys\n",
    "module_path = os.path.abspath(os.path.join('..'))\n",
    "if module_path not in sys.path:\n",
    "    sys.path.append(module_path)\n",
    "\n",
    "import json\n",
    "from tqdm import tqdm\n",
    "import parse\n",
    "import warnings\n",
    "from matplotlib.dates import date2num"
   ]
  },
  {
   "cell_type": "code",
   "execution_count": 3,
   "metadata": {
    "run_control": {
     "marked": true
    }
   },
   "outputs": [
    {
     "name": "stderr",
     "output_type": "stream",
     "text": [
      "Using TensorFlow backend.\n"
     ]
    }
   ],
   "source": [
    "with warnings.catch_warnings():\n",
    "    warnings.filterwarnings(\"ignore\", category=FutureWarning)\n",
    "    \n",
    "    # 4. Set the `tensorflow` pseudo-random generator at a fixed value\n",
    "    import tensorflow as tf\n",
    "    #tf.random.set_seed(seed_value)\n",
    "    # for later versions: \n",
    "    tf.compat.v1.set_random_seed(seed_value)\n",
    "    config = tf.ConfigProto(log_device_placement=False)\n",
    "    config.gpu_options.allow_growth = True\n",
    "    session = tf.Session(config=config)\n",
    "    \n",
    "    from keras import backend as K\n",
    "    from nn_source import models as mp\n",
    "\n",
    "from dataprocess import dataprocessor as dp\n",
    "from dataprocess import plotutils as pu"
   ]
  },
  {
   "cell_type": "code",
   "execution_count": null,
   "metadata": {
    "run_control": {
     "marked": false
    }
   },
   "outputs": [],
   "source": [
    "# %load_ext tensorboard\n",
    "# %tensorboard --logdir '../results/lstm_hwe_trial1/loginfo/' --port 8200"
   ]
  },
  {
   "cell_type": "markdown",
   "metadata": {},
   "source": [
    "### Create Folder to save models and tensorboard logs"
   ]
  },
  {
   "cell_type": "code",
   "execution_count": 4,
   "metadata": {
    "run_control": {
     "marked": true
    }
   },
   "outputs": [],
   "source": [
    "# create the results directory\n",
    "try:\n",
    "    os.makedirs(path)\n",
    "except FileExistsError:\n",
    "    files = os.listdir(path)\n",
    "    for f in files:\n",
    "        try:\n",
    "            shutil.rmtree(path + f)\n",
    "        except NotADirectoryError:\n",
    "            os.remove(path + f)\n",
    "        \n",
    "os.mkdir(path + 'loginfo')"
   ]
  },
  {
   "cell_type": "markdown",
   "metadata": {},
   "source": [
    "### Save the experiment parameters and configurations"
   ]
  },
  {
   "cell_type": "code",
   "execution_count": 5,
   "metadata": {
    "run_control": {
     "marked": true
    }
   },
   "outputs": [],
   "source": [
    "#save the values\n",
    "paramsdict = {\n",
    "    \n",
    "    'seed_value' : seed_value,\n",
    "    \n",
    "    'period':period,\n",
    "    \n",
    "    'inputcols':inputcols,\n",
    "    'outputcols':outputcols,\n",
    "    'input_timesteps':input_timesteps,\n",
    "    'output_timesteps':output_timesteps,\n",
    "    \n",
    "    'smooth_data': smooth_data,\n",
    "    'order' : 5,\n",
    "    'T' : T,\n",
    "    'fs' : fs,\n",
    "    'cutoff' : cutoff,\n",
    "    \n",
    "    'adjust_lag' : adjust_lag,\n",
    "    'lag_columns' : lag_columns,\n",
    "    'data_lag' : data_lag,\n",
    "    \n",
    "    'aggregate_data' : aggregate_data,\n",
    "    'rolling_sum_target' : rolling_sum_target,\n",
    "    'rolling_mean_target' : rolling_mean_target,\n",
    "    \n",
    "    'days':days,\n",
    "    'hours':hours,\n",
    "    \n",
    "    'data_weeks' : data_weeks,\n",
    "    'create_lag' : create_lag,\n",
    "    'scaling' : scaling,\n",
    "    'feature_range' : feature_range,\n",
    "    'reshaping' : reshaping,\n",
    "    \n",
    "    'modelconfig' : modelconfig,\n",
    "    \n",
    "    'adaptive_control':adaptive_control,\n",
    "    'path':path,\n",
    "    \n",
    "    'modeldesigndone' : modeldesigndone,\n",
    "    'initial_epoch' : initial_epoch,\n",
    "    \n",
    "    'retain_prev_model' : retain_prev_model,\n",
    "    'freeze_model' : freeze_model,\n",
    "    'reinitialize' : reinitialize,\n",
    "    'model_saved' : model_saved,\n",
    "    'test_model_created': test_model_created,\n",
    "    \n",
    "    'datapath' : datapath,\n",
    "    \n",
    "    \n",
    "}\n",
    "    \n",
    "# with open(path+'params.json', 'r') as fp:\n",
    "#     param2dict = json.load(fp)\n",
    "\n",
    "with open(path+'params.json', 'w') as fp:\n",
    "    json.dump(paramsdict, fp, indent=4)"
   ]
  },
  {
   "cell_type": "markdown",
   "metadata": {},
   "source": [
    "### Read the cleaned data"
   ]
  },
  {
   "cell_type": "code",
   "execution_count": 6,
   "metadata": {
    "run_control": {
     "marked": true
    }
   },
   "outputs": [
    {
     "data": {
      "text/html": [
       "<div>\n",
       "<style scoped>\n",
       "    .dataframe tbody tr th:only-of-type {\n",
       "        vertical-align: middle;\n",
       "    }\n",
       "\n",
       "    .dataframe tbody tr th {\n",
       "        vertical-align: top;\n",
       "    }\n",
       "\n",
       "    .dataframe thead th {\n",
       "        text-align: right;\n",
       "    }\n",
       "</style>\n",
       "<table border=\"1\" class=\"dataframe\">\n",
       "  <thead>\n",
       "    <tr style=\"text-align: right;\">\n",
       "      <th></th>\n",
       "      <th>oat</th>\n",
       "      <th>sat</th>\n",
       "      <th>orh</th>\n",
       "      <th>hwe</th>\n",
       "      <th>cwe</th>\n",
       "      <th>ghi</th>\n",
       "      <th>avg_stpt</th>\n",
       "      <th>flow</th>\n",
       "      <th>hw_sf</th>\n",
       "      <th>hw_st</th>\n",
       "      <th>hw_rt</th>\n",
       "      <th>hx_vlv1</th>\n",
       "    </tr>\n",
       "    <tr>\n",
       "      <th>Time</th>\n",
       "      <th></th>\n",
       "      <th></th>\n",
       "      <th></th>\n",
       "      <th></th>\n",
       "      <th></th>\n",
       "      <th></th>\n",
       "      <th></th>\n",
       "      <th></th>\n",
       "      <th></th>\n",
       "      <th></th>\n",
       "      <th></th>\n",
       "      <th></th>\n",
       "    </tr>\n",
       "  </thead>\n",
       "  <tbody>\n",
       "    <tr>\n",
       "      <th>2018-07-13 07:50:00</th>\n",
       "      <td>80.913567</td>\n",
       "      <td>79.320808</td>\n",
       "      <td>82.0</td>\n",
       "      <td>0.0</td>\n",
       "      <td>32.546185</td>\n",
       "      <td>562.0</td>\n",
       "      <td>69.52381</td>\n",
       "      <td>39.534317</td>\n",
       "      <td>0.0</td>\n",
       "      <td>94.427994</td>\n",
       "      <td>89.589584</td>\n",
       "      <td>0.276543</td>\n",
       "    </tr>\n",
       "    <tr>\n",
       "      <th>2018-07-13 07:55:00</th>\n",
       "      <td>80.913567</td>\n",
       "      <td>79.023285</td>\n",
       "      <td>82.0</td>\n",
       "      <td>0.0</td>\n",
       "      <td>29.293947</td>\n",
       "      <td>580.0</td>\n",
       "      <td>69.52381</td>\n",
       "      <td>39.809956</td>\n",
       "      <td>0.0</td>\n",
       "      <td>94.125771</td>\n",
       "      <td>89.589584</td>\n",
       "      <td>0.276543</td>\n",
       "    </tr>\n",
       "    <tr>\n",
       "      <th>2018-07-13 08:00:00</th>\n",
       "      <td>80.615402</td>\n",
       "      <td>79.023285</td>\n",
       "      <td>82.0</td>\n",
       "      <td>0.0</td>\n",
       "      <td>30.685425</td>\n",
       "      <td>597.0</td>\n",
       "      <td>69.52381</td>\n",
       "      <td>39.174774</td>\n",
       "      <td>0.0</td>\n",
       "      <td>94.125771</td>\n",
       "      <td>89.589584</td>\n",
       "      <td>0.276543</td>\n",
       "    </tr>\n",
       "    <tr>\n",
       "      <th>2018-07-13 08:05:00</th>\n",
       "      <td>80.303123</td>\n",
       "      <td>79.023285</td>\n",
       "      <td>82.0</td>\n",
       "      <td>0.0</td>\n",
       "      <td>30.074446</td>\n",
       "      <td>614.0</td>\n",
       "      <td>69.52381</td>\n",
       "      <td>35.745533</td>\n",
       "      <td>0.0</td>\n",
       "      <td>93.816162</td>\n",
       "      <td>89.229790</td>\n",
       "      <td>0.276543</td>\n",
       "    </tr>\n",
       "    <tr>\n",
       "      <th>2018-07-13 08:10:00</th>\n",
       "      <td>80.303123</td>\n",
       "      <td>79.023285</td>\n",
       "      <td>79.0</td>\n",
       "      <td>0.0</td>\n",
       "      <td>29.646845</td>\n",
       "      <td>625.0</td>\n",
       "      <td>69.52381</td>\n",
       "      <td>34.858036</td>\n",
       "      <td>0.0</td>\n",
       "      <td>93.816162</td>\n",
       "      <td>89.229790</td>\n",
       "      <td>0.276543</td>\n",
       "    </tr>\n",
       "  </tbody>\n",
       "</table>\n",
       "</div>"
      ],
      "text/plain": [
       "                           oat        sat   orh  hwe        cwe    ghi  \\\n",
       "Time                                                                     \n",
       "2018-07-13 07:50:00  80.913567  79.320808  82.0  0.0  32.546185  562.0   \n",
       "2018-07-13 07:55:00  80.913567  79.023285  82.0  0.0  29.293947  580.0   \n",
       "2018-07-13 08:00:00  80.615402  79.023285  82.0  0.0  30.685425  597.0   \n",
       "2018-07-13 08:05:00  80.303123  79.023285  82.0  0.0  30.074446  614.0   \n",
       "2018-07-13 08:10:00  80.303123  79.023285  79.0  0.0  29.646845  625.0   \n",
       "\n",
       "                     avg_stpt       flow  hw_sf      hw_st      hw_rt  \\\n",
       "Time                                                                    \n",
       "2018-07-13 07:50:00  69.52381  39.534317    0.0  94.427994  89.589584   \n",
       "2018-07-13 07:55:00  69.52381  39.809956    0.0  94.125771  89.589584   \n",
       "2018-07-13 08:00:00  69.52381  39.174774    0.0  94.125771  89.589584   \n",
       "2018-07-13 08:05:00  69.52381  35.745533    0.0  93.816162  89.229790   \n",
       "2018-07-13 08:10:00  69.52381  34.858036    0.0  93.816162  89.229790   \n",
       "\n",
       "                      hx_vlv1  \n",
       "Time                           \n",
       "2018-07-13 07:50:00  0.276543  \n",
       "2018-07-13 07:55:00  0.276543  \n",
       "2018-07-13 08:00:00  0.276543  \n",
       "2018-07-13 08:05:00  0.276543  \n",
       "2018-07-13 08:10:00  0.276543  "
      ]
     },
     "execution_count": 6,
     "metadata": {},
     "output_type": "execute_result"
    }
   ],
   "source": [
    "# read the pickled file for ahu data\n",
    "dfdata = dp.readfile(datapath)\n",
    "\n",
    "# return pickled df\n",
    "df = dfdata.return_df(processmethods=['file2df'])\n",
    "\n",
    "# show data\n",
    "df.head()"
   ]
  },
  {
   "cell_type": "markdown",
   "metadata": {},
   "source": [
    "### Smooth the data"
   ]
  },
  {
   "cell_type": "code",
   "execution_count": 7,
   "metadata": {
    "run_control": {
     "marked": true
    }
   },
   "outputs": [],
   "source": [
    "if smooth_data:\n",
    "    df = dp.dfsmoothing(df=df,\n",
    "                        column_names=list(df.columns),\n",
    "                        order=order,\n",
    "                        Wn=cutoff,\n",
    "                        T=T)"
   ]
  },
  {
   "cell_type": "markdown",
   "metadata": {},
   "source": [
    "### Adjust lag for certain columns if needed"
   ]
  },
  {
   "cell_type": "code",
   "execution_count": 8,
   "metadata": {
    "run_control": {
     "marked": true
    }
   },
   "outputs": [],
   "source": [
    "if adjust_lag:\n",
    "    df = dp.createlag(df, lag_columns, lag=data_lag)"
   ]
  },
  {
   "cell_type": "markdown",
   "metadata": {},
   "source": [
    "### Create aggregate data: aggregate specified columns at specified intervals"
   ]
  },
  {
   "cell_type": "code",
   "execution_count": 9,
   "metadata": {
    "run_control": {
     "marked": true
    }
   },
   "outputs": [],
   "source": [
    "# return a new column which is the sum of previous window_size values\n",
    "def window_sum(df_, window_size: int, column_names: list):\n",
    "    return df_[column_names].rolling(window=window_size, min_periods=window_size).sum()\n",
    "\n",
    "# return a new column which is the average of previous window_size values\n",
    "def window_mean(df_, window_size: int, column_names: list):\n",
    "    return df_[column_names].rolling(window=window_size, min_periods=window_size).mean()\n",
    "\n",
    "# rolling_sum_output = ['{}min_{}_sum'.format(5*period,target) for target in rolling_sum_target]\n",
    "# rolling_mean_output = ['{}min_{}_mean'.format(5*period,target) for target in rolling_mean_target]\n",
    "\n",
    "if aggregate_data:\n",
    "    \n",
    "    # rolling sum\n",
    "    df[rolling_sum_target] =  window_sum(df, window_size=period, column_names=rolling_sum_target)\n",
    "    \n",
    "    # rolling mean\n",
    "    df[rolling_mean_target] =  window_mean(df, window_size=period, column_names=rolling_mean_target)\n",
    "    \n",
    "    df = dp.dropNaNrows(df)\n",
    "    \n",
    "    # Sample the data at period intervals\n",
    "    df = dp.sample_timeseries_df(df, period=period)"
   ]
  },
  {
   "cell_type": "markdown",
   "metadata": {},
   "source": [
    "### Create temporal chunks of data"
   ]
  },
  {
   "cell_type": "code",
   "execution_count": 10,
   "metadata": {
    "run_control": {
     "marked": true
    }
   },
   "outputs": [
    {
     "name": "stdout",
     "output_type": "stream",
     "text": [
      "Length of dflist: 82\n"
     ]
    }
   ],
   "source": [
    "# Creating a list of \"days\" day dataframes for training\n",
    "dflist = dp.df2dflist_alt(df[inputcols+outputcols],\n",
    "                      subsequence=True,\n",
    "                      period=period,\n",
    "                      days=days,\n",
    "                      hours=hours)\n",
    "print('Length of dflist: {}'.format(len(dflist)))"
   ]
  },
  {
   "cell_type": "markdown",
   "metadata": {},
   "source": [
    "### Custom way to create Training Data"
   ]
  },
  {
   "cell_type": "code",
   "execution_count": 11,
   "metadata": {
    "run_control": {
     "marked": true
    }
   },
   "outputs": [],
   "source": [
    "# Since we are training across time, we need to ensure the input and output time steps are now 1\n",
    "# otherwise the rearrangment of the data for batch speedup will be violated\n",
    "assert (input_timesteps == 1) & (\n",
    "    output_timesteps == 1), \"Input and Output timesteps must be 1 for this notebook\""
   ]
  },
  {
   "cell_type": "markdown",
   "metadata": {},
   "source": [
    "#### Create placeholder and functions"
   ]
  },
  {
   "cell_type": "code",
   "execution_count": 12,
   "metadata": {
    "run_control": {
     "marked": true
    }
   },
   "outputs": [],
   "source": [
    "from pandas import concat, Timedelta\n",
    "\n",
    "\n",
    "def quickmerge(listdf):\n",
    "    return concat(listdf)\n",
    "\n",
    "\n",
    "def df_list_reshape(datablock_df):\n",
    "    new_df_list = []\n",
    "    for i in range(int(10080 / (5 * period))):\n",
    "        new_df_list.append(\n",
    "            datablock_df[(datablock_df.index - datablock_df.index[i]) %\n",
    "                         Timedelta('7 days') == '0 days 00:00:00'])\n",
    "    return new_df_list\n",
    "\n",
    "weeklist = []  # create list of training, testing arrays"
   ]
  },
  {
   "cell_type": "markdown",
   "metadata": {},
   "source": [
    "#### Initial Data Block for offline training"
   ]
  },
  {
   "cell_type": "code",
   "execution_count": 13,
   "metadata": {
    "run_control": {
     "marked": true
    }
   },
   "outputs": [],
   "source": [
    "datablock_pre = dflist[0:data_weeks-1]\n",
    "datablock_train = quickmerge(datablock_pre)\n",
    "datablock_train = quickmerge(df_list_reshape(datablock_train))\n",
    "datablock_test = dflist[data_weeks-1]\n",
    "data_block = quickmerge([datablock_train, datablock_test])\n",
    "splitvalue = 336   # (data_weeks - 1) / data_weeks  # One week for training\n",
    "\n",
    "\n",
    "X_train, X_test, y_train, y_test, X_scaler, y_scaler = dp.df2arrays(\n",
    "        data_block,\n",
    "        predictorcols=inputcols,\n",
    "        outputcols=outputcols,\n",
    "        scaling=scaling,\n",
    "        feature_range=feature_range,\n",
    "        reshaping=reshaping,\n",
    "        lag=create_lag,\n",
    "        split=splitvalue,\n",
    "    input_timesteps=input_timesteps,\n",
    "    output_timesteps = output_timesteps\n",
    "    )\n",
    "\n",
    "idx_end = -max(X_test.shape[1],y_test.shape[1])\n",
    "idx_start = idx_end - X_test.shape[0] + 1\n",
    "test_idx = data_block.index[[i for i in range(idx_start, idx_end+1, 1)]]\n",
    "\n",
    "weeklist.append({\n",
    "        'Id':'Year-{}-Week-{}'.format(str(datablock_test.index[0].year), \n",
    "                                      str(datablock_test.index[0].week)),\n",
    "        'X_train':X_train,\n",
    "        'y_train': y_train,\n",
    "        'X_test': X_test,\n",
    "        'y_test': y_test,\n",
    "        'y_scaler':y_scaler,\n",
    "        'X_scaler':X_scaler,\n",
    "        'test_idx':test_idx,\n",
    "    })"
   ]
  },
  {
   "cell_type": "markdown",
   "metadata": {},
   "source": [
    "#### Create small blocks of data for weekly training"
   ]
  },
  {
   "cell_type": "code",
   "execution_count": 14,
   "metadata": {
    "run_control": {
     "marked": true
    }
   },
   "outputs": [
    {
     "name": "stdout",
     "output_type": "stream",
     "text": [
      "Length of weeklist: 31\n"
     ]
    }
   ],
   "source": [
    "for weekdata in dflist[data_weeks:]:\n",
    "    \n",
    "    datablock_pre = datablock_pre[1:]+[datablock_test]\n",
    "    datablock_train = quickmerge(datablock_pre)\n",
    "    datablock_train = quickmerge(df_list_reshape(datablock_train))\n",
    "    datablock_test = weekdata\n",
    "    data_block = quickmerge([datablock_train, datablock_test])\n",
    "    splitvalue = 336   # (data_weeks - 1) / data_weeks  # One week for training\n",
    "    \n",
    "    # and add new week data from weekdata\n",
    "    X_train, X_test, y_train, y_test, X_scaler, y_scaler = dp.df2arrays(\n",
    "        data_block,\n",
    "        predictorcols=inputcols,\n",
    "        outputcols=outputcols,\n",
    "        scaling=scaling,\n",
    "        feature_range=feature_range,\n",
    "        reshaping=reshaping,\n",
    "        lag=create_lag,\n",
    "        split=splitvalue,\n",
    "    input_timesteps=input_timesteps,\n",
    "    output_timesteps = output_timesteps\n",
    "    )\n",
    "\n",
    "    idx_end = -max(X_test.shape[1],y_test.shape[1])\n",
    "    idx_start = idx_end - X_test.shape[0] + 1\n",
    "    test_idx = data_block.index[[i for i in range(idx_start,idx_end+1,1)]]\n",
    "\n",
    "    weeklist.append({\n",
    "        'Id':'Year-{}-Week-{}'.format(str(datablock_test.index[-1].year), \n",
    "                                      str(datablock_test.index[-1].week)),\n",
    "        'X_train':X_train,\n",
    "        'y_train': y_train,\n",
    "        'X_test': X_test,\n",
    "        'y_test': y_test,\n",
    "        'y_scaler':y_scaler,\n",
    "        'X_scaler':X_scaler,\n",
    "        'test_idx':test_idx,\n",
    "    })\n",
    "    \n",
    "print('Length of weeklist: {}'.format(len(weeklist)))"
   ]
  },
  {
   "cell_type": "markdown",
   "metadata": {},
   "source": [
    "#### Print size and shape of data to feed to the LSTM for sanity checks"
   ]
  },
  {
   "cell_type": "code",
   "execution_count": 15,
   "metadata": {
    "run_control": {
     "marked": true
    }
   },
   "outputs": [
    {
     "name": "stdout",
     "output_type": "stream",
     "text": [
      "name: Id, shape: Year-2019-Week-27\n",
      "name: X_train, shape: (17136, 1, 7)\n",
      "name: y_train, shape: (17136, 1, 1)\n",
      "name: X_test, shape: (336, 1, 7)\n",
      "name: y_test, shape: (336, 1, 1)\n",
      "name: test_idx, shape: (336,)\n",
      "name: Id, shape: Year-2019-Week-29\n",
      "name: X_train, shape: (17136, 1, 7)\n",
      "name: y_train, shape: (17136, 1, 1)\n",
      "name: X_test, shape: (336, 1, 7)\n",
      "name: y_test, shape: (336, 1, 1)\n",
      "name: test_idx, shape: (336,)\n",
      "name: Id, shape: Year-2019-Week-30\n",
      "name: X_train, shape: (17136, 1, 7)\n",
      "name: y_train, shape: (17136, 1, 1)\n",
      "name: X_test, shape: (336, 1, 7)\n",
      "name: y_test, shape: (336, 1, 1)\n",
      "name: test_idx, shape: (336,)\n",
      "name: Id, shape: Year-2019-Week-31\n",
      "name: X_train, shape: (17136, 1, 7)\n",
      "name: y_train, shape: (17136, 1, 1)\n",
      "name: X_test, shape: (336, 1, 7)\n",
      "name: y_test, shape: (336, 1, 1)\n",
      "name: test_idx, shape: (336,)\n",
      "name: Id, shape: Year-2019-Week-32\n",
      "name: X_train, shape: (17136, 1, 7)\n",
      "name: y_train, shape: (17136, 1, 1)\n",
      "name: X_test, shape: (336, 1, 7)\n",
      "name: y_test, shape: (336, 1, 1)\n",
      "name: test_idx, shape: (336,)\n",
      "name: Id, shape: Year-2019-Week-33\n",
      "name: X_train, shape: (17136, 1, 7)\n",
      "name: y_train, shape: (17136, 1, 1)\n",
      "name: X_test, shape: (336, 1, 7)\n",
      "name: y_test, shape: (336, 1, 1)\n",
      "name: test_idx, shape: (336,)\n",
      "name: Id, shape: Year-2019-Week-34\n",
      "name: X_train, shape: (17136, 1, 7)\n",
      "name: y_train, shape: (17136, 1, 1)\n",
      "name: X_test, shape: (336, 1, 7)\n",
      "name: y_test, shape: (336, 1, 1)\n",
      "name: test_idx, shape: (336,)\n",
      "name: Id, shape: Year-2019-Week-35\n",
      "name: X_train, shape: (17136, 1, 7)\n",
      "name: y_train, shape: (17136, 1, 1)\n",
      "name: X_test, shape: (336, 1, 7)\n",
      "name: y_test, shape: (336, 1, 1)\n",
      "name: test_idx, shape: (336,)\n",
      "name: Id, shape: Year-2019-Week-36\n",
      "name: X_train, shape: (17136, 1, 7)\n",
      "name: y_train, shape: (17136, 1, 1)\n",
      "name: X_test, shape: (336, 1, 7)\n",
      "name: y_test, shape: (336, 1, 1)\n",
      "name: test_idx, shape: (336,)\n",
      "name: Id, shape: Year-2019-Week-37\n",
      "name: X_train, shape: (17136, 1, 7)\n",
      "name: y_train, shape: (17136, 1, 1)\n",
      "name: X_test, shape: (336, 1, 7)\n",
      "name: y_test, shape: (336, 1, 1)\n",
      "name: test_idx, shape: (336,)\n",
      "name: Id, shape: Year-2019-Week-38\n",
      "name: X_train, shape: (17136, 1, 7)\n",
      "name: y_train, shape: (17136, 1, 1)\n",
      "name: X_test, shape: (336, 1, 7)\n",
      "name: y_test, shape: (336, 1, 1)\n",
      "name: test_idx, shape: (336,)\n",
      "name: Id, shape: Year-2019-Week-39\n",
      "name: X_train, shape: (17136, 1, 7)\n",
      "name: y_train, shape: (17136, 1, 1)\n",
      "name: X_test, shape: (336, 1, 7)\n",
      "name: y_test, shape: (336, 1, 1)\n",
      "name: test_idx, shape: (336,)\n",
      "name: Id, shape: Year-2019-Week-40\n",
      "name: X_train, shape: (17136, 1, 7)\n",
      "name: y_train, shape: (17136, 1, 1)\n",
      "name: X_test, shape: (336, 1, 7)\n",
      "name: y_test, shape: (336, 1, 1)\n",
      "name: test_idx, shape: (336,)\n",
      "name: Id, shape: Year-2019-Week-41\n",
      "name: X_train, shape: (17136, 1, 7)\n",
      "name: y_train, shape: (17136, 1, 1)\n",
      "name: X_test, shape: (336, 1, 7)\n",
      "name: y_test, shape: (336, 1, 1)\n",
      "name: test_idx, shape: (336,)\n",
      "name: Id, shape: Year-2019-Week-42\n",
      "name: X_train, shape: (17136, 1, 7)\n",
      "name: y_train, shape: (17136, 1, 1)\n",
      "name: X_test, shape: (336, 1, 7)\n",
      "name: y_test, shape: (336, 1, 1)\n",
      "name: test_idx, shape: (336,)\n",
      "name: Id, shape: Year-2019-Week-43\n",
      "name: X_train, shape: (17136, 1, 7)\n",
      "name: y_train, shape: (17136, 1, 1)\n",
      "name: X_test, shape: (336, 1, 7)\n",
      "name: y_test, shape: (336, 1, 1)\n",
      "name: test_idx, shape: (336,)\n",
      "name: Id, shape: Year-2019-Week-44\n",
      "name: X_train, shape: (17136, 1, 7)\n",
      "name: y_train, shape: (17136, 1, 1)\n",
      "name: X_test, shape: (336, 1, 7)\n",
      "name: y_test, shape: (336, 1, 1)\n",
      "name: test_idx, shape: (336,)\n",
      "name: Id, shape: Year-2019-Week-45\n",
      "name: X_train, shape: (17136, 1, 7)\n",
      "name: y_train, shape: (17136, 1, 1)\n",
      "name: X_test, shape: (336, 1, 7)\n",
      "name: y_test, shape: (336, 1, 1)\n",
      "name: test_idx, shape: (336,)\n",
      "name: Id, shape: Year-2019-Week-46\n",
      "name: X_train, shape: (17136, 1, 7)\n",
      "name: y_train, shape: (17136, 1, 1)\n",
      "name: X_test, shape: (336, 1, 7)\n",
      "name: y_test, shape: (336, 1, 1)\n",
      "name: test_idx, shape: (336,)\n",
      "name: Id, shape: Year-2019-Week-47\n",
      "name: X_train, shape: (17136, 1, 7)\n",
      "name: y_train, shape: (17136, 1, 1)\n",
      "name: X_test, shape: (336, 1, 7)\n",
      "name: y_test, shape: (336, 1, 1)\n",
      "name: test_idx, shape: (336,)\n",
      "name: Id, shape: Year-2019-Week-48\n",
      "name: X_train, shape: (17136, 1, 7)\n",
      "name: y_train, shape: (17136, 1, 1)\n",
      "name: X_test, shape: (336, 1, 7)\n",
      "name: y_test, shape: (336, 1, 1)\n",
      "name: test_idx, shape: (336,)\n",
      "name: Id, shape: Year-2019-Week-49\n",
      "name: X_train, shape: (17136, 1, 7)\n",
      "name: y_train, shape: (17136, 1, 1)\n",
      "name: X_test, shape: (336, 1, 7)\n",
      "name: y_test, shape: (336, 1, 1)\n",
      "name: test_idx, shape: (336,)\n",
      "name: Id, shape: Year-2019-Week-50\n",
      "name: X_train, shape: (17136, 1, 7)\n",
      "name: y_train, shape: (17136, 1, 1)\n",
      "name: X_test, shape: (336, 1, 7)\n",
      "name: y_test, shape: (336, 1, 1)\n",
      "name: test_idx, shape: (336,)\n",
      "name: Id, shape: Year-2019-Week-51\n",
      "name: X_train, shape: (17136, 1, 7)\n",
      "name: y_train, shape: (17136, 1, 1)\n",
      "name: X_test, shape: (336, 1, 7)\n",
      "name: y_test, shape: (336, 1, 1)\n",
      "name: test_idx, shape: (336,)\n",
      "name: Id, shape: Year-2019-Week-52\n",
      "name: X_train, shape: (17136, 1, 7)\n",
      "name: y_train, shape: (17136, 1, 1)\n",
      "name: X_test, shape: (336, 1, 7)\n",
      "name: y_test, shape: (336, 1, 1)\n",
      "name: test_idx, shape: (336,)\n",
      "name: Id, shape: Year-2020-Week-1\n",
      "name: X_train, shape: (17136, 1, 7)\n",
      "name: y_train, shape: (17136, 1, 1)\n",
      "name: X_test, shape: (336, 1, 7)\n",
      "name: y_test, shape: (336, 1, 1)\n",
      "name: test_idx, shape: (336,)\n",
      "name: Id, shape: Year-2020-Week-2\n",
      "name: X_train, shape: (17136, 1, 7)\n",
      "name: y_train, shape: (17136, 1, 1)\n",
      "name: X_test, shape: (336, 1, 7)\n",
      "name: y_test, shape: (336, 1, 1)\n",
      "name: test_idx, shape: (336,)\n",
      "name: Id, shape: Year-2020-Week-3\n",
      "name: X_train, shape: (17136, 1, 7)\n",
      "name: y_train, shape: (17136, 1, 1)\n",
      "name: X_test, shape: (336, 1, 7)\n",
      "name: y_test, shape: (336, 1, 1)\n",
      "name: test_idx, shape: (336,)\n",
      "name: Id, shape: Year-2020-Week-4\n",
      "name: X_train, shape: (17136, 1, 7)\n",
      "name: y_train, shape: (17136, 1, 1)\n",
      "name: X_test, shape: (336, 1, 7)\n",
      "name: y_test, shape: (336, 1, 1)\n",
      "name: test_idx, shape: (336,)\n",
      "name: Id, shape: Year-2020-Week-5\n",
      "name: X_train, shape: (17136, 1, 7)\n",
      "name: y_train, shape: (17136, 1, 1)\n",
      "name: X_test, shape: (336, 1, 7)\n",
      "name: y_test, shape: (336, 1, 1)\n",
      "name: test_idx, shape: (336,)\n",
      "name: Id, shape: Year-2020-Week-6\n",
      "name: X_train, shape: (17136, 1, 7)\n",
      "name: y_train, shape: (17136, 1, 1)\n",
      "name: X_test, shape: (336, 1, 7)\n",
      "name: y_test, shape: (336, 1, 1)\n",
      "name: test_idx, shape: (336,)\n"
     ]
    }
   ],
   "source": [
    "for week in weeklist:\n",
    "    for key,value in week.items():\n",
    "        if (key != 'y_scaler') & (key != 'X_scaler') :\n",
    "            print(\"name: {}, shape: {}\".format(key, value.shape if not isinstance(value,str) else value))"
   ]
  },
  {
   "cell_type": "markdown",
   "metadata": {},
   "source": [
    "#### Add weekly train test data to modelconfig dictionary for ease of training"
   ]
  },
  {
   "cell_type": "code",
   "execution_count": 16,
   "metadata": {
    "run_control": {
     "marked": true
    }
   },
   "outputs": [],
   "source": [
    "modelconfig['weeklist'] = weeklist"
   ]
  },
  {
   "cell_type": "markdown",
   "metadata": {},
   "source": [
    "###  Clear the Tensorflow graph from previous training"
   ]
  },
  {
   "cell_type": "code",
   "execution_count": 17,
   "metadata": {
    "run_control": {
     "marked": true
    }
   },
   "outputs": [
    {
     "name": "stdout",
     "output_type": "stream",
     "text": [
      "WARNING:tensorflow:From /data/nauga/SmartBuildings/venvs/sbvenv1/lib/python3.6/site-packages/keras/backend/tensorflow_backend.py:95: The name tf.reset_default_graph is deprecated. Please use tf.compat.v1.reset_default_graph instead.\n",
      "\n",
      "WARNING:tensorflow:From /data/nauga/SmartBuildings/venvs/sbvenv1/lib/python3.6/site-packages/keras/backend/tensorflow_backend.py:98: The name tf.placeholder_with_default is deprecated. Please use tf.compat.v1.placeholder_with_default instead.\n",
      "\n",
      "WARNING:tensorflow:From /data/nauga/SmartBuildings/venvs/sbvenv1/lib/python3.6/site-packages/keras/backend/tensorflow_backend.py:102: The name tf.get_default_graph is deprecated. Please use tf.compat.v1.get_default_graph instead.\n",
      "\n"
     ]
    }
   ],
   "source": [
    "try:\n",
    "    del nn_model\n",
    "except NameError:\n",
    "    pass\n",
    "\n",
    "K.clear_session()"
   ]
  },
  {
   "cell_type": "markdown",
   "metadata": {},
   "source": [
    "### Inspect model architecture"
   ]
  },
  {
   "cell_type": "code",
   "execution_count": null,
   "metadata": {
    "run_control": {
     "marked": false
    }
   },
   "outputs": [],
   "source": [
    "# weekdata = modelconfig['weeklist'][0]\n",
    "# X_train = weekdata['X_train']\n",
    "# y_train = weekdata['y_train']\n",
    "# X_test = weekdata['X_test']\n",
    "# y_test = weekdata['y_test']\n",
    "# y_scaler = weekdata['y_scaler']\n",
    "\n",
    "# #Instantiate learner model\n",
    "# nn_model = mp.seq2seq_model(path,\n",
    "#                       inputdim=X_train.shape[-1],\n",
    "#                       outputdim=y_train.shape[-1],\n",
    "#                       period=period)\n",
    "\n",
    "# # Desing model architecture\n",
    "# nn_model.design_network(lstmhiddenlayers=[modelconfig['lstm_hidden_units']] * (2*modelconfig['lstm_no_layers']),\n",
    "#                    densehiddenlayers=[modelconfig['dense_hidden_units']] * modelconfig['dense_no_layers'],\n",
    "#                    dropoutlist=[[], []],\n",
    "#                    batchnormalizelist=[[], []])\n",
    "\n",
    "# # compile model\n",
    "# nn_model.model_compile()\n",
    "\n",
    "# nn_model.model.summary()"
   ]
  },
  {
   "cell_type": "markdown",
   "metadata": {},
   "source": [
    "### Perform relearning on chunks of temporal data"
   ]
  },
  {
   "cell_type": "code",
   "execution_count": 18,
   "metadata": {
    "run_control": {
     "marked": true
    },
    "scrolled": true
   },
   "outputs": [
    {
     "name": "stderr",
     "output_type": "stream",
     "text": [
      "\r",
      "  0%|          | 0/14 [00:00<?, ?it/s]"
     ]
    },
    {
     "name": "stdout",
     "output_type": "stream",
     "text": [
      "WARNING:tensorflow:From /data/nauga/SmartBuildings/venvs/sbvenv1/lib/python3.6/site-packages/keras/backend/tensorflow_backend.py:517: The name tf.placeholder is deprecated. Please use tf.compat.v1.placeholder instead.\n",
      "\n",
      "WARNING:tensorflow:From /data/nauga/SmartBuildings/venvs/sbvenv1/lib/python3.6/site-packages/keras/backend/tensorflow_backend.py:4138: The name tf.random_uniform is deprecated. Please use tf.random.uniform instead.\n",
      "\n",
      "WARNING:tensorflow:From /data/nauga/SmartBuildings/venvs/sbvenv1/lib/python3.6/site-packages/keras/optimizers.py:790: The name tf.train.Optimizer is deprecated. Please use tf.compat.v1.train.Optimizer instead.\n",
      "\n",
      "WARNING:tensorflow:From /data/nauga/SmartBuildings/venvs/sbvenv1/lib/python3.6/site-packages/tensorflow/python/ops/math_grad.py:1250: add_dispatch_support.<locals>.wrapper (from tensorflow.python.ops.array_ops) is deprecated and will be removed in a future version.\n",
      "Instructions for updating:\n",
      "Use tf.where in 2.0, which has the same broadcast rule as np.where\n",
      "WARNING:tensorflow:From /data/nauga/SmartBuildings/venvs/sbvenv1/lib/python3.6/site-packages/keras/callbacks.py:850: The name tf.summary.merge_all is deprecated. Please use tf.compat.v1.summary.merge_all instead.\n",
      "\n",
      "WARNING:tensorflow:From /data/nauga/SmartBuildings/venvs/sbvenv1/lib/python3.6/site-packages/keras/callbacks.py:856: The name tf.summary.FileWriter is deprecated. Please use tf.compat.v1.summary.FileWriter instead.\n",
      "\n",
      "Epoch 1/5000\n",
      " - 4s - loss: 0.0213 - dense_1_loss: 0.0213\n",
      "Epoch 2/5000\n",
      " - 3s - loss: 0.0127 - dense_1_loss: 0.0127\n",
      "Epoch 3/5000\n",
      " - 3s - loss: 0.0127 - dense_1_loss: 0.0127\n",
      "Epoch 4/5000\n",
      " - 3s - loss: 0.0101 - dense_1_loss: 0.0101\n",
      "Epoch 5/5000\n",
      " - 3s - loss: 0.0100 - dense_1_loss: 0.0100\n",
      "Epoch 6/5000\n",
      " - 3s - loss: 0.0104 - dense_1_loss: 0.0104\n",
      "Epoch 7/5000\n",
      " - 3s - loss: 0.0081 - dense_1_loss: 0.0081\n",
      "Epoch 8/5000\n",
      " - 3s - loss: 0.0080 - dense_1_loss: 0.0080\n",
      "Epoch 9/5000\n",
      " - 3s - loss: 0.0079 - dense_1_loss: 0.0079\n",
      "Epoch 10/5000\n",
      " - 3s - loss: 0.0079 - dense_1_loss: 0.0079\n",
      "Epoch 11/5000\n",
      " - 3s - loss: 0.0078 - dense_1_loss: 0.0078\n",
      "Epoch 12/5000\n",
      " - 3s - loss: 0.0075 - dense_1_loss: 0.0075\n",
      "Epoch 13/5000\n",
      " - 3s - loss: 0.0073 - dense_1_loss: 0.0073\n",
      "Epoch 14/5000\n",
      " - 3s - loss: 0.0070 - dense_1_loss: 0.0070\n",
      "Epoch 15/5000\n",
      " - 3s - loss: 0.0068 - dense_1_loss: 0.0068\n",
      "Epoch 16/5000\n",
      " - 3s - loss: 0.0067 - dense_1_loss: 0.0067\n",
      "Epoch 17/5000\n",
      " - 3s - loss: 0.0065 - dense_1_loss: 0.0065\n",
      "Epoch 18/5000\n",
      " - 3s - loss: 0.0063 - dense_1_loss: 0.0063\n",
      "Epoch 19/5000\n",
      " - 3s - loss: 0.0061 - dense_1_loss: 0.0061\n",
      "Epoch 20/5000\n",
      " - 3s - loss: 0.0060 - dense_1_loss: 0.0060\n",
      "Epoch 21/5000\n",
      " - 3s - loss: 0.0059 - dense_1_loss: 0.0059\n",
      "Epoch 22/5000\n",
      " - 3s - loss: 0.0058 - dense_1_loss: 0.0058\n",
      "Epoch 23/5000\n",
      " - 3s - loss: 0.0057 - dense_1_loss: 0.0057\n",
      "Epoch 24/5000\n",
      " - 3s - loss: 0.0057 - dense_1_loss: 0.0057\n",
      "Epoch 25/5000\n",
      " - 3s - loss: 0.0056 - dense_1_loss: 0.0056\n",
      "Epoch 26/5000\n",
      " - 3s - loss: 0.0055 - dense_1_loss: 0.0055\n",
      "Epoch 27/5000\n",
      " - 3s - loss: 0.0055 - dense_1_loss: 0.0055\n",
      "Epoch 28/5000\n",
      " - 3s - loss: 0.0053 - dense_1_loss: 0.0053\n",
      "Epoch 29/5000\n",
      " - 3s - loss: 0.0051 - dense_1_loss: 0.0051\n",
      "Epoch 30/5000\n",
      " - 3s - loss: 0.0051 - dense_1_loss: 0.0051\n",
      "Epoch 31/5000\n",
      " - 3s - loss: 0.0050 - dense_1_loss: 0.0050\n",
      "Epoch 32/5000\n",
      " - 3s - loss: 0.0049 - dense_1_loss: 0.0049\n",
      "Epoch 33/5000\n",
      " - 3s - loss: 0.0049 - dense_1_loss: 0.0049\n",
      "Epoch 34/5000\n",
      " - 3s - loss: 0.0048 - dense_1_loss: 0.0048\n",
      "Epoch 35/5000\n",
      " - 3s - loss: 0.0048 - dense_1_loss: 0.0048\n",
      "Epoch 36/5000\n",
      " - 3s - loss: 0.0050 - dense_1_loss: 0.0050\n",
      "Epoch 37/5000\n",
      " - 3s - loss: 0.0048 - dense_1_loss: 0.0048\n",
      "Epoch 38/5000\n",
      " - 3s - loss: 0.0048 - dense_1_loss: 0.0048\n",
      "Epoch 39/5000\n",
      " - 3s - loss: 0.0048 - dense_1_loss: 0.0048\n",
      "Epoch 40/5000\n",
      " - 3s - loss: 0.0048 - dense_1_loss: 0.0048\n"
     ]
    },
    {
     "name": "stderr",
     "output_type": "stream",
     "text": [
      "\r",
      "  7%|▋         | 1/14 [01:57<25:28, 117.61s/it]"
     ]
    },
    {
     "name": "stdout",
     "output_type": "stream",
     "text": [
      "Epoch 41/5000\n",
      " - 4s - loss: 0.0573 - dense_1_loss: 0.0573\n",
      "Epoch 42/5000\n",
      " - 3s - loss: 0.0573 - dense_1_loss: 0.0573\n",
      "Epoch 43/5000\n",
      " - 3s - loss: 0.0573 - dense_1_loss: 0.0573\n",
      "Epoch 44/5000\n",
      " - 3s - loss: 0.0573 - dense_1_loss: 0.0573\n",
      "Epoch 45/5000\n",
      " - 3s - loss: 0.0573 - dense_1_loss: 0.0573\n",
      "Epoch 46/5000\n",
      " - 3s - loss: 0.0573 - dense_1_loss: 0.0573\n"
     ]
    },
    {
     "name": "stderr",
     "output_type": "stream",
     "text": [
      "\r",
      " 14%|█▍        | 2/14 [02:22<17:55, 89.65s/it] "
     ]
    },
    {
     "name": "stdout",
     "output_type": "stream",
     "text": [
      "Epoch 47/5000\n",
      " - 4s - loss: 0.0227 - dense_1_loss: 0.0227\n",
      "Epoch 48/5000\n",
      " - 3s - loss: 0.0129 - dense_1_loss: 0.0129\n",
      "Epoch 49/5000\n",
      " - 3s - loss: 0.0110 - dense_1_loss: 0.0110\n",
      "Epoch 50/5000\n",
      " - 3s - loss: 0.0121 - dense_1_loss: 0.0121\n",
      "Epoch 51/5000\n",
      " - 2s - loss: 0.0109 - dense_1_loss: 0.0109\n",
      "Epoch 52/5000\n",
      " - 3s - loss: 0.0083 - dense_1_loss: 0.0083\n",
      "Epoch 53/5000\n",
      " - 3s - loss: 0.0078 - dense_1_loss: 0.0078\n",
      "Epoch 54/5000\n",
      " - 3s - loss: 0.0077 - dense_1_loss: 0.0077\n",
      "Epoch 55/5000\n",
      " - 3s - loss: 0.0075 - dense_1_loss: 0.0075\n",
      "Epoch 56/5000\n",
      " - 3s - loss: 0.0073 - dense_1_loss: 0.0073\n",
      "Epoch 57/5000\n",
      " - 3s - loss: 0.0071 - dense_1_loss: 0.0071\n",
      "Epoch 58/5000\n",
      " - 2s - loss: 0.0068 - dense_1_loss: 0.0068\n",
      "Epoch 59/5000\n",
      " - 3s - loss: 0.0066 - dense_1_loss: 0.0066\n",
      "Epoch 60/5000\n",
      " - 2s - loss: 0.0064 - dense_1_loss: 0.0064\n",
      "Epoch 61/5000\n",
      " - 2s - loss: 0.0062 - dense_1_loss: 0.0062\n",
      "Epoch 62/5000\n",
      " - 3s - loss: 0.0061 - dense_1_loss: 0.0061\n",
      "Epoch 63/5000\n",
      " - 3s - loss: 0.0061 - dense_1_loss: 0.0061\n",
      "Epoch 64/5000\n",
      " - 3s - loss: 0.0060 - dense_1_loss: 0.0060\n",
      "Epoch 65/5000\n",
      " - 2s - loss: 0.0059 - dense_1_loss: 0.0059\n",
      "Epoch 66/5000\n",
      " - 3s - loss: 0.0058 - dense_1_loss: 0.0058\n",
      "Epoch 67/5000\n",
      " - 3s - loss: 0.0058 - dense_1_loss: 0.0058\n",
      "Epoch 68/5000\n",
      " - 3s - loss: 0.0056 - dense_1_loss: 0.0056\n",
      "Epoch 69/5000\n",
      " - 3s - loss: 0.0055 - dense_1_loss: 0.0055\n",
      "Epoch 70/5000\n",
      " - 3s - loss: 0.0055 - dense_1_loss: 0.0055\n",
      "Epoch 71/5000\n",
      " - 3s - loss: 0.0052 - dense_1_loss: 0.0052\n",
      "Epoch 72/5000\n",
      " - 3s - loss: 0.0051 - dense_1_loss: 0.0051\n",
      "Epoch 73/5000\n",
      " - 3s - loss: 0.0048 - dense_1_loss: 0.0048\n",
      "Epoch 74/5000\n",
      " - 3s - loss: 0.0047 - dense_1_loss: 0.0047\n",
      "Epoch 75/5000\n",
      " - 3s - loss: 0.0047 - dense_1_loss: 0.0047\n",
      "Epoch 76/5000\n",
      " - 3s - loss: 0.0046 - dense_1_loss: 0.0046\n",
      "Epoch 77/5000\n",
      " - 3s - loss: 0.0045 - dense_1_loss: 0.0045\n",
      "Epoch 78/5000\n",
      " - 3s - loss: 0.0046 - dense_1_loss: 0.0046\n",
      "Epoch 79/5000\n",
      " - 3s - loss: 0.0047 - dense_1_loss: 0.0047\n",
      "Epoch 80/5000\n",
      " - 3s - loss: 0.0046 - dense_1_loss: 0.0046\n",
      "Epoch 81/5000\n",
      " - 3s - loss: 0.0046 - dense_1_loss: 0.0046\n",
      "Epoch 82/5000\n",
      " - 3s - loss: 0.0046 - dense_1_loss: 0.0046\n"
     ]
    },
    {
     "name": "stderr",
     "output_type": "stream",
     "text": [
      "\r",
      " 21%|██▏       | 3/14 [04:06<17:13, 93.98s/it]"
     ]
    },
    {
     "name": "stdout",
     "output_type": "stream",
     "text": [
      "Epoch 83/5000\n",
      " - 4s - loss: 0.0197 - dense_1_loss: 0.0197\n",
      "Epoch 84/5000\n",
      " - 3s - loss: 0.0131 - dense_1_loss: 0.0131\n",
      "Epoch 85/5000\n",
      " - 3s - loss: 0.0114 - dense_1_loss: 0.0114\n",
      "Epoch 86/5000\n",
      " - 3s - loss: 0.0112 - dense_1_loss: 0.0112\n",
      "Epoch 87/5000\n",
      " - 3s - loss: 0.0120 - dense_1_loss: 0.0120\n",
      "Epoch 88/5000\n",
      " - 3s - loss: 0.0104 - dense_1_loss: 0.0104\n",
      "Epoch 89/5000\n",
      " - 3s - loss: 0.0095 - dense_1_loss: 0.0095\n",
      "Epoch 90/5000\n",
      " - 3s - loss: 0.0098 - dense_1_loss: 0.0098\n",
      "Epoch 91/5000\n",
      " - 3s - loss: 0.0103 - dense_1_loss: 0.0103\n",
      "Epoch 92/5000\n",
      " - 3s - loss: 0.0081 - dense_1_loss: 0.0081\n",
      "Epoch 93/5000\n",
      " - 3s - loss: 0.0074 - dense_1_loss: 0.0074\n",
      "Epoch 94/5000\n",
      " - 3s - loss: 0.0069 - dense_1_loss: 0.0069\n",
      "Epoch 95/5000\n",
      " - 3s - loss: 0.0068 - dense_1_loss: 0.0068\n",
      "Epoch 96/5000\n",
      " - 3s - loss: 0.0070 - dense_1_loss: 0.0070\n",
      "Epoch 97/5000\n",
      " - 3s - loss: 0.0069 - dense_1_loss: 0.0069\n",
      "Epoch 98/5000\n",
      " - 3s - loss: 0.0067 - dense_1_loss: 0.0067\n",
      "Epoch 99/5000\n",
      " - 3s - loss: 0.0066 - dense_1_loss: 0.0066\n",
      "Epoch 100/5000\n",
      " - 3s - loss: 0.0066 - dense_1_loss: 0.0066\n",
      "Epoch 101/5000\n",
      " - 3s - loss: 0.0065 - dense_1_loss: 0.0065\n",
      "Epoch 102/5000\n",
      " - 3s - loss: 0.0065 - dense_1_loss: 0.0065\n",
      "Epoch 103/5000\n",
      " - 3s - loss: 0.0065 - dense_1_loss: 0.0065\n",
      "Epoch 104/5000\n",
      " - 3s - loss: 0.0065 - dense_1_loss: 0.0065\n",
      "Epoch 105/5000\n",
      " - 3s - loss: 0.0065 - dense_1_loss: 0.0065\n",
      "Epoch 106/5000\n",
      " - 3s - loss: 0.0065 - dense_1_loss: 0.0065\n",
      "Epoch 107/5000\n",
      " - 3s - loss: 0.0065 - dense_1_loss: 0.0065\n",
      "Epoch 108/5000\n",
      " - 3s - loss: 0.0065 - dense_1_loss: 0.0065\n",
      "Epoch 109/5000\n",
      " - 3s - loss: 0.0065 - dense_1_loss: 0.0065\n",
      "Epoch 110/5000\n",
      " - 3s - loss: 0.0065 - dense_1_loss: 0.0065\n",
      "Epoch 111/5000\n",
      " - 3s - loss: 0.0065 - dense_1_loss: 0.0065\n",
      "Epoch 112/5000\n",
      " - 3s - loss: 0.0065 - dense_1_loss: 0.0065\n"
     ]
    },
    {
     "name": "stderr",
     "output_type": "stream",
     "text": [
      "\r",
      " 29%|██▊       | 4/14 [05:36<15:27, 92.76s/it]"
     ]
    },
    {
     "name": "stdout",
     "output_type": "stream",
     "text": [
      "Epoch 113/5000\n",
      " - 4s - loss: 0.0245 - dense_1_loss: 0.0245\n",
      "Epoch 114/5000\n",
      " - 3s - loss: 0.0133 - dense_1_loss: 0.0133\n",
      "Epoch 115/5000\n",
      " - 3s - loss: 0.0118 - dense_1_loss: 0.0118\n",
      "Epoch 116/5000\n",
      " - 3s - loss: 0.0103 - dense_1_loss: 0.0103\n",
      "Epoch 117/5000\n",
      " - 3s - loss: 0.0104 - dense_1_loss: 0.0104\n",
      "Epoch 118/5000\n",
      " - 3s - loss: 0.0099 - dense_1_loss: 0.0099\n",
      "Epoch 119/5000\n",
      " - 3s - loss: 0.0081 - dense_1_loss: 0.0081\n",
      "Epoch 120/5000\n",
      " - 3s - loss: 0.0064 - dense_1_loss: 0.0064\n",
      "Epoch 121/5000\n",
      " - 3s - loss: 0.0062 - dense_1_loss: 0.0062\n",
      "Epoch 122/5000\n",
      " - 3s - loss: 0.0054 - dense_1_loss: 0.0054\n",
      "Epoch 123/5000\n",
      " - 2s - loss: 0.0056 - dense_1_loss: 0.0056\n",
      "Epoch 124/5000\n",
      " - 3s - loss: 0.0054 - dense_1_loss: 0.0054\n",
      "Epoch 125/5000\n",
      " - 3s - loss: 0.0046 - dense_1_loss: 0.0046\n",
      "Epoch 126/5000\n",
      " - 3s - loss: 0.0046 - dense_1_loss: 0.0046\n",
      "Epoch 127/5000\n"
     ]
    },
    {
     "ename": "KeyboardInterrupt",
     "evalue": "",
     "output_type": "error",
     "traceback": [
      "\u001b[0;31m---------------------------------------------------------------------------\u001b[0m",
      "\u001b[0;31mKeyboardInterrupt\u001b[0m                         Traceback (most recent call last)",
      "\u001b[0;32m<ipython-input-18-fcc9a18b07c0>\u001b[0m in \u001b[0;36m<module>\u001b[0;34m\u001b[0m\n\u001b[1;32m     48\u001b[0m                                        \u001b[0my_train\u001b[0m\u001b[0;34m,\u001b[0m\u001b[0;34m\u001b[0m\u001b[0;34m\u001b[0m\u001b[0m\n\u001b[1;32m     49\u001b[0m                                        \u001b[0mepochs\u001b[0m\u001b[0;34m=\u001b[0m\u001b[0mmodelconfig\u001b[0m\u001b[0;34m[\u001b[0m\u001b[0;34m'train_epochs'\u001b[0m\u001b[0;34m]\u001b[0m\u001b[0;34m,\u001b[0m\u001b[0;34m\u001b[0m\u001b[0;34m\u001b[0m\u001b[0m\n\u001b[0;32m---> 50\u001b[0;31m                                        initial_epoch=initial_epoch)\n\u001b[0m\u001b[1;32m     51\u001b[0m         \u001b[0;32mtry\u001b[0m\u001b[0;34m:\u001b[0m\u001b[0;34m\u001b[0m\u001b[0;34m\u001b[0m\u001b[0m\n\u001b[1;32m     52\u001b[0m             \u001b[0minitial_epoch\u001b[0m \u001b[0;34m+=\u001b[0m \u001b[0mlen\u001b[0m\u001b[0;34m(\u001b[0m\u001b[0mhistory\u001b[0m\u001b[0;34m.\u001b[0m\u001b[0mhistory\u001b[0m\u001b[0;34m[\u001b[0m\u001b[0;34m'loss'\u001b[0m\u001b[0;34m]\u001b[0m\u001b[0;34m)\u001b[0m\u001b[0;34m\u001b[0m\u001b[0;34m\u001b[0m\u001b[0m\n",
      "\u001b[0;32m/data/nauga/SmartBuildings/AlumniHallResearch/AdaptiveController/cdc20/nn_source/models.py\u001b[0m in \u001b[0;36mtrain_model\u001b[0;34m(self, X_train, y_train, epochs, saveModel, initial_epoch)\u001b[0m\n\u001b[1;32m    603\u001b[0m \t\tself.history = self.model.fit(X_train, y_train, epochs=self.epochs, batch_size=self.batch_size, \\\n\u001b[1;32m    604\u001b[0m                         \u001b[0mverbose\u001b[0m\u001b[0;34m=\u001b[0m\u001b[0;36m2\u001b[0m\u001b[0;34m,\u001b[0m \u001b[0mshuffle\u001b[0m\u001b[0;34m=\u001b[0m\u001b[0;32mFalse\u001b[0m\u001b[0;34m,\u001b[0m\u001b[0minitial_epoch\u001b[0m \u001b[0;34m=\u001b[0m \u001b[0minitial_epoch\u001b[0m\u001b[0;34m,\u001b[0m\u001b[0;31m \u001b[0m\u001b[0;31m\\\u001b[0m\u001b[0;34m\u001b[0m\u001b[0;34m\u001b[0m\u001b[0m\n\u001b[0;32m--> 605\u001b[0;31m \t\t\t\tcallbacks=self.model_callbacks())\n\u001b[0m\u001b[1;32m    606\u001b[0m \u001b[0;34m\u001b[0m\u001b[0m\n\u001b[1;32m    607\u001b[0m                 \u001b[0;32mif\u001b[0m \u001b[0msaveModel\u001b[0m\u001b[0;34m:\u001b[0m\u001b[0;34m\u001b[0m\u001b[0;34m\u001b[0m\u001b[0m\n",
      "\u001b[0;32m/data/nauga/SmartBuildings/venvs/sbvenv1/lib/python3.6/site-packages/keras/engine/training.py\u001b[0m in \u001b[0;36mfit\u001b[0;34m(self, x, y, batch_size, epochs, verbose, callbacks, validation_split, validation_data, shuffle, class_weight, sample_weight, initial_epoch, steps_per_epoch, validation_steps, **kwargs)\u001b[0m\n\u001b[1;32m   1037\u001b[0m                                         \u001b[0minitial_epoch\u001b[0m\u001b[0;34m=\u001b[0m\u001b[0minitial_epoch\u001b[0m\u001b[0;34m,\u001b[0m\u001b[0;34m\u001b[0m\u001b[0;34m\u001b[0m\u001b[0m\n\u001b[1;32m   1038\u001b[0m                                         \u001b[0msteps_per_epoch\u001b[0m\u001b[0;34m=\u001b[0m\u001b[0msteps_per_epoch\u001b[0m\u001b[0;34m,\u001b[0m\u001b[0;34m\u001b[0m\u001b[0;34m\u001b[0m\u001b[0m\n\u001b[0;32m-> 1039\u001b[0;31m                                         validation_steps=validation_steps)\n\u001b[0m\u001b[1;32m   1040\u001b[0m \u001b[0;34m\u001b[0m\u001b[0m\n\u001b[1;32m   1041\u001b[0m     def evaluate(self, x=None, y=None,\n",
      "\u001b[0;32m/data/nauga/SmartBuildings/venvs/sbvenv1/lib/python3.6/site-packages/keras/engine/training_arrays.py\u001b[0m in \u001b[0;36mfit_loop\u001b[0;34m(model, f, ins, out_labels, batch_size, epochs, verbose, callbacks, val_f, val_ins, shuffle, callback_metrics, initial_epoch, steps_per_epoch, validation_steps)\u001b[0m\n\u001b[1;32m    197\u001b[0m                     \u001b[0mins_batch\u001b[0m\u001b[0;34m[\u001b[0m\u001b[0mi\u001b[0m\u001b[0;34m]\u001b[0m \u001b[0;34m=\u001b[0m \u001b[0mins_batch\u001b[0m\u001b[0;34m[\u001b[0m\u001b[0mi\u001b[0m\u001b[0;34m]\u001b[0m\u001b[0;34m.\u001b[0m\u001b[0mtoarray\u001b[0m\u001b[0;34m(\u001b[0m\u001b[0;34m)\u001b[0m\u001b[0;34m\u001b[0m\u001b[0;34m\u001b[0m\u001b[0m\n\u001b[1;32m    198\u001b[0m \u001b[0;34m\u001b[0m\u001b[0m\n\u001b[0;32m--> 199\u001b[0;31m                 \u001b[0mouts\u001b[0m \u001b[0;34m=\u001b[0m \u001b[0mf\u001b[0m\u001b[0;34m(\u001b[0m\u001b[0mins_batch\u001b[0m\u001b[0;34m)\u001b[0m\u001b[0;34m\u001b[0m\u001b[0;34m\u001b[0m\u001b[0m\n\u001b[0m\u001b[1;32m    200\u001b[0m                 \u001b[0mouts\u001b[0m \u001b[0;34m=\u001b[0m \u001b[0mto_list\u001b[0m\u001b[0;34m(\u001b[0m\u001b[0mouts\u001b[0m\u001b[0;34m)\u001b[0m\u001b[0;34m\u001b[0m\u001b[0;34m\u001b[0m\u001b[0m\n\u001b[1;32m    201\u001b[0m                 \u001b[0;32mfor\u001b[0m \u001b[0ml\u001b[0m\u001b[0;34m,\u001b[0m \u001b[0mo\u001b[0m \u001b[0;32min\u001b[0m \u001b[0mzip\u001b[0m\u001b[0;34m(\u001b[0m\u001b[0mout_labels\u001b[0m\u001b[0;34m,\u001b[0m \u001b[0mouts\u001b[0m\u001b[0;34m)\u001b[0m\u001b[0;34m:\u001b[0m\u001b[0;34m\u001b[0m\u001b[0;34m\u001b[0m\u001b[0m\n",
      "\u001b[0;32m/data/nauga/SmartBuildings/venvs/sbvenv1/lib/python3.6/site-packages/keras/backend/tensorflow_backend.py\u001b[0m in \u001b[0;36m__call__\u001b[0;34m(self, inputs)\u001b[0m\n\u001b[1;32m   2713\u001b[0m                 \u001b[0;32mreturn\u001b[0m \u001b[0mself\u001b[0m\u001b[0;34m.\u001b[0m\u001b[0m_legacy_call\u001b[0m\u001b[0;34m(\u001b[0m\u001b[0minputs\u001b[0m\u001b[0;34m)\u001b[0m\u001b[0;34m\u001b[0m\u001b[0;34m\u001b[0m\u001b[0m\n\u001b[1;32m   2714\u001b[0m \u001b[0;34m\u001b[0m\u001b[0m\n\u001b[0;32m-> 2715\u001b[0;31m             \u001b[0;32mreturn\u001b[0m \u001b[0mself\u001b[0m\u001b[0;34m.\u001b[0m\u001b[0m_call\u001b[0m\u001b[0;34m(\u001b[0m\u001b[0minputs\u001b[0m\u001b[0;34m)\u001b[0m\u001b[0;34m\u001b[0m\u001b[0;34m\u001b[0m\u001b[0m\n\u001b[0m\u001b[1;32m   2716\u001b[0m         \u001b[0;32melse\u001b[0m\u001b[0;34m:\u001b[0m\u001b[0;34m\u001b[0m\u001b[0;34m\u001b[0m\u001b[0m\n\u001b[1;32m   2717\u001b[0m             \u001b[0;32mif\u001b[0m \u001b[0mpy_any\u001b[0m\u001b[0;34m(\u001b[0m\u001b[0mis_tensor\u001b[0m\u001b[0;34m(\u001b[0m\u001b[0mx\u001b[0m\u001b[0;34m)\u001b[0m \u001b[0;32mfor\u001b[0m \u001b[0mx\u001b[0m \u001b[0;32min\u001b[0m \u001b[0minputs\u001b[0m\u001b[0;34m)\u001b[0m\u001b[0;34m:\u001b[0m\u001b[0;34m\u001b[0m\u001b[0;34m\u001b[0m\u001b[0m\n",
      "\u001b[0;32m/data/nauga/SmartBuildings/venvs/sbvenv1/lib/python3.6/site-packages/keras/backend/tensorflow_backend.py\u001b[0m in \u001b[0;36m_call\u001b[0;34m(self, inputs)\u001b[0m\n\u001b[1;32m   2673\u001b[0m             \u001b[0mfetched\u001b[0m \u001b[0;34m=\u001b[0m \u001b[0mself\u001b[0m\u001b[0;34m.\u001b[0m\u001b[0m_callable_fn\u001b[0m\u001b[0;34m(\u001b[0m\u001b[0;34m*\u001b[0m\u001b[0marray_vals\u001b[0m\u001b[0;34m,\u001b[0m \u001b[0mrun_metadata\u001b[0m\u001b[0;34m=\u001b[0m\u001b[0mself\u001b[0m\u001b[0;34m.\u001b[0m\u001b[0mrun_metadata\u001b[0m\u001b[0;34m)\u001b[0m\u001b[0;34m\u001b[0m\u001b[0;34m\u001b[0m\u001b[0m\n\u001b[1;32m   2674\u001b[0m         \u001b[0;32melse\u001b[0m\u001b[0;34m:\u001b[0m\u001b[0;34m\u001b[0m\u001b[0;34m\u001b[0m\u001b[0m\n\u001b[0;32m-> 2675\u001b[0;31m             \u001b[0mfetched\u001b[0m \u001b[0;34m=\u001b[0m \u001b[0mself\u001b[0m\u001b[0;34m.\u001b[0m\u001b[0m_callable_fn\u001b[0m\u001b[0;34m(\u001b[0m\u001b[0;34m*\u001b[0m\u001b[0marray_vals\u001b[0m\u001b[0;34m)\u001b[0m\u001b[0;34m\u001b[0m\u001b[0;34m\u001b[0m\u001b[0m\n\u001b[0m\u001b[1;32m   2676\u001b[0m         \u001b[0;32mreturn\u001b[0m \u001b[0mfetched\u001b[0m\u001b[0;34m[\u001b[0m\u001b[0;34m:\u001b[0m\u001b[0mlen\u001b[0m\u001b[0;34m(\u001b[0m\u001b[0mself\u001b[0m\u001b[0;34m.\u001b[0m\u001b[0moutputs\u001b[0m\u001b[0;34m)\u001b[0m\u001b[0;34m]\u001b[0m\u001b[0;34m\u001b[0m\u001b[0;34m\u001b[0m\u001b[0m\n\u001b[1;32m   2677\u001b[0m \u001b[0;34m\u001b[0m\u001b[0m\n",
      "\u001b[0;32m/data/nauga/SmartBuildings/venvs/sbvenv1/lib/python3.6/site-packages/tensorflow/python/client/session.py\u001b[0m in \u001b[0;36m__call__\u001b[0;34m(self, *args, **kwargs)\u001b[0m\n\u001b[1;32m   1456\u001b[0m         ret = tf_session.TF_SessionRunCallable(self._session._session,\n\u001b[1;32m   1457\u001b[0m                                                \u001b[0mself\u001b[0m\u001b[0;34m.\u001b[0m\u001b[0m_handle\u001b[0m\u001b[0;34m,\u001b[0m \u001b[0margs\u001b[0m\u001b[0;34m,\u001b[0m\u001b[0;34m\u001b[0m\u001b[0;34m\u001b[0m\u001b[0m\n\u001b[0;32m-> 1458\u001b[0;31m                                                run_metadata_ptr)\n\u001b[0m\u001b[1;32m   1459\u001b[0m         \u001b[0;32mif\u001b[0m \u001b[0mrun_metadata\u001b[0m\u001b[0;34m:\u001b[0m\u001b[0;34m\u001b[0m\u001b[0;34m\u001b[0m\u001b[0m\n\u001b[1;32m   1460\u001b[0m           \u001b[0mproto_data\u001b[0m \u001b[0;34m=\u001b[0m \u001b[0mtf_session\u001b[0m\u001b[0;34m.\u001b[0m\u001b[0mTF_GetBuffer\u001b[0m\u001b[0;34m(\u001b[0m\u001b[0mrun_metadata_ptr\u001b[0m\u001b[0;34m)\u001b[0m\u001b[0;34m\u001b[0m\u001b[0;34m\u001b[0m\u001b[0m\n",
      "\u001b[0;31mKeyboardInterrupt\u001b[0m: "
     ]
    }
   ],
   "source": [
    "for weekno, weekdata in enumerate(tqdm(modelconfig['weeklist'][:14])):\n",
    "\n",
    "    X_train = weekdata['X_train']\n",
    "    y_train = weekdata['y_train']\n",
    "    X_test = weekdata['X_test']\n",
    "    y_test = weekdata['y_test']\n",
    "    y_scaler = weekdata['y_scaler']\n",
    "    X_scaler = weekdata['X_scaler']\n",
    "\n",
    "    if not modeldesigndone:\n",
    "        \n",
    "        try:\n",
    "            del nn_model\n",
    "        except NameError:\n",
    "            pass\n",
    "\n",
    "        K.clear_session()\n",
    "\n",
    "        #Instantiate learner model\n",
    "        nn_model = mp.stateful_LSTM_model(path,\n",
    "                                          inputdim=X_train.shape[-1],\n",
    "                                          outputdim=y_train.shape[-1],\n",
    "                                          input_timesteps=input_timesteps,\n",
    "                                          output_timesteps = output_timesteps,\n",
    "                                          period=period,\n",
    "                                          stateful = modelconfig['stateful'],\n",
    "                                          batch_size=modelconfig['train_batchsize'])\n",
    "\n",
    "        # Desing model architecture\n",
    "        nn_model.design_network(lstmhiddenlayers=[modelconfig['lstm_hidden_units']] * modelconfig['lstm_no_layers'],\n",
    "                                densehiddenlayers=[modelconfig['dense_hidden_units']] * modelconfig['dense_no_layers'],\n",
    "                                dropoutlist=[[], []],\n",
    "                                batchnormalizelist=[[], []])\n",
    "        \n",
    "        # load the trained model weights if we want to: here some layer weights may be reinitialized; see below\n",
    "        if model_saved & retain_prev_model:\n",
    "            nn_model.model.load_weights('IntermediateModel.h5')\n",
    "        \n",
    "\n",
    "        # compile model\n",
    "        nn_model.model_compile()\n",
    "\n",
    "        # modeldesigndone = True: needed for Keras limitations: Tensorboard crashes if we relearn on original model    \n",
    "\n",
    "    # train the model for adaptive model and fixed after first round for fixed control\n",
    "    if adaptive_control | (weekno==0):\n",
    "        history = nn_model.train_model(X_train,\n",
    "                                       y_train,\n",
    "                                       epochs=modelconfig['train_epochs'],\n",
    "                                       initial_epoch=initial_epoch)\n",
    "        try:\n",
    "            initial_epoch += len(history.history['loss'])\n",
    "        except KeyError:\n",
    "            pass\n",
    "    \n",
    "        # save the model only if trained at least once- needed for prediction model\n",
    "        nn_model.model.save('IntermediateModel.h5')\n",
    "        model_saved = True\n",
    "        \n",
    "    # return hidden states\n",
    "    hc = nn_model.get_final_state(X_train)\n",
    "    # hidden initial state for prediction\n",
    "    hc_list = [[K.constant(hc[2*i][[-1],:]),K.constant(hc[2*i + 1][[-1],:])] for i in range(int(len(hc)/2))]\n",
    "    \n",
    "    if not test_model_created:\n",
    "        \n",
    "        # Separate predictor for predicting online: only difference is test batch size\n",
    "        nn_model_pred = mp.stateful_LSTM_model(path,\n",
    "                                               inputdim=X_train.shape[-1],\n",
    "                                               outputdim=y_train.shape[-1],\n",
    "                                               input_timesteps=input_timesteps,\n",
    "                                               output_timesteps = output_timesteps,\n",
    "                                               period=period,\n",
    "                                               stateful = modelconfig['stateful'],\n",
    "                                               batch_size=modelconfig['test_batchsize'])\n",
    "        \n",
    "        # Desing model architecture\n",
    "        nn_model_pred.design_network(lstmhiddenlayers=[modelconfig['lstm_hidden_units']] * modelconfig['lstm_no_layers'],\n",
    "                                densehiddenlayers=[modelconfig['dense_hidden_units']] * modelconfig['dense_no_layers'],\n",
    "                                dropoutlist=[[], []],\n",
    "                                batchnormalizelist=[[], []],\n",
    "                                initial_state = hc_list)\n",
    "        \n",
    "        test_model_created = False\n",
    "        \n",
    "    # load the trained model weights\n",
    "    nn_model_pred.model.load_weights('IntermediateModel.h5')\n",
    "    # compile model\n",
    "    nn_model_pred.model_compile()\n",
    "\n",
    "    # evaluate the model for metrics at this stage\n",
    "    # train and test plots as well as logged errors inside the text file\n",
    "    preds_test = nn_model_pred.evaluate_model( X_test,\n",
    "                                               y_test,\n",
    "                                               y_scaler,\n",
    "                                               scaling=True,\n",
    "                                               saveplot=True,\n",
    "                                               Idx=weekdata['Id'],\n",
    "                                               outputdim_names=outputcols)\n",
    "    \n",
    "    # do a detailed plot instead\n",
    "    pu.detailedplot(period * 5,\n",
    "                    xs = date2num(list(weekdata['test_idx'])),\n",
    "                    outputdim=len(outputcols),\n",
    "                    output_timesteps=output_timesteps,\n",
    "                    input_timesteps=input_timesteps,\n",
    "                    pred=preds_test,\n",
    "                    target=y_test,\n",
    "                    X_var=X_test,\n",
    "                    saveloc=path,\n",
    "                    scaling=True,\n",
    "                    Xscaler=X_scaler,\n",
    "                    yscaler=y_scaler,\n",
    "                    typeofplot='test',\n",
    "                    Idx=weekdata['Id'])\n",
    "\n",
    "    if adaptive_control:\n",
    "        \n",
    "        # freeze all but dense layers at the top and compile with new weights\n",
    "        if freeze_model:\n",
    "            for layer in nn_model.model.layers[:-modelconfig['retrain_from_layers']]:\n",
    "                layer.trainable = False\n",
    "\n",
    "        # for relearning, reinitialize top few layers\n",
    "        if reinitialize:\n",
    "            for layer in nn_model.model.layers[-modelconfig['retrain_from_layers']:]:\n",
    "                layer.kernel.initializer.run(session=K.get_session())\n",
    "                layer.bias.initializer.run(session=K.get_session())\n",
    "\n",
    "        # recompile model\n",
    "        if freeze_model | reinitialize:\n",
    "            nn_model.model_compile()\n",
    "            \n",
    "            # save the model- needed for Keras limitations: Tensorboard crashes if we relearn on original model with\n",
    "            # reinitialized weights; solution: we create new model and load these weights\n",
    "            nn_model.model.save('IntermediateModel.h5')\n",
    "            model_saved = True\n",
    "            \n",
    "            freeze_model = False\n",
    "            # reinitialize = True"
   ]
  },
  {
   "cell_type": "markdown",
   "metadata": {},
   "source": [
    "### Plot the CVRMSE error on chunks of temporal data"
   ]
  },
  {
   "cell_type": "code",
   "execution_count": 19,
   "metadata": {
    "run_control": {
     "marked": true
    }
   },
   "outputs": [
    {
     "name": "stderr",
     "output_type": "stream",
     "text": [
      "findfont: Font family ['Times New Roman'] not found. Falling back to DejaVu Sans.\n",
      "findfont: Font family ['Times New Roman'] not found. Falling back to DejaVu Sans.\n",
      "findfont: Font family ['Times New Roman'] not found. Falling back to DejaVu Sans.\n"
     ]
    },
    {
     "name": "stdout",
     "output_type": "stream",
     "text": [
      "Name of the file:  ../results/hwe_model3/adaptive/30min Results_File.txt\n"
     ]
    },
    {
     "data": {
      "image/png": "[encoded data removed]",
      "text/plain": [
       "<Figure size 720x504 with 1 Axes>"
      ]
     },
     "metadata": {
      "needs_background": "light"
     },
     "output_type": "display_data"
    }
   ],
   "source": [
    "# Open a file\n",
    "fo = open(path + \"{}min Results_File.txt\".format(5*period), \"r\")\n",
    "print(\"Name of the file: \", fo.name)\n",
    "lines = fo.readlines()\n",
    "\n",
    "parse_format = 'Year-{}-Week-{}-Time Step {}: {} RMSE={} |{} CVRMSE={} |{} MAE={}'\n",
    "stats = {\n",
    "    'Train': {\n",
    "        'rmse': [],\n",
    "        'cvrmse': [],\n",
    "        'mae': []\n",
    "    },\n",
    "    'Test': {\n",
    "        'rmse': [],\n",
    "        'cvrmse': [],\n",
    "        'mae': []\n",
    "    }\n",
    "}\n",
    "xticklist = []\n",
    "counter = 0\n",
    "for line in lines:\n",
    "    p = parse.parse(parse_format, line)\n",
    "    stats[p[3]]['rmse'].append(float(p[4]))\n",
    "    stats[p[5]]['cvrmse'].append(float(p[6]))\n",
    "    stats[p[7]]['mae'].append(float(p[8]))\n",
    "    if counter % 1 == 0:\n",
    "        xticklist.append('Year-{}-Week-{}'.format(p[0], p[1]))\n",
    "    counter += 1\n",
    "fo.close()\n",
    "cvrmse_list = stats['Test']['cvrmse']\n",
    "cvrmse = sum(cvrmse_list) / len(cvrmse_list)\n",
    "# from dataprocess import plotutils as pu\n",
    "plot_args = dict(\n",
    "    bars=cvrmse_list,\n",
    "    color='goldenrod',\n",
    "    bar_label='cvrmse',\n",
    "    saveloc=path,\n",
    "    smoothcurve=True,\n",
    "    bar_annotate=True,\n",
    "    saveplot=True,\n",
    "    xlabel='Week of year',\n",
    "    ylabel='cvrmse error in percentage',\n",
    "    title=\n",
    "    'Weekly CVRMSE Error for Hot Water Energy Model error at {5:}min(s) intervals \\n [{0:} layers of {1:}-unit lstm, {2:} layers of {3:}-unit dense] \\n Average CVRMSE Error {4:.2f}%'\n",
    "    .format(modelconfig['lstm_no_layers'], modelconfig['lstm_hidden_units'],\n",
    "            modelconfig['dense_no_layers'], modelconfig['dense_hidden_units'],\n",
    "            cvrmse,5*period),\n",
    "    xticklist=xticklist,\n",
    "    plotwidth=10,\n",
    "    plotheight=7,\n",
    "    fontsize=16)\n",
    "pu.single_bar_plot(**plot_args)"
   ]
  },
  {
   "cell_type": "code",
   "execution_count": null,
   "metadata": {},
   "outputs": [],
   "source": [
    "xticklist"
   ]
  },
  {
   "cell_type": "markdown",
   "metadata": {
    "heading_collapsed": true,
    "run_control": {
     "marked": false
    }
   },
   "source": [
    "### Code cemetery"
   ]
  },
  {
   "cell_type": "code",
   "execution_count": null,
   "metadata": {
    "hidden": true
   },
   "outputs": [],
   "source": [
    "# from keras.utils import plot_model\n",
    "# plot_model(nn_model.model, to_file='model.png',show_shapes=True,)\n",
    "\n",
    "\n",
    "# # Check the trainable status of the individual layers\n",
    "# for layer in nn_model.model.layers:\n",
    "#     print(layer, layer.trainable, layer.name)\n",
    "\n",
    "\n",
    "#model.model.summary()\n",
    "\n",
    "\n",
    "#nn_model.model.layers[-1].input_shape\n",
    "#model.model.layers[-1].kernel.initializer.run(session=K.get_session())\n",
    "#model.model.layers[-1].bias.initializer.run(session=K.get_session())\n",
    "#nn_model.model.layers[-1].output_shape"
   ]
  }
 ],
 "metadata": {
  "kernelspec": {
   "display_name": "Python 3.6.9 64-bit ('sbvenv1': venv)",
   "language": "python",
   "name": "python36964bitsbvenv1venv1a534851ebbc4d609aad5dcf7b359ab5"
  },
  "language_info": {
   "codemirror_mode": {
    "name": "ipython",
    "version": 3
   },
   "file_extension": ".py",
   "mimetype": "text/x-python",
   "name": "python",
   "nbconvert_exporter": "python",
   "pygments_lexer": "ipython3",
   "version": "3.6.9"
  },
  "toc": {
   "base_numbering": 1,
   "nav_menu": {},
   "number_sections": true,
   "sideBar": true,
   "skip_h1_title": false,
   "title_cell": "Table of Contents",
   "title_sidebar": "Contents",
   "toc_cell": false,
   "toc_position": {
    "height": "calc(100% - 180px)",
    "left": "10px",
    "top": "150px",
    "width": "377px"
   },
   "toc_section_display": true,
   "toc_window_display": true
  }
 },
 "nbformat": 4,
 "nbformat_minor": 4
}
