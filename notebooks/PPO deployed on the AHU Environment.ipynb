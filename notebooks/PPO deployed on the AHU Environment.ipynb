{
 "cells": [
  {
   "cell_type": "code",
   "execution_count": 1,
   "metadata": {},
   "outputs": [
    {
     "name": "stderr",
     "output_type": "stream",
     "text": [
      "Using TensorFlow backend.\n"
     ]
    }
   ],
   "source": [
    "# including the project directory to the notebook level\n",
    "import os\n",
    "import sys\n",
    "module_path = os.path.abspath(os.path.join('..'))\n",
    "if module_path not in sys.path:\n",
    "    sys.path.append(module_path)\n",
    "import warnings\n",
    "\n",
    "from dataprocess import dataprocessor as dp\n",
    "import numpy as np\n",
    "from sklearn.preprocessing import MinMaxScaler\n",
    "from pandas import DataFrame\n",
    "\n",
    "with warnings.catch_warnings():  \n",
    "    warnings.filterwarnings(\"ignore\",category=FutureWarning)\n",
    "    from keras.models import load_model\n",
    "    from nn_source import models as mp\n",
    "    from rl_source import alumnienv"
   ]
  },
  {
   "cell_type": "code",
   "execution_count": 2,
   "metadata": {},
   "outputs": [],
   "source": [
    "# read the pickled file for ahu data\n",
    "dfdata = dp.readfile('../data/processed/buildingdata.pkl')\n",
    "\n",
    "# return pickled df\n",
    "df = dfdata.return_df(processmethods=['file2df'])\n",
    "\n",
    "# 0-1 Scale the dataframe before sending it to the environment\n",
    "scaler = MinMaxScaler(feature_range=(0,1))\n",
    "dfscaler = scaler.fit(df)\n",
    "dfscaled = DataFrame(dfscaler.fit_transform(df), index=df.index, columns=df.columns)"
   ]
  },
  {
   "cell_type": "code",
   "execution_count": 4,
   "metadata": {
    "scrolled": false
   },
   "outputs": [],
   "source": [
    "# load energy model\n",
    "energymodel = load_model('../results/lstmtrain/LSTM_model_44_0.01');  # Specify the path where energy is stored"
   ]
  },
  {
   "cell_type": "code",
   "execution_count": 5,
   "metadata": {},
   "outputs": [],
   "source": [
    "# important parameters to scale the reward\n",
    "params = {\n",
    "    'energy_saved': 1.0,\n",
    "    'energy_savings_thresh': 0.0,\n",
    "    'energy_penalty': -1.0,\n",
    "    'energy_reward_weight': 1.0,\n",
    "    'comfort': 1.0,\n",
    "    'comfort_thresh': 0.10,\n",
    "    'uncomfortable': -1.0,\n",
    "    'comfort_reward_weight': 1.0,\n",
    "    'action_minmax': [np.array([df.sat.min()]),\n",
    "                      np.array([df.sat.max()])]\n",
    "}"
   ]
  },
  {
   "cell_type": "code",
   "execution_count": 6,
   "metadata": {},
   "outputs": [
    {
     "name": "stderr",
     "output_type": "stream",
     "text": [
      "/data/nauga/SmartBuildings/venvs/sbvenv1/lib/python3.6/site-packages/gym/logger.py:30: UserWarning: \u001b[33mWARN: Box bound precision lowered by casting to float32\u001b[0m\n",
      "  warnings.warn(colorize('%s: %s'%('WARN', msg % args), 'yellow'))\n"
     ]
    }
   ],
   "source": [
    "# instantiate the environment\n",
    "envmodel = alumnienv.Env(\n",
    "    df=dfscaled,\n",
    "    obs_space_vars=['oat', 'orh', 'ghi', 'sat', 'avg_stpt'],  # state space variable\n",
    "    action_space_vars=['sat'],   # action space variable\n",
    "    action_space_bounds=[[-2.0], [2.0]],  # bounds for real world action space; is scaled internally using the params\n",
    "    energy_model=energymodel,  # trained lstm model\n",
    "    model_input_shape=(1, 1, 4),  # lstm model input data shape (no_samples, output_timestep, inputdim)\n",
    "    model_input_vars=['oat', 'orh', 'ghi','sat'],  # lstm model input variables\n",
    "    **params\n",
    ")"
   ]
  },
  {
   "cell_type": "markdown",
   "metadata": {},
   "source": [
    "## Now we pass these elements to vecotrized environments needed for PPO"
   ]
  },
  {
   "cell_type": "code",
   "execution_count": 7,
   "metadata": {},
   "outputs": [
    {
     "data": {
      "text/plain": [
       "20"
      ]
     },
     "execution_count": 7,
     "metadata": {},
     "output_type": "execute_result"
    }
   ],
   "source": [
    "os.cpu_count()"
   ]
  },
  {
   "cell_type": "code",
   "execution_count": null,
   "metadata": {},
   "outputs": [],
   "source": []
  }
 ],
 "metadata": {
  "kernelspec": {
   "display_name": "Python 3.6.9 64-bit ('sbvenv1': venv)",
   "language": "python",
   "name": "python36964bitsbvenv1venv1a534851ebbc4d609aad5dcf7b359ab5"
  },
  "language_info": {
   "codemirror_mode": {
    "name": "ipython",
    "version": 3
   },
   "file_extension": ".py",
   "mimetype": "text/x-python",
   "name": "python",
   "nbconvert_exporter": "python",
   "pygments_lexer": "ipython3",
   "version": "3.6.9"
  }
 },
 "nbformat": 4,
 "nbformat_minor": 4
}
